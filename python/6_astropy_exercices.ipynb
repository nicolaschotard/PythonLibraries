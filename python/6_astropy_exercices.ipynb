{
 "cells": [
  {
   "cell_type": "markdown",
   "metadata": {
    "slideshow": {
     "slide_type": "slide"
    }
   },
   "source": [
    "# Exercices Astropy"
   ]
  },
  {
   "cell_type": "markdown",
   "metadata": {
    "slideshow": {
     "slide_type": "slide"
    }
   },
   "source": [
    "Les modules Astropy suivants seront, pour la plupart très partiellement, utilisés dans ces exercices :\n",
    "  - `astropy.constants` : constants useful in Astronomy\n",
    "  - `astropy.units` : everything related to physical quantities\n",
    "  - `astropy.table` : store and manipulate heterogeneous tables\n",
    "  - `astropy.coordinates` : celestial/spatial coordinates, tools for converting between common coordinate systems\n",
    "  - `astropy.wcs` : WCS transformations in FITS files\n",
    "  - `astropy.io.fits` : access to FITS files\n",
    "  - `astropy.io.misc` : IO routines (HDF5, YAML, pickle)"
   ]
  },
  {
   "cell_type": "markdown",
   "metadata": {
    "slideshow": {
     "slide_type": "slide"
    }
   },
   "source": [
    "## Exercice 1 - charger une table et appliquer des filtres\n",
    "\n",
    "Le fichier `HDF5` suivant, téléchargeable en ligne, contient plusieurs catalogues de données CFHT réduites par le stack LSST.\n",
    "\n",
    "        https://github.com/nicolaschotard/lsst_drp_analysis/blob/master/python/testdata.hdf5?raw=true\n",
    "        \n",
    "1. Téléchargez-le ([doc](http://docs.astropy.org/en/stable/utils/)) ou récupérez-le directement [sur github](https://github.com/nicolaschotard/lsst_drp_analysis/blob/master/python/testdata.hdf5)\n",
    "2. Ce fichier hdf5 contient un catalogue dont le `path` (nom de la clé dans le langage HDF5) est `deepCoadd_forced_src` ([doc](http://docs.astropy.org/en/v0.2.1/table/io.html)). Chargez-le et créer une table `astropy`.\n",
    "3. Visualiser le contenue de la table, afficher le nombre de colonnes et le nombre de lignes, chaque ligne correspondant à un objet (étoiles ou galaxies).\n",
    "4. Dans ce catalogue, les magnitudes sont définies par la clé `modelfit_CModel_mag`, et les filtres du CFHT par la clé `filter`. Afficher dans une unique figure les distributions des magnitudes pour les 2 filtres du CFHT disponible ici(u, et i). Attention, certaines magnitudes ont pour valeur des NaN (Not a Number), et devront tout d'abord être filtrées (voir `np.isfinite`).\n",
    "5. Refaire cette figure en supprimant tout les objets dont l'erreur sur la magnitudes (`modelfit_CModel_magSigma`) est supérieurs ou égale à `0.05 mag`.\n",
    "6. Afficher la carte du ciel (ra vs dec) pour tout ces objets (`coord_ra_deg`, `coord_dec_deg`).        "
   ]
  },
  {
   "cell_type": "code",
   "execution_count": 1,
   "metadata": {
    "collapsed": true
   },
   "outputs": [],
   "source": [
    "# Initialisation de matplotlib et numpy\n",
    "%matplotlib inline  \n",
    "import matplotlib.pyplot as plt\n",
    "import numpy as np"
   ]
  },
  {
   "cell_type": "code",
   "execution_count": 2,
   "metadata": {},
   "outputs": [
    {
     "name": "stdout",
     "output_type": "stream",
     "text": [
      "Downloading https://github.com/nicolaschotard/lsst_drp_analysis/blob/master/python/testdata.hdf5?raw=true [Done]\n"
     ]
    }
   ],
   "source": [
    "# 1. Téléchargement du fichier de données\n",
    "from astropy.utils.data import download_file\n",
    "f = 'https://github.com/nicolaschotard/lsst_drp_analysis/blob/master/python/testdata.hdf5?raw=true'\n",
    "mon_fichier = download_file(f)"
   ]
  },
  {
   "cell_type": "code",
   "execution_count": 3,
   "metadata": {},
   "outputs": [],
   "source": [
    "# 2. Chargemment du catalogue dans une table astropy\n",
    "from astropy.table import Table\n",
    "table = Table.read(mon_fichier, path='deepCoadd_forced_src')"
   ]
  },
  {
   "cell_type": "code",
   "execution_count": 4,
   "metadata": {},
   "outputs": [
    {
     "data": {
      "text/html": [
       "&lt;Table length=68784&gt;\n",
       "<table id=\"table139950493053168\" class=\"table-striped table-bordered table-condensed\">\n",
       "<thead><tr><th>modelfit_CModel_dev_flux_inner</th><th>modelfit_CModel_fluxSigma</th><th>modelfit_CModel_initial_flag_apCorr</th><th>modelfit_CModel_apCorrSigma</th><th>modelfit_CModel_flux_inner</th><th>modelfit_CModel_initial_flag_numericError</th><th>modelfit_CModel_exp_flag_badReference</th><th>modelfit_CModel_dev_fluxSigma</th><th>modelfit_CModel_flux</th><th>modelfit_CModel_flag_badReference</th><th>objectId</th><th>modelfit_CModel_dev_flux</th><th>modelfit_CModel_initial_flux</th><th>modelfit_CModel_flag_noShapeletPsf</th><th>modelfit_CModel_exp_apCorr</th><th>modelfit_CModel_apCorr</th><th>modelfit_CModel_fracDev</th><th>modelfit_CModel_initial_flag_badReference</th><th>modelfit_CModel_initial_flag</th><th>modelfit_CModel_flag_region_maxBadPixelFraction</th><th>modelfit_CModel_flag</th><th>modelfit_CModel_exp_fluxSigma</th><th>modelfit_CModel_initial_apCorrSigma</th><th>modelfit_CModel_exp_flag</th><th>modelfit_CModel_flag_region_maxArea</th><th>modelfit_CModel_flag_badCentroid</th><th>modelfit_CModel_dev_apCorr</th><th>modelfit_CModel_initial_flux_inner</th><th>modelfit_CModel_dev_flag_badReference</th><th>coord_ra</th><th>tract</th><th>modelfit_CModel_exp_flux_inner</th><th>modelfit_CModel_exp_flag_apCorr</th><th>modelfit_CModel_dev_apCorrSigma</th><th>modelfit_CModel_initial_fluxSigma</th><th>modelfit_CModel_dev_flag_numericError</th><th>modelfit_CModel_dev_flag_apCorr</th><th>modelfit_CModel_initial_apCorr</th><th>modelfit_CModel_flag_apCorr</th><th>patch</th><th>filter</th><th>modelfit_CModel_objective</th><th>modelfit_CModel_exp_apCorrSigma</th><th>coord_dec</th><th>modelfit_CModel_dev_flag</th><th>modelfit_CModel_exp_flag_numericError</th><th>modelfit_CModel_exp_flux</th><th>modelfit_CModel_mag</th><th>modelfit_CModel_magSigma</th><th>modelfit_CModel_dev_mag</th><th>modelfit_CModel_dev_magSigma</th><th>modelfit_CModel_initial_mag</th><th>modelfit_CModel_initial_magSigma</th><th>modelfit_CModel_exp_mag</th><th>modelfit_CModel_exp_magSigma</th><th>x_Src</th><th>y_Src</th><th>coord_ra_deg</th><th>coord_dec_deg</th></tr></thead>\n",
       "<thead><tr><th>float64</th><th>float64</th><th>bool</th><th>float64</th><th>float64</th><th>bool</th><th>bool</th><th>float64</th><th>float64</th><th>bool</th><th>int64</th><th>float64</th><th>float64</th><th>bool</th><th>float64</th><th>float64</th><th>float64</th><th>bool</th><th>bool</th><th>bool</th><th>bool</th><th>float64</th><th>float64</th><th>bool</th><th>bool</th><th>bool</th><th>float64</th><th>float64</th><th>bool</th><th>float64</th><th>int64</th><th>float64</th><th>bool</th><th>float64</th><th>float64</th><th>bool</th><th>bool</th><th>float64</th><th>bool</th><th>bytes3</th><th>bytes1</th><th>float64</th><th>float64</th><th>float64</th><th>bool</th><th>bool</th><th>float64</th><th>float64</th><th>float64</th><th>float64</th><th>float64</th><th>float64</th><th>float64</th><th>float64</th><th>float64</th><th>float64</th><th>float64</th><th>float64</th><th>float64</th></tr></thead>\n",
       "<tr><td>nan</td><td>nan</td><td>True</td><td>nan</td><td>nan</td><td>False</td><td>True</td><td>nan</td><td>nan</td><td>True</td><td>1099914280961</td><td>nan</td><td>nan</td><td>False</td><td>nan</td><td>nan</td><td>nan</td><td>True</td><td>True</td><td>False</td><td>True</td><td>nan</td><td>nan</td><td>True</td><td>False</td><td>False</td><td>nan</td><td>nan</td><td>True</td><td>5.95000655662</td><td>0</td><td>nan</td><td>True</td><td>nan</td><td>nan</td><td>False</td><td>True</td><td>nan</td><td>True</td><td>1,3</td><td>u</td><td>nan</td><td>nan</td><td>-0.169503081795</td><td>True</td><td>False</td><td>nan</td><td>nan</td><td>nan</td><td>nan</td><td>nan</td><td>nan</td><td>nan</td><td>nan</td><td>nan</td><td>6107.0</td><td>11911.0</td><td>340.910263769</td><td>-9.71181120133</td></tr>\n",
       "<tr><td>nan</td><td>nan</td><td>True</td><td>nan</td><td>nan</td><td>False</td><td>False</td><td>nan</td><td>nan</td><td>True</td><td>1099914280962</td><td>nan</td><td>nan</td><td>False</td><td>nan</td><td>nan</td><td>nan</td><td>False</td><td>True</td><td>True</td><td>True</td><td>nan</td><td>nan</td><td>True</td><td>False</td><td>False</td><td>nan</td><td>nan</td><td>False</td><td>5.94954253012</td><td>0</td><td>nan</td><td>True</td><td>nan</td><td>nan</td><td>False</td><td>True</td><td>nan</td><td>True</td><td>1,3</td><td>u</td><td>nan</td><td>nan</td><td>-0.16950913956</td><td>True</td><td>False</td><td>nan</td><td>nan</td><td>nan</td><td>nan</td><td>nan</td><td>nan</td><td>nan</td><td>nan</td><td>nan</td><td>6617.0</td><td>11905.0</td><td>340.88367701</td><td>-9.71215828568</td></tr>\n",
       "<tr><td>nan</td><td>nan</td><td>True</td><td>nan</td><td>nan</td><td>False</td><td>False</td><td>nan</td><td>nan</td><td>True</td><td>1099914280963</td><td>nan</td><td>nan</td><td>False</td><td>nan</td><td>nan</td><td>nan</td><td>False</td><td>True</td><td>True</td><td>True</td><td>nan</td><td>nan</td><td>True</td><td>False</td><td>False</td><td>nan</td><td>nan</td><td>False</td><td>5.94947883881</td><td>0</td><td>nan</td><td>True</td><td>nan</td><td>nan</td><td>False</td><td>True</td><td>nan</td><td>True</td><td>1,3</td><td>u</td><td>nan</td><td>nan</td><td>-0.169509229636</td><td>True</td><td>False</td><td>nan</td><td>nan</td><td>nan</td><td>nan</td><td>nan</td><td>nan</td><td>nan</td><td>nan</td><td>nan</td><td>6687.0</td><td>11905.0</td><td>340.880027766</td><td>-9.71216344665</td></tr>\n",
       "<tr><td>1.2238184989</td><td>0.620667116148</td><td>True</td><td>nan</td><td>1.22381837283</td><td>False</td><td>False</td><td>0.620667049202</td><td>1.646709411</td><td>False</td><td>1099914280964</td><td>1.64670925588</td><td>1.48702485256</td><td>False</td><td>nan</td><td>nan</td><td>1.0</td><td>False</td><td>False</td><td>False</td><td>False</td><td>0.543752068165</td><td>nan</td><td>False</td><td>False</td><td>False</td><td>nan</td><td>1.23642581277</td><td>False</td><td>5.94934689405</td><td>0</td><td>1.19399577963</td><td>True</td><td>nan</td><td>0.557977720917</td><td>False</td><td>True</td><td>nan</td><td>True</td><td>1,3</td><td>u</td><td>0.144015733971</td><td>nan</td><td>-0.169500445455</td><td>False</td><td>False</td><td>1.42536906499</td><td>26.4584575812</td><td>0.409228704593</td><td>26.4584576835</td><td>0.409228699004</td><td>26.5692044327</td><td>0.407401807715</td><td>26.6151816775</td><td>0.414188382028</td><td>6832.0</td><td>11915.0</td><td>340.872467888</td><td>-9.71166015016</td></tr>\n",
       "<tr><td>nan</td><td>nan</td><td>True</td><td>nan</td><td>nan</td><td>False</td><td>True</td><td>nan</td><td>nan</td><td>True</td><td>1099914280965</td><td>nan</td><td>nan</td><td>False</td><td>nan</td><td>nan</td><td>nan</td><td>True</td><td>True</td><td>False</td><td>True</td><td>nan</td><td>nan</td><td>True</td><td>False</td><td>False</td><td>nan</td><td>nan</td><td>True</td><td>5.94895929115</td><td>0</td><td>nan</td><td>True</td><td>nan</td><td>nan</td><td>False</td><td>True</td><td>nan</td><td>True</td><td>1,3</td><td>u</td><td>nan</td><td>nan</td><td>-0.169505454883</td><td>True</td><td>False</td><td>nan</td><td>nan</td><td>nan</td><td>nan</td><td>nan</td><td>nan</td><td>nan</td><td>nan</td><td>nan</td><td>7258.0</td><td>11910.0</td><td>340.850259878</td><td>-9.71194716925</td></tr>\n",
       "<tr><td>nan</td><td>nan</td><td>True</td><td>nan</td><td>nan</td><td>False</td><td>False</td><td>nan</td><td>nan</td><td>False</td><td>1099914280966</td><td>nan</td><td>nan</td><td>False</td><td>nan</td><td>nan</td><td>nan</td><td>False</td><td>True</td><td>True</td><td>True</td><td>nan</td><td>nan</td><td>True</td><td>False</td><td>False</td><td>nan</td><td>nan</td><td>False</td><td>5.94891105899</td><td>0</td><td>nan</td><td>True</td><td>nan</td><td>nan</td><td>False</td><td>True</td><td>nan</td><td>True</td><td>1,3</td><td>u</td><td>nan</td><td>nan</td><td>-0.169499240411</td><td>True</td><td>False</td><td>nan</td><td>nan</td><td>nan</td><td>nan</td><td>nan</td><td>nan</td><td>nan</td><td>nan</td><td>nan</td><td>7311.0</td><td>11917.0</td><td>340.847496379</td><td>-9.7115911062</td></tr>\n",
       "<tr><td>nan</td><td>nan</td><td>True</td><td>nan</td><td>nan</td><td>False</td><td>False</td><td>nan</td><td>nan</td><td>True</td><td>1099914280967</td><td>nan</td><td>nan</td><td>False</td><td>nan</td><td>nan</td><td>nan</td><td>False</td><td>True</td><td>True</td><td>True</td><td>nan</td><td>nan</td><td>True</td><td>False</td><td>False</td><td>nan</td><td>nan</td><td>False</td><td>5.94883828006</td><td>0</td><td>nan</td><td>True</td><td>nan</td><td>nan</td><td>False</td><td>True</td><td>nan</td><td>True</td><td>1,3</td><td>u</td><td>nan</td><td>nan</td><td>-0.169508304309</td><td>True</td><td>False</td><td>nan</td><td>nan</td><td>nan</td><td>nan</td><td>nan</td><td>nan</td><td>nan</td><td>nan</td><td>nan</td><td>7391.0</td><td>11907.0</td><td>340.843326453</td><td>-9.71211042932</td></tr>\n",
       "<tr><td>nan</td><td>nan</td><td>True</td><td>nan</td><td>nan</td><td>False</td><td>False</td><td>nan</td><td>nan</td><td>True</td><td>1099914280968</td><td>nan</td><td>nan</td><td>False</td><td>nan</td><td>nan</td><td>nan</td><td>False</td><td>True</td><td>True</td><td>True</td><td>nan</td><td>nan</td><td>True</td><td>False</td><td>False</td><td>nan</td><td>nan</td><td>False</td><td>5.9483414828</td><td>0</td><td>nan</td><td>True</td><td>nan</td><td>nan</td><td>False</td><td>True</td><td>nan</td><td>True</td><td>1,3</td><td>u</td><td>nan</td><td>nan</td><td>-0.169510724576</td><td>True</td><td>False</td><td>nan</td><td>nan</td><td>nan</td><td>nan</td><td>nan</td><td>nan</td><td>nan</td><td>nan</td><td>nan</td><td>7937.0</td><td>11905.0</td><td>340.814862067</td><td>-9.71224910038</td></tr>\n",
       "<tr><td>nan</td><td>nan</td><td>True</td><td>nan</td><td>nan</td><td>False</td><td>False</td><td>nan</td><td>nan</td><td>True</td><td>1099914280969</td><td>nan</td><td>nan</td><td>False</td><td>nan</td><td>nan</td><td>nan</td><td>False</td><td>True</td><td>True</td><td>True</td><td>nan</td><td>nan</td><td>True</td><td>False</td><td>False</td><td>nan</td><td>nan</td><td>False</td><td>5.94829871782</td><td>0</td><td>nan</td><td>True</td><td>nan</td><td>nan</td><td>False</td><td>True</td><td>nan</td><td>True</td><td>1,3</td><td>u</td><td>nan</td><td>nan</td><td>-0.16951077659</td><td>True</td><td>False</td><td>nan</td><td>nan</td><td>nan</td><td>nan</td><td>nan</td><td>nan</td><td>nan</td><td>nan</td><td>nan</td><td>7984.0</td><td>11905.0</td><td>340.812411814</td><td>-9.71225208058</td></tr>\n",
       "<tr><td>nan</td><td>nan</td><td>True</td><td>nan</td><td>nan</td><td>False</td><td>False</td><td>nan</td><td>nan</td><td>True</td><td>1099914280970</td><td>nan</td><td>nan</td><td>False</td><td>nan</td><td>nan</td><td>nan</td><td>False</td><td>True</td><td>True</td><td>True</td><td>nan</td><td>nan</td><td>True</td><td>False</td><td>False</td><td>nan</td><td>nan</td><td>False</td><td>5.94873364312</td><td>0</td><td>nan</td><td>True</td><td>nan</td><td>nan</td><td>False</td><td>True</td><td>nan</td><td>True</td><td>1,3</td><td>u</td><td>nan</td><td>nan</td><td>-0.169508439681</td><td>True</td><td>False</td><td>nan</td><td>nan</td><td>nan</td><td>nan</td><td>nan</td><td>nan</td><td>nan</td><td>nan</td><td>nan</td><td>7506.0</td><td>11907.0</td><td>340.837331198</td><td>-9.71211818558</td></tr>\n",
       "<tr><td>...</td><td>...</td><td>...</td><td>...</td><td>...</td><td>...</td><td>...</td><td>...</td><td>...</td><td>...</td><td>...</td><td>...</td><td>...</td><td>...</td><td>...</td><td>...</td><td>...</td><td>...</td><td>...</td><td>...</td><td>...</td><td>...</td><td>...</td><td>...</td><td>...</td><td>...</td><td>...</td><td>...</td><td>...</td><td>...</td><td>...</td><td>...</td><td>...</td><td>...</td><td>...</td><td>...</td><td>...</td><td>...</td><td>...</td><td>...</td><td>...</td><td>...</td><td>...</td><td>...</td><td>...</td><td>...</td><td>...</td><td>...</td><td>...</td><td>...</td><td>...</td><td>...</td><td>...</td><td>...</td><td>...</td><td>...</td><td>...</td><td>...</td><td>...</td></tr>\n",
       "<tr><td>0.0515425829469</td><td>0.970859214709</td><td>True</td><td>nan</td><td>0.0515425772492</td><td>False</td><td>False</td><td>0.970859149585</td><td>0.0596183571772</td><td>False</td><td>2199425942524</td><td>0.0596183544019</td><td>0.0323756271251</td><td>False</td><td>nan</td><td>nan</td><td>1.0</td><td>False</td><td>False</td><td>False</td><td>False</td><td>0.89544501888</td><td>nan</td><td>False</td><td>False</td><td>False</td><td>nan</td><td>0.0304786193181</td><td>False</td><td>5.94623927302</td><td>0</td><td>0.0306371201017</td><td>True</td><td>nan</td><td>0.897791974528</td><td>False</td><td>True</td><td>nan</td><td>True</td><td>2,3</td><td>i</td><td>0.287114645891</td><td>nan</td><td>-0.166204026394</td><td>False</td><td>False</td><td>0.032573774039</td><td>30.0615499885</td><td>17.6807454791</td><td>30.0615500391</td><td>17.6807451162</td><td>30.7244545261</td><td>30.1079959724</td><td>30.7178298015</td><td>29.8466206343</td><td>10244.1730631</td><td>15594.3018101</td><td>340.694414319</td><td>-9.52278925045</td></tr>\n",
       "<tr><td>nan</td><td>nan</td><td>True</td><td>nan</td><td>nan</td><td>True</td><td>False</td><td>nan</td><td>nan</td><td>False</td><td>2199425942525</td><td>nan</td><td>nan</td><td>False</td><td>nan</td><td>nan</td><td>nan</td><td>False</td><td>True</td><td>False</td><td>True</td><td>nan</td><td>nan</td><td>True</td><td>False</td><td>False</td><td>nan</td><td>nan</td><td>False</td><td>5.94622350759</td><td>0</td><td>nan</td><td>True</td><td>nan</td><td>nan</td><td>True</td><td>True</td><td>nan</td><td>True</td><td>2,3</td><td>i</td><td>nan</td><td>nan</td><td>-0.166202628051</td><td>True</td><td>True</td><td>nan</td><td>nan</td><td>nan</td><td>nan</td><td>nan</td><td>nan</td><td>nan</td><td>nan</td><td>nan</td><td>10261.5075447</td><td>15595.8758931</td><td>340.693511026</td><td>-9.52270913131</td></tr>\n",
       "<tr><td>0.414313399366</td><td>0.944744425937</td><td>True</td><td>nan</td><td>0.414313361385</td><td>False</td><td>False</td><td>0.944744676812</td><td>0.462201537091</td><td>False</td><td>2199425942526</td><td>0.462201650446</td><td>0.217453217602</td><td>False</td><td>nan</td><td>nan</td><td>1.0</td><td>False</td><td>False</td><td>False</td><td>False</td><td>0.878354937771</td><td>nan</td><td>False</td><td>False</td><td>False</td><td>nan</td><td>0.204805831123</td><td>False</td><td>5.94623091688</td><td>0</td><td>0.228182357321</td><td>True</td><td>nan</td><td>0.979330781728</td><td>False</td><td>True</td><td>nan</td><td>True</td><td>2,3</td><td>i</td><td>1.01943405529</td><td>nan</td><td>-0.166207083199</td><td>False</td><td>False</td><td>0.240541853923</td><td>27.8379215364</td><td>2.21925533597</td><td>27.8379212701</td><td>2.21925538101</td><td>28.6565854045</td><td>4.88976386683</td><td>28.5470233653</td><td>3.96463958772</td><td>10253.3644985</td><td>15590.9015464</td><td>340.693935547</td><td>-9.52296439246</td></tr>\n",
       "<tr><td>1.43048203614</td><td>0.671073357159</td><td>True</td><td>nan</td><td>1.42389178619</td><td>False</td><td>False</td><td>0.724881244742</td><td>1.48671252381</td><td>False</td><td>2199425942527</td><td>1.53719982538</td><td>1.68849696244</td><td>False</td><td>nan</td><td>nan</td><td>0.0</td><td>False</td><td>False</td><td>False</td><td>False</td><td>0.671073218929</td><td>nan</td><td>False</td><td>False</td><td>False</td><td>nan</td><td>1.59175663455</td><td>False</td><td>5.94834737814</td><td>0</td><td>1.42389182835</td><td>True</td><td>nan</td><td>0.975831273792</td><td>False</td><td>True</td><td>nan</td><td>True</td><td>2,3</td><td>i</td><td>1.12334338067</td><td>nan</td><td>-0.166165362194</td><td>False</td><td>False</td><td>1.48671224848</td><td>26.5694325003</td><td>0.490080380873</td><td>26.5331741839</td><td>0.511989266829</td><td>26.4312492908</td><td>0.627478383001</td><td>26.5694327014</td><td>0.490080370684</td><td>7926.0</td><td>15635.0</td><td>340.815199845</td><td>-9.52057395499</td></tr>\n",
       "<tr><td>0.0483431505092</td><td>0.718469410392</td><td>True</td><td>nan</td><td>0.0483431406319</td><td>False</td><td>False</td><td>0.718469425813</td><td>0.0527809479335</td><td>False</td><td>2199425942528</td><td>0.0527809489298</td><td>0.0716716150635</td><td>False</td><td>nan</td><td>nan</td><td>1.0</td><td>False</td><td>False</td><td>False</td><td>False</td><td>0.663407024415</td><td>nan</td><td>False</td><td>False</td><td>False</td><td>nan</td><td>0.0675525696026</td><td>False</td><td>5.94834010087</td><td>0</td><td>0.00945333821763</td><td>True</td><td>nan</td><td>0.876362203519</td><td>False</td><td>True</td><td>nan</td><td>True</td><td>2,3</td><td>i</td><td>0.360218981885</td><td>nan</td><td>-0.166163577141</td><td>False</td><td>False</td><td>0.00988537933204</td><td>30.1938070355</td><td>14.7793528047</td><td>30.1938070151</td><td>14.7793528429</td><td>29.8616320223</td><td>13.2758020312</td><td>32.0125166521</td><td>72.863670751</td><td>7934.0</td><td>15637.0</td><td>340.814782888</td><td>-9.52047167895</td></tr>\n",
       "<tr><td>0.000325984326144</td><td>0.993309068105</td><td>True</td><td>nan</td><td>0.000325984530084</td><td>False</td><td>False</td><td>0.99330996111</td><td>0.0003635402249</td><td>False</td><td>2199425942529</td><td>0.000363540311669</td><td>0.0393117692605</td><td>False</td><td>nan</td><td>nan</td><td>1.0</td><td>False</td><td>False</td><td>False</td><td>False</td><td>0.914183880426</td><td>nan</td><td>False</td><td>False</td><td>False</td><td>nan</td><td>0.0370478842256</td><td>False</td><td>5.94622279948</td><td>0</td><td>-1.46095600876e-05</td><td>True</td><td>nan</td><td>1.24841048035</td><td>False</td><td>True</td><td>nan</td><td>True</td><td>2,3</td><td>i</td><td>0.123290493495</td><td>nan</td><td>-0.166042581235</td><td>False</td><td>False</td><td>-1.54249411197e-05</td><td>35.5986188211</td><td>2966.58125811</td><td>35.598618562</td><td>2966.58321707</td><td>30.5136935248</td><td>34.4793552265</td><td>nan</td><td>nan</td><td>10262.1325009</td><td>15774.3222571</td><td>340.693470454</td><td>-9.5135391242</td></tr>\n",
       "<tr><td>1.7693177659</td><td>0.995353873342</td><td>True</td><td>nan</td><td>1.77226573562</td><td>False</td><td>False</td><td>1.02308761642</td><td>1.99844045999</td><td>False</td><td>2199425942530</td><td>2.05097676865</td><td>3.01365295195</td><td>False</td><td>nan</td><td>nan</td><td>0.657748362831</td><td>False</td><td>False</td><td>False</td><td>False</td><td>0.942298338646</td><td>nan</td><td>False</td><td>False</td><td>False</td><td>nan</td><td>2.82310802473</td><td>False</td><td>5.94623140032</td><td>0</td><td>1.76338224405</td><td>True</td><td>nan</td><td>1.08179213198</td><td>False</td><td>True</td><td>nan</td><td>True</td><td>2,3</td><td>i</td><td>1.42268755951</td><td>nan</td><td>-0.166032491563</td><td>False</td><td>False</td><td>1.88951986975</td><td>26.2482719656</td><td>0.540767542726</td><td>26.2200981471</td><td>0.541597195427</td><td>25.8022669047</td><td>0.389739927736</td><td>26.309121342</td><td>0.541453645621</td><td>10252.6649659</td><td>15785.5636686</td><td>340.693963247</td><td>-9.51296102859</td></tr>\n",
       "<tr><td>-0.00994690998403</td><td>0.90620921712</td><td>True</td><td>nan</td><td>-0.000860859829842</td><td>False</td><td>False</td><td>0.98139603974</td><td>-0.000904169191411</td><td>False</td><td>2199425942531</td><td>-0.0106878236646</td><td>-0.0318582070996</td><td>False</td><td>nan</td><td>nan</td><td>-0.0</td><td>False</td><td>False</td><td>False</td><td>False</td><td>0.906209200833</td><td>nan</td><td>False</td><td>False</td><td>False</td><td>nan</td><td>-0.0298506147554</td><td>False</td><td>5.94620778818</td><td>0</td><td>-0.000860859580529</td><td>True</td><td>nan</td><td>1.44312853365</td><td>False</td><td>True</td><td>nan</td><td>True</td><td>2,3</td><td>i</td><td>inf</td><td>nan</td><td>-0.166056641299</td><td>False</td><td>False</td><td>-0.00090416914787</td><td>nan</td><td>nan</td><td>nan</td><td>nan</td><td>nan</td><td>nan</td><td>nan</td><td>nan</td><td>10278.6529765</td><td>15758.6600725</td><td>340.69261037</td><td>-9.51434470653</td></tr>\n",
       "<tr><td>2.29233827593</td><td>0.92108834218</td><td>True</td><td>nan</td><td>2.29233871212</td><td>False</td><td>False</td><td>0.921088696524</td><td>2.46739961161</td><td>False</td><td>2199425942532</td><td>2.46740001754</td><td>2.75263566574</td><td>False</td><td>nan</td><td>nan</td><td>1.0</td><td>False</td><td>False</td><td>False</td><td>False</td><td>0.84945431769</td><td>nan</td><td>False</td><td>False</td><td>False</td><td>nan</td><td>2.55659368149</td><td>False</td><td>5.94619006647</td><td>0</td><td>1.93405645963</td><td>True</td><td>nan</td><td>1.566528951</td><td>False</td><td>True</td><td>nan</td><td>True</td><td>2,3</td><td>i</td><td>2.88157296911</td><td>nan</td><td>-0.166078463253</td><td>False</td><td>False</td><td>2.04835568663</td><td>26.0194012699</td><td>0.405308875052</td><td>26.0194010913</td><td>0.405308964294</td><td>25.9006281682</td><td>0.617894049353</td><td>26.2214865703</td><td>0.450255447832</td><td>10298.1612325</td><td>15734.3462142</td><td>340.691594992</td><td>-9.51559501239</td></tr>\n",
       "<tr><td>nan</td><td>nan</td><td>True</td><td>nan</td><td>nan</td><td>True</td><td>False</td><td>nan</td><td>nan</td><td>False</td><td>2199425942533</td><td>nan</td><td>nan</td><td>False</td><td>nan</td><td>nan</td><td>nan</td><td>False</td><td>True</td><td>False</td><td>True</td><td>nan</td><td>nan</td><td>True</td><td>False</td><td>False</td><td>nan</td><td>nan</td><td>False</td><td>5.94619785443</td><td>0</td><td>nan</td><td>True</td><td>nan</td><td>nan</td><td>True</td><td>True</td><td>nan</td><td>True</td><td>2,3</td><td>i</td><td>nan</td><td>nan</td><td>-0.166068203511</td><td>True</td><td>True</td><td>nan</td><td>nan</td><td>nan</td><td>nan</td><td>nan</td><td>nan</td><td>nan</td><td>nan</td><td>nan</td><td>10289.5875382</td><td>15745.7780622</td><td>340.692041209</td><td>-9.51500717248</td></tr>\n",
       "</table>"
      ],
      "text/plain": [
       "<Table length=68784>\n",
       "modelfit_CModel_dev_flux_inner modelfit_CModel_fluxSigma ... coord_dec_deg \n",
       "           float64                      float64          ...    float64    \n",
       "------------------------------ ------------------------- ... --------------\n",
       "                           nan                       nan ... -9.71181120133\n",
       "                           nan                       nan ... -9.71215828568\n",
       "                           nan                       nan ... -9.71216344665\n",
       "                  1.2238184989            0.620667116148 ... -9.71166015016\n",
       "                           nan                       nan ... -9.71194716925\n",
       "                           nan                       nan ...  -9.7115911062\n",
       "                           nan                       nan ... -9.71211042932\n",
       "                           nan                       nan ... -9.71224910038\n",
       "                           nan                       nan ... -9.71225208058\n",
       "                           nan                       nan ... -9.71211818558\n",
       "                           ...                       ... ...            ...\n",
       "               0.0515425829469            0.970859214709 ... -9.52278925045\n",
       "                           nan                       nan ... -9.52270913131\n",
       "                0.414313399366            0.944744425937 ... -9.52296439246\n",
       "                 1.43048203614            0.671073357159 ... -9.52057395499\n",
       "               0.0483431505092            0.718469410392 ... -9.52047167895\n",
       "             0.000325984326144            0.993309068105 ...  -9.5135391242\n",
       "                  1.7693177659            0.995353873342 ... -9.51296102859\n",
       "             -0.00994690998403             0.90620921712 ... -9.51434470653\n",
       "                 2.29233827593             0.92108834218 ... -9.51559501239\n",
       "                           nan                       nan ... -9.51500717248"
      ]
     },
     "execution_count": 4,
     "metadata": {},
     "output_type": "execute_result"
    }
   ],
   "source": [
    "# 3. Visualisation de la table\n",
    "table"
   ]
  },
  {
   "cell_type": "code",
   "execution_count": 5,
   "metadata": {},
   "outputs": [
    {
     "data": {
      "text/plain": [
       "(59,\n",
       " ['modelfit_CModel_dev_flux_inner',\n",
       "  'modelfit_CModel_fluxSigma',\n",
       "  'modelfit_CModel_initial_flag_apCorr',\n",
       "  'modelfit_CModel_apCorrSigma',\n",
       "  'modelfit_CModel_flux_inner',\n",
       "  'modelfit_CModel_initial_flag_numericError',\n",
       "  'modelfit_CModel_exp_flag_badReference',\n",
       "  'modelfit_CModel_dev_fluxSigma',\n",
       "  'modelfit_CModel_flux',\n",
       "  'modelfit_CModel_flag_badReference',\n",
       "  'objectId',\n",
       "  'modelfit_CModel_dev_flux',\n",
       "  'modelfit_CModel_initial_flux',\n",
       "  'modelfit_CModel_flag_noShapeletPsf',\n",
       "  'modelfit_CModel_exp_apCorr',\n",
       "  'modelfit_CModel_apCorr',\n",
       "  'modelfit_CModel_fracDev',\n",
       "  'modelfit_CModel_initial_flag_badReference',\n",
       "  'modelfit_CModel_initial_flag',\n",
       "  'modelfit_CModel_flag_region_maxBadPixelFraction',\n",
       "  'modelfit_CModel_flag',\n",
       "  'modelfit_CModel_exp_fluxSigma',\n",
       "  'modelfit_CModel_initial_apCorrSigma',\n",
       "  'modelfit_CModel_exp_flag',\n",
       "  'modelfit_CModel_flag_region_maxArea',\n",
       "  'modelfit_CModel_flag_badCentroid',\n",
       "  'modelfit_CModel_dev_apCorr',\n",
       "  'modelfit_CModel_initial_flux_inner',\n",
       "  'modelfit_CModel_dev_flag_badReference',\n",
       "  'coord_ra',\n",
       "  'tract',\n",
       "  'modelfit_CModel_exp_flux_inner',\n",
       "  'modelfit_CModel_exp_flag_apCorr',\n",
       "  'modelfit_CModel_dev_apCorrSigma',\n",
       "  'modelfit_CModel_initial_fluxSigma',\n",
       "  'modelfit_CModel_dev_flag_numericError',\n",
       "  'modelfit_CModel_dev_flag_apCorr',\n",
       "  'modelfit_CModel_initial_apCorr',\n",
       "  'modelfit_CModel_flag_apCorr',\n",
       "  'patch',\n",
       "  'filter',\n",
       "  'modelfit_CModel_objective',\n",
       "  'modelfit_CModel_exp_apCorrSigma',\n",
       "  'coord_dec',\n",
       "  'modelfit_CModel_dev_flag',\n",
       "  'modelfit_CModel_exp_flag_numericError',\n",
       "  'modelfit_CModel_exp_flux',\n",
       "  'modelfit_CModel_mag',\n",
       "  'modelfit_CModel_magSigma',\n",
       "  'modelfit_CModel_dev_mag',\n",
       "  'modelfit_CModel_dev_magSigma',\n",
       "  'modelfit_CModel_initial_mag',\n",
       "  'modelfit_CModel_initial_magSigma',\n",
       "  'modelfit_CModel_exp_mag',\n",
       "  'modelfit_CModel_exp_magSigma',\n",
       "  'x_Src',\n",
       "  'y_Src',\n",
       "  'coord_ra_deg',\n",
       "  'coord_dec_deg'])"
      ]
     },
     "execution_count": 5,
     "metadata": {},
     "output_type": "execute_result"
    }
   ],
   "source": [
    "len(table.colnames), table.colnames"
   ]
  },
  {
   "cell_type": "code",
   "execution_count": 6,
   "metadata": {},
   "outputs": [
    {
     "data": {
      "text/plain": [
       "array([False, False, False, ...,  True,  True,  True], dtype=bool)"
      ]
     },
     "execution_count": 6,
     "metadata": {},
     "output_type": "execute_result"
    }
   ],
   "source": [
    "# filter pour ne garder que le filtre 'i'\n",
    "mask = table['filter'] == 'i'\n",
    "mask"
   ]
  },
  {
   "cell_type": "code",
   "execution_count": 7,
   "metadata": {},
   "outputs": [
    {
     "data": {
      "text/html": [
       "&lt;Table length=34392&gt;\n",
       "<table id=\"table139951174315536\" class=\"table-striped table-bordered table-condensed\">\n",
       "<thead><tr><th>modelfit_CModel_dev_flux_inner</th><th>modelfit_CModel_fluxSigma</th><th>modelfit_CModel_initial_flag_apCorr</th><th>modelfit_CModel_apCorrSigma</th><th>modelfit_CModel_flux_inner</th><th>modelfit_CModel_initial_flag_numericError</th><th>modelfit_CModel_exp_flag_badReference</th><th>modelfit_CModel_dev_fluxSigma</th><th>modelfit_CModel_flux</th><th>modelfit_CModel_flag_badReference</th><th>objectId</th><th>modelfit_CModel_dev_flux</th><th>modelfit_CModel_initial_flux</th><th>modelfit_CModel_flag_noShapeletPsf</th><th>modelfit_CModel_exp_apCorr</th><th>modelfit_CModel_apCorr</th><th>modelfit_CModel_fracDev</th><th>modelfit_CModel_initial_flag_badReference</th><th>modelfit_CModel_initial_flag</th><th>modelfit_CModel_flag_region_maxBadPixelFraction</th><th>modelfit_CModel_flag</th><th>modelfit_CModel_exp_fluxSigma</th><th>modelfit_CModel_initial_apCorrSigma</th><th>modelfit_CModel_exp_flag</th><th>modelfit_CModel_flag_region_maxArea</th><th>modelfit_CModel_flag_badCentroid</th><th>modelfit_CModel_dev_apCorr</th><th>modelfit_CModel_initial_flux_inner</th><th>modelfit_CModel_dev_flag_badReference</th><th>coord_ra</th><th>tract</th><th>modelfit_CModel_exp_flux_inner</th><th>modelfit_CModel_exp_flag_apCorr</th><th>modelfit_CModel_dev_apCorrSigma</th><th>modelfit_CModel_initial_fluxSigma</th><th>modelfit_CModel_dev_flag_numericError</th><th>modelfit_CModel_dev_flag_apCorr</th><th>modelfit_CModel_initial_apCorr</th><th>modelfit_CModel_flag_apCorr</th><th>patch</th><th>filter</th><th>modelfit_CModel_objective</th><th>modelfit_CModel_exp_apCorrSigma</th><th>coord_dec</th><th>modelfit_CModel_dev_flag</th><th>modelfit_CModel_exp_flag_numericError</th><th>modelfit_CModel_exp_flux</th><th>modelfit_CModel_mag</th><th>modelfit_CModel_magSigma</th><th>modelfit_CModel_dev_mag</th><th>modelfit_CModel_dev_magSigma</th><th>modelfit_CModel_initial_mag</th><th>modelfit_CModel_initial_magSigma</th><th>modelfit_CModel_exp_mag</th><th>modelfit_CModel_exp_magSigma</th><th>x_Src</th><th>y_Src</th><th>coord_ra_deg</th><th>coord_dec_deg</th></tr></thead>\n",
       "<thead><tr><th>float64</th><th>float64</th><th>bool</th><th>float64</th><th>float64</th><th>bool</th><th>bool</th><th>float64</th><th>float64</th><th>bool</th><th>int64</th><th>float64</th><th>float64</th><th>bool</th><th>float64</th><th>float64</th><th>float64</th><th>bool</th><th>bool</th><th>bool</th><th>bool</th><th>float64</th><th>float64</th><th>bool</th><th>bool</th><th>bool</th><th>float64</th><th>float64</th><th>bool</th><th>float64</th><th>int64</th><th>float64</th><th>bool</th><th>float64</th><th>float64</th><th>bool</th><th>bool</th><th>float64</th><th>bool</th><th>bytes3</th><th>bytes1</th><th>float64</th><th>float64</th><th>float64</th><th>bool</th><th>bool</th><th>float64</th><th>float64</th><th>float64</th><th>float64</th><th>float64</th><th>float64</th><th>float64</th><th>float64</th><th>float64</th><th>float64</th><th>float64</th><th>float64</th><th>float64</th></tr></thead>\n",
       "<tr><td>nan</td><td>nan</td><td>True</td><td>nan</td><td>nan</td><td>False</td><td>True</td><td>nan</td><td>nan</td><td>True</td><td>1099914280961</td><td>nan</td><td>nan</td><td>False</td><td>nan</td><td>nan</td><td>nan</td><td>True</td><td>True</td><td>False</td><td>True</td><td>nan</td><td>nan</td><td>True</td><td>False</td><td>False</td><td>nan</td><td>nan</td><td>True</td><td>5.95000655662</td><td>0</td><td>nan</td><td>True</td><td>nan</td><td>nan</td><td>False</td><td>True</td><td>nan</td><td>True</td><td>1,3</td><td>i</td><td>nan</td><td>nan</td><td>-0.169503081795</td><td>True</td><td>False</td><td>nan</td><td>nan</td><td>nan</td><td>nan</td><td>nan</td><td>nan</td><td>nan</td><td>nan</td><td>nan</td><td>6107.0</td><td>11911.0</td><td>340.910263769</td><td>-9.71181120133</td></tr>\n",
       "<tr><td>nan</td><td>nan</td><td>True</td><td>nan</td><td>nan</td><td>False</td><td>True</td><td>nan</td><td>nan</td><td>True</td><td>1099914280962</td><td>nan</td><td>nan</td><td>False</td><td>nan</td><td>nan</td><td>nan</td><td>True</td><td>True</td><td>False</td><td>True</td><td>nan</td><td>nan</td><td>True</td><td>False</td><td>False</td><td>nan</td><td>nan</td><td>True</td><td>5.94954253012</td><td>0</td><td>nan</td><td>True</td><td>nan</td><td>nan</td><td>False</td><td>True</td><td>nan</td><td>True</td><td>1,3</td><td>i</td><td>nan</td><td>nan</td><td>-0.16950913956</td><td>True</td><td>False</td><td>nan</td><td>nan</td><td>nan</td><td>nan</td><td>nan</td><td>nan</td><td>nan</td><td>nan</td><td>nan</td><td>6617.0</td><td>11905.0</td><td>340.88367701</td><td>-9.71215828568</td></tr>\n",
       "<tr><td>nan</td><td>nan</td><td>True</td><td>nan</td><td>nan</td><td>False</td><td>True</td><td>nan</td><td>nan</td><td>True</td><td>1099914280963</td><td>nan</td><td>nan</td><td>False</td><td>nan</td><td>nan</td><td>nan</td><td>True</td><td>True</td><td>False</td><td>True</td><td>nan</td><td>nan</td><td>True</td><td>False</td><td>False</td><td>nan</td><td>nan</td><td>True</td><td>5.94947883881</td><td>0</td><td>nan</td><td>True</td><td>nan</td><td>nan</td><td>False</td><td>True</td><td>nan</td><td>True</td><td>1,3</td><td>i</td><td>nan</td><td>nan</td><td>-0.169509229636</td><td>True</td><td>False</td><td>nan</td><td>nan</td><td>nan</td><td>nan</td><td>nan</td><td>nan</td><td>nan</td><td>nan</td><td>nan</td><td>6687.0</td><td>11905.0</td><td>340.880027766</td><td>-9.71216344665</td></tr>\n",
       "<tr><td>6.63151756567</td><td>0.712926853509</td><td>True</td><td>nan</td><td>6.63151693344</td><td>False</td><td>False</td><td>0.712926942136</td><td>8.22245360535</td><td>False</td><td>1099914280964</td><td>8.22245341957</td><td>7.5206356801</td><td>False</td><td>nan</td><td>nan</td><td>1.0</td><td>False</td><td>False</td><td>False</td><td>False</td><td>0.628761324432</td><td>nan</td><td>False</td><td>False</td><td>False</td><td>nan</td><td>6.85109740732</td><td>False</td><td>5.94934689405</td><td>0</td><td>6.5629844015</td><td>True</td><td>nan</td><td>0.654426645058</td><td>False</td><td>True</td><td>nan</td><td>True</td><td>1,3</td><td>i</td><td>0.307440844015</td><td>nan</td><td>-0.169500445455</td><td>False</td><td>False</td><td>7.17127961652</td><td>24.7124964208</td><td>0.0941386273917</td><td>24.7124964453</td><td>0.0941386412214</td><td>24.809363623</td><td>0.0944780111844</td><td>24.8610083588</td><td>0.09519485651</td><td>6832.0</td><td>11915.0</td><td>340.872467888</td><td>-9.71166015016</td></tr>\n",
       "<tr><td>nan</td><td>nan</td><td>True</td><td>nan</td><td>nan</td><td>False</td><td>True</td><td>nan</td><td>nan</td><td>True</td><td>1099914280965</td><td>nan</td><td>nan</td><td>False</td><td>nan</td><td>nan</td><td>nan</td><td>True</td><td>True</td><td>False</td><td>True</td><td>nan</td><td>nan</td><td>True</td><td>False</td><td>False</td><td>nan</td><td>nan</td><td>True</td><td>5.94895929115</td><td>0</td><td>nan</td><td>True</td><td>nan</td><td>nan</td><td>False</td><td>True</td><td>nan</td><td>True</td><td>1,3</td><td>i</td><td>nan</td><td>nan</td><td>-0.169505454883</td><td>True</td><td>False</td><td>nan</td><td>nan</td><td>nan</td><td>nan</td><td>nan</td><td>nan</td><td>nan</td><td>nan</td><td>nan</td><td>7258.0</td><td>11910.0</td><td>340.850259878</td><td>-9.71194716925</td></tr>\n",
       "<tr><td>31.6941918887</td><td>0.7477270623</td><td>True</td><td>nan</td><td>31.7217750549</td><td>False</td><td>False</td><td>0.750316981367</td><td>36.9485416427</td><td>False</td><td>1099914280966</td><td>37.0733804741</td><td>46.5419675716</td><td>False</td><td>nan</td><td>nan</td><td>0.95099129689</td><td>False</td><td>False</td><td>False</td><td>False</td><td>0.696023458164</td><td>nan</td><td>False</td><td>False</td><td>False</td><td>nan</td><td>42.7733277295</td><td>False</td><td>5.94891105899</td><td>0</td><td>31.7871335804</td><td>True</td><td>nan</td><td>0.904731600495</td><td>False</td><td>True</td><td>nan</td><td>True</td><td>1,3</td><td>i</td><td>2.3042502356</td><td>nan</td><td>-0.169499240411</td><td>False</td><td>False</td><td>34.2138883406</td><td>23.0810067463</td><td>0.0219720266815</td><td>23.0773445294</td><td>0.0219738880377</td><td>22.8303881519</td><td>0.0211056795727</td><td>23.1644939158</td><td>0.0220874593489</td><td>7311.0</td><td>11917.0</td><td>340.847496379</td><td>-9.7115911062</td></tr>\n",
       "<tr><td>nan</td><td>nan</td><td>True</td><td>nan</td><td>nan</td><td>False</td><td>False</td><td>nan</td><td>nan</td><td>True</td><td>1099914280967</td><td>nan</td><td>nan</td><td>False</td><td>nan</td><td>nan</td><td>nan</td><td>False</td><td>True</td><td>True</td><td>True</td><td>nan</td><td>nan</td><td>True</td><td>False</td><td>False</td><td>nan</td><td>nan</td><td>False</td><td>5.94883828006</td><td>0</td><td>nan</td><td>True</td><td>nan</td><td>nan</td><td>False</td><td>True</td><td>nan</td><td>True</td><td>1,3</td><td>i</td><td>nan</td><td>nan</td><td>-0.169508304309</td><td>True</td><td>False</td><td>nan</td><td>nan</td><td>nan</td><td>nan</td><td>nan</td><td>nan</td><td>nan</td><td>nan</td><td>nan</td><td>7391.0</td><td>11907.0</td><td>340.843326453</td><td>-9.71211042932</td></tr>\n",
       "<tr><td>nan</td><td>nan</td><td>True</td><td>nan</td><td>nan</td><td>False</td><td>True</td><td>nan</td><td>nan</td><td>True</td><td>1099914280968</td><td>nan</td><td>nan</td><td>False</td><td>nan</td><td>nan</td><td>nan</td><td>True</td><td>True</td><td>False</td><td>True</td><td>nan</td><td>nan</td><td>True</td><td>False</td><td>False</td><td>nan</td><td>nan</td><td>True</td><td>5.9483414828</td><td>0</td><td>nan</td><td>True</td><td>nan</td><td>nan</td><td>False</td><td>True</td><td>nan</td><td>True</td><td>1,3</td><td>i</td><td>nan</td><td>nan</td><td>-0.169510724576</td><td>True</td><td>False</td><td>nan</td><td>nan</td><td>nan</td><td>nan</td><td>nan</td><td>nan</td><td>nan</td><td>nan</td><td>nan</td><td>7937.0</td><td>11905.0</td><td>340.814862067</td><td>-9.71224910038</td></tr>\n",
       "<tr><td>nan</td><td>nan</td><td>True</td><td>nan</td><td>nan</td><td>False</td><td>True</td><td>nan</td><td>nan</td><td>True</td><td>1099914280969</td><td>nan</td><td>nan</td><td>False</td><td>nan</td><td>nan</td><td>nan</td><td>True</td><td>True</td><td>False</td><td>True</td><td>nan</td><td>nan</td><td>True</td><td>False</td><td>False</td><td>nan</td><td>nan</td><td>True</td><td>5.94829871782</td><td>0</td><td>nan</td><td>True</td><td>nan</td><td>nan</td><td>False</td><td>True</td><td>nan</td><td>True</td><td>1,3</td><td>i</td><td>nan</td><td>nan</td><td>-0.16951077659</td><td>True</td><td>False</td><td>nan</td><td>nan</td><td>nan</td><td>nan</td><td>nan</td><td>nan</td><td>nan</td><td>nan</td><td>nan</td><td>7984.0</td><td>11905.0</td><td>340.812411814</td><td>-9.71225208058</td></tr>\n",
       "<tr><td>nan</td><td>nan</td><td>True</td><td>nan</td><td>nan</td><td>False</td><td>True</td><td>nan</td><td>nan</td><td>True</td><td>1099914280970</td><td>nan</td><td>nan</td><td>False</td><td>nan</td><td>nan</td><td>nan</td><td>True</td><td>True</td><td>False</td><td>True</td><td>nan</td><td>nan</td><td>True</td><td>False</td><td>False</td><td>nan</td><td>nan</td><td>True</td><td>5.94873364312</td><td>0</td><td>nan</td><td>True</td><td>nan</td><td>nan</td><td>False</td><td>True</td><td>nan</td><td>True</td><td>1,3</td><td>i</td><td>nan</td><td>nan</td><td>-0.169508439681</td><td>True</td><td>False</td><td>nan</td><td>nan</td><td>nan</td><td>nan</td><td>nan</td><td>nan</td><td>nan</td><td>nan</td><td>nan</td><td>7506.0</td><td>11907.0</td><td>340.837331198</td><td>-9.71211818558</td></tr>\n",
       "<tr><td>...</td><td>...</td><td>...</td><td>...</td><td>...</td><td>...</td><td>...</td><td>...</td><td>...</td><td>...</td><td>...</td><td>...</td><td>...</td><td>...</td><td>...</td><td>...</td><td>...</td><td>...</td><td>...</td><td>...</td><td>...</td><td>...</td><td>...</td><td>...</td><td>...</td><td>...</td><td>...</td><td>...</td><td>...</td><td>...</td><td>...</td><td>...</td><td>...</td><td>...</td><td>...</td><td>...</td><td>...</td><td>...</td><td>...</td><td>...</td><td>...</td><td>...</td><td>...</td><td>...</td><td>...</td><td>...</td><td>...</td><td>...</td><td>...</td><td>...</td><td>...</td><td>...</td><td>...</td><td>...</td><td>...</td><td>...</td><td>...</td><td>...</td><td>...</td></tr>\n",
       "<tr><td>0.0515425829469</td><td>0.970859214709</td><td>True</td><td>nan</td><td>0.0515425772492</td><td>False</td><td>False</td><td>0.970859149585</td><td>0.0596183571772</td><td>False</td><td>2199425942524</td><td>0.0596183544019</td><td>0.0323756271251</td><td>False</td><td>nan</td><td>nan</td><td>1.0</td><td>False</td><td>False</td><td>False</td><td>False</td><td>0.89544501888</td><td>nan</td><td>False</td><td>False</td><td>False</td><td>nan</td><td>0.0304786193181</td><td>False</td><td>5.94623927302</td><td>0</td><td>0.0306371201017</td><td>True</td><td>nan</td><td>0.897791974528</td><td>False</td><td>True</td><td>nan</td><td>True</td><td>2,3</td><td>i</td><td>0.287114645891</td><td>nan</td><td>-0.166204026394</td><td>False</td><td>False</td><td>0.032573774039</td><td>30.0615499885</td><td>17.6807454791</td><td>30.0615500391</td><td>17.6807451162</td><td>30.7244545261</td><td>30.1079959724</td><td>30.7178298015</td><td>29.8466206343</td><td>10244.1730631</td><td>15594.3018101</td><td>340.694414319</td><td>-9.52278925045</td></tr>\n",
       "<tr><td>nan</td><td>nan</td><td>True</td><td>nan</td><td>nan</td><td>True</td><td>False</td><td>nan</td><td>nan</td><td>False</td><td>2199425942525</td><td>nan</td><td>nan</td><td>False</td><td>nan</td><td>nan</td><td>nan</td><td>False</td><td>True</td><td>False</td><td>True</td><td>nan</td><td>nan</td><td>True</td><td>False</td><td>False</td><td>nan</td><td>nan</td><td>False</td><td>5.94622350759</td><td>0</td><td>nan</td><td>True</td><td>nan</td><td>nan</td><td>True</td><td>True</td><td>nan</td><td>True</td><td>2,3</td><td>i</td><td>nan</td><td>nan</td><td>-0.166202628051</td><td>True</td><td>True</td><td>nan</td><td>nan</td><td>nan</td><td>nan</td><td>nan</td><td>nan</td><td>nan</td><td>nan</td><td>nan</td><td>10261.5075447</td><td>15595.8758931</td><td>340.693511026</td><td>-9.52270913131</td></tr>\n",
       "<tr><td>0.414313399366</td><td>0.944744425937</td><td>True</td><td>nan</td><td>0.414313361385</td><td>False</td><td>False</td><td>0.944744676812</td><td>0.462201537091</td><td>False</td><td>2199425942526</td><td>0.462201650446</td><td>0.217453217602</td><td>False</td><td>nan</td><td>nan</td><td>1.0</td><td>False</td><td>False</td><td>False</td><td>False</td><td>0.878354937771</td><td>nan</td><td>False</td><td>False</td><td>False</td><td>nan</td><td>0.204805831123</td><td>False</td><td>5.94623091688</td><td>0</td><td>0.228182357321</td><td>True</td><td>nan</td><td>0.979330781728</td><td>False</td><td>True</td><td>nan</td><td>True</td><td>2,3</td><td>i</td><td>1.01943405529</td><td>nan</td><td>-0.166207083199</td><td>False</td><td>False</td><td>0.240541853923</td><td>27.8379215364</td><td>2.21925533597</td><td>27.8379212701</td><td>2.21925538101</td><td>28.6565854045</td><td>4.88976386683</td><td>28.5470233653</td><td>3.96463958772</td><td>10253.3644985</td><td>15590.9015464</td><td>340.693935547</td><td>-9.52296439246</td></tr>\n",
       "<tr><td>1.43048203614</td><td>0.671073357159</td><td>True</td><td>nan</td><td>1.42389178619</td><td>False</td><td>False</td><td>0.724881244742</td><td>1.48671252381</td><td>False</td><td>2199425942527</td><td>1.53719982538</td><td>1.68849696244</td><td>False</td><td>nan</td><td>nan</td><td>0.0</td><td>False</td><td>False</td><td>False</td><td>False</td><td>0.671073218929</td><td>nan</td><td>False</td><td>False</td><td>False</td><td>nan</td><td>1.59175663455</td><td>False</td><td>5.94834737814</td><td>0</td><td>1.42389182835</td><td>True</td><td>nan</td><td>0.975831273792</td><td>False</td><td>True</td><td>nan</td><td>True</td><td>2,3</td><td>i</td><td>1.12334338067</td><td>nan</td><td>-0.166165362194</td><td>False</td><td>False</td><td>1.48671224848</td><td>26.5694325003</td><td>0.490080380873</td><td>26.5331741839</td><td>0.511989266829</td><td>26.4312492908</td><td>0.627478383001</td><td>26.5694327014</td><td>0.490080370684</td><td>7926.0</td><td>15635.0</td><td>340.815199845</td><td>-9.52057395499</td></tr>\n",
       "<tr><td>0.0483431505092</td><td>0.718469410392</td><td>True</td><td>nan</td><td>0.0483431406319</td><td>False</td><td>False</td><td>0.718469425813</td><td>0.0527809479335</td><td>False</td><td>2199425942528</td><td>0.0527809489298</td><td>0.0716716150635</td><td>False</td><td>nan</td><td>nan</td><td>1.0</td><td>False</td><td>False</td><td>False</td><td>False</td><td>0.663407024415</td><td>nan</td><td>False</td><td>False</td><td>False</td><td>nan</td><td>0.0675525696026</td><td>False</td><td>5.94834010087</td><td>0</td><td>0.00945333821763</td><td>True</td><td>nan</td><td>0.876362203519</td><td>False</td><td>True</td><td>nan</td><td>True</td><td>2,3</td><td>i</td><td>0.360218981885</td><td>nan</td><td>-0.166163577141</td><td>False</td><td>False</td><td>0.00988537933204</td><td>30.1938070355</td><td>14.7793528047</td><td>30.1938070151</td><td>14.7793528429</td><td>29.8616320223</td><td>13.2758020312</td><td>32.0125166521</td><td>72.863670751</td><td>7934.0</td><td>15637.0</td><td>340.814782888</td><td>-9.52047167895</td></tr>\n",
       "<tr><td>0.000325984326144</td><td>0.993309068105</td><td>True</td><td>nan</td><td>0.000325984530084</td><td>False</td><td>False</td><td>0.99330996111</td><td>0.0003635402249</td><td>False</td><td>2199425942529</td><td>0.000363540311669</td><td>0.0393117692605</td><td>False</td><td>nan</td><td>nan</td><td>1.0</td><td>False</td><td>False</td><td>False</td><td>False</td><td>0.914183880426</td><td>nan</td><td>False</td><td>False</td><td>False</td><td>nan</td><td>0.0370478842256</td><td>False</td><td>5.94622279948</td><td>0</td><td>-1.46095600876e-05</td><td>True</td><td>nan</td><td>1.24841048035</td><td>False</td><td>True</td><td>nan</td><td>True</td><td>2,3</td><td>i</td><td>0.123290493495</td><td>nan</td><td>-0.166042581235</td><td>False</td><td>False</td><td>-1.54249411197e-05</td><td>35.5986188211</td><td>2966.58125811</td><td>35.598618562</td><td>2966.58321707</td><td>30.5136935248</td><td>34.4793552265</td><td>nan</td><td>nan</td><td>10262.1325009</td><td>15774.3222571</td><td>340.693470454</td><td>-9.5135391242</td></tr>\n",
       "<tr><td>1.7693177659</td><td>0.995353873342</td><td>True</td><td>nan</td><td>1.77226573562</td><td>False</td><td>False</td><td>1.02308761642</td><td>1.99844045999</td><td>False</td><td>2199425942530</td><td>2.05097676865</td><td>3.01365295195</td><td>False</td><td>nan</td><td>nan</td><td>0.657748362831</td><td>False</td><td>False</td><td>False</td><td>False</td><td>0.942298338646</td><td>nan</td><td>False</td><td>False</td><td>False</td><td>nan</td><td>2.82310802473</td><td>False</td><td>5.94623140032</td><td>0</td><td>1.76338224405</td><td>True</td><td>nan</td><td>1.08179213198</td><td>False</td><td>True</td><td>nan</td><td>True</td><td>2,3</td><td>i</td><td>1.42268755951</td><td>nan</td><td>-0.166032491563</td><td>False</td><td>False</td><td>1.88951986975</td><td>26.2482719656</td><td>0.540767542726</td><td>26.2200981471</td><td>0.541597195427</td><td>25.8022669047</td><td>0.389739927736</td><td>26.309121342</td><td>0.541453645621</td><td>10252.6649659</td><td>15785.5636686</td><td>340.693963247</td><td>-9.51296102859</td></tr>\n",
       "<tr><td>-0.00994690998403</td><td>0.90620921712</td><td>True</td><td>nan</td><td>-0.000860859829842</td><td>False</td><td>False</td><td>0.98139603974</td><td>-0.000904169191411</td><td>False</td><td>2199425942531</td><td>-0.0106878236646</td><td>-0.0318582070996</td><td>False</td><td>nan</td><td>nan</td><td>-0.0</td><td>False</td><td>False</td><td>False</td><td>False</td><td>0.906209200833</td><td>nan</td><td>False</td><td>False</td><td>False</td><td>nan</td><td>-0.0298506147554</td><td>False</td><td>5.94620778818</td><td>0</td><td>-0.000860859580529</td><td>True</td><td>nan</td><td>1.44312853365</td><td>False</td><td>True</td><td>nan</td><td>True</td><td>2,3</td><td>i</td><td>inf</td><td>nan</td><td>-0.166056641299</td><td>False</td><td>False</td><td>-0.00090416914787</td><td>nan</td><td>nan</td><td>nan</td><td>nan</td><td>nan</td><td>nan</td><td>nan</td><td>nan</td><td>10278.6529765</td><td>15758.6600725</td><td>340.69261037</td><td>-9.51434470653</td></tr>\n",
       "<tr><td>2.29233827593</td><td>0.92108834218</td><td>True</td><td>nan</td><td>2.29233871212</td><td>False</td><td>False</td><td>0.921088696524</td><td>2.46739961161</td><td>False</td><td>2199425942532</td><td>2.46740001754</td><td>2.75263566574</td><td>False</td><td>nan</td><td>nan</td><td>1.0</td><td>False</td><td>False</td><td>False</td><td>False</td><td>0.84945431769</td><td>nan</td><td>False</td><td>False</td><td>False</td><td>nan</td><td>2.55659368149</td><td>False</td><td>5.94619006647</td><td>0</td><td>1.93405645963</td><td>True</td><td>nan</td><td>1.566528951</td><td>False</td><td>True</td><td>nan</td><td>True</td><td>2,3</td><td>i</td><td>2.88157296911</td><td>nan</td><td>-0.166078463253</td><td>False</td><td>False</td><td>2.04835568663</td><td>26.0194012699</td><td>0.405308875052</td><td>26.0194010913</td><td>0.405308964294</td><td>25.9006281682</td><td>0.617894049353</td><td>26.2214865703</td><td>0.450255447832</td><td>10298.1612325</td><td>15734.3462142</td><td>340.691594992</td><td>-9.51559501239</td></tr>\n",
       "<tr><td>nan</td><td>nan</td><td>True</td><td>nan</td><td>nan</td><td>True</td><td>False</td><td>nan</td><td>nan</td><td>False</td><td>2199425942533</td><td>nan</td><td>nan</td><td>False</td><td>nan</td><td>nan</td><td>nan</td><td>False</td><td>True</td><td>False</td><td>True</td><td>nan</td><td>nan</td><td>True</td><td>False</td><td>False</td><td>nan</td><td>nan</td><td>False</td><td>5.94619785443</td><td>0</td><td>nan</td><td>True</td><td>nan</td><td>nan</td><td>True</td><td>True</td><td>nan</td><td>True</td><td>2,3</td><td>i</td><td>nan</td><td>nan</td><td>-0.166068203511</td><td>True</td><td>True</td><td>nan</td><td>nan</td><td>nan</td><td>nan</td><td>nan</td><td>nan</td><td>nan</td><td>nan</td><td>nan</td><td>10289.5875382</td><td>15745.7780622</td><td>340.692041209</td><td>-9.51500717248</td></tr>\n",
       "</table>"
      ],
      "text/plain": [
       "<Table length=34392>\n",
       "modelfit_CModel_dev_flux_inner modelfit_CModel_fluxSigma ... coord_dec_deg \n",
       "           float64                      float64          ...    float64    \n",
       "------------------------------ ------------------------- ... --------------\n",
       "                           nan                       nan ... -9.71181120133\n",
       "                           nan                       nan ... -9.71215828568\n",
       "                           nan                       nan ... -9.71216344665\n",
       "                 6.63151756567            0.712926853509 ... -9.71166015016\n",
       "                           nan                       nan ... -9.71194716925\n",
       "                 31.6941918887              0.7477270623 ...  -9.7115911062\n",
       "                           nan                       nan ... -9.71211042932\n",
       "                           nan                       nan ... -9.71224910038\n",
       "                           nan                       nan ... -9.71225208058\n",
       "                           nan                       nan ... -9.71211818558\n",
       "                           ...                       ... ...            ...\n",
       "               0.0515425829469            0.970859214709 ... -9.52278925045\n",
       "                           nan                       nan ... -9.52270913131\n",
       "                0.414313399366            0.944744425937 ... -9.52296439246\n",
       "                 1.43048203614            0.671073357159 ... -9.52057395499\n",
       "               0.0483431505092            0.718469410392 ... -9.52047167895\n",
       "             0.000325984326144            0.993309068105 ...  -9.5135391242\n",
       "                  1.7693177659            0.995353873342 ... -9.51296102859\n",
       "             -0.00994690998403             0.90620921712 ... -9.51434470653\n",
       "                 2.29233827593             0.92108834218 ... -9.51559501239\n",
       "                           nan                       nan ... -9.51500717248"
      ]
     },
     "execution_count": 7,
     "metadata": {},
     "output_type": "execute_result"
    }
   ],
   "source": [
    "table[mask]"
   ]
  },
  {
   "cell_type": "code",
   "execution_count": 8,
   "metadata": {
    "collapsed": true
   },
   "outputs": [],
   "source": [
    "magi = table[mask]['modelfit_CModel_mag']"
   ]
  },
  {
   "cell_type": "code",
   "execution_count": 9,
   "metadata": {},
   "outputs": [
    {
     "name": "stdout",
     "output_type": "stream",
     "text": [
      "filter\n",
      "------\n",
      "     u\n",
      "     u\n",
      "     u\n",
      "     u\n",
      "     u\n",
      "     u\n",
      "     u\n",
      "     u\n",
      "     u\n",
      "     u\n",
      "   ...\n",
      "     i\n",
      "     i\n",
      "     i\n",
      "     i\n",
      "     i\n",
      "     i\n",
      "     i\n",
      "     i\n",
      "     i\n",
      "     i\n",
      "     i\n",
      "Length = 68784 rows\n"
     ]
    }
   ],
   "source": [
    "# Récupérer la liste des fitlres\n",
    "print(table['filter'])"
   ]
  },
  {
   "cell_type": "code",
   "execution_count": 10,
   "metadata": {},
   "outputs": [
    {
     "name": "stdout",
     "output_type": "stream",
     "text": [
      "{'u', 'i'}\n"
     ]
    }
   ],
   "source": [
    "print(set(table['filter']))"
   ]
  },
  {
   "cell_type": "code",
   "execution_count": 11,
   "metadata": {
    "collapsed": true
   },
   "outputs": [],
   "source": [
    "filters = set(table['filter'])"
   ]
  },
  {
   "cell_type": "code",
   "execution_count": 12,
   "metadata": {},
   "outputs": [
    {
     "data": {
      "text/plain": [
       "<matplotlib.legend.Legend at 0x7f48bb318400>"
      ]
     },
     "execution_count": 12,
     "metadata": {},
     "output_type": "execute_result"
    },
    {
     "data": {
      "image/png": "[encoded data removed]",
      "text/plain": [
       "<matplotlib.figure.Figure at 0x7f48bd3868d0>"
      ]
     },
     "metadata": {},
     "output_type": "display_data"
    }
   ],
   "source": [
    "# Comprehension list pour récupérer les magnitudes\n",
    "mags = [table[table['filter'] == f]['modelfit_CModel_mag'] for f in filters]\n",
    "\n",
    "# Histogramme pour tout les filtres\n",
    "fig, ax = plt.subplots()\n",
    "for mag, filt in zip(mags, filters):\n",
    "    # Supprimer les nan en appliquant un mask estimé à la volée\n",
    "    mag = mag[np.isfinite(mag)] \n",
    "    ax.hist(mag, label=filt, histtype='step')\n",
    "ax.legend()"
   ]
  },
  {
   "cell_type": "code",
   "execution_count": 13,
   "metadata": {},
   "outputs": [
    {
     "name": "stderr",
     "output_type": "stream",
     "text": [
      "/home/chotard/anaconda3/lib/python3.6/site-packages/astropy/table/column.py:929: RuntimeWarning: invalid value encountered in less\n",
      "  return getattr(self.data, oper)(other)\n"
     ]
    },
    {
     "data": {
      "text/plain": [
       "<matplotlib.legend.Legend at 0x7f48bd350080>"
      ]
     },
     "execution_count": 13,
     "metadata": {},
     "output_type": "execute_result"
    },
    {
     "data": {
      "image/png": "[encoded data removed]",
      "text/plain": [
       "<matplotlib.figure.Figure at 0x7f48bb29e978>"
      ]
     },
     "metadata": {},
     "output_type": "display_data"
    }
   ],
   "source": [
    "# Comprehension list pour récupérer les magnitudes\n",
    "mask = np.isfinite(table['modelfit_CModel_mag'])\n",
    "mask &= table['modelfit_CModel_magSigma'] < 0.05\n",
    "table = table[mask]\n",
    "mags = [table[table['filter'] == f]['modelfit_CModel_mag'] for f in filters]\n",
    "magsSigma = [table[table['filter'] == f]['modelfit_CModel_magSigma'] for f in filters]\n",
    "\n",
    "# Histogramme pour tout les filtres\n",
    "fig, ax = plt.subplots()\n",
    "for mag, magS, filt in zip(mags, magsSigma, filters):\n",
    "    ax.hist(mag, label=filt, histtype='step')\n",
    "ax.legend()"
   ]
  },
  {
   "cell_type": "markdown",
   "metadata": {},
   "source": [
    "## Exercice 2 - Coordonnées\n",
    "\n",
    "1. Dans cette zone du ciel se trouve l'amas de galaxie MACSJ2243.3-0935. Récupérer ses coordonnées en utilisant le module `coordinates.SkyCoord`. En utilisant les modules `coordinates.SkyCoord` et `units` d'Astropy, calculer les séparations angulaires de tout les objets du catalogues au centre de l'amas de galaxie\n",
    "    \n",
    "2. Tracer la carte du ciel (`ra` vs. `dec`), avant et après l'application d'un filtre pour ne conserver que la zone du ciel dans un rayon de 0.05 deg autour du centre de l'amas.\n",
    "3. Créez un \"faux\" catalogue de référence à partir de l'original selon la recette suivante\n",
    "\n",
    "        nra = ra[100:200] + (np.random.random(100) / 10000.) * u.deg\n",
    "        ndec = dec[100:200] + (np.random.random(100) / 10000.) * u.deg        \n",
    "\n",
    "   Faire une match du nouveau catalogue sur l'ancien en utilisant une méthode du module SkyCoord.\n",
    "4. Tracer l'histogramme des distances du catalogue initial au (faux) catalogue de référence en `mas`.\n",
    "5. Crées une nouvelle table astropy pour ce nouveau (faux) catalogue contenant les données des objets les plus proches dans le premier catalogue (toute les clés). \n",
    "6. Ajouter 3 colonnes contenant les sorties de la méthode de match\n",
    "7. Sauvegarder votre nouveaux catalogue dans un fichier HDF5."
   ]
  },
  {
   "cell_type": "code",
   "execution_count": 14,
   "metadata": {},
   "outputs": [],
   "source": [
    "from astropy.coordinates import SkyCoord\n",
    "from astropy import units as u\n",
    "amas_coord = SkyCoord.from_name('MACSJ2243.3-0935')"
   ]
  },
  {
   "cell_type": "code",
   "execution_count": 15,
   "metadata": {},
   "outputs": [],
   "source": [
    "ra = table['coord_ra_deg'] * u.deg\n",
    "dec = table['coord_dec_deg'] * u.deg\n",
    "sep = amas_coord.separation(SkyCoord(ra, dec))"
   ]
  },
  {
   "cell_type": "code",
   "execution_count": 16,
   "metadata": {},
   "outputs": [],
   "source": [
    "mask = sep.deg < 0.05"
   ]
  },
  {
   "cell_type": "code",
   "execution_count": 17,
   "metadata": {},
   "outputs": [
    {
     "data": {
      "text/plain": [
       "[<matplotlib.lines.Line2D at 0x7f48bac159e8>]"
      ]
     },
     "execution_count": 17,
     "metadata": {},
     "output_type": "execute_result"
    },
    {
     "data": {
      "image/png": "[encoded data removed]",
      "text/plain": [
       "<matplotlib.figure.Figure at 0x7f48bac15be0>"
      ]
     },
     "metadata": {},
     "output_type": "display_data"
    }
   ],
   "source": [
    "plt.plot(ra, dec, 'ok')\n",
    "plt.plot(ra[mask], dec[mask])"
   ]
  },
  {
   "cell_type": "code",
   "execution_count": 18,
   "metadata": {},
   "outputs": [],
   "source": [
    "nra = ra[100:200] + (np.random.random(100) / 10000.) * u.deg\n",
    "ndec = dec[100:200] + (np.random.random(100) / 10000.) * u.deg"
   ]
  },
  {
   "cell_type": "code",
   "execution_count": 19,
   "metadata": {},
   "outputs": [
    {
     "data": {
      "text/plain": [
       "[<matplotlib.lines.Line2D at 0x7f48bab40358>]"
      ]
     },
     "execution_count": 19,
     "metadata": {},
     "output_type": "execute_result"
    },
    {
     "data": {
      "image/png": "[encoded data removed]",
      "text/plain": [
       "<matplotlib.figure.Figure at 0x7f48babe6630>"
      ]
     },
     "metadata": {},
     "output_type": "display_data"
    }
   ],
   "source": [
    "plt.plot(ra, dec, 'ok')\n",
    "plt.plot(ra[mask], dec[mask], 'ob')\n",
    "plt.plot(nra, ndec, 'or')"
   ]
  },
  {
   "cell_type": "code",
   "execution_count": 20,
   "metadata": {},
   "outputs": [],
   "source": [
    "coords = SkyCoord(ra, dec, unit='deg')\n",
    "fakecat = SkyCoord(nra, ndec, unit='deg')\n",
    "idx, d2d, d3d = fakecat.match_to_catalog_sky(coords)"
   ]
  },
  {
   "cell_type": "code",
   "execution_count": 21,
   "metadata": {},
   "outputs": [],
   "source": [
    "from astropy import units as u\n",
    "d2d = d2d.value * u.deg"
   ]
  },
  {
   "cell_type": "code",
   "execution_count": 22,
   "metadata": {},
   "outputs": [
    {
     "data": {
      "image/png": "[encoded data removed]",
      "text/plain": [
       "<matplotlib.figure.Figure at 0x7f48b7745f28>"
      ]
     },
     "metadata": {},
     "output_type": "display_data"
    }
   ],
   "source": [
    "from astropy.visualization import quantity_support\n",
    "with quantity_support():\n",
    "    plt.hist(d2d.to('mas'))"
   ]
  },
  {
   "cell_type": "code",
   "execution_count": 25,
   "metadata": {},
   "outputs": [
    {
     "data": {
      "text/plain": [
       "(array([ 1,  2,  7, 12, 13, 14, 17, 18, 21, 22, 24, 25, 26, 27, 30, 33, 34,\n",
       "        38, 40, 43, 45, 47, 48, 50, 51, 53, 54, 58, 61, 63, 67, 68, 70, 71,\n",
       "        73, 75, 78, 80, 81, 87, 90, 91, 92, 93, 94, 96, 98]),)"
      ]
     },
     "execution_count": 25,
     "metadata": {},
     "output_type": "execute_result"
    }
   ],
   "source": [
    "bad = np.where(d2d.to('mas') > 300 * u.mas)\n",
    "bad"
   ]
  },
  {
   "cell_type": "code",
   "execution_count": 27,
   "metadata": {},
   "outputs": [
    {
     "data": {
      "text/plain": [
       "array([ 458,  459, 2668, 1192,  104,  105, 1200,  107, 2677, 1210,  110,\n",
       "       1214,  112, 2690, 1221, 2691,  116,  117, 1245, 1247,  485,  486,\n",
       "        488, 1263, 2787, 2790,  126,  498,  128,  500,  130, 1303,  132,\n",
       "        133,  134, 2851,  509,  510,  138,  139,  140,  141,  142,  517,\n",
       "       1356, 2902, 2904,  525,  527,  149,  150, 1383,  152,  153,  154,\n",
       "        155, 1401,  157, 2968, 1407, 2996, 2998,  162,  547, 1437,  165,\n",
       "        166, 1447,  168,  169,  554,  171, 1483,  173, 1489,  557,  176,\n",
       "        177, 1500, 1512, 3146, 1518,  574, 1520,  184,  185, 1531,  587,\n",
       "        188, 1542, 3219,  191,  595, 3257, 3284,  601,  196,  603, 1596,\n",
       "       1597])"
      ]
     },
     "execution_count": 27,
     "metadata": {},
     "output_type": "execute_result"
    }
   ],
   "source": [
    "idx  # indice dans la catalogue 1 des matches du (faux) catalogues de références"
   ]
  },
  {
   "cell_type": "code",
   "execution_count": 28,
   "metadata": {},
   "outputs": [],
   "source": [
    "ntable = table[idx]"
   ]
  },
  {
   "cell_type": "code",
   "execution_count": 29,
   "metadata": {},
   "outputs": [],
   "source": [
    "from astropy.table import Column\n",
    "cols = [Column(idx, name='idx'), Column(d2d, name='2d2'), Column(d3d, 'd3d')]\n",
    "ntable.add_columns(cols)"
   ]
  },
  {
   "cell_type": "code",
   "execution_count": 34,
   "metadata": {},
   "outputs": [
    {
     "data": {
      "text/html": [
       "&lt;Table length=100&gt;\n",
       "<table id=\"table139950289063328\" class=\"table-striped table-bordered table-condensed\">\n",
       "<thead><tr><th>modelfit_CModel_dev_flux_inner</th><th>modelfit_CModel_fluxSigma</th><th>modelfit_CModel_initial_flag_apCorr</th><th>modelfit_CModel_apCorrSigma</th><th>modelfit_CModel_flux_inner</th><th>modelfit_CModel_initial_flag_numericError</th><th>modelfit_CModel_exp_flag_badReference</th><th>modelfit_CModel_dev_fluxSigma</th><th>modelfit_CModel_flux</th><th>modelfit_CModel_flag_badReference</th><th>objectId</th><th>modelfit_CModel_dev_flux</th><th>modelfit_CModel_initial_flux</th><th>modelfit_CModel_flag_noShapeletPsf</th><th>modelfit_CModel_exp_apCorr</th><th>modelfit_CModel_apCorr</th><th>modelfit_CModel_fracDev</th><th>modelfit_CModel_initial_flag_badReference</th><th>modelfit_CModel_initial_flag</th><th>modelfit_CModel_flag_region_maxBadPixelFraction</th><th>modelfit_CModel_flag</th><th>modelfit_CModel_exp_fluxSigma</th><th>modelfit_CModel_initial_apCorrSigma</th><th>modelfit_CModel_exp_flag</th><th>modelfit_CModel_flag_region_maxArea</th><th>modelfit_CModel_flag_badCentroid</th><th>modelfit_CModel_dev_apCorr</th><th>modelfit_CModel_initial_flux_inner</th><th>modelfit_CModel_dev_flag_badReference</th><th>coord_ra</th><th>tract</th><th>modelfit_CModel_exp_flux_inner</th><th>modelfit_CModel_exp_flag_apCorr</th><th>modelfit_CModel_dev_apCorrSigma</th><th>modelfit_CModel_initial_fluxSigma</th><th>modelfit_CModel_dev_flag_numericError</th><th>modelfit_CModel_dev_flag_apCorr</th><th>modelfit_CModel_initial_apCorr</th><th>modelfit_CModel_flag_apCorr</th><th>patch</th><th>filter</th><th>modelfit_CModel_objective</th><th>modelfit_CModel_exp_apCorrSigma</th><th>coord_dec</th><th>modelfit_CModel_dev_flag</th><th>modelfit_CModel_exp_flag_numericError</th><th>modelfit_CModel_exp_flux</th><th>modelfit_CModel_mag</th><th>modelfit_CModel_magSigma</th><th>modelfit_CModel_dev_mag</th><th>modelfit_CModel_dev_magSigma</th><th>modelfit_CModel_initial_mag</th><th>modelfit_CModel_initial_magSigma</th><th>modelfit_CModel_exp_mag</th><th>modelfit_CModel_exp_magSigma</th><th>x_Src</th><th>y_Src</th><th>coord_ra_deg</th><th>coord_dec_deg</th><th>idx</th><th>2d2</th><th>d3d</th></tr></thead>\n",
       "<thead><tr><th></th><th></th><th></th><th></th><th></th><th></th><th></th><th></th><th></th><th></th><th></th><th></th><th></th><th></th><th></th><th></th><th></th><th></th><th></th><th></th><th></th><th></th><th></th><th></th><th></th><th></th><th></th><th></th><th></th><th></th><th></th><th></th><th></th><th></th><th></th><th></th><th></th><th></th><th></th><th></th><th></th><th></th><th></th><th></th><th></th><th></th><th></th><th></th><th></th><th></th><th></th><th></th><th></th><th></th><th></th><th></th><th></th><th></th><th></th><th></th><th>deg</th><th></th></tr></thead>\n",
       "<thead><tr><th>float64</th><th>float64</th><th>bool</th><th>float64</th><th>float64</th><th>bool</th><th>bool</th><th>float64</th><th>float64</th><th>bool</th><th>int64</th><th>float64</th><th>float64</th><th>bool</th><th>float64</th><th>float64</th><th>float64</th><th>bool</th><th>bool</th><th>bool</th><th>bool</th><th>float64</th><th>float64</th><th>bool</th><th>bool</th><th>bool</th><th>float64</th><th>float64</th><th>bool</th><th>float64</th><th>int64</th><th>float64</th><th>bool</th><th>float64</th><th>float64</th><th>bool</th><th>bool</th><th>float64</th><th>bool</th><th>bytes3</th><th>bytes1</th><th>float64</th><th>float64</th><th>float64</th><th>bool</th><th>bool</th><th>float64</th><th>float64</th><th>float64</th><th>float64</th><th>float64</th><th>float64</th><th>float64</th><th>float64</th><th>float64</th><th>float64</th><th>float64</th><th>float64</th><th>float64</th><th>int64</th><th>float64</th><th>float64</th></tr></thead>\n",
       "<tr><td>12.124650021</td><td>0.570660536808</td><td>True</td><td>nan</td><td>12.2413831984</td><td>False</td><td>False</td><td>0.628060816787</td><td>14.1163449833</td><td>False</td><td>1099914292820</td><td>15.4242224746</td><td>14.8975441133</td><td>False</td><td>nan</td><td>nan</td><td>0.0</td><td>False</td><td>False</td><td>False</td><td>False</td><td>0.57066055188</td><td>nan</td><td>False</td><td>False</td><td>False</td><td>nan</td><td>12.9054652041</td><td>False</td><td>5.9487698442</td><td>0</td><td>12.2413811217</td><td>True</td><td>nan</td><td>0.596296993342</td><td>False</td><td>True</td><td>nan</td><td>True</td><td>1,3</td><td>u</td><td>0.242534478709</td><td>nan</td><td>-0.16855833144</td><td>False</td><td>False</td><td>14.1163465661</td><td>24.1256943416</td><td>0.043891446842</td><td>24.0294917981</td><td>0.0442102263956</td><td>24.0672132998</td><td>0.0434582525506</td><td>24.1256942199</td><td>0.0438914430799</td><td>7464.8558605</td><td>12966.307363</td><td>340.839405367</td><td>-9.65768099328</td><td>458</td><td>2.79973623934e-05</td><td>4.88646155813e-07</td></tr>\n",
       "<tr><td>76.8452023154</td><td>0.600170617905</td><td>True</td><td>nan</td><td>76.8452042501</td><td>False</td><td>False</td><td>0.60017068062</td><td>118.529611785</td><td>False</td><td>1099914292822</td><td>118.529615152</td><td>118.376007277</td><td>False</td><td>nan</td><td>nan</td><td>1.0</td><td>False</td><td>False</td><td>False</td><td>False</td><td>0.599393355313</td><td>nan</td><td>False</td><td>False</td><td>False</td><td>nan</td><td>76.804613127</td><td>False</td><td>5.94935625966</td><td>0</td><td>76.801693487</td><td>True</td><td>nan</td><td>0.59948883936</td><td>False</td><td>True</td><td>nan</td><td>True</td><td>1,3</td><td>u</td><td>0.678517527506</td><td>nan</td><td>-0.168526983837</td><td>False</td><td>False</td><td>118.355517562</td><td>21.8154328451</td><td>0.0054975879789</td><td>21.8154328142</td><td>0.00549758839721</td><td>21.8168407813</td><td>0.00549846841613</td><td>21.8170287277</td><td>0.00549854438694</td><td>6820.21043121</td><td>13000.3883106</td><td>340.873004498</td><td>-9.65588490794</td><td>459</td><td>9.38743182296e-05</td><td>1.63841593586e-06</td></tr>\n",
       "<tr><td>1181.90231294</td><td>0.897403275406</td><td>True</td><td>nan</td><td>1178.99695567</td><td>False</td><td>False</td><td>0.916056514048</td><td>1389.83106765</td><td>False</td><td>1099914292852</td><td>1414.9686042</td><td>1375.53972557</td><td>False</td><td>nan</td><td>nan</td><td>0.0</td><td>False</td><td>False</td><td>False</td><td>False</td><td>0.897403250756</td><td>nan</td><td>False</td><td>False</td><td>False</td><td>nan</td><td>1169.69906516</td><td>False</td><td>5.9490000827</td><td>0</td><td>1178.99696302</td><td>True</td><td>nan</td><td>0.890237991744</td><td>False</td><td>True</td><td>nan</td><td>True</td><td>1,3</td><td>i</td><td>93.9780954316</td><td>nan</td><td>-0.168545798209</td><td>False</td><td>False</td><td>1389.83116075</td><td>19.1425949613</td><td>0.000701051551556</td><td>19.1231329908</td><td>0.000702910099879</td><td>19.1538171567</td><td>0.000702679537726</td><td>19.1425948886</td><td>0.000701051485336</td><td>7211.75627482</td><td>12979.9472181</td><td>340.852597062</td><td>-9.65696289205</td><td>2668</td><td>0.000107594002141</td><td>1.87786959295e-06</td></tr>\n",
       "<tr><td>1391.30624557</td><td>0.997937917933</td><td>True</td><td>nan</td><td>1388.29312702</td><td>False</td><td>False</td><td>0.999707383965</td><td>1687.5733409</td><td>False</td><td>1099914282173</td><td>1691.9316817</td><td>1692.47312661</td><td>False</td><td>nan</td><td>nan</td><td>0.0</td><td>False</td><td>False</td><td>False</td><td>False</td><td>0.997937930264</td><td>nan</td><td>False</td><td>False</td><td>False</td><td>nan</td><td>1391.79718975</td><td>False</td><td>5.94999304825</td><td>0</td><td>1388.29295234</td><td>True</td><td>nan</td><td>0.999889014325</td><td>False</td><td>True</td><td>nan</td><td>True</td><td>1,3</td><td>i</td><td>156.090600835</td><td>nan</td><td>-0.168542944777</td><td>False</td><td>False</td><td>1687.57320055</td><td>18.9318433598</td><td>0.000642044586353</td><td>18.9290429432</td><td>0.000641526199121</td><td>18.928695546</td><td>0.000641437483718</td><td>18.9318434501</td><td>0.000642044647684</td><td>6120.25809116</td><td>12981.5741366</td><td>340.909489797</td><td>-9.6567994024</td><td>1192</td><td>3.12590058536e-05</td><td>5.4557257319e-07</td></tr>\n",
       "<tr><td>14.3618320883</td><td>0.560210719963</td><td>True</td><td>nan</td><td>14.3008480072</td><td>False</td><td>False</td><td>0.62316603602</td><td>18.6113215143</td><td>False</td><td>1099914282175</td><td>20.6725071997</td><td>18.4650243566</td><td>False</td><td>nan</td><td>nan</td><td>0.0</td><td>False</td><td>False</td><td>False</td><td>False</td><td>0.560210618389</td><td>nan</td><td>False</td><td>False</td><td>False</td><td>nan</td><td>14.5248510612</td><td>False</td><td>5.94955216644</td><td>0</td><td>14.300849957</td><td>True</td><td>nan</td><td>0.553481207747</td><td>False</td><td>True</td><td>nan</td><td>True</td><td>1,3</td><td>u</td><td>0.179670434056</td><td>nan</td><td>-0.168516748347</td><td>False</td><td>False</td><td>18.6113198413</td><td>23.8255569707</td><td>0.0326812397761</td><td>23.7115171204</td><td>0.0327291663437</td><td>23.8341252879</td><td>0.032544478377</td><td>23.8255570683</td><td>0.0326812367882</td><td>6604.8480102</td><td>13011.4956336</td><td>340.88422913</td><td>-9.65529845754</td><td>104</td><td>7.67974767574e-05</td><td>1.34036882662e-06</td></tr>\n",
       "<tr><td>14.1856572825</td><td>0.713223143811</td><td>True</td><td>nan</td><td>13.9524676218</td><td>False</td><td>False</td><td>0.953771110237</td><td>15.8162919185</td><td>False</td><td>1099914282189</td><td>21.0290314024</td><td>15.9458763727</td><td>False</td><td>nan</td><td>nan</td><td>0.0</td><td>False</td><td>False</td><td>False</td><td>False</td><td>0.713223170038</td><td>nan</td><td>False</td><td>False</td><td>False</td><td>nan</td><td>14.1500297664</td><td>False</td><td>5.94892967975</td><td>0</td><td>13.9524691907</td><td>True</td><td>nan</td><td>0.716373385208</td><td>False</td><td>True</td><td>nan</td><td>True</td><td>1,3</td><td>u</td><td>0.413414131844</td><td>nan</td><td>-0.168546838211</td><td>False</td><td>False</td><td>15.8162930206</td><td>24.0022383198</td><td>0.0489604133065</td><td>23.6929518262</td><td>0.0492435341229</td><td>23.9933790182</td><td>0.0487770318964</td><td>24.0022382442</td><td>0.0489604116954</td><td>7289.14588688</td><td>12978.8909543</td><td>340.84856327</td><td>-9.65702247978</td><td>105</td><td>3.90169438085e-05</td><td>6.80974133585e-07</td></tr>\n",
       "<tr><td>37.652385324</td><td>0.637131770979</td><td>True</td><td>nan</td><td>37.7632675171</td><td>False</td><td>False</td><td>0.72841943115</td><td>42.1675373836</td><td>False</td><td>1099914282195</td><td>48.0488802023</td><td>41.6310740147</td><td>False</td><td>nan</td><td>nan</td><td>0.050517510385</td><td>False</td><td>False</td><td>False</td><td>False</td><td>0.63283317117</td><td>nan</td><td>False</td><td>False</td><td>False</td><td>nan</td><td>37.6846548061</td><td>False</td><td>5.9486750674</td><td>0</td><td>37.7590914499</td><td>True</td><td>nan</td><td>0.628596211718</td><td>False</td><td>True</td><td>nan</td><td>True</td><td>1,3</td><td>i</td><td>0.300282039642</td><td>nan</td><td>-0.168521696261</td><td>False</td><td>False</td><td>41.8843629856</td><td>22.9375544034</td><td>0.016404966329</td><td>22.7957918232</td><td>0.0164597248743</td><td>22.9514559622</td><td>0.0163937558996</td><td>22.9448702133</td><td>0.0164044487378</td><td>7568.98377944</td><td>13007.2898686</td><td>340.833975057</td><td>-9.65558195216</td><td>1200</td><td>5.55231092105e-05</td><td>9.69061067022e-07</td></tr>\n",
       "<tr><td>8.40176321541</td><td>0.510307771815</td><td>True</td><td>nan</td><td>8.35210227966</td><td>False</td><td>False</td><td>0.525212461803</td><td>11.8482454351</td><td>False</td><td>1099914282200</td><td>12.1986330476</td><td>11.7821208707</td><td>False</td><td>nan</td><td>nan</td><td>0.0592510375714</td><td>False</td><td>False</td><td>False</td><td>False</td><td>0.509394893448</td><td>nan</td><td>False</td><td>False</td><td>False</td><td>nan</td><td>8.33897612113</td><td>False</td><td>5.94976548548</td><td>0</td><td>8.34899684171</td><td>True</td><td>nan</td><td>0.507634883505</td><td>False</td><td>True</td><td>nan</td><td>True</td><td>1,3</td><td>u</td><td>0.0863726977263</td><td>nan</td><td>-0.168519151458</td><td>False</td><td>False</td><td>11.8267455111</td><td>24.3158648951</td><td>0.0467630103093</td><td>24.2842220817</td><td>0.0467464004159</td><td>24.3219413156</td><td>0.0467791476483</td><td>24.3178368707</td><td>0.046764215719</td><td>6370.36431659</td><td>13008.4758688</td><td>340.896451411</td><td>-9.65543614568</td><td>107</td><td>9.77911810741e-05</td><td>1.70677808916e-06</td></tr>\n",
       "<tr><td>57.9224224707</td><td>0.723711063024</td><td>True</td><td>nan</td><td>57.922416687</td><td>False</td><td>False</td><td>0.723711021798</td><td>75.2953289503</td><td>False</td><td>1099914292893</td><td>75.295329444</td><td>65.6538613567</td><td>False</td><td>nan</td><td>nan</td><td>1.0</td><td>False</td><td>False</td><td>False</td><td>False</td><td>0.61289358205</td><td>nan</td><td>False</td><td>False</td><td>False</td><td>nan</td><td>58.3223201075</td><td>False</td><td>5.94836807938</td><td>0</td><td>56.2335039689</td><td>True</td><td>nan</td><td>0.624607574989</td><td>False</td><td>True</td><td>nan</td><td>True</td><td>1,3</td><td>i</td><td>0.881151100359</td><td>nan</td><td>-0.168503093119</td><td>False</td><td>False</td><td>63.6591145407</td><td>22.3080799126</td><td>0.0104356978562</td><td>22.3080799054</td><td>0.0104356971933</td><td>22.4568493157</td><td>0.0103293095626</td><td>22.4903485161</td><td>0.0104531889345</td><td>7906.40404062</td><td>13028.4574096</td><td>340.816385939</td><td>-9.65451607064</td><td>2677</td><td>7.55543418447e-05</td><td>1.31867202904e-06</td></tr>\n",
       "<tr><td>...</td><td>...</td><td>...</td><td>...</td><td>...</td><td>...</td><td>...</td><td>...</td><td>...</td><td>...</td><td>...</td><td>...</td><td>...</td><td>...</td><td>...</td><td>...</td><td>...</td><td>...</td><td>...</td><td>...</td><td>...</td><td>...</td><td>...</td><td>...</td><td>...</td><td>...</td><td>...</td><td>...</td><td>...</td><td>...</td><td>...</td><td>...</td><td>...</td><td>...</td><td>...</td><td>...</td><td>...</td><td>...</td><td>...</td><td>...</td><td>...</td><td>...</td><td>...</td><td>...</td><td>...</td><td>...</td><td>...</td><td>...</td><td>...</td><td>...</td><td>...</td><td>...</td><td>...</td><td>...</td><td>...</td><td>...</td><td>...</td><td>...</td><td>...</td><td>...</td><td>...</td><td>...</td></tr>\n",
       "<tr><td>966.825588326</td><td>0.856958066281</td><td>True</td><td>nan</td><td>967.804674684</td><td>False</td><td>False</td><td>0.863912308852</td><td>1150.63648647</td><td>False</td><td>1099914294641</td><td>1157.17465203</td><td>1139.88281606</td><td>False</td><td>nan</td><td>nan</td><td>0.0</td><td>False</td><td>False</td><td>False</td><td>False</td><td>0.856958008692</td><td>nan</td><td>False</td><td>False</td><td>False</td><td>nan</td><td>960.588614208</td><td>False</td><td>5.94874911337</td><td>0</td><td>967.804640963</td><td>True</td><td>nan</td><td>0.850852579479</td><td>False</td><td>True</td><td>nan</td><td>True</td><td>1,3</td><td>i</td><td>41.1344218784</td><td>nan</td><td>-0.167610945934</td><td>False</td><td>False</td><td>1150.636338</td><td>19.3476546467</td><td>0.000808622366367</td><td>19.3415027204</td><td>0.000810578480793</td><td>19.3578494834</td><td>0.000810435456557</td><td>19.3476547868</td><td>0.000808622416371</td><td>7486.29307386</td><td>14022.6549466</td><td>340.838217578</td><td>-9.60339980222</td><td>3219</td><td>9.51706381936e-05</td><td>1.6610409872e-06</td></tr>\n",
       "<tr><td>12.9155970176</td><td>0.479349010248</td><td>True</td><td>nan</td><td>12.9136953354</td><td>False</td><td>False</td><td>0.479533397645</td><td>20.0337680363</td><td>False</td><td>1099914283364</td><td>20.0415824286</td><td>20.0334085869</td><td>False</td><td>nan</td><td>nan</td><td>0.0</td><td>False</td><td>False</td><td>False</td><td>False</td><td>0.4793490431</td><td>nan</td><td>False</td><td>False</td><td>False</td><td>nan</td><td>12.9137976397</td><td>False</td><td>5.94832332821</td><td>0</td><td>12.9136967613</td><td>True</td><td>nan</td><td>0.479336849782</td><td>False</td><td>True</td><td>nan</td><td>True</td><td>1,3</td><td>u</td><td>0.0927085632712</td><td>nan</td><td>-0.16763654679</td><td>False</td><td>False</td><td>20.0337682423</td><td>23.7455933977</td><td>0.0259784666668</td><td>23.7451699769</td><td>0.0259783264654</td><td>23.7456128783</td><td>0.0259782737333</td><td>23.7455933865</td><td>0.02597846818</td><td>7954.42797999</td><td>13994.6986622</td><td>340.813821886</td><td>-9.60486662319</td><td>191</td><td>8.72820829701e-05</td><td>1.5233597258e-06</td></tr>\n",
       "<tr><td>287.706587803</td><td>1.0449188222</td><td>True</td><td>nan</td><td>287.706585054</td><td>False</td><td>False</td><td>1.04491852289</td><td>339.178460082</td><td>False</td><td>1099914294720</td><td>339.178416017</td><td>330.968771377</td><td>False</td><td>nan</td><td>nan</td><td>1.0</td><td>False</td><td>False</td><td>False</td><td>False</td><td>0.919977923691</td><td>nan</td><td>False</td><td>False</td><td>False</td><td>nan</td><td>305.078825875</td><td>False</td><td>5.94956816229</td><td>0</td><td>285.253977079</td><td>True</td><td>nan</td><td>1.01058846374</td><td>False</td><td>True</td><td>nan</td><td>True</td><td>1,3</td><td>u</td><td>81.9442664586</td><td>nan</td><td>-0.167621679762</td><td>False</td><td>False</td><td>301.387761007</td><td>20.6739293398</td><td>0.00334486510737</td><td>20.6739294808</td><td>0.00334486458379</td><td>20.7005324556</td><td>0.00331521454012</td><td>20.8021859696</td><td>0.00331418016443</td><td>6585.85412224</td><td>14009.4621338</td><td>340.885145625</td><td>-9.60401480525</td><td>595</td><td>9.36534444226e-05</td><td>1.63456096066e-06</td></tr>\n",
       "<tr><td>58.4204979542</td><td>0.593001107814</td><td>True</td><td>nan</td><td>58.4204953121</td><td>False</td><td>False</td><td>0.593001111597</td><td>71.4707227054</td><td>False</td><td>1099914294745</td><td>71.470720879</td><td>65.7392569454</td><td>False</td><td>nan</td><td>nan</td><td>1.0</td><td>False</td><td>False</td><td>False</td><td>False</td><td>0.546750419371</td><td>nan</td><td>False</td><td>False</td><td>False</td><td>nan</td><td>57.2222897223</td><td>False</td><td>5.94865006514</td><td>0</td><td>57.1257503527</td><td>True</td><td>nan</td><td>0.545145934209</td><td>False</td><td>True</td><td>nan</td><td>True</td><td>1,3</td><td>i</td><td>0.55424945978</td><td>nan</td><td>-0.167602048593</td><td>False</td><td>False</td><td>65.8275314288</td><td>22.3646795658</td><td>0.00900848274432</td><td>22.3646795936</td><td>0.00900848303199</td><td>22.4554380227</td><td>0.00900351943648</td><td>22.4539810773</td><td>0.00901790956447</td><td>7595.17262434</td><td>14032.7150642</td><td>340.832542533</td><td>-9.60289002214</td><td>3257</td><td>0.000120797187194</td><td>2.10830864426e-06</td></tr>\n",
       "<tr><td>707.473599529</td><td>0.989038252384</td><td>True</td><td>nan</td><td>707.473524875</td><td>False</td><td>False</td><td>0.989038301391</td><td>864.860212577</td><td>False</td><td>1099914294806</td><td>864.860241023</td><td>861.43267285</td><td>False</td><td>nan</td><td>nan</td><td>1.0</td><td>False</td><td>False</td><td>False</td><td>False</td><td>0.986204258436</td><td>nan</td><td>False</td><td>False</td><td>False</td><td>nan</td><td>705.59371825</td><td>False</td><td>5.95004482531</td><td>0</td><td>705.58779443</td><td>True</td><td>nan</td><td>0.985704854265</td><td>False</td><td>True</td><td>nan</td><td>True</td><td>1,3</td><td>i</td><td>22.2776901088</td><td>nan</td><td>-0.167571587269</td><td>False</td><td>False</td><td>861.824439001</td><td>19.6576352048</td><td>0.00124162797975</td><td>19.6576351691</td><td>0.00124162800043</td><td>19.6619466503</td><td>0.00124236690947</td><td>19.6614529867</td><td>0.00124243131224</td><td>6061.72667808</td><td>14064.5453792</td><td>340.912456404</td><td>-9.60114471681</td><td>3284</td><td>0.000114346567157</td><td>1.99572408554e-06</td></tr>\n",
       "<tr><td>10.3868610322</td><td>0.544420563643</td><td>True</td><td>nan</td><td>10.3868589401</td><td>False</td><td>False</td><td>0.544420588014</td><td>15.4838831781</td><td>False</td><td>1099914294837</td><td>15.4838839165</td><td>14.3078195842</td><td>False</td><td>nan</td><td>nan</td><td>1.0</td><td>False</td><td>False</td><td>False</td><td>False</td><td>0.50669862066</td><td>nan</td><td>False</td><td>False</td><td>False</td><td>nan</td><td>10.2982581595</td><td>False</td><td>5.94906280897</td><td>0</td><td>10.2496408857</td><td>True</td><td>nan</td><td>0.503075114881</td><td>False</td><td>True</td><td>nan</td><td>True</td><td>1,3</td><td>u</td><td>0.0773028511145</td><td>nan</td><td>-0.167526594938</td><td>False</td><td>False</td><td>14.3971437328</td><td>24.0253002849</td><td>0.038174992007</td><td>24.0253002332</td><td>0.0381749918954</td><td>24.1110663619</td><td>0.0381754090989</td><td>24.1043091489</td><td>0.0382118180912</td><td>7141.29488233</td><td>14116.25029</td><td>340.856191012</td><td>-9.59856684615</td><td>601</td><td>7.74492153558e-05</td><td>1.35174381121e-06</td></tr>\n",
       "<tr><td>22.626107816</td><td>0.648687893493</td><td>True</td><td>nan</td><td>23.5855102539</td><td>False</td><td>False</td><td>0.679713383883</td><td>24.858533525</td><td>False</td><td>1099914283473</td><td>25.6732539653</td><td>29.6677822134</td><td>False</td><td>nan</td><td>nan</td><td>0.0</td><td>False</td><td>False</td><td>False</td><td>False</td><td>0.648687840811</td><td>nan</td><td>False</td><td>False</td><td>False</td><td>nan</td><td>27.5896615013</td><td>False</td><td>5.94921046248</td><td>0</td><td>23.58550922</td><td>True</td><td>nan</td><td>0.763068137361</td><td>False</td><td>True</td><td>nan</td><td>True</td><td>1,3</td><td>u</td><td>0.573208271531</td><td>nan</td><td>-0.167545299602</td><td>False</td><td>False</td><td>24.8585312332</td><td>23.511311238</td><td>0.0283324811114</td><td>23.4762977076</td><td>0.0287454574608</td><td>23.3192872943</td><td>0.0279256028466</td><td>23.5113113381</td><td>0.0283324814225</td><td>6978.99180923</td><td>14095.1748117</td><td>340.864650935</td><td>-9.59963854446</td><td>196</td><td>0.000104176335158</td><td>1.81822005129e-06</td></tr>\n",
       "<tr><td>43.5841718875</td><td>1.37835597176</td><td>True</td><td>nan</td><td>44.1181761394</td><td>False</td><td>False</td><td>1.69013980512</td><td>47.1425824174</td><td>False</td><td>1099914294878</td><td>57.3530260639</td><td>49.2277829932</td><td>False</td><td>nan</td><td>nan</td><td>0.0179885775472</td><td>False</td><td>False</td><td>False</td><td>False</td><td>1.37361242039</td><td>nan</td><td>False</td><td>False</td><td>False</td><td>nan</td><td>46.1245082481</td><td>False</td><td>5.95010373412</td><td>0</td><td>44.119724471</td><td>True</td><td>nan</td><td>1.42642631055</td><td>False</td><td>True</td><td>nan</td><td>True</td><td>1,3</td><td>u</td><td>1.65039211076</td><td>nan</td><td>-0.167521342838</td><td>False</td><td>False</td><td>46.9824585103</td><td>22.8164665775</td><td>0.031744781572</td><td>22.6036091572</td><td>0.0319956260979</td><td>22.7694743063</td><td>0.0314603379355</td><td>22.8201606527</td><td>0.0317433523791</td><td>5996.87725667</td><td>14120.4695449</td><td>340.91583163</td><td>-9.59826592301</td><td>603</td><td>8.01670891478e-05</td><td>1.39917965725e-06</td></tr>\n",
       "<tr><td>57.3472491838</td><td>0.789675893731</td><td>True</td><td>nan</td><td>61.0942361001</td><td>False</td><td>False</td><td>0.867887173177</td><td>71.9452416764</td><td>False</td><td>1099914283493</td><td>77.7178091125</td><td>78.2049743745</td><td>False</td><td>nan</td><td>nan</td><td>0.0</td><td>False</td><td>False</td><td>False</td><td>False</td><td>0.789675939952</td><td>nan</td><td>False</td><td>False</td><td>False</td><td>nan</td><td>71.043507185</td><td>False</td><td>5.94891080029</td><td>0</td><td>61.0942448052</td><td>True</td><td>nan</td><td>0.811861270653</td><td>False</td><td>True</td><td>nan</td><td>True</td><td>1,3</td><td>i</td><td>3.39805258386</td><td>nan</td><td>-0.167537250945</td><td>False</td><td>False</td><td>71.9452452494</td><td>22.3574948105</td><td>0.0119171148483</td><td>22.273698627</td><td>0.012124589413</td><td>22.2669140549</td><td>0.0112712417828</td><td>22.3574947566</td><td>0.011917114954</td><td>7308.42942947</td><td>14104.5914463</td><td>340.847481557</td><td>-9.59917739038</td><td>1596</td><td>9.01874330546e-05</td><td>1.57406765072e-06</td></tr>\n",
       "<tr><td>746.099896418</td><td>0.783441789271</td><td>True</td><td>nan</td><td>745.884479092</td><td>False</td><td>False</td><td>0.783647728005</td><td>904.635225606</td><td>False</td><td>1099914283507</td><td>904.951480598</td><td>905.134927718</td><td>False</td><td>nan</td><td>nan</td><td>0.0</td><td>False</td><td>False</td><td>False</td><td>False</td><td>0.783441823565</td><td>nan</td><td>False</td><td>False</td><td>False</td><td>nan</td><td>746.230229546</td><td>False</td><td>5.94843700361</td><td>0</td><td>745.884467642</td><td>True</td><td>nan</td><td>0.783761280951</td><td>False</td><td>True</td><td>nan</td><td>True</td><td>1,3</td><td>i</td><td>34.810122249</td><td>nan</td><td>-0.167521237328</td><td>False</td><td>False</td><td>904.635137282</td><td>19.6088162632</td><td>0.000940280779319</td><td>19.6084367627</td><td>0.000940199257433</td><td>19.6082166901</td><td>0.000940144913822</td><td>19.6088163692</td><td>0.000940280912282</td><td>7829.29841084</td><td>14123.1123295</td><td>340.820335006</td><td>-9.59825987768</td><td>1597</td><td>6.48532152297e-05</td><td>1.13190213593e-06</td></tr>\n",
       "</table>"
      ],
      "text/plain": [
       "<Table length=100>\n",
       "modelfit_CModel_dev_flux_inner modelfit_CModel_fluxSigma ...        d3d       \n",
       "                                                         ...                  \n",
       "           float64                      float64          ...      float64     \n",
       "------------------------------ ------------------------- ... -----------------\n",
       "                  12.124650021            0.570660536808 ... 4.88646155813e-07\n",
       "                 76.8452023154            0.600170617905 ... 1.63841593586e-06\n",
       "                 1181.90231294            0.897403275406 ... 1.87786959295e-06\n",
       "                 1391.30624557            0.997937917933 ...  5.4557257319e-07\n",
       "                 14.3618320883            0.560210719963 ... 1.34036882662e-06\n",
       "                 14.1856572825            0.713223143811 ... 6.80974133585e-07\n",
       "                  37.652385324            0.637131770979 ... 9.69061067022e-07\n",
       "                 8.40176321541            0.510307771815 ... 1.70677808916e-06\n",
       "                 57.9224224707            0.723711063024 ... 1.31867202904e-06\n",
       "                           ...                       ... ...               ...\n",
       "                 966.825588326            0.856958066281 ...  1.6610409872e-06\n",
       "                 12.9155970176            0.479349010248 ...  1.5233597258e-06\n",
       "                 287.706587803              1.0449188222 ... 1.63456096066e-06\n",
       "                 58.4204979542            0.593001107814 ... 2.10830864426e-06\n",
       "                 707.473599529            0.989038252384 ... 1.99572408554e-06\n",
       "                 10.3868610322            0.544420563643 ... 1.35174381121e-06\n",
       "                  22.626107816            0.648687893493 ... 1.81822005129e-06\n",
       "                 43.5841718875             1.37835597176 ... 1.39917965725e-06\n",
       "                 57.3472491838            0.789675893731 ... 1.57406765072e-06\n",
       "                 746.099896418            0.783441789271 ... 1.13190213593e-06"
      ]
     },
     "execution_count": 34,
     "metadata": {},
     "output_type": "execute_result"
    }
   ],
   "source": [
    "ntable"
   ]
  },
  {
   "cell_type": "code",
   "execution_count": 35,
   "metadata": {},
   "outputs": [],
   "source": [
    "ntable.write('newtable.hdf5', path='deepCoadd_forced_src', overwrite='True')"
   ]
  },
  {
   "cell_type": "code",
   "execution_count": 36,
   "metadata": {},
   "outputs": [],
   "source": [
    "from astropy.wcs import WCS, utils\n",
    "wcs = Table.read(mon_fichier, path='wcs')"
   ]
  },
  {
   "cell_type": "code",
   "execution_count": 37,
   "metadata": {},
   "outputs": [
    {
     "data": {
      "text/html": [
       "&lt;Table length=1&gt;\n",
       "<table id=\"table139950288400848\" class=\"table-striped table-bordered table-condensed\">\n",
       "<thead><tr><th>CD1_2</th><th>CD1_1</th><th>CRVAL2</th><th>CRPIX1</th><th>CRPIX2</th><th>CRVAL1</th><th>CUNIT2</th><th>NAXIS</th><th>CUNIT1</th><th>CTYPE2</th><th>CTYPE1</th><th>CD2_2</th><th>CD2_1</th><th>RADESYS</th></tr></thead>\n",
       "<thead><tr><th>float64</th><th>float64</th><th>float64</th><th>float64</th><th>float64</th><th>float64</th><th>bytes3</th><th>int64</th><th>bytes3</th><th>bytes8</th><th>bytes8</th><th>float64</th><th>float64</th><th>bytes4</th></tr></thead>\n",
       "<tr><td>0.0</td><td>-5.13888888889e-05</td><td>-9.50212029171</td><td>16000.0</td><td>16000.0</td><td>340.394550607</td><td>deg</td><td>2</td><td>deg</td><td>DEC--TAN</td><td>RA---TAN</td><td>5.13888888889e-05</td><td>0.0</td><td>ICRS</td></tr>\n",
       "</table>"
      ],
      "text/plain": [
       "<Table length=1>\n",
       " CD1_2        CD1_1            CRVAL2     ...       CD2_2        CD2_1  RADESYS\n",
       "float64      float64          float64     ...      float64      float64  bytes4\n",
       "------- ------------------ -------------- ... ----------------- ------- -------\n",
       "    0.0 -5.13888888889e-05 -9.50212029171 ... 5.13888888889e-05     0.0    ICRS"
      ]
     },
     "execution_count": 37,
     "metadata": {},
     "output_type": "execute_result"
    }
   ],
   "source": [
    "wcs"
   ]
  },
  {
   "cell_type": "code",
   "execution_count": 38,
   "metadata": {},
   "outputs": [
    {
     "data": {
      "text/plain": [
       "{'CD1_1': -5.13888888888889e-05,\n",
       " 'CD1_2': 0.0,\n",
       " 'CD2_1': 0.0,\n",
       " 'CD2_2': 5.13888888888889e-05,\n",
       " 'CRPIX1': 16000.0,\n",
       " 'CRPIX2': 16000.0,\n",
       " 'CRVAL1': 340.394550606816,\n",
       " 'CRVAL2': -9.50212029170686,\n",
       " 'CTYPE1': 'RA---TAN',\n",
       " 'CTYPE2': 'DEC--TAN',\n",
       " 'CUNIT1': 'deg',\n",
       " 'CUNIT2': 'deg',\n",
       " 'NAXIS': 2,\n",
       " 'RADESYS': 'ICRS'}"
      ]
     },
     "execution_count": 38,
     "metadata": {},
     "output_type": "execute_result"
    }
   ],
   "source": [
    "nwcs = {k: wcs[k].item().decode() if isinstance(wcs[k].item(), bytes) else wcs[k].item() for k in wcs.keys()}\n",
    "nwcs"
   ]
  },
  {
   "cell_type": "code",
   "execution_count": 39,
   "metadata": {},
   "outputs": [],
   "source": [
    "owcs = WCS(nwcs)"
   ]
  },
  {
   "cell_type": "code",
   "execution_count": 40,
   "metadata": {},
   "outputs": [],
   "source": [
    "x, y = utils.skycoord_to_pixel(coords, owcs)"
   ]
  },
  {
   "cell_type": "code",
   "execution_count": 41,
   "metadata": {},
   "outputs": [],
   "source": [
    "coords2 = utils.pixel_to_skycoord(x, y, owcs)"
   ]
  },
  {
   "cell_type": "code",
   "execution_count": 42,
   "metadata": {},
   "outputs": [
    {
     "data": {
      "text/plain": [
       "True"
      ]
     },
     "execution_count": 42,
     "metadata": {},
     "output_type": "execute_result"
    }
   ],
   "source": [
    "all(coords.ra == coords2.ra)"
   ]
  },
  {
   "cell_type": "code",
   "execution_count": 43,
   "metadata": {},
   "outputs": [
    {
     "data": {
      "text/plain": [
       "array([False, False,  True, ..., False, False, False], dtype=bool)"
      ]
     },
     "execution_count": 43,
     "metadata": {},
     "output_type": "execute_result"
    }
   ],
   "source": [
    "coords.dec == coords2.dec"
   ]
  },
  {
   "cell_type": "code",
   "execution_count": 44,
   "metadata": {},
   "outputs": [
    {
     "data": {
      "text/plain": [
       "-9.7107127827344062"
      ]
     },
     "execution_count": 44,
     "metadata": {},
     "output_type": "execute_result"
    }
   ],
   "source": [
    "coords.dec.deg[0]"
   ]
  },
  {
   "cell_type": "code",
   "execution_count": 45,
   "metadata": {},
   "outputs": [
    {
     "data": {
      "text/plain": [
       "-9.7107127827344115"
      ]
     },
     "execution_count": 45,
     "metadata": {},
     "output_type": "execute_result"
    }
   ],
   "source": [
    "coords2.dec.deg[0]"
   ]
  },
  {
   "cell_type": "code",
   "execution_count": 46,
   "metadata": {},
   "outputs": [
    {
     "data": {
      "text/plain": [
       "[<matplotlib.lines.Line2D at 0x7f48b73019e8>]"
      ]
     },
     "execution_count": 46,
     "metadata": {},
     "output_type": "execute_result"
    },
    {
     "data": {
      "image/png": "[encoded data removed]",
      "text/plain": [
       "<matplotlib.figure.Figure at 0x7f48b73019b0>"
      ]
     },
     "metadata": {},
     "output_type": "display_data"
    }
   ],
   "source": [
    "ax = plt.subplot(projection=owcs)\n",
    "ax.plot(coords.ra, coords.dec, 'ok')"
   ]
  },
  {
   "cell_type": "code",
   "execution_count": 47,
   "metadata": {
    "collapsed": true
   },
   "outputs": [],
   "source": [
    "t1 = table[50:100]\n",
    "t2 = table[200:280]"
   ]
  },
  {
   "cell_type": "code",
   "execution_count": 48,
   "metadata": {},
   "outputs": [],
   "source": [
    "from astropy.table import vstack"
   ]
  },
  {
   "cell_type": "code",
   "execution_count": 49,
   "metadata": {
    "collapsed": true
   },
   "outputs": [],
   "source": [
    "t3 = vstack([t1, t2])"
   ]
  },
  {
   "cell_type": "code",
   "execution_count": 50,
   "metadata": {},
   "outputs": [
    {
     "data": {
      "text/html": [
       "&lt;Table length=130&gt;\n",
       "<table id=\"table139950529797368\" class=\"table-striped table-bordered table-condensed\">\n",
       "<thead><tr><th>modelfit_CModel_dev_flux_inner</th><th>modelfit_CModel_fluxSigma</th><th>modelfit_CModel_initial_flag_apCorr</th><th>modelfit_CModel_apCorrSigma</th><th>modelfit_CModel_flux_inner</th><th>modelfit_CModel_initial_flag_numericError</th><th>modelfit_CModel_exp_flag_badReference</th><th>modelfit_CModel_dev_fluxSigma</th><th>modelfit_CModel_flux</th><th>modelfit_CModel_flag_badReference</th><th>objectId</th><th>modelfit_CModel_dev_flux</th><th>modelfit_CModel_initial_flux</th><th>modelfit_CModel_flag_noShapeletPsf</th><th>modelfit_CModel_exp_apCorr</th><th>modelfit_CModel_apCorr</th><th>modelfit_CModel_fracDev</th><th>modelfit_CModel_initial_flag_badReference</th><th>modelfit_CModel_initial_flag</th><th>modelfit_CModel_flag_region_maxBadPixelFraction</th><th>modelfit_CModel_flag</th><th>modelfit_CModel_exp_fluxSigma</th><th>modelfit_CModel_initial_apCorrSigma</th><th>modelfit_CModel_exp_flag</th><th>modelfit_CModel_flag_region_maxArea</th><th>modelfit_CModel_flag_badCentroid</th><th>modelfit_CModel_dev_apCorr</th><th>modelfit_CModel_initial_flux_inner</th><th>modelfit_CModel_dev_flag_badReference</th><th>coord_ra</th><th>tract</th><th>modelfit_CModel_exp_flux_inner</th><th>modelfit_CModel_exp_flag_apCorr</th><th>modelfit_CModel_dev_apCorrSigma</th><th>modelfit_CModel_initial_fluxSigma</th><th>modelfit_CModel_dev_flag_numericError</th><th>modelfit_CModel_dev_flag_apCorr</th><th>modelfit_CModel_initial_apCorr</th><th>modelfit_CModel_flag_apCorr</th><th>patch</th><th>filter</th><th>modelfit_CModel_objective</th><th>modelfit_CModel_exp_apCorrSigma</th><th>coord_dec</th><th>modelfit_CModel_dev_flag</th><th>modelfit_CModel_exp_flag_numericError</th><th>modelfit_CModel_exp_flux</th><th>modelfit_CModel_mag</th><th>modelfit_CModel_magSigma</th><th>modelfit_CModel_dev_mag</th><th>modelfit_CModel_dev_magSigma</th><th>modelfit_CModel_initial_mag</th><th>modelfit_CModel_initial_magSigma</th><th>modelfit_CModel_exp_mag</th><th>modelfit_CModel_exp_magSigma</th><th>x_Src</th><th>y_Src</th><th>coord_ra_deg</th><th>coord_dec_deg</th></tr></thead>\n",
       "<thead><tr><th>float64</th><th>float64</th><th>bool</th><th>float64</th><th>float64</th><th>bool</th><th>bool</th><th>float64</th><th>float64</th><th>bool</th><th>int64</th><th>float64</th><th>float64</th><th>bool</th><th>float64</th><th>float64</th><th>float64</th><th>bool</th><th>bool</th><th>bool</th><th>bool</th><th>float64</th><th>float64</th><th>bool</th><th>bool</th><th>bool</th><th>float64</th><th>float64</th><th>bool</th><th>float64</th><th>int64</th><th>float64</th><th>bool</th><th>float64</th><th>float64</th><th>bool</th><th>bool</th><th>float64</th><th>bool</th><th>bytes3</th><th>bytes1</th><th>float64</th><th>float64</th><th>float64</th><th>bool</th><th>bool</th><th>float64</th><th>float64</th><th>float64</th><th>float64</th><th>float64</th><th>float64</th><th>float64</th><th>float64</th><th>float64</th><th>float64</th><th>float64</th><th>float64</th><th>float64</th></tr></thead>\n",
       "<tr><td>7.97101516798</td><td>0.537866655422</td><td>True</td><td>nan</td><td>7.97101566016</td><td>False</td><td>False</td><td>0.537866653896</td><td>11.7884470816</td><td>False</td><td>1099914281524</td><td>11.7884474445</td><td>11.6843602445</td><td>False</td><td>nan</td><td>nan</td><td>1.0</td><td>False</td><td>False</td><td>False</td><td>False</td><td>0.532610813087</td><td>nan</td><td>False</td><td>False</td><td>False</td><td>nan</td><td>7.95637265002</td><td>False</td><td>5.94883692289</td><td>0</td><td>7.9505027565</td><td>True</td><td>nan</td><td>0.533303486375</td><td>False</td><td>True</td><td>nan</td><td>True</td><td>1,3</td><td>u</td><td>0.0860865682277</td><td>nan</td><td>-0.169063260503</td><td>False</td><td>False</td><td>11.6671174024</td><td>24.3213585043</td><td>0.0495384419238</td><td>24.3213584709</td><td>0.049538440258</td><td>24.330987654</td><td>0.0495557215941</td><td>24.3325910799</td><td>0.0495645001993</td><td>7391.85004557</td><td>12403.2215501</td><td>340.843248693</td><td>-9.68661129754</td></tr>\n",
       "<tr><td>58.5891331201</td><td>1.39387372416</td><td>True</td><td>nan</td><td>58.5891410486</td><td>False</td><td>False</td><td>1.3938735365</td><td>96.1054384093</td><td>False</td><td>1099914281563</td><td>96.1054087615</td><td>60.4684509168</td><td>False</td><td>nan</td><td>nan</td><td>1.0</td><td>False</td><td>False</td><td>False</td><td>False</td><td>0.860976698972</td><td>nan</td><td>False</td><td>False</td><td>False</td><td>nan</td><td>55.6630338043</td><td>False</td><td>5.94957623526</td><td>0</td><td>53.8755780733</td><td>True</td><td>nan</td><td>0.88189594988</td><td>False</td><td>True</td><td>nan</td><td>True</td><td>1,3</td><td>u</td><td>1.25372757679</td><td>nan</td><td>-0.169028227527</td><td>False</td><td>False</td><td>58.4088764703</td><td>22.0431300895</td><td>0.0157470710527</td><td>22.0431304245</td><td>0.0157470737905</td><td>22.5461778926</td><td>0.0158348088482</td><td>22.583802869</td><td>0.0160043067085</td><td>6579.197688</td><td>12441.161864</td><td>340.885608172</td><td>-9.68460405588</td></tr>\n",
       "<tr><td>7.27024329663</td><td>0.478167049238</td><td>True</td><td>nan</td><td>7.27024316788</td><td>False</td><td>False</td><td>0.478167128216</td><td>11.0825242647</td><td>False</td><td>1099914281564</td><td>11.0825247311</td><td>11.0802212746</td><td>False</td><td>nan</td><td>nan</td><td>1.0</td><td>False</td><td>False</td><td>False</td><td>False</td><td>0.477328985656</td><td>nan</td><td>False</td><td>False</td><td>False</td><td>nan</td><td>7.26989902773</td><td>False</td><td>5.94898423655</td><td>0</td><td>7.2640432699</td><td>True</td><td>nan</td><td>0.478073005293</td><td>False</td><td>True</td><td>nan</td><td>True</td><td>1,3</td><td>u</td><td>0.0623994985528</td><td>nan</td><td>-0.169024150121</td><td>False</td><td>False</td><td>11.0607972646</td><td>24.3884032729</td><td>0.0468452190928</td><td>24.3884032272</td><td>0.0468452248588</td><td>24.3886289164</td><td>0.0468457404864</td><td>24.3905339197</td><td>0.0468549733721</td><td>7229.8771453</td><td>12446.61387</td><td>340.851689144</td><td>-9.68437043772</td></tr>\n",
       "<tr><td>28.7652869385</td><td>0.540336551487</td><td>True</td><td>nan</td><td>28.7652854919</td><td>False</td><td>False</td><td>0.540336569209</td><td>44.5168282634</td><td>False</td><td>1099914281565</td><td>44.5168294641</td><td>44.5315552302</td><td>False</td><td>nan</td><td>nan</td><td>1.0</td><td>False</td><td>False</td><td>False</td><td>False</td><td>0.540684939787</td><td>nan</td><td>False</td><td>False</td><td>False</td><td>nan</td><td>28.7689221724</td><td>False</td><td>5.94934383953</td><td>0</td><td>28.7731962291</td><td>True</td><td>nan</td><td>0.540505988017</td><td>False</td><td>True</td><td>nan</td><td>True</td><td>1,3</td><td>u</td><td>0.124781894127</td><td>nan</td><td>-0.16901622282</td><td>False</td><td>False</td><td>44.5474631413</td><td>22.8786894647</td><td>0.0131784536228</td><td>22.8786894354</td><td>0.0131784536996</td><td>22.878330343</td><td>0.0131782264744</td><td>22.8779425571</td><td>0.0131778820408</td><td>6834.61386427</td><td>12454.9103114</td><td>340.872292877</td><td>-9.68391623681</td></tr>\n",
       "<tr><td>42.2129620675</td><td>0.718810516911</td><td>True</td><td>nan</td><td>41.9806636428</td><td>False</td><td>False</td><td>0.918279822288</td><td>46.891553808</td><td>False</td><td>1099914281567</td><td>59.4863123751</td><td>47.667539454</td><td>False</td><td>nan</td><td>nan</td><td>0.0</td><td>False</td><td>False</td><td>False</td><td>False</td><td>0.71881064224</td><td>nan</td><td>False</td><td>False</td><td>False</td><td>nan</td><td>42.7812512657</td><td>False</td><td>5.94859236816</td><td>0</td><td>41.9806622363</td><td>True</td><td>nan</td><td>0.728173982484</td><td>False</td><td>True</td><td>nan</td><td>True</td><td>1,3</td><td>u</td><td>0.364774568396</td><td>nan</td><td>-0.169013065175</td><td>False</td><td>False</td><td>46.8915577318</td><td>22.8222634404</td><td>0.016643479245</td><td>22.5639573816</td><td>0.0167603203048</td><td>22.8044431632</td><td>0.0165858121733</td><td>22.8222633495</td><td>0.0166434807542</td><td>7660.57426573</td><td>12459.5373205</td><td>340.829236739</td><td>-9.68373531711</td></tr>\n",
       "<tr><td>66.3455746165</td><td>0.789784278254</td><td>True</td><td>nan</td><td>63.7878865246</td><td>False</td><td>False</td><td>1.06204912932</td><td>77.941995559</td><td>False</td><td>1099914281573</td><td>104.725911211</td><td>71.8584932875</td><td>False</td><td>nan</td><td>nan</td><td>0.259110609162</td><td>False</td><td>False</td><td>False</td><td>False</td><td>0.724287444304</td><td>nan</td><td>False</td><td>False</td><td>False</td><td>nan</td><td>63.4815257555</td><td>False</td><td>5.94877794671</td><td>0</td><td>63.097111598</td><td>True</td><td>nan</td><td>0.728322506885</td><td>False</td><td>True</td><td>nan</td><td>True</td><td>1,3</td><td>u</td><td>0.562684636878</td><td>nan</td><td>-0.168992409418</td><td>False</td><td>False</td><td>71.4526633094</td><td>22.2705711978</td><td>0.0110017376217</td><td>21.9498646305</td><td>0.0110106961839</td><td>22.3588047331</td><td>0.0110044906077</td><td>22.364953947</td><td>0.0110056793478</td><td>7456.57049905</td><td>12482.3047528</td><td>340.839869607</td><td>-9.68255182941</td></tr>\n",
       "<tr><td>14.2744896427</td><td>0.674447761915</td><td>True</td><td>nan</td><td>15.236504087</td><td>False</td><td>False</td><td>0.683815320738</td><td>15.7269012991</td><td>False</td><td>1099914281592</td><td>15.5034368855</td><td>19.6093033873</td><td>False</td><td>nan</td><td>nan</td><td>0.0</td><td>False</td><td>False</td><td>False</td><td>False</td><td>0.674447952458</td><td>nan</td><td>False</td><td>False</td><td>False</td><td>nan</td><td>18.4434789814</td><td>False</td><td>5.94893337715</td><td>0</td><td>15.2365008162</td><td>True</td><td>nan</td><td>0.821415864286</td><td>False</td><td>True</td><td>nan</td><td>True</td><td>1,3</td><td>u</td><td>0.715049341533</td><td>nan</td><td>-0.169023574295</td><td>False</td><td>False</td><td>15.7269041161</td><td>24.008392097</td><td>0.046561769506</td><td>24.023930036</td><td>0.0478889330526</td><td>23.7688445855</td><td>0.0454805010359</td><td>24.0083919025</td><td>0.04656177432</td><td>7285.77732316</td><td>12447.3306983</td><td>340.848775115</td><td>-9.68433744532</td></tr>\n",
       "<tr><td>19.3209745942</td><td>0.499773611983</td><td>True</td><td>nan</td><td>19.3184316229</td><td>False</td><td>False</td><td>0.499944341459</td><td>29.4708101762</td><td>False</td><td>1099914281600</td><td>29.4813324961</td><td>29.3973733997</td><td>False</td><td>nan</td><td>nan</td><td>0.862176378778</td><td>False</td><td>False</td><td>False</td><td>False</td><td>0.498707830116</td><td>nan</td><td>False</td><td>False</td><td>False</td><td>nan</td><td>19.3005211571</td><td>False</td><td>5.94893939884</td><td>0</td><td>19.3024527302</td><td>True</td><td>nan</td><td>0.49858641437</td><td>False</td><td>True</td><td>nan</td><td>True</td><td>1,3</td><td>u</td><td>0.11247403519</td><td>nan</td><td>-0.168969600928</td><td>False</td><td>False</td><td>29.4050603732</td><td>23.3265198122</td><td>0.0184121950319</td><td>23.3261322279</td><td>0.0184119110613</td><td>23.3292286781</td><td>0.0184143431429</td><td>23.3289448115</td><td>0.0184140124142</td><td>7279.07989346</td><td>12507.501586</td><td>340.849120133</td><td>-9.68124499918</td></tr>\n",
       "<tr><td>14.8320306649</td><td>0.56730499876</td><td>True</td><td>nan</td><td>14.8320295939</td><td>False</td><td>False</td><td>0.567305012582</td><td>21.6596349959</td><td>False</td><td>1099914281606</td><td>21.6596363188</td><td>20.1942798184</td><td>False</td><td>nan</td><td>nan</td><td>1.0</td><td>False</td><td>False</td><td>False</td><td>False</td><td>0.531025146776</td><td>nan</td><td>False</td><td>False</td><td>False</td><td>nan</td><td>14.6335647424</td><td>False</td><td>5.94931569434</td><td>0</td><td>14.6519562052</td><td>True</td><td>nan</td><td>0.52929196789</td><td>False</td><td>True</td><td>nan</td><td>True</td><td>1,3</td><td>u</td><td>0.116608516549</td><td>nan</td><td>-0.168988934906</td><td>False</td><td>False</td><td>20.255707128</td><td>23.6608721657</td><td>0.0284373940932</td><td>23.6608720994</td><td>0.0284373930492</td><td>23.7369290758</td><td>0.0284571402195</td><td>23.7336314774</td><td>0.028463742285</td><td>6865.50752291</td><td>12485.3794439</td><td>340.870680277</td><td>-9.68235275451</td></tr>\n",
       "<tr><td>10.5662742393</td><td>0.58142729392</td><td>True</td><td>nan</td><td>10.6125628398</td><td>False</td><td>False</td><td>0.640914678576</td><td>12.9087254083</td><td>False</td><td>1099914281608</td><td>14.1899035262</td><td>13.3938481732</td><td>False</td><td>nan</td><td>nan</td><td>0.0</td><td>False</td><td>False</td><td>False</td><td>False</td><td>0.581427321561</td><td>nan</td><td>False</td><td>False</td><td>False</td><td>nan</td><td>11.242066837</td><td>False</td><td>5.94904197757</td><td>0</td><td>10.6125623291</td><td>True</td><td>nan</td><td>0.602423652504</td><td>False</td><td>True</td><td>nan</td><td>True</td><td>1,3</td><td>u</td><td>0.257664073277</td><td>nan</td><td>-0.169014569275</td><td>False</td><td>False</td><td>12.9087247293</td><td>24.2227915933</td><td>0.0489030979802</td><td>24.120051393</td><td>0.0490393940598</td><td>24.1827365709</td><td>0.0488338498145</td><td>24.2227916504</td><td>0.0489031028776</td><td>7166.39812654</td><td>12457.2109306</td><td>340.854997461</td><td>-9.68382149571</td></tr>\n",
       "<tr><td>...</td><td>...</td><td>...</td><td>...</td><td>...</td><td>...</td><td>...</td><td>...</td><td>...</td><td>...</td><td>...</td><td>...</td><td>...</td><td>...</td><td>...</td><td>...</td><td>...</td><td>...</td><td>...</td><td>...</td><td>...</td><td>...</td><td>...</td><td>...</td><td>...</td><td>...</td><td>...</td><td>...</td><td>...</td><td>...</td><td>...</td><td>...</td><td>...</td><td>...</td><td>...</td><td>...</td><td>...</td><td>...</td><td>...</td><td>...</td><td>...</td><td>...</td><td>...</td><td>...</td><td>...</td><td>...</td><td>...</td><td>...</td><td>...</td><td>...</td><td>...</td><td>...</td><td>...</td><td>...</td><td>...</td><td>...</td><td>...</td><td>...</td><td>...</td></tr>\n",
       "<tr><td>73.2316235611</td><td>0.632098333012</td><td>True</td><td>nan</td><td>73.2316257224</td><td>False</td><td>False</td><td>0.632098375774</td><td>111.962189613</td><td>False</td><td>1099914284570</td><td>111.962188726</td><td>112.049820841</td><td>False</td><td>nan</td><td>nan</td><td>1.0</td><td>False</td><td>False</td><td>False</td><td>False</td><td>0.632080678693</td><td>nan</td><td>False</td><td>False</td><td>False</td><td>nan</td><td>73.2522480374</td><td>False</td><td>5.94838012697</td><td>0</td><td>73.2287740484</td><td>True</td><td>nan</td><td>0.632544090576</td><td>False</td><td>True</td><td>nan</td><td>True</td><td>1,3</td><td>u</td><td>0.28417358062</td><td>nan</td><td>-0.16664138715</td><td>False</td><td>False</td><td>111.957570432</td><td>21.8773215419</td><td>0.00612967688013</td><td>21.8773215505</td><td>0.00612967734334</td><td>21.8764720838</td><td>0.00612920230561</td><td>21.8773663366</td><td>0.00612975857313</td><td>7890.63406084</td><td>15104.200757</td><td>340.817076215</td><td>-9.5478481759</td></tr>\n",
       "<tr><td>17.549652994</td><td>0.562474181627</td><td>True</td><td>nan</td><td>17.5336322784</td><td>False</td><td>False</td><td>0.566125881965</td><td>24.7962754643</td><td>False</td><td>1099914284572</td><td>24.9581912759</td><td>22.3929882334</td><td>False</td><td>nan</td><td>nan</td><td>0.942545500247</td><td>False</td><td>False</td><td>False</td><td>False</td><td>0.508471781044</td><td>nan</td><td>False</td><td>False</td><td>False</td><td>nan</td><td>17.3085037937</td><td>False</td><td>5.94944813955</td><td>0</td><td>17.2862611454</td><td>True</td><td>nan</td><td>0.508049044506</td><td>False</td><td>True</td><td>nan</td><td>True</td><td>1,3</td><td>u</td><td>0.104982731901</td><td>nan</td><td>-0.166649130005</td><td>False</td><td>False</td><td>22.396341654</td><td>23.5140338692</td><td>0.0246286416729</td><td>23.5069672281</td><td>0.0246277208034</td><td>23.6247198703</td><td>0.02463303404</td><td>23.62455729</td><td>0.0246498392598</td><td>6716.29531088</td><td>15094.0271198</td><td>340.878268828</td><td>-9.5482918088</td></tr>\n",
       "<tr><td>17.8912740159</td><td>0.670722684674</td><td>True</td><td>nan</td><td>19.0162221072</td><td>False</td><td>False</td><td>0.714861748674</td><td>20.4479077526</td><td>False</td><td>1099914284577</td><td>21.321118387</td><td>23.1512617151</td><td>False</td><td>nan</td><td>nan</td><td>0.0</td><td>False</td><td>False</td><td>False</td><td>False</td><td>0.670722838527</td><td>nan</td><td>False</td><td>False</td><td>False</td><td>nan</td><td>21.3807209782</td><td>False</td><td>5.94893744904</td><td>0</td><td>19.0162209097</td><td>True</td><td>nan</td><td>0.739987970554</td><td>False</td><td>True</td><td>nan</td><td>True</td><td>1,3</td><td>u</td><td>0.525359694094</td><td>nan</td><td>-0.166637044451</td><td>False</td><td>False</td><td>20.4479123561</td><td>23.7233778069</td><td>0.0356138100248</td><td>23.677975046</td><td>0.0364029347732</td><td>23.5885633387</td><td>0.0347035829236</td><td>23.7233775625</td><td>0.035613810176</td><td>7277.81745125</td><td>15108.2648597</td><td>340.849008418</td><td>-9.54759935755</td></tr>\n",
       "<tr><td>26.1729817063</td><td>1.1697061492</td><td>True</td><td>nan</td><td>26.1729736328</td><td>False</td><td>False</td><td>1.16970618756</td><td>40.8703282942</td><td>False</td><td>1099914284584</td><td>40.8703343292</td><td>26.8665937124</td><td>False</td><td>nan</td><td>nan</td><td>1.0</td><td>False</td><td>False</td><td>False</td><td>False</td><td>0.745440476815</td><td>nan</td><td>False</td><td>False</td><td>False</td><td>nan</td><td>24.5492546347</td><td>False</td><td>5.94959800752</td><td>0</td><td>22.0717890147</td><td>True</td><td>nan</td><td>0.790921242884</td><td>False</td><td>True</td><td>nan</td><td>True</td><td>1,3</td><td>u</td><td>5.42666299694</td><td>nan</td><td>-0.16661303526</td><td>False</td><td>False</td><td>23.886778943</td><td>22.9714796844</td><td>0.0310736998728</td><td>22.9714795241</td><td>0.0310736963034</td><td>23.4269684805</td><td>0.031962809938</td><td>23.5546060239</td><td>0.0338828318418</td><td>6551.44707966</td><td>15134.0393766</td><td>340.88685563</td><td>-9.54622373226</td></tr>\n",
       "<tr><td>37.5641508466</td><td>0.711781849552</td><td>True</td><td>nan</td><td>36.886138916</td><td>False</td><td>False</td><td>0.960086640419</td><td>41.7539423968</td><td>False</td><td>1099914284603</td><td>56.1499642819</td><td>41.2885180651</td><td>False</td><td>nan</td><td>nan</td><td>0.0</td><td>False</td><td>False</td><td>False</td><td>False</td><td>0.711781849969</td><td>nan</td><td>False</td><td>False</td><td>False</td><td>nan</td><td>36.768870996</td><td>False</td><td>5.94828531273</td><td>0</td><td>36.8861351467</td><td>True</td><td>nan</td><td>0.703891273292</td><td>False</td><td>True</td><td>nan</td><td>True</td><td>1,3</td><td>u</td><td>0.309961886574</td><td>nan</td><td>-0.166589950814</td><td>False</td><td>False</td><td>41.7539398519</td><td>22.9482562807</td><td>0.0185086073215</td><td>22.6266262892</td><td>0.0185645857222</td><td>22.9604267616</td><td>0.0185097522372</td><td>22.9482563468</td><td>0.0185086084605</td><td>7994.81880183</td><td>15161.6776119</td><td>340.811643759</td><td>-9.54490109091</td></tr>\n",
       "<tr><td>187.242682424</td><td>0.776336540264</td><td>True</td><td>nan</td><td>187.199157348</td><td>False</td><td>False</td><td>0.776737356377</td><td>290.337887194</td><td>False</td><td>1099914284605</td><td>290.518405552</td><td>290.317522806</td><td>False</td><td>nan</td><td>nan</td><td>0.0</td><td>False</td><td>False</td><td>False</td><td>False</td><td>0.776336617994</td><td>nan</td><td>False</td><td>False</td><td>False</td><td>nan</td><td>187.192523752</td><td>False</td><td>5.94864618378</td><td>0</td><td>187.199115124</td><td>True</td><td>nan</td><td>0.776294041187</td><td>False</td><td>True</td><td>nan</td><td>True</td><td>1,3</td><td>u</td><td>1.53335997745</td><td>nan</td><td>-0.1666186391</td><td>False</td><td>False</td><td>290.337887812</td><td>20.8427407197</td><td>0.00290315775522</td><td>20.8420658701</td><td>0.00290285177561</td><td>20.8428168762</td><td>0.00290320245884</td><td>20.8427407174</td><td>0.00290315803971</td><td>7598.05669423</td><td>15129.1999978</td><td>340.832320147</td><td>-9.54654480864</td></tr>\n",
       "<tr><td>23.5112339647</td><td>0.51697849902</td><td>True</td><td>nan</td><td>23.5011120625</td><td>False</td><td>False</td><td>0.517545968216</td><td>36.5202538245</td><td>False</td><td>1099914284609</td><td>36.5617613642</td><td>36.5183602183</td><td>False</td><td>nan</td><td>nan</td><td>0.0</td><td>False</td><td>False</td><td>False</td><td>False</td><td>0.516978449016</td><td>nan</td><td>False</td><td>False</td><td>False</td><td>nan</td><td>23.5009054427</td><td>False</td><td>5.94928161709</td><td>0</td><td>23.5011121437</td><td>True</td><td>nan</td><td>0.516953243961</td><td>False</td><td>True</td><td>nan</td><td>True</td><td>1,3</td><td>u</td><td>0.0893016368505</td><td>nan</td><td>-0.166630578817</td><td>False</td><td>False</td><td>36.520252252</td><td>23.0936655317</td><td>0.0153696158894</td><td>23.0924322257</td><td>0.015369018733</td><td>23.0937218295</td><td>0.0153696619942</td><td>23.0936655784</td><td>0.0153696150646</td><td>6899.37058933</td><td>15114.9652466</td><td>340.868727794</td><td>-9.54722890402</td></tr>\n",
       "<tr><td>31.0972014671</td><td>0.650127917861</td><td>True</td><td>nan</td><td>30.0296192169</td><td>False</td><td>False</td><td>0.896832644189</td><td>34.1967490869</td><td>False</td><td>1099914284613</td><td>47.0003628133</td><td>34.464170705</td><td>False</td><td>nan</td><td>nan</td><td>0.0</td><td>False</td><td>False</td><td>False</td><td>False</td><td>0.650127977403</td><td>nan</td><td>False</td><td>False</td><td>False</td><td>nan</td><td>30.230785876</td><td>False</td><td>5.94843046078</td><td>0</td><td>30.0296226676</td><td>True</td><td>nan</td><td>0.65552138326</td><td>False</td><td>True</td><td>nan</td><td>True</td><td>1,3</td><td>u</td><td>0.252961757387</td><td>nan</td><td>-0.166652904303</td><td>False</td><td>False</td><td>34.1967500068</td><td>23.1650379454</td><td>0.0206413602753</td><td>22.8197469739</td><td>0.0207173649972</td><td>23.1565804182</td><td>0.0206511076355</td><td>23.1650379162</td><td>0.0206413616105</td><td>7835.30485084</td><td>15091.2914943</td><td>340.81996013</td><td>-9.54850806015</td></tr>\n",
       "<tr><td>13.5461412597</td><td>0.768872262892</td><td>True</td><td>nan</td><td>13.5461378098</td><td>False</td><td>False</td><td>0.768872147478</td><td>18.8741945491</td><td>False</td><td>1099914284641</td><td>18.8741949877</td><td>15.5712988269</td><td>False</td><td>nan</td><td>nan</td><td>1.0</td><td>False</td><td>False</td><td>False</td><td>False</td><td>0.602746652713</td><td>nan</td><td>False</td><td>False</td><td>False</td><td>nan</td><td>13.3937311819</td><td>False</td><td>5.94912794369</td><td>0</td><td>12.7754109337</td><td>True</td><td>nan</td><td>0.635515605061</td><td>False</td><td>True</td><td>nan</td><td>True</td><td>1,3</td><td>u</td><td>0.301028317021</td><td>nan</td><td>-0.16657695681</td><td>False</td><td>False</td><td>14.6087124951</td><td>23.8103289317</td><td>0.0442293021026</td><td>23.8103289065</td><td>0.0442292944357</td><td>24.0191879018</td><td>0.0443124436038</td><td>24.0884701448</td><td>0.0447968199367</td><td>7068.26558859</td><td>15174.9825175</td><td>340.859922956</td><td>-9.54415658932</td></tr>\n",
       "<tr><td>11.1296419196</td><td>0.53442951708</td><td>True</td><td>nan</td><td>11.1296419001</td><td>False</td><td>False</td><td>0.534429498194</td><td>15.6015867432</td><td>False</td><td>1099914284666</td><td>15.6015872286</td><td>15.5551312899</td><td>False</td><td>nan</td><td>nan</td><td>1.0</td><td>False</td><td>False</td><td>False</td><td>False</td><td>0.533260227356</td><td>nan</td><td>False</td><td>False</td><td>False</td><td>nan</td><td>11.1595940247</td><td>False</td><td>5.94982077863</td><td>0</td><td>11.156318389</td><td>True</td><td>nan</td><td>0.532721804325</td><td>False</td><td>True</td><td>nan</td><td>True</td><td>1,3</td><td>u</td><td>0.0853229876537</td><td>nan</td><td>-0.166587861908</td><td>False</td><td>False</td><td>15.5643633415</td><td>24.0170780748</td><td>0.0371916962764</td><td>24.017078041</td><td>0.037191693805</td><td>24.0203157974</td><td>0.0371835723685</td><td>24.0196715985</td><td>0.0371990760364</td><td>6306.450348</td><td>15161.7537447</td><td>340.899619475</td><td>-9.54478140546</td></tr>\n",
       "</table>"
      ],
      "text/plain": [
       "<Table length=130>\n",
       "modelfit_CModel_dev_flux_inner modelfit_CModel_fluxSigma ... coord_dec_deg \n",
       "           float64                      float64          ...    float64    \n",
       "------------------------------ ------------------------- ... --------------\n",
       "                 7.97101516798            0.537866655422 ... -9.68661129754\n",
       "                 58.5891331201             1.39387372416 ... -9.68460405588\n",
       "                 7.27024329663            0.478167049238 ... -9.68437043772\n",
       "                 28.7652869385            0.540336551487 ... -9.68391623681\n",
       "                 42.2129620675            0.718810516911 ... -9.68373531711\n",
       "                 66.3455746165            0.789784278254 ... -9.68255182941\n",
       "                 14.2744896427            0.674447761915 ... -9.68433744532\n",
       "                 19.3209745942            0.499773611983 ... -9.68124499918\n",
       "                 14.8320306649             0.56730499876 ... -9.68235275451\n",
       "                 10.5662742393             0.58142729392 ... -9.68382149571\n",
       "                           ...                       ... ...            ...\n",
       "                 73.2316235611            0.632098333012 ...  -9.5478481759\n",
       "                  17.549652994            0.562474181627 ...  -9.5482918088\n",
       "                 17.8912740159            0.670722684674 ... -9.54759935755\n",
       "                 26.1729817063              1.1697061492 ... -9.54622373226\n",
       "                 37.5641508466            0.711781849552 ... -9.54490109091\n",
       "                 187.242682424            0.776336540264 ... -9.54654480864\n",
       "                 23.5112339647             0.51697849902 ... -9.54722890402\n",
       "                 31.0972014671            0.650127917861 ... -9.54850806015\n",
       "                 13.5461412597            0.768872262892 ... -9.54415658932\n",
       "                 11.1296419196             0.53442951708 ... -9.54478140546"
      ]
     },
     "execution_count": 50,
     "metadata": {},
     "output_type": "execute_result"
    }
   ],
   "source": [
    "t3"
   ]
  }
 ],
 "metadata": {
  "celltoolbar": "Slideshow",
  "kernelspec": {
   "display_name": "Python 3",
   "language": "python",
   "name": "python3"
  },
  "language_info": {
   "codemirror_mode": {
    "name": "ipython",
    "version": 3
   },
   "file_extension": ".py",
   "mimetype": "text/x-python",
   "name": "python",
   "nbconvert_exporter": "python",
   "pygments_lexer": "ipython3",
   "version": "3.6.2"
  }
 },
 "nbformat": 4,
 "nbformat_minor": 2
}
