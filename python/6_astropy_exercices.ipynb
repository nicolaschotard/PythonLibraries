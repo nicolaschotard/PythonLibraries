{
 "cells": [
  {
   "cell_type": "markdown",
   "metadata": {
    "slideshow": {
     "slide_type": "slide"
    }
   },
   "source": [
    "# Exercices Astropy"
   ]
  },
  {
   "cell_type": "markdown",
   "metadata": {
    "slideshow": {
     "slide_type": "slide"
    }
   },
   "source": [
    "Les modules Astropy suivants seront, pour la plupart très partiellement, utilisés dans ces exercices :\n",
    "  - `astropy.constants` : constants useful in Astronomy\n",
    "  - `astropy.units` : everything related to physical quantities\n",
    "  - `astropy.table` : store and manipulate heterogeneous tables\n",
    "  - `astropy.coordinates` : celestial/spatial coordinates, tools for converting between common coordinate systems\n",
    "  - `astropy.wcs` : WCS transformations in FITS files\n",
    "  - `astropy.io.fits` : access to FITS files\n",
    "  - `astropy.io.misc` : IO routines (HDF5, YAML, pickle)"
   ]
  },
  {
   "cell_type": "code",
   "execution_count": 1,
   "metadata": {
    "collapsed": true,
    "slideshow": {
     "slide_type": "fragment"
    }
   },
   "outputs": [],
   "source": [
    "# Initialisation de matplotlib et numpy\n",
    "%matplotlib inline  \n",
    "import matplotlib.pyplot as plt\n",
    "import numpy as np"
   ]
  },
  {
   "cell_type": "markdown",
   "metadata": {
    "slideshow": {
     "slide_type": "slide"
    }
   },
   "source": [
    "## Exercice 1 - Charger une table\n",
    "\n",
    "Le fichier `HDF5` suivant, téléchargeable en ligne, contient plusieurs catalogues de données CFHT réduites par le stack LSST.\n",
    "\n",
    "        https://github.com/nicolaschotard/lsst_drp_analysis/blob/master/python/testdata.hdf5?raw=true\n",
    "        \n",
    "1. Télécharger ([doc](http://docs.astropy.org/en/stable/utils/)) ou récupérer directement ce fichier [sur github](https://github.com/nicolaschotard/lsst_drp_analysis/blob/master/python/testdata.hdf5)\n",
    "2. Ce fichier hdf5 contient un catalogue dont le `path` (nom de la clé dans le langage HDF5) est `deepCoadd_forced_src` ([doc](http://docs.astropy.org/en/v0.2.1/table/io.html)). Chargez-le et créez une table `astropy`.\n",
    "3. Visualiser le contenue de la table, afficher le nombre de colonnes et le nombre de lignes, chaque ligne correspondant à un objet (étoiles ou galaxies)."
   ]
  },
  {
   "cell_type": "code",
   "execution_count": 2,
   "metadata": {
    "collapsed": true,
    "slideshow": {
     "slide_type": "slide"
    }
   },
   "outputs": [],
   "source": [
    "# 1.1 Téléchargement du fichier de données\n",
    "from astropy.utils.data import download_file\n",
    "# fichier en ligne\n",
    "# f = 'https://github.com/nicolaschotard/lsst_drp_analysis/blob/master/python/testdata.hdf5?raw=true'\n",
    "# mon_fichier = download_file(f)\n",
    "# fichier local\n",
    "mon_fichier = 'testdata.hdf5'"
   ]
  },
  {
   "cell_type": "code",
   "execution_count": 3,
   "metadata": {
    "collapsed": true,
    "slideshow": {
     "slide_type": "fragment"
    }
   },
   "outputs": [],
   "source": [
    "# 1.2 Chargemment du catalogue dans une table astropy\n",
    "from astropy.table import Table\n",
    "table = Table.read(mon_fichier, path='deepCoadd_forced_src')"
   ]
  },
  {
   "cell_type": "code",
   "execution_count": 4,
   "metadata": {
    "slideshow": {
     "slide_type": "slide"
    }
   },
   "outputs": [
    {
     "data": {
      "text/html": [
       "&lt;Table length=68784&gt;\n",
       "<table id=\"table140219144809720\" class=\"table-striped table-bordered table-condensed\">\n",
       "<thead><tr><th>modelfit_CModel_dev_flux_inner</th><th>modelfit_CModel_fluxSigma</th><th>modelfit_CModel_initial_flag_apCorr</th><th>modelfit_CModel_apCorrSigma</th><th>modelfit_CModel_flux_inner</th><th>modelfit_CModel_initial_flag_numericError</th><th>modelfit_CModel_exp_flag_badReference</th><th>modelfit_CModel_dev_fluxSigma</th><th>modelfit_CModel_flux</th><th>modelfit_CModel_flag_badReference</th><th>objectId</th><th>modelfit_CModel_dev_flux</th><th>modelfit_CModel_initial_flux</th><th>modelfit_CModel_flag_noShapeletPsf</th><th>modelfit_CModel_exp_apCorr</th><th>modelfit_CModel_apCorr</th><th>modelfit_CModel_fracDev</th><th>modelfit_CModel_initial_flag_badReference</th><th>modelfit_CModel_initial_flag</th><th>modelfit_CModel_flag_region_maxBadPixelFraction</th><th>modelfit_CModel_flag</th><th>modelfit_CModel_exp_fluxSigma</th><th>modelfit_CModel_initial_apCorrSigma</th><th>modelfit_CModel_exp_flag</th><th>modelfit_CModel_flag_region_maxArea</th><th>modelfit_CModel_flag_badCentroid</th><th>modelfit_CModel_dev_apCorr</th><th>modelfit_CModel_initial_flux_inner</th><th>modelfit_CModel_dev_flag_badReference</th><th>coord_ra</th><th>tract</th><th>modelfit_CModel_exp_flux_inner</th><th>modelfit_CModel_exp_flag_apCorr</th><th>modelfit_CModel_dev_apCorrSigma</th><th>modelfit_CModel_initial_fluxSigma</th><th>modelfit_CModel_dev_flag_numericError</th><th>modelfit_CModel_dev_flag_apCorr</th><th>modelfit_CModel_initial_apCorr</th><th>modelfit_CModel_flag_apCorr</th><th>patch</th><th>filter</th><th>modelfit_CModel_objective</th><th>modelfit_CModel_exp_apCorrSigma</th><th>coord_dec</th><th>modelfit_CModel_dev_flag</th><th>modelfit_CModel_exp_flag_numericError</th><th>modelfit_CModel_exp_flux</th><th>modelfit_CModel_mag</th><th>modelfit_CModel_magSigma</th><th>modelfit_CModel_dev_mag</th><th>modelfit_CModel_dev_magSigma</th><th>modelfit_CModel_initial_mag</th><th>modelfit_CModel_initial_magSigma</th><th>modelfit_CModel_exp_mag</th><th>modelfit_CModel_exp_magSigma</th><th>x_Src</th><th>y_Src</th><th>coord_ra_deg</th><th>coord_dec_deg</th></tr></thead>\n",
       "<thead><tr><th>float64</th><th>float64</th><th>bool</th><th>float64</th><th>float64</th><th>bool</th><th>bool</th><th>float64</th><th>float64</th><th>bool</th><th>int64</th><th>float64</th><th>float64</th><th>bool</th><th>float64</th><th>float64</th><th>float64</th><th>bool</th><th>bool</th><th>bool</th><th>bool</th><th>float64</th><th>float64</th><th>bool</th><th>bool</th><th>bool</th><th>float64</th><th>float64</th><th>bool</th><th>float64</th><th>int64</th><th>float64</th><th>bool</th><th>float64</th><th>float64</th><th>bool</th><th>bool</th><th>float64</th><th>bool</th><th>bytes3</th><th>bytes1</th><th>float64</th><th>float64</th><th>float64</th><th>bool</th><th>bool</th><th>float64</th><th>float64</th><th>float64</th><th>float64</th><th>float64</th><th>float64</th><th>float64</th><th>float64</th><th>float64</th><th>float64</th><th>float64</th><th>float64</th><th>float64</th></tr></thead>\n",
       "<tr><td>nan</td><td>nan</td><td>True</td><td>nan</td><td>nan</td><td>False</td><td>True</td><td>nan</td><td>nan</td><td>True</td><td>1099914280961</td><td>nan</td><td>nan</td><td>False</td><td>nan</td><td>nan</td><td>nan</td><td>True</td><td>True</td><td>False</td><td>True</td><td>nan</td><td>nan</td><td>True</td><td>False</td><td>False</td><td>nan</td><td>nan</td><td>True</td><td>5.95000655662</td><td>0</td><td>nan</td><td>True</td><td>nan</td><td>nan</td><td>False</td><td>True</td><td>nan</td><td>True</td><td>1,3</td><td>u</td><td>nan</td><td>nan</td><td>-0.169503081795</td><td>True</td><td>False</td><td>nan</td><td>nan</td><td>nan</td><td>nan</td><td>nan</td><td>nan</td><td>nan</td><td>nan</td><td>nan</td><td>6107.0</td><td>11911.0</td><td>340.910263769</td><td>-9.71181120133</td></tr>\n",
       "<tr><td>nan</td><td>nan</td><td>True</td><td>nan</td><td>nan</td><td>False</td><td>False</td><td>nan</td><td>nan</td><td>True</td><td>1099914280962</td><td>nan</td><td>nan</td><td>False</td><td>nan</td><td>nan</td><td>nan</td><td>False</td><td>True</td><td>True</td><td>True</td><td>nan</td><td>nan</td><td>True</td><td>False</td><td>False</td><td>nan</td><td>nan</td><td>False</td><td>5.94954253012</td><td>0</td><td>nan</td><td>True</td><td>nan</td><td>nan</td><td>False</td><td>True</td><td>nan</td><td>True</td><td>1,3</td><td>u</td><td>nan</td><td>nan</td><td>-0.16950913956</td><td>True</td><td>False</td><td>nan</td><td>nan</td><td>nan</td><td>nan</td><td>nan</td><td>nan</td><td>nan</td><td>nan</td><td>nan</td><td>6617.0</td><td>11905.0</td><td>340.88367701</td><td>-9.71215828568</td></tr>\n",
       "<tr><td>nan</td><td>nan</td><td>True</td><td>nan</td><td>nan</td><td>False</td><td>False</td><td>nan</td><td>nan</td><td>True</td><td>1099914280963</td><td>nan</td><td>nan</td><td>False</td><td>nan</td><td>nan</td><td>nan</td><td>False</td><td>True</td><td>True</td><td>True</td><td>nan</td><td>nan</td><td>True</td><td>False</td><td>False</td><td>nan</td><td>nan</td><td>False</td><td>5.94947883881</td><td>0</td><td>nan</td><td>True</td><td>nan</td><td>nan</td><td>False</td><td>True</td><td>nan</td><td>True</td><td>1,3</td><td>u</td><td>nan</td><td>nan</td><td>-0.169509229636</td><td>True</td><td>False</td><td>nan</td><td>nan</td><td>nan</td><td>nan</td><td>nan</td><td>nan</td><td>nan</td><td>nan</td><td>nan</td><td>6687.0</td><td>11905.0</td><td>340.880027766</td><td>-9.71216344665</td></tr>\n",
       "<tr><td>1.2238184989</td><td>0.620667116148</td><td>True</td><td>nan</td><td>1.22381837283</td><td>False</td><td>False</td><td>0.620667049202</td><td>1.646709411</td><td>False</td><td>1099914280964</td><td>1.64670925588</td><td>1.48702485256</td><td>False</td><td>nan</td><td>nan</td><td>1.0</td><td>False</td><td>False</td><td>False</td><td>False</td><td>0.543752068165</td><td>nan</td><td>False</td><td>False</td><td>False</td><td>nan</td><td>1.23642581277</td><td>False</td><td>5.94934689405</td><td>0</td><td>1.19399577963</td><td>True</td><td>nan</td><td>0.557977720917</td><td>False</td><td>True</td><td>nan</td><td>True</td><td>1,3</td><td>u</td><td>0.144015733971</td><td>nan</td><td>-0.169500445455</td><td>False</td><td>False</td><td>1.42536906499</td><td>26.4584575812</td><td>0.409228704593</td><td>26.4584576835</td><td>0.409228699004</td><td>26.5692044327</td><td>0.407401807715</td><td>26.6151816775</td><td>0.414188382028</td><td>6832.0</td><td>11915.0</td><td>340.872467888</td><td>-9.71166015016</td></tr>\n",
       "<tr><td>nan</td><td>nan</td><td>True</td><td>nan</td><td>nan</td><td>False</td><td>True</td><td>nan</td><td>nan</td><td>True</td><td>1099914280965</td><td>nan</td><td>nan</td><td>False</td><td>nan</td><td>nan</td><td>nan</td><td>True</td><td>True</td><td>False</td><td>True</td><td>nan</td><td>nan</td><td>True</td><td>False</td><td>False</td><td>nan</td><td>nan</td><td>True</td><td>5.94895929115</td><td>0</td><td>nan</td><td>True</td><td>nan</td><td>nan</td><td>False</td><td>True</td><td>nan</td><td>True</td><td>1,3</td><td>u</td><td>nan</td><td>nan</td><td>-0.169505454883</td><td>True</td><td>False</td><td>nan</td><td>nan</td><td>nan</td><td>nan</td><td>nan</td><td>nan</td><td>nan</td><td>nan</td><td>nan</td><td>7258.0</td><td>11910.0</td><td>340.850259878</td><td>-9.71194716925</td></tr>\n",
       "<tr><td>nan</td><td>nan</td><td>True</td><td>nan</td><td>nan</td><td>False</td><td>False</td><td>nan</td><td>nan</td><td>False</td><td>1099914280966</td><td>nan</td><td>nan</td><td>False</td><td>nan</td><td>nan</td><td>nan</td><td>False</td><td>True</td><td>True</td><td>True</td><td>nan</td><td>nan</td><td>True</td><td>False</td><td>False</td><td>nan</td><td>nan</td><td>False</td><td>5.94891105899</td><td>0</td><td>nan</td><td>True</td><td>nan</td><td>nan</td><td>False</td><td>True</td><td>nan</td><td>True</td><td>1,3</td><td>u</td><td>nan</td><td>nan</td><td>-0.169499240411</td><td>True</td><td>False</td><td>nan</td><td>nan</td><td>nan</td><td>nan</td><td>nan</td><td>nan</td><td>nan</td><td>nan</td><td>nan</td><td>7311.0</td><td>11917.0</td><td>340.847496379</td><td>-9.7115911062</td></tr>\n",
       "<tr><td>nan</td><td>nan</td><td>True</td><td>nan</td><td>nan</td><td>False</td><td>False</td><td>nan</td><td>nan</td><td>True</td><td>1099914280967</td><td>nan</td><td>nan</td><td>False</td><td>nan</td><td>nan</td><td>nan</td><td>False</td><td>True</td><td>True</td><td>True</td><td>nan</td><td>nan</td><td>True</td><td>False</td><td>False</td><td>nan</td><td>nan</td><td>False</td><td>5.94883828006</td><td>0</td><td>nan</td><td>True</td><td>nan</td><td>nan</td><td>False</td><td>True</td><td>nan</td><td>True</td><td>1,3</td><td>u</td><td>nan</td><td>nan</td><td>-0.169508304309</td><td>True</td><td>False</td><td>nan</td><td>nan</td><td>nan</td><td>nan</td><td>nan</td><td>nan</td><td>nan</td><td>nan</td><td>nan</td><td>7391.0</td><td>11907.0</td><td>340.843326453</td><td>-9.71211042932</td></tr>\n",
       "<tr><td>nan</td><td>nan</td><td>True</td><td>nan</td><td>nan</td><td>False</td><td>False</td><td>nan</td><td>nan</td><td>True</td><td>1099914280968</td><td>nan</td><td>nan</td><td>False</td><td>nan</td><td>nan</td><td>nan</td><td>False</td><td>True</td><td>True</td><td>True</td><td>nan</td><td>nan</td><td>True</td><td>False</td><td>False</td><td>nan</td><td>nan</td><td>False</td><td>5.9483414828</td><td>0</td><td>nan</td><td>True</td><td>nan</td><td>nan</td><td>False</td><td>True</td><td>nan</td><td>True</td><td>1,3</td><td>u</td><td>nan</td><td>nan</td><td>-0.169510724576</td><td>True</td><td>False</td><td>nan</td><td>nan</td><td>nan</td><td>nan</td><td>nan</td><td>nan</td><td>nan</td><td>nan</td><td>nan</td><td>7937.0</td><td>11905.0</td><td>340.814862067</td><td>-9.71224910038</td></tr>\n",
       "<tr><td>nan</td><td>nan</td><td>True</td><td>nan</td><td>nan</td><td>False</td><td>False</td><td>nan</td><td>nan</td><td>True</td><td>1099914280969</td><td>nan</td><td>nan</td><td>False</td><td>nan</td><td>nan</td><td>nan</td><td>False</td><td>True</td><td>True</td><td>True</td><td>nan</td><td>nan</td><td>True</td><td>False</td><td>False</td><td>nan</td><td>nan</td><td>False</td><td>5.94829871782</td><td>0</td><td>nan</td><td>True</td><td>nan</td><td>nan</td><td>False</td><td>True</td><td>nan</td><td>True</td><td>1,3</td><td>u</td><td>nan</td><td>nan</td><td>-0.16951077659</td><td>True</td><td>False</td><td>nan</td><td>nan</td><td>nan</td><td>nan</td><td>nan</td><td>nan</td><td>nan</td><td>nan</td><td>nan</td><td>7984.0</td><td>11905.0</td><td>340.812411814</td><td>-9.71225208058</td></tr>\n",
       "<tr><td>nan</td><td>nan</td><td>True</td><td>nan</td><td>nan</td><td>False</td><td>False</td><td>nan</td><td>nan</td><td>True</td><td>1099914280970</td><td>nan</td><td>nan</td><td>False</td><td>nan</td><td>nan</td><td>nan</td><td>False</td><td>True</td><td>True</td><td>True</td><td>nan</td><td>nan</td><td>True</td><td>False</td><td>False</td><td>nan</td><td>nan</td><td>False</td><td>5.94873364312</td><td>0</td><td>nan</td><td>True</td><td>nan</td><td>nan</td><td>False</td><td>True</td><td>nan</td><td>True</td><td>1,3</td><td>u</td><td>nan</td><td>nan</td><td>-0.169508439681</td><td>True</td><td>False</td><td>nan</td><td>nan</td><td>nan</td><td>nan</td><td>nan</td><td>nan</td><td>nan</td><td>nan</td><td>nan</td><td>7506.0</td><td>11907.0</td><td>340.837331198</td><td>-9.71211818558</td></tr>\n",
       "<tr><td>...</td><td>...</td><td>...</td><td>...</td><td>...</td><td>...</td><td>...</td><td>...</td><td>...</td><td>...</td><td>...</td><td>...</td><td>...</td><td>...</td><td>...</td><td>...</td><td>...</td><td>...</td><td>...</td><td>...</td><td>...</td><td>...</td><td>...</td><td>...</td><td>...</td><td>...</td><td>...</td><td>...</td><td>...</td><td>...</td><td>...</td><td>...</td><td>...</td><td>...</td><td>...</td><td>...</td><td>...</td><td>...</td><td>...</td><td>...</td><td>...</td><td>...</td><td>...</td><td>...</td><td>...</td><td>...</td><td>...</td><td>...</td><td>...</td><td>...</td><td>...</td><td>...</td><td>...</td><td>...</td><td>...</td><td>...</td><td>...</td><td>...</td><td>...</td></tr>\n",
       "<tr><td>0.0515425829469</td><td>0.970859214709</td><td>True</td><td>nan</td><td>0.0515425772492</td><td>False</td><td>False</td><td>0.970859149585</td><td>0.0596183571772</td><td>False</td><td>2199425942524</td><td>0.0596183544019</td><td>0.0323756271251</td><td>False</td><td>nan</td><td>nan</td><td>1.0</td><td>False</td><td>False</td><td>False</td><td>False</td><td>0.89544501888</td><td>nan</td><td>False</td><td>False</td><td>False</td><td>nan</td><td>0.0304786193181</td><td>False</td><td>5.94623927302</td><td>0</td><td>0.0306371201017</td><td>True</td><td>nan</td><td>0.897791974528</td><td>False</td><td>True</td><td>nan</td><td>True</td><td>2,3</td><td>i</td><td>0.287114645891</td><td>nan</td><td>-0.166204026394</td><td>False</td><td>False</td><td>0.032573774039</td><td>30.0615499885</td><td>17.6807454791</td><td>30.0615500391</td><td>17.6807451162</td><td>30.7244545261</td><td>30.1079959724</td><td>30.7178298015</td><td>29.8466206343</td><td>10244.1730631</td><td>15594.3018101</td><td>340.694414319</td><td>-9.52278925045</td></tr>\n",
       "<tr><td>nan</td><td>nan</td><td>True</td><td>nan</td><td>nan</td><td>True</td><td>False</td><td>nan</td><td>nan</td><td>False</td><td>2199425942525</td><td>nan</td><td>nan</td><td>False</td><td>nan</td><td>nan</td><td>nan</td><td>False</td><td>True</td><td>False</td><td>True</td><td>nan</td><td>nan</td><td>True</td><td>False</td><td>False</td><td>nan</td><td>nan</td><td>False</td><td>5.94622350759</td><td>0</td><td>nan</td><td>True</td><td>nan</td><td>nan</td><td>True</td><td>True</td><td>nan</td><td>True</td><td>2,3</td><td>i</td><td>nan</td><td>nan</td><td>-0.166202628051</td><td>True</td><td>True</td><td>nan</td><td>nan</td><td>nan</td><td>nan</td><td>nan</td><td>nan</td><td>nan</td><td>nan</td><td>nan</td><td>10261.5075447</td><td>15595.8758931</td><td>340.693511026</td><td>-9.52270913131</td></tr>\n",
       "<tr><td>0.414313399366</td><td>0.944744425937</td><td>True</td><td>nan</td><td>0.414313361385</td><td>False</td><td>False</td><td>0.944744676812</td><td>0.462201537091</td><td>False</td><td>2199425942526</td><td>0.462201650446</td><td>0.217453217602</td><td>False</td><td>nan</td><td>nan</td><td>1.0</td><td>False</td><td>False</td><td>False</td><td>False</td><td>0.878354937771</td><td>nan</td><td>False</td><td>False</td><td>False</td><td>nan</td><td>0.204805831123</td><td>False</td><td>5.94623091688</td><td>0</td><td>0.228182357321</td><td>True</td><td>nan</td><td>0.979330781728</td><td>False</td><td>True</td><td>nan</td><td>True</td><td>2,3</td><td>i</td><td>1.01943405529</td><td>nan</td><td>-0.166207083199</td><td>False</td><td>False</td><td>0.240541853923</td><td>27.8379215364</td><td>2.21925533597</td><td>27.8379212701</td><td>2.21925538101</td><td>28.6565854045</td><td>4.88976386683</td><td>28.5470233653</td><td>3.96463958772</td><td>10253.3644985</td><td>15590.9015464</td><td>340.693935547</td><td>-9.52296439246</td></tr>\n",
       "<tr><td>1.43048203614</td><td>0.671073357159</td><td>True</td><td>nan</td><td>1.42389178619</td><td>False</td><td>False</td><td>0.724881244742</td><td>1.48671252381</td><td>False</td><td>2199425942527</td><td>1.53719982538</td><td>1.68849696244</td><td>False</td><td>nan</td><td>nan</td><td>0.0</td><td>False</td><td>False</td><td>False</td><td>False</td><td>0.671073218929</td><td>nan</td><td>False</td><td>False</td><td>False</td><td>nan</td><td>1.59175663455</td><td>False</td><td>5.94834737814</td><td>0</td><td>1.42389182835</td><td>True</td><td>nan</td><td>0.975831273792</td><td>False</td><td>True</td><td>nan</td><td>True</td><td>2,3</td><td>i</td><td>1.12334338067</td><td>nan</td><td>-0.166165362194</td><td>False</td><td>False</td><td>1.48671224848</td><td>26.5694325003</td><td>0.490080380873</td><td>26.5331741839</td><td>0.511989266829</td><td>26.4312492908</td><td>0.627478383001</td><td>26.5694327014</td><td>0.490080370684</td><td>7926.0</td><td>15635.0</td><td>340.815199845</td><td>-9.52057395499</td></tr>\n",
       "<tr><td>0.0483431505092</td><td>0.718469410392</td><td>True</td><td>nan</td><td>0.0483431406319</td><td>False</td><td>False</td><td>0.718469425813</td><td>0.0527809479335</td><td>False</td><td>2199425942528</td><td>0.0527809489298</td><td>0.0716716150635</td><td>False</td><td>nan</td><td>nan</td><td>1.0</td><td>False</td><td>False</td><td>False</td><td>False</td><td>0.663407024415</td><td>nan</td><td>False</td><td>False</td><td>False</td><td>nan</td><td>0.0675525696026</td><td>False</td><td>5.94834010087</td><td>0</td><td>0.00945333821763</td><td>True</td><td>nan</td><td>0.876362203519</td><td>False</td><td>True</td><td>nan</td><td>True</td><td>2,3</td><td>i</td><td>0.360218981885</td><td>nan</td><td>-0.166163577141</td><td>False</td><td>False</td><td>0.00988537933204</td><td>30.1938070355</td><td>14.7793528047</td><td>30.1938070151</td><td>14.7793528429</td><td>29.8616320223</td><td>13.2758020312</td><td>32.0125166521</td><td>72.863670751</td><td>7934.0</td><td>15637.0</td><td>340.814782888</td><td>-9.52047167895</td></tr>\n",
       "<tr><td>0.000325984326144</td><td>0.993309068105</td><td>True</td><td>nan</td><td>0.000325984530084</td><td>False</td><td>False</td><td>0.99330996111</td><td>0.0003635402249</td><td>False</td><td>2199425942529</td><td>0.000363540311669</td><td>0.0393117692605</td><td>False</td><td>nan</td><td>nan</td><td>1.0</td><td>False</td><td>False</td><td>False</td><td>False</td><td>0.914183880426</td><td>nan</td><td>False</td><td>False</td><td>False</td><td>nan</td><td>0.0370478842256</td><td>False</td><td>5.94622279948</td><td>0</td><td>-1.46095600876e-05</td><td>True</td><td>nan</td><td>1.24841048035</td><td>False</td><td>True</td><td>nan</td><td>True</td><td>2,3</td><td>i</td><td>0.123290493495</td><td>nan</td><td>-0.166042581235</td><td>False</td><td>False</td><td>-1.54249411197e-05</td><td>35.5986188211</td><td>2966.58125811</td><td>35.598618562</td><td>2966.58321707</td><td>30.5136935248</td><td>34.4793552265</td><td>nan</td><td>nan</td><td>10262.1325009</td><td>15774.3222571</td><td>340.693470454</td><td>-9.5135391242</td></tr>\n",
       "<tr><td>1.7693177659</td><td>0.995353873342</td><td>True</td><td>nan</td><td>1.77226573562</td><td>False</td><td>False</td><td>1.02308761642</td><td>1.99844045999</td><td>False</td><td>2199425942530</td><td>2.05097676865</td><td>3.01365295195</td><td>False</td><td>nan</td><td>nan</td><td>0.657748362831</td><td>False</td><td>False</td><td>False</td><td>False</td><td>0.942298338646</td><td>nan</td><td>False</td><td>False</td><td>False</td><td>nan</td><td>2.82310802473</td><td>False</td><td>5.94623140032</td><td>0</td><td>1.76338224405</td><td>True</td><td>nan</td><td>1.08179213198</td><td>False</td><td>True</td><td>nan</td><td>True</td><td>2,3</td><td>i</td><td>1.42268755951</td><td>nan</td><td>-0.166032491563</td><td>False</td><td>False</td><td>1.88951986975</td><td>26.2482719656</td><td>0.540767542726</td><td>26.2200981471</td><td>0.541597195427</td><td>25.8022669047</td><td>0.389739927736</td><td>26.309121342</td><td>0.541453645621</td><td>10252.6649659</td><td>15785.5636686</td><td>340.693963247</td><td>-9.51296102859</td></tr>\n",
       "<tr><td>-0.00994690998403</td><td>0.90620921712</td><td>True</td><td>nan</td><td>-0.000860859829842</td><td>False</td><td>False</td><td>0.98139603974</td><td>-0.000904169191411</td><td>False</td><td>2199425942531</td><td>-0.0106878236646</td><td>-0.0318582070996</td><td>False</td><td>nan</td><td>nan</td><td>-0.0</td><td>False</td><td>False</td><td>False</td><td>False</td><td>0.906209200833</td><td>nan</td><td>False</td><td>False</td><td>False</td><td>nan</td><td>-0.0298506147554</td><td>False</td><td>5.94620778818</td><td>0</td><td>-0.000860859580529</td><td>True</td><td>nan</td><td>1.44312853365</td><td>False</td><td>True</td><td>nan</td><td>True</td><td>2,3</td><td>i</td><td>inf</td><td>nan</td><td>-0.166056641299</td><td>False</td><td>False</td><td>-0.00090416914787</td><td>nan</td><td>nan</td><td>nan</td><td>nan</td><td>nan</td><td>nan</td><td>nan</td><td>nan</td><td>10278.6529765</td><td>15758.6600725</td><td>340.69261037</td><td>-9.51434470653</td></tr>\n",
       "<tr><td>2.29233827593</td><td>0.92108834218</td><td>True</td><td>nan</td><td>2.29233871212</td><td>False</td><td>False</td><td>0.921088696524</td><td>2.46739961161</td><td>False</td><td>2199425942532</td><td>2.46740001754</td><td>2.75263566574</td><td>False</td><td>nan</td><td>nan</td><td>1.0</td><td>False</td><td>False</td><td>False</td><td>False</td><td>0.84945431769</td><td>nan</td><td>False</td><td>False</td><td>False</td><td>nan</td><td>2.55659368149</td><td>False</td><td>5.94619006647</td><td>0</td><td>1.93405645963</td><td>True</td><td>nan</td><td>1.566528951</td><td>False</td><td>True</td><td>nan</td><td>True</td><td>2,3</td><td>i</td><td>2.88157296911</td><td>nan</td><td>-0.166078463253</td><td>False</td><td>False</td><td>2.04835568663</td><td>26.0194012699</td><td>0.405308875052</td><td>26.0194010913</td><td>0.405308964294</td><td>25.9006281682</td><td>0.617894049353</td><td>26.2214865703</td><td>0.450255447832</td><td>10298.1612325</td><td>15734.3462142</td><td>340.691594992</td><td>-9.51559501239</td></tr>\n",
       "<tr><td>nan</td><td>nan</td><td>True</td><td>nan</td><td>nan</td><td>True</td><td>False</td><td>nan</td><td>nan</td><td>False</td><td>2199425942533</td><td>nan</td><td>nan</td><td>False</td><td>nan</td><td>nan</td><td>nan</td><td>False</td><td>True</td><td>False</td><td>True</td><td>nan</td><td>nan</td><td>True</td><td>False</td><td>False</td><td>nan</td><td>nan</td><td>False</td><td>5.94619785443</td><td>0</td><td>nan</td><td>True</td><td>nan</td><td>nan</td><td>True</td><td>True</td><td>nan</td><td>True</td><td>2,3</td><td>i</td><td>nan</td><td>nan</td><td>-0.166068203511</td><td>True</td><td>True</td><td>nan</td><td>nan</td><td>nan</td><td>nan</td><td>nan</td><td>nan</td><td>nan</td><td>nan</td><td>nan</td><td>10289.5875382</td><td>15745.7780622</td><td>340.692041209</td><td>-9.51500717248</td></tr>\n",
       "</table>"
      ],
      "text/plain": [
       "<Table length=68784>\n",
       "modelfit_CModel_dev_flux_inner modelfit_CModel_fluxSigma ... coord_dec_deg \n",
       "           float64                      float64          ...    float64    \n",
       "------------------------------ ------------------------- ... --------------\n",
       "                           nan                       nan ... -9.71181120133\n",
       "                           nan                       nan ... -9.71215828568\n",
       "                           nan                       nan ... -9.71216344665\n",
       "                  1.2238184989            0.620667116148 ... -9.71166015016\n",
       "                           nan                       nan ... -9.71194716925\n",
       "                           nan                       nan ...  -9.7115911062\n",
       "                           nan                       nan ... -9.71211042932\n",
       "                           nan                       nan ... -9.71224910038\n",
       "                           nan                       nan ... -9.71225208058\n",
       "                           nan                       nan ... -9.71211818558\n",
       "                           ...                       ... ...            ...\n",
       "               0.0515425829469            0.970859214709 ... -9.52278925045\n",
       "                           nan                       nan ... -9.52270913131\n",
       "                0.414313399366            0.944744425937 ... -9.52296439246\n",
       "                 1.43048203614            0.671073357159 ... -9.52057395499\n",
       "               0.0483431505092            0.718469410392 ... -9.52047167895\n",
       "             0.000325984326144            0.993309068105 ...  -9.5135391242\n",
       "                  1.7693177659            0.995353873342 ... -9.51296102859\n",
       "             -0.00994690998403             0.90620921712 ... -9.51434470653\n",
       "                 2.29233827593             0.92108834218 ... -9.51559501239\n",
       "                           nan                       nan ... -9.51500717248"
      ]
     },
     "execution_count": 4,
     "metadata": {},
     "output_type": "execute_result"
    }
   ],
   "source": [
    "# 1.3 Visualisation de la table\n",
    "table"
   ]
  },
  {
   "cell_type": "code",
   "execution_count": 5,
   "metadata": {
    "slideshow": {
     "slide_type": "slide"
    }
   },
   "outputs": [
    {
     "data": {
      "text/plain": [
       "59"
      ]
     },
     "execution_count": 5,
     "metadata": {},
     "output_type": "execute_result"
    }
   ],
   "source": [
    "len(table.colnames)"
   ]
  },
  {
   "cell_type": "code",
   "execution_count": 6,
   "metadata": {
    "slideshow": {
     "slide_type": "fragment"
    }
   },
   "outputs": [
    {
     "name": "stdout",
     "output_type": "stream",
     "text": [
      "['modelfit_CModel_dev_flux_inner', 'modelfit_CModel_fluxSigma', 'modelfit_CModel_initial_flag_apCorr', 'modelfit_CModel_apCorrSigma', 'modelfit_CModel_flux_inner', 'modelfit_CModel_initial_flag_numericError', 'modelfit_CModel_exp_flag_badReference', 'modelfit_CModel_dev_fluxSigma', 'modelfit_CModel_flux', 'modelfit_CModel_flag_badReference', 'objectId', 'modelfit_CModel_dev_flux', 'modelfit_CModel_initial_flux', 'modelfit_CModel_flag_noShapeletPsf', 'modelfit_CModel_exp_apCorr', 'modelfit_CModel_apCorr', 'modelfit_CModel_fracDev', 'modelfit_CModel_initial_flag_badReference', 'modelfit_CModel_initial_flag', 'modelfit_CModel_flag_region_maxBadPixelFraction', 'modelfit_CModel_flag', 'modelfit_CModel_exp_fluxSigma', 'modelfit_CModel_initial_apCorrSigma', 'modelfit_CModel_exp_flag', 'modelfit_CModel_flag_region_maxArea', 'modelfit_CModel_flag_badCentroid', 'modelfit_CModel_dev_apCorr', 'modelfit_CModel_initial_flux_inner', 'modelfit_CModel_dev_flag_badReference', 'coord_ra', 'tract', 'modelfit_CModel_exp_flux_inner', 'modelfit_CModel_exp_flag_apCorr', 'modelfit_CModel_dev_apCorrSigma', 'modelfit_CModel_initial_fluxSigma', 'modelfit_CModel_dev_flag_numericError', 'modelfit_CModel_dev_flag_apCorr', 'modelfit_CModel_initial_apCorr', 'modelfit_CModel_flag_apCorr', 'patch', 'filter', 'modelfit_CModel_objective', 'modelfit_CModel_exp_apCorrSigma', 'coord_dec', 'modelfit_CModel_dev_flag', 'modelfit_CModel_exp_flag_numericError', 'modelfit_CModel_exp_flux', 'modelfit_CModel_mag', 'modelfit_CModel_magSigma', 'modelfit_CModel_dev_mag', 'modelfit_CModel_dev_magSigma', 'modelfit_CModel_initial_mag', 'modelfit_CModel_initial_magSigma', 'modelfit_CModel_exp_mag', 'modelfit_CModel_exp_magSigma', 'x_Src', 'y_Src', 'coord_ra_deg', 'coord_dec_deg']\n"
     ]
    }
   ],
   "source": [
    "print(table.colnames)"
   ]
  },
  {
   "cell_type": "markdown",
   "metadata": {
    "slideshow": {
     "slide_type": "slide"
    }
   },
   "source": [
    "## Exercice 2 - Appliquer des filtres\n",
    "\n",
    "4. Dans ce catalogue, les magnitudes sont définies par la clé `modelfit_CModel_mag`, et les filtres du CFHT par la clé `filter`. Afficher dans une unique figure les distributions des magnitudes pour les 2 filtres du CFHT disponible ici (u et i). Attention, certaines magnitudes ont pour valeur des NaN (Not a Number), et devront tout d'abord être supprimées (voir `np.isfinite`).\n",
    "5. Refaire cette figure en supprimant tout les objets dont l'erreur sur la magnitude (`modelfit_CModel_magSigma`) est supérieure ou égale à `0.05 mag`.\n",
    "6. Afficher la carte du ciel (`ra` vs `dec`) pour tout ces objets (`coord_ra_deg`, `coord_dec_deg`).        "
   ]
  },
  {
   "cell_type": "code",
   "execution_count": 7,
   "metadata": {
    "slideshow": {
     "slide_type": "slide"
    }
   },
   "outputs": [
    {
     "data": {
      "text/plain": [
       "array([False, False, False, ...,  True,  True,  True], dtype=bool)"
      ]
     },
     "execution_count": 7,
     "metadata": {},
     "output_type": "execute_result"
    }
   ],
   "source": [
    "# 2.1 Création des masques et histogramme\n",
    "\n",
    "# filtrer pour ne garder que le filtre 'i'\n",
    "mask = table['filter'] == 'i'\n",
    "mask"
   ]
  },
  {
   "cell_type": "code",
   "execution_count": 8,
   "metadata": {
    "slideshow": {
     "slide_type": "slide"
    }
   },
   "outputs": [
    {
     "data": {
      "text/html": [
       "&lt;Table length=34392&gt;\n",
       "<table id=\"table140218940191968\" class=\"table-striped table-bordered table-condensed\">\n",
       "<thead><tr><th>modelfit_CModel_dev_flux_inner</th><th>modelfit_CModel_fluxSigma</th><th>modelfit_CModel_initial_flag_apCorr</th><th>modelfit_CModel_apCorrSigma</th><th>modelfit_CModel_flux_inner</th><th>modelfit_CModel_initial_flag_numericError</th><th>modelfit_CModel_exp_flag_badReference</th><th>modelfit_CModel_dev_fluxSigma</th><th>modelfit_CModel_flux</th><th>modelfit_CModel_flag_badReference</th><th>objectId</th><th>modelfit_CModel_dev_flux</th><th>modelfit_CModel_initial_flux</th><th>modelfit_CModel_flag_noShapeletPsf</th><th>modelfit_CModel_exp_apCorr</th><th>modelfit_CModel_apCorr</th><th>modelfit_CModel_fracDev</th><th>modelfit_CModel_initial_flag_badReference</th><th>modelfit_CModel_initial_flag</th><th>modelfit_CModel_flag_region_maxBadPixelFraction</th><th>modelfit_CModel_flag</th><th>modelfit_CModel_exp_fluxSigma</th><th>modelfit_CModel_initial_apCorrSigma</th><th>modelfit_CModel_exp_flag</th><th>modelfit_CModel_flag_region_maxArea</th><th>modelfit_CModel_flag_badCentroid</th><th>modelfit_CModel_dev_apCorr</th><th>modelfit_CModel_initial_flux_inner</th><th>modelfit_CModel_dev_flag_badReference</th><th>coord_ra</th><th>tract</th><th>modelfit_CModel_exp_flux_inner</th><th>modelfit_CModel_exp_flag_apCorr</th><th>modelfit_CModel_dev_apCorrSigma</th><th>modelfit_CModel_initial_fluxSigma</th><th>modelfit_CModel_dev_flag_numericError</th><th>modelfit_CModel_dev_flag_apCorr</th><th>modelfit_CModel_initial_apCorr</th><th>modelfit_CModel_flag_apCorr</th><th>patch</th><th>filter</th><th>modelfit_CModel_objective</th><th>modelfit_CModel_exp_apCorrSigma</th><th>coord_dec</th><th>modelfit_CModel_dev_flag</th><th>modelfit_CModel_exp_flag_numericError</th><th>modelfit_CModel_exp_flux</th><th>modelfit_CModel_mag</th><th>modelfit_CModel_magSigma</th><th>modelfit_CModel_dev_mag</th><th>modelfit_CModel_dev_magSigma</th><th>modelfit_CModel_initial_mag</th><th>modelfit_CModel_initial_magSigma</th><th>modelfit_CModel_exp_mag</th><th>modelfit_CModel_exp_magSigma</th><th>x_Src</th><th>y_Src</th><th>coord_ra_deg</th><th>coord_dec_deg</th></tr></thead>\n",
       "<thead><tr><th>float64</th><th>float64</th><th>bool</th><th>float64</th><th>float64</th><th>bool</th><th>bool</th><th>float64</th><th>float64</th><th>bool</th><th>int64</th><th>float64</th><th>float64</th><th>bool</th><th>float64</th><th>float64</th><th>float64</th><th>bool</th><th>bool</th><th>bool</th><th>bool</th><th>float64</th><th>float64</th><th>bool</th><th>bool</th><th>bool</th><th>float64</th><th>float64</th><th>bool</th><th>float64</th><th>int64</th><th>float64</th><th>bool</th><th>float64</th><th>float64</th><th>bool</th><th>bool</th><th>float64</th><th>bool</th><th>bytes3</th><th>bytes1</th><th>float64</th><th>float64</th><th>float64</th><th>bool</th><th>bool</th><th>float64</th><th>float64</th><th>float64</th><th>float64</th><th>float64</th><th>float64</th><th>float64</th><th>float64</th><th>float64</th><th>float64</th><th>float64</th><th>float64</th><th>float64</th></tr></thead>\n",
       "<tr><td>nan</td><td>nan</td><td>True</td><td>nan</td><td>nan</td><td>False</td><td>True</td><td>nan</td><td>nan</td><td>True</td><td>1099914280961</td><td>nan</td><td>nan</td><td>False</td><td>nan</td><td>nan</td><td>nan</td><td>True</td><td>True</td><td>False</td><td>True</td><td>nan</td><td>nan</td><td>True</td><td>False</td><td>False</td><td>nan</td><td>nan</td><td>True</td><td>5.95000655662</td><td>0</td><td>nan</td><td>True</td><td>nan</td><td>nan</td><td>False</td><td>True</td><td>nan</td><td>True</td><td>1,3</td><td>i</td><td>nan</td><td>nan</td><td>-0.169503081795</td><td>True</td><td>False</td><td>nan</td><td>nan</td><td>nan</td><td>nan</td><td>nan</td><td>nan</td><td>nan</td><td>nan</td><td>nan</td><td>6107.0</td><td>11911.0</td><td>340.910263769</td><td>-9.71181120133</td></tr>\n",
       "<tr><td>nan</td><td>nan</td><td>True</td><td>nan</td><td>nan</td><td>False</td><td>True</td><td>nan</td><td>nan</td><td>True</td><td>1099914280962</td><td>nan</td><td>nan</td><td>False</td><td>nan</td><td>nan</td><td>nan</td><td>True</td><td>True</td><td>False</td><td>True</td><td>nan</td><td>nan</td><td>True</td><td>False</td><td>False</td><td>nan</td><td>nan</td><td>True</td><td>5.94954253012</td><td>0</td><td>nan</td><td>True</td><td>nan</td><td>nan</td><td>False</td><td>True</td><td>nan</td><td>True</td><td>1,3</td><td>i</td><td>nan</td><td>nan</td><td>-0.16950913956</td><td>True</td><td>False</td><td>nan</td><td>nan</td><td>nan</td><td>nan</td><td>nan</td><td>nan</td><td>nan</td><td>nan</td><td>nan</td><td>6617.0</td><td>11905.0</td><td>340.88367701</td><td>-9.71215828568</td></tr>\n",
       "<tr><td>nan</td><td>nan</td><td>True</td><td>nan</td><td>nan</td><td>False</td><td>True</td><td>nan</td><td>nan</td><td>True</td><td>1099914280963</td><td>nan</td><td>nan</td><td>False</td><td>nan</td><td>nan</td><td>nan</td><td>True</td><td>True</td><td>False</td><td>True</td><td>nan</td><td>nan</td><td>True</td><td>False</td><td>False</td><td>nan</td><td>nan</td><td>True</td><td>5.94947883881</td><td>0</td><td>nan</td><td>True</td><td>nan</td><td>nan</td><td>False</td><td>True</td><td>nan</td><td>True</td><td>1,3</td><td>i</td><td>nan</td><td>nan</td><td>-0.169509229636</td><td>True</td><td>False</td><td>nan</td><td>nan</td><td>nan</td><td>nan</td><td>nan</td><td>nan</td><td>nan</td><td>nan</td><td>nan</td><td>6687.0</td><td>11905.0</td><td>340.880027766</td><td>-9.71216344665</td></tr>\n",
       "<tr><td>6.63151756567</td><td>0.712926853509</td><td>True</td><td>nan</td><td>6.63151693344</td><td>False</td><td>False</td><td>0.712926942136</td><td>8.22245360535</td><td>False</td><td>1099914280964</td><td>8.22245341957</td><td>7.5206356801</td><td>False</td><td>nan</td><td>nan</td><td>1.0</td><td>False</td><td>False</td><td>False</td><td>False</td><td>0.628761324432</td><td>nan</td><td>False</td><td>False</td><td>False</td><td>nan</td><td>6.85109740732</td><td>False</td><td>5.94934689405</td><td>0</td><td>6.5629844015</td><td>True</td><td>nan</td><td>0.654426645058</td><td>False</td><td>True</td><td>nan</td><td>True</td><td>1,3</td><td>i</td><td>0.307440844015</td><td>nan</td><td>-0.169500445455</td><td>False</td><td>False</td><td>7.17127961652</td><td>24.7124964208</td><td>0.0941386273917</td><td>24.7124964453</td><td>0.0941386412214</td><td>24.809363623</td><td>0.0944780111844</td><td>24.8610083588</td><td>0.09519485651</td><td>6832.0</td><td>11915.0</td><td>340.872467888</td><td>-9.71166015016</td></tr>\n",
       "<tr><td>nan</td><td>nan</td><td>True</td><td>nan</td><td>nan</td><td>False</td><td>True</td><td>nan</td><td>nan</td><td>True</td><td>1099914280965</td><td>nan</td><td>nan</td><td>False</td><td>nan</td><td>nan</td><td>nan</td><td>True</td><td>True</td><td>False</td><td>True</td><td>nan</td><td>nan</td><td>True</td><td>False</td><td>False</td><td>nan</td><td>nan</td><td>True</td><td>5.94895929115</td><td>0</td><td>nan</td><td>True</td><td>nan</td><td>nan</td><td>False</td><td>True</td><td>nan</td><td>True</td><td>1,3</td><td>i</td><td>nan</td><td>nan</td><td>-0.169505454883</td><td>True</td><td>False</td><td>nan</td><td>nan</td><td>nan</td><td>nan</td><td>nan</td><td>nan</td><td>nan</td><td>nan</td><td>nan</td><td>7258.0</td><td>11910.0</td><td>340.850259878</td><td>-9.71194716925</td></tr>\n",
       "<tr><td>31.6941918887</td><td>0.7477270623</td><td>True</td><td>nan</td><td>31.7217750549</td><td>False</td><td>False</td><td>0.750316981367</td><td>36.9485416427</td><td>False</td><td>1099914280966</td><td>37.0733804741</td><td>46.5419675716</td><td>False</td><td>nan</td><td>nan</td><td>0.95099129689</td><td>False</td><td>False</td><td>False</td><td>False</td><td>0.696023458164</td><td>nan</td><td>False</td><td>False</td><td>False</td><td>nan</td><td>42.7733277295</td><td>False</td><td>5.94891105899</td><td>0</td><td>31.7871335804</td><td>True</td><td>nan</td><td>0.904731600495</td><td>False</td><td>True</td><td>nan</td><td>True</td><td>1,3</td><td>i</td><td>2.3042502356</td><td>nan</td><td>-0.169499240411</td><td>False</td><td>False</td><td>34.2138883406</td><td>23.0810067463</td><td>0.0219720266815</td><td>23.0773445294</td><td>0.0219738880377</td><td>22.8303881519</td><td>0.0211056795727</td><td>23.1644939158</td><td>0.0220874593489</td><td>7311.0</td><td>11917.0</td><td>340.847496379</td><td>-9.7115911062</td></tr>\n",
       "<tr><td>nan</td><td>nan</td><td>True</td><td>nan</td><td>nan</td><td>False</td><td>False</td><td>nan</td><td>nan</td><td>True</td><td>1099914280967</td><td>nan</td><td>nan</td><td>False</td><td>nan</td><td>nan</td><td>nan</td><td>False</td><td>True</td><td>True</td><td>True</td><td>nan</td><td>nan</td><td>True</td><td>False</td><td>False</td><td>nan</td><td>nan</td><td>False</td><td>5.94883828006</td><td>0</td><td>nan</td><td>True</td><td>nan</td><td>nan</td><td>False</td><td>True</td><td>nan</td><td>True</td><td>1,3</td><td>i</td><td>nan</td><td>nan</td><td>-0.169508304309</td><td>True</td><td>False</td><td>nan</td><td>nan</td><td>nan</td><td>nan</td><td>nan</td><td>nan</td><td>nan</td><td>nan</td><td>nan</td><td>7391.0</td><td>11907.0</td><td>340.843326453</td><td>-9.71211042932</td></tr>\n",
       "<tr><td>nan</td><td>nan</td><td>True</td><td>nan</td><td>nan</td><td>False</td><td>True</td><td>nan</td><td>nan</td><td>True</td><td>1099914280968</td><td>nan</td><td>nan</td><td>False</td><td>nan</td><td>nan</td><td>nan</td><td>True</td><td>True</td><td>False</td><td>True</td><td>nan</td><td>nan</td><td>True</td><td>False</td><td>False</td><td>nan</td><td>nan</td><td>True</td><td>5.9483414828</td><td>0</td><td>nan</td><td>True</td><td>nan</td><td>nan</td><td>False</td><td>True</td><td>nan</td><td>True</td><td>1,3</td><td>i</td><td>nan</td><td>nan</td><td>-0.169510724576</td><td>True</td><td>False</td><td>nan</td><td>nan</td><td>nan</td><td>nan</td><td>nan</td><td>nan</td><td>nan</td><td>nan</td><td>nan</td><td>7937.0</td><td>11905.0</td><td>340.814862067</td><td>-9.71224910038</td></tr>\n",
       "<tr><td>nan</td><td>nan</td><td>True</td><td>nan</td><td>nan</td><td>False</td><td>True</td><td>nan</td><td>nan</td><td>True</td><td>1099914280969</td><td>nan</td><td>nan</td><td>False</td><td>nan</td><td>nan</td><td>nan</td><td>True</td><td>True</td><td>False</td><td>True</td><td>nan</td><td>nan</td><td>True</td><td>False</td><td>False</td><td>nan</td><td>nan</td><td>True</td><td>5.94829871782</td><td>0</td><td>nan</td><td>True</td><td>nan</td><td>nan</td><td>False</td><td>True</td><td>nan</td><td>True</td><td>1,3</td><td>i</td><td>nan</td><td>nan</td><td>-0.16951077659</td><td>True</td><td>False</td><td>nan</td><td>nan</td><td>nan</td><td>nan</td><td>nan</td><td>nan</td><td>nan</td><td>nan</td><td>nan</td><td>7984.0</td><td>11905.0</td><td>340.812411814</td><td>-9.71225208058</td></tr>\n",
       "<tr><td>nan</td><td>nan</td><td>True</td><td>nan</td><td>nan</td><td>False</td><td>True</td><td>nan</td><td>nan</td><td>True</td><td>1099914280970</td><td>nan</td><td>nan</td><td>False</td><td>nan</td><td>nan</td><td>nan</td><td>True</td><td>True</td><td>False</td><td>True</td><td>nan</td><td>nan</td><td>True</td><td>False</td><td>False</td><td>nan</td><td>nan</td><td>True</td><td>5.94873364312</td><td>0</td><td>nan</td><td>True</td><td>nan</td><td>nan</td><td>False</td><td>True</td><td>nan</td><td>True</td><td>1,3</td><td>i</td><td>nan</td><td>nan</td><td>-0.169508439681</td><td>True</td><td>False</td><td>nan</td><td>nan</td><td>nan</td><td>nan</td><td>nan</td><td>nan</td><td>nan</td><td>nan</td><td>nan</td><td>7506.0</td><td>11907.0</td><td>340.837331198</td><td>-9.71211818558</td></tr>\n",
       "<tr><td>...</td><td>...</td><td>...</td><td>...</td><td>...</td><td>...</td><td>...</td><td>...</td><td>...</td><td>...</td><td>...</td><td>...</td><td>...</td><td>...</td><td>...</td><td>...</td><td>...</td><td>...</td><td>...</td><td>...</td><td>...</td><td>...</td><td>...</td><td>...</td><td>...</td><td>...</td><td>...</td><td>...</td><td>...</td><td>...</td><td>...</td><td>...</td><td>...</td><td>...</td><td>...</td><td>...</td><td>...</td><td>...</td><td>...</td><td>...</td><td>...</td><td>...</td><td>...</td><td>...</td><td>...</td><td>...</td><td>...</td><td>...</td><td>...</td><td>...</td><td>...</td><td>...</td><td>...</td><td>...</td><td>...</td><td>...</td><td>...</td><td>...</td><td>...</td></tr>\n",
       "<tr><td>0.0515425829469</td><td>0.970859214709</td><td>True</td><td>nan</td><td>0.0515425772492</td><td>False</td><td>False</td><td>0.970859149585</td><td>0.0596183571772</td><td>False</td><td>2199425942524</td><td>0.0596183544019</td><td>0.0323756271251</td><td>False</td><td>nan</td><td>nan</td><td>1.0</td><td>False</td><td>False</td><td>False</td><td>False</td><td>0.89544501888</td><td>nan</td><td>False</td><td>False</td><td>False</td><td>nan</td><td>0.0304786193181</td><td>False</td><td>5.94623927302</td><td>0</td><td>0.0306371201017</td><td>True</td><td>nan</td><td>0.897791974528</td><td>False</td><td>True</td><td>nan</td><td>True</td><td>2,3</td><td>i</td><td>0.287114645891</td><td>nan</td><td>-0.166204026394</td><td>False</td><td>False</td><td>0.032573774039</td><td>30.0615499885</td><td>17.6807454791</td><td>30.0615500391</td><td>17.6807451162</td><td>30.7244545261</td><td>30.1079959724</td><td>30.7178298015</td><td>29.8466206343</td><td>10244.1730631</td><td>15594.3018101</td><td>340.694414319</td><td>-9.52278925045</td></tr>\n",
       "<tr><td>nan</td><td>nan</td><td>True</td><td>nan</td><td>nan</td><td>True</td><td>False</td><td>nan</td><td>nan</td><td>False</td><td>2199425942525</td><td>nan</td><td>nan</td><td>False</td><td>nan</td><td>nan</td><td>nan</td><td>False</td><td>True</td><td>False</td><td>True</td><td>nan</td><td>nan</td><td>True</td><td>False</td><td>False</td><td>nan</td><td>nan</td><td>False</td><td>5.94622350759</td><td>0</td><td>nan</td><td>True</td><td>nan</td><td>nan</td><td>True</td><td>True</td><td>nan</td><td>True</td><td>2,3</td><td>i</td><td>nan</td><td>nan</td><td>-0.166202628051</td><td>True</td><td>True</td><td>nan</td><td>nan</td><td>nan</td><td>nan</td><td>nan</td><td>nan</td><td>nan</td><td>nan</td><td>nan</td><td>10261.5075447</td><td>15595.8758931</td><td>340.693511026</td><td>-9.52270913131</td></tr>\n",
       "<tr><td>0.414313399366</td><td>0.944744425937</td><td>True</td><td>nan</td><td>0.414313361385</td><td>False</td><td>False</td><td>0.944744676812</td><td>0.462201537091</td><td>False</td><td>2199425942526</td><td>0.462201650446</td><td>0.217453217602</td><td>False</td><td>nan</td><td>nan</td><td>1.0</td><td>False</td><td>False</td><td>False</td><td>False</td><td>0.878354937771</td><td>nan</td><td>False</td><td>False</td><td>False</td><td>nan</td><td>0.204805831123</td><td>False</td><td>5.94623091688</td><td>0</td><td>0.228182357321</td><td>True</td><td>nan</td><td>0.979330781728</td><td>False</td><td>True</td><td>nan</td><td>True</td><td>2,3</td><td>i</td><td>1.01943405529</td><td>nan</td><td>-0.166207083199</td><td>False</td><td>False</td><td>0.240541853923</td><td>27.8379215364</td><td>2.21925533597</td><td>27.8379212701</td><td>2.21925538101</td><td>28.6565854045</td><td>4.88976386683</td><td>28.5470233653</td><td>3.96463958772</td><td>10253.3644985</td><td>15590.9015464</td><td>340.693935547</td><td>-9.52296439246</td></tr>\n",
       "<tr><td>1.43048203614</td><td>0.671073357159</td><td>True</td><td>nan</td><td>1.42389178619</td><td>False</td><td>False</td><td>0.724881244742</td><td>1.48671252381</td><td>False</td><td>2199425942527</td><td>1.53719982538</td><td>1.68849696244</td><td>False</td><td>nan</td><td>nan</td><td>0.0</td><td>False</td><td>False</td><td>False</td><td>False</td><td>0.671073218929</td><td>nan</td><td>False</td><td>False</td><td>False</td><td>nan</td><td>1.59175663455</td><td>False</td><td>5.94834737814</td><td>0</td><td>1.42389182835</td><td>True</td><td>nan</td><td>0.975831273792</td><td>False</td><td>True</td><td>nan</td><td>True</td><td>2,3</td><td>i</td><td>1.12334338067</td><td>nan</td><td>-0.166165362194</td><td>False</td><td>False</td><td>1.48671224848</td><td>26.5694325003</td><td>0.490080380873</td><td>26.5331741839</td><td>0.511989266829</td><td>26.4312492908</td><td>0.627478383001</td><td>26.5694327014</td><td>0.490080370684</td><td>7926.0</td><td>15635.0</td><td>340.815199845</td><td>-9.52057395499</td></tr>\n",
       "<tr><td>0.0483431505092</td><td>0.718469410392</td><td>True</td><td>nan</td><td>0.0483431406319</td><td>False</td><td>False</td><td>0.718469425813</td><td>0.0527809479335</td><td>False</td><td>2199425942528</td><td>0.0527809489298</td><td>0.0716716150635</td><td>False</td><td>nan</td><td>nan</td><td>1.0</td><td>False</td><td>False</td><td>False</td><td>False</td><td>0.663407024415</td><td>nan</td><td>False</td><td>False</td><td>False</td><td>nan</td><td>0.0675525696026</td><td>False</td><td>5.94834010087</td><td>0</td><td>0.00945333821763</td><td>True</td><td>nan</td><td>0.876362203519</td><td>False</td><td>True</td><td>nan</td><td>True</td><td>2,3</td><td>i</td><td>0.360218981885</td><td>nan</td><td>-0.166163577141</td><td>False</td><td>False</td><td>0.00988537933204</td><td>30.1938070355</td><td>14.7793528047</td><td>30.1938070151</td><td>14.7793528429</td><td>29.8616320223</td><td>13.2758020312</td><td>32.0125166521</td><td>72.863670751</td><td>7934.0</td><td>15637.0</td><td>340.814782888</td><td>-9.52047167895</td></tr>\n",
       "<tr><td>0.000325984326144</td><td>0.993309068105</td><td>True</td><td>nan</td><td>0.000325984530084</td><td>False</td><td>False</td><td>0.99330996111</td><td>0.0003635402249</td><td>False</td><td>2199425942529</td><td>0.000363540311669</td><td>0.0393117692605</td><td>False</td><td>nan</td><td>nan</td><td>1.0</td><td>False</td><td>False</td><td>False</td><td>False</td><td>0.914183880426</td><td>nan</td><td>False</td><td>False</td><td>False</td><td>nan</td><td>0.0370478842256</td><td>False</td><td>5.94622279948</td><td>0</td><td>-1.46095600876e-05</td><td>True</td><td>nan</td><td>1.24841048035</td><td>False</td><td>True</td><td>nan</td><td>True</td><td>2,3</td><td>i</td><td>0.123290493495</td><td>nan</td><td>-0.166042581235</td><td>False</td><td>False</td><td>-1.54249411197e-05</td><td>35.5986188211</td><td>2966.58125811</td><td>35.598618562</td><td>2966.58321707</td><td>30.5136935248</td><td>34.4793552265</td><td>nan</td><td>nan</td><td>10262.1325009</td><td>15774.3222571</td><td>340.693470454</td><td>-9.5135391242</td></tr>\n",
       "<tr><td>1.7693177659</td><td>0.995353873342</td><td>True</td><td>nan</td><td>1.77226573562</td><td>False</td><td>False</td><td>1.02308761642</td><td>1.99844045999</td><td>False</td><td>2199425942530</td><td>2.05097676865</td><td>3.01365295195</td><td>False</td><td>nan</td><td>nan</td><td>0.657748362831</td><td>False</td><td>False</td><td>False</td><td>False</td><td>0.942298338646</td><td>nan</td><td>False</td><td>False</td><td>False</td><td>nan</td><td>2.82310802473</td><td>False</td><td>5.94623140032</td><td>0</td><td>1.76338224405</td><td>True</td><td>nan</td><td>1.08179213198</td><td>False</td><td>True</td><td>nan</td><td>True</td><td>2,3</td><td>i</td><td>1.42268755951</td><td>nan</td><td>-0.166032491563</td><td>False</td><td>False</td><td>1.88951986975</td><td>26.2482719656</td><td>0.540767542726</td><td>26.2200981471</td><td>0.541597195427</td><td>25.8022669047</td><td>0.389739927736</td><td>26.309121342</td><td>0.541453645621</td><td>10252.6649659</td><td>15785.5636686</td><td>340.693963247</td><td>-9.51296102859</td></tr>\n",
       "<tr><td>-0.00994690998403</td><td>0.90620921712</td><td>True</td><td>nan</td><td>-0.000860859829842</td><td>False</td><td>False</td><td>0.98139603974</td><td>-0.000904169191411</td><td>False</td><td>2199425942531</td><td>-0.0106878236646</td><td>-0.0318582070996</td><td>False</td><td>nan</td><td>nan</td><td>-0.0</td><td>False</td><td>False</td><td>False</td><td>False</td><td>0.906209200833</td><td>nan</td><td>False</td><td>False</td><td>False</td><td>nan</td><td>-0.0298506147554</td><td>False</td><td>5.94620778818</td><td>0</td><td>-0.000860859580529</td><td>True</td><td>nan</td><td>1.44312853365</td><td>False</td><td>True</td><td>nan</td><td>True</td><td>2,3</td><td>i</td><td>inf</td><td>nan</td><td>-0.166056641299</td><td>False</td><td>False</td><td>-0.00090416914787</td><td>nan</td><td>nan</td><td>nan</td><td>nan</td><td>nan</td><td>nan</td><td>nan</td><td>nan</td><td>10278.6529765</td><td>15758.6600725</td><td>340.69261037</td><td>-9.51434470653</td></tr>\n",
       "<tr><td>2.29233827593</td><td>0.92108834218</td><td>True</td><td>nan</td><td>2.29233871212</td><td>False</td><td>False</td><td>0.921088696524</td><td>2.46739961161</td><td>False</td><td>2199425942532</td><td>2.46740001754</td><td>2.75263566574</td><td>False</td><td>nan</td><td>nan</td><td>1.0</td><td>False</td><td>False</td><td>False</td><td>False</td><td>0.84945431769</td><td>nan</td><td>False</td><td>False</td><td>False</td><td>nan</td><td>2.55659368149</td><td>False</td><td>5.94619006647</td><td>0</td><td>1.93405645963</td><td>True</td><td>nan</td><td>1.566528951</td><td>False</td><td>True</td><td>nan</td><td>True</td><td>2,3</td><td>i</td><td>2.88157296911</td><td>nan</td><td>-0.166078463253</td><td>False</td><td>False</td><td>2.04835568663</td><td>26.0194012699</td><td>0.405308875052</td><td>26.0194010913</td><td>0.405308964294</td><td>25.9006281682</td><td>0.617894049353</td><td>26.2214865703</td><td>0.450255447832</td><td>10298.1612325</td><td>15734.3462142</td><td>340.691594992</td><td>-9.51559501239</td></tr>\n",
       "<tr><td>nan</td><td>nan</td><td>True</td><td>nan</td><td>nan</td><td>True</td><td>False</td><td>nan</td><td>nan</td><td>False</td><td>2199425942533</td><td>nan</td><td>nan</td><td>False</td><td>nan</td><td>nan</td><td>nan</td><td>False</td><td>True</td><td>False</td><td>True</td><td>nan</td><td>nan</td><td>True</td><td>False</td><td>False</td><td>nan</td><td>nan</td><td>False</td><td>5.94619785443</td><td>0</td><td>nan</td><td>True</td><td>nan</td><td>nan</td><td>True</td><td>True</td><td>nan</td><td>True</td><td>2,3</td><td>i</td><td>nan</td><td>nan</td><td>-0.166068203511</td><td>True</td><td>True</td><td>nan</td><td>nan</td><td>nan</td><td>nan</td><td>nan</td><td>nan</td><td>nan</td><td>nan</td><td>nan</td><td>10289.5875382</td><td>15745.7780622</td><td>340.692041209</td><td>-9.51500717248</td></tr>\n",
       "</table>"
      ],
      "text/plain": [
       "<Table length=34392>\n",
       "modelfit_CModel_dev_flux_inner modelfit_CModel_fluxSigma ... coord_dec_deg \n",
       "           float64                      float64          ...    float64    \n",
       "------------------------------ ------------------------- ... --------------\n",
       "                           nan                       nan ... -9.71181120133\n",
       "                           nan                       nan ... -9.71215828568\n",
       "                           nan                       nan ... -9.71216344665\n",
       "                 6.63151756567            0.712926853509 ... -9.71166015016\n",
       "                           nan                       nan ... -9.71194716925\n",
       "                 31.6941918887              0.7477270623 ...  -9.7115911062\n",
       "                           nan                       nan ... -9.71211042932\n",
       "                           nan                       nan ... -9.71224910038\n",
       "                           nan                       nan ... -9.71225208058\n",
       "                           nan                       nan ... -9.71211818558\n",
       "                           ...                       ... ...            ...\n",
       "               0.0515425829469            0.970859214709 ... -9.52278925045\n",
       "                           nan                       nan ... -9.52270913131\n",
       "                0.414313399366            0.944744425937 ... -9.52296439246\n",
       "                 1.43048203614            0.671073357159 ... -9.52057395499\n",
       "               0.0483431505092            0.718469410392 ... -9.52047167895\n",
       "             0.000325984326144            0.993309068105 ...  -9.5135391242\n",
       "                  1.7693177659            0.995353873342 ... -9.51296102859\n",
       "             -0.00994690998403             0.90620921712 ... -9.51434470653\n",
       "                 2.29233827593             0.92108834218 ... -9.51559501239\n",
       "                           nan                       nan ... -9.51500717248"
      ]
     },
     "execution_count": 8,
     "metadata": {},
     "output_type": "execute_result"
    }
   ],
   "source": [
    "table[mask]"
   ]
  },
  {
   "cell_type": "code",
   "execution_count": 9,
   "metadata": {
    "collapsed": true,
    "slideshow": {
     "slide_type": "slide"
    }
   },
   "outputs": [],
   "source": [
    "magi = table[mask]['modelfit_CModel_mag']"
   ]
  },
  {
   "cell_type": "code",
   "execution_count": 10,
   "metadata": {
    "slideshow": {
     "slide_type": "slide"
    }
   },
   "outputs": [
    {
     "name": "stdout",
     "output_type": "stream",
     "text": [
      "filter\n",
      "------\n",
      "     u\n",
      "     u\n",
      "     u\n",
      "     u\n",
      "     u\n",
      "     u\n",
      "     u\n",
      "     u\n",
      "     u\n",
      "     u\n",
      "   ...\n",
      "     i\n",
      "     i\n",
      "     i\n",
      "     i\n",
      "     i\n",
      "     i\n",
      "     i\n",
      "     i\n",
      "     i\n",
      "     i\n",
      "     i\n",
      "Length = 68784 rows\n"
     ]
    }
   ],
   "source": [
    "# Récupérer la liste des filtres\n",
    "print(table['filter'])"
   ]
  },
  {
   "cell_type": "code",
   "execution_count": 11,
   "metadata": {
    "slideshow": {
     "slide_type": "slide"
    }
   },
   "outputs": [
    {
     "name": "stdout",
     "output_type": "stream",
     "text": [
      "{'i', 'u'}\n"
     ]
    }
   ],
   "source": [
    "print(set(table['filter']))"
   ]
  },
  {
   "cell_type": "code",
   "execution_count": 12,
   "metadata": {
    "collapsed": true,
    "slideshow": {
     "slide_type": "fragment"
    }
   },
   "outputs": [],
   "source": [
    "filters = set(table['filter'])"
   ]
  },
  {
   "cell_type": "code",
   "execution_count": 13,
   "metadata": {
    "slideshow": {
     "slide_type": "fragment"
    }
   },
   "outputs": [
    {
     "data": {
      "text/plain": [
       "<matplotlib.legend.Legend at 0x7f873c65f780>"
      ]
     },
     "execution_count": 13,
     "metadata": {},
     "output_type": "execute_result"
    },
    {
     "data": {
      "image/png": "[encoded data removed]",
      "text/plain": [
       "<matplotlib.figure.Figure at 0x7f873e6da470>"
      ]
     },
     "metadata": {},
     "output_type": "display_data"
    }
   ],
   "source": [
    "# Comprehension list pour récupérer les magnitudes\n",
    "mags = [table[table['filter'] == f]['modelfit_CModel_mag'] for f in filters]\n",
    "\n",
    "# Histogramme pour tout les filtres\n",
    "fig, ax = plt.subplots()\n",
    "for mag, filt in zip(mags, filters):\n",
    "    # Supprimer les nan en appliquant un masque estimé à la volée\n",
    "    mag = mag[np.isfinite(mag)] \n",
    "    ax.hist(mag, label=filt, histtype='step')\n",
    "ax.legend()"
   ]
  },
  {
   "cell_type": "code",
   "execution_count": 14,
   "metadata": {
    "slideshow": {
     "slide_type": "slide"
    }
   },
   "outputs": [
    {
     "name": "stderr",
     "output_type": "stream",
     "text": [
      "/home/chotard/anaconda3/lib/python3.6/site-packages/astropy/table/column.py:929: RuntimeWarning: invalid value encountered in less\n",
      "  return getattr(self.data, oper)(other)\n"
     ]
    }
   ],
   "source": [
    "# 2.2 Supprimer les objets dont les erreur sur les \n",
    "# magnitudes sont > 0.05 mag\n",
    "\n",
    "# Création des masks et application\n",
    "mask = np.isfinite(table['modelfit_CModel_mag'])\n",
    "mask &= table['modelfit_CModel_magSigma'] < 0.05\n",
    "table = table[mask]\n",
    "\n",
    "# Comprehension list pour récupérer les magnitudes\n",
    "mags = [table[table['filter'] == f]['modelfit_CModel_mag'] for f in filters]\n",
    "magsSigma = [table[table['filter'] == f]['modelfit_CModel_magSigma'] for f in filters]"
   ]
  },
  {
   "cell_type": "code",
   "execution_count": 15,
   "metadata": {
    "slideshow": {
     "slide_type": "slide"
    }
   },
   "outputs": [
    {
     "data": {
      "text/plain": [
       "<matplotlib.legend.Legend at 0x7f873c58c780>"
      ]
     },
     "execution_count": 15,
     "metadata": {},
     "output_type": "execute_result"
    },
    {
     "data": {
      "image/png": "[encoded data removed]",
      "text/plain": [
       "<matplotlib.figure.Figure at 0x7f873c621978>"
      ]
     },
     "metadata": {},
     "output_type": "display_data"
    }
   ],
   "source": [
    "# Histogramme pour tout les filtres\n",
    "fig, ax = plt.subplots()\n",
    "for mag, filt in zip(mags, filters):\n",
    "    ax.hist(mag, label=filt, histtype='step')\n",
    "ax.legend()"
   ]
  },
  {
   "cell_type": "code",
   "execution_count": 16,
   "metadata": {
    "slideshow": {
     "slide_type": "slide"
    }
   },
   "outputs": [
    {
     "data": {
      "text/plain": [
       "[<matplotlib.lines.Line2D at 0x7f873c4b7278>]"
      ]
     },
     "execution_count": 16,
     "metadata": {},
     "output_type": "execute_result"
    },
    {
     "data": {
      "image/png": "[encoded data removed]",
      "text/plain": [
       "<matplotlib.figure.Figure at 0x7f873c583080>"
      ]
     },
     "metadata": {},
     "output_type": "display_data"
    }
   ],
   "source": [
    "# 2.3\n",
    "plt.plot(table['coord_ra_deg'], table['coord_dec_deg'], 'ok')"
   ]
  },
  {
   "cell_type": "markdown",
   "metadata": {
    "slideshow": {
     "slide_type": "slide"
    }
   },
   "source": [
    "## Exercice 3 - Coordonnées et séparation angulaire\n",
    "\n",
    "1. Dans cette zone du ciel se trouve l'amas de galaxie MACSJ2243.3-0935. Récupérer ses coordonnées en utilisant le module `coordinates.SkyCoord`. \n",
    "2. En utilisant les modules `coordinates.SkyCoord` et `units` d'Astropy, calculer les séparations angulaires de tout les objets du catalogues par rapport au centre de l'amas de galaxie\n",
    "    \n",
    "3. Tracer la carte du ciel (`ra` vs. `dec`), avant et après l'application d'un filtre pour ne conserver que la zone du ciel dans un rayon de 0.05 deg autour du centre de l'amas."
   ]
  },
  {
   "cell_type": "code",
   "execution_count": 17,
   "metadata": {
    "collapsed": true,
    "slideshow": {
     "slide_type": "slide"
    }
   },
   "outputs": [],
   "source": [
    "# 3.1 Récupération des coordonées de l'amas MACSJ2243.3-0935\n",
    "from astropy.coordinates import SkyCoord\n",
    "# amas_coord = SkyCoord.from_name('MACSJ2243.3-0935')\n",
    "amas_coord = SkyCoord(340.83, -9.59, unit='deg')"
   ]
  },
  {
   "cell_type": "code",
   "execution_count": 18,
   "metadata": {
    "collapsed": true,
    "slideshow": {
     "slide_type": "fragment"
    }
   },
   "outputs": [],
   "source": [
    "# 3.2 Calcul des séparations angulaires\n",
    "from astropy import units as u\n",
    "ra = table['coord_ra_deg'] * u.deg\n",
    "dec = table['coord_dec_deg'] * u.deg\n",
    "sep = amas_coord.separation(SkyCoord(ra, dec))"
   ]
  },
  {
   "cell_type": "code",
   "execution_count": 19,
   "metadata": {
    "collapsed": true,
    "slideshow": {
     "slide_type": "fragment"
    }
   },
   "outputs": [],
   "source": [
    "# 3.3 Filtrer et faire la figure de la carte du ciel\n",
    "mask = sep.deg < 0.05"
   ]
  },
  {
   "cell_type": "code",
   "execution_count": 20,
   "metadata": {
    "slideshow": {
     "slide_type": "slide"
    }
   },
   "outputs": [
    {
     "data": {
      "text/plain": [
       "[<matplotlib.lines.Line2D at 0x7f873bf5f5c0>]"
      ]
     },
     "execution_count": 20,
     "metadata": {},
     "output_type": "execute_result"
    },
    {
     "data": {
      "image/png": "[encoded data removed]",
      "text/plain": [
       "<matplotlib.figure.Figure at 0x7f873bf5f668>"
      ]
     },
     "metadata": {},
     "output_type": "display_data"
    }
   ],
   "source": [
    "plt.plot(ra, dec, 'ok')\n",
    "plt.plot(ra[mask], dec[mask])"
   ]
  },
  {
   "cell_type": "markdown",
   "metadata": {
    "slideshow": {
     "slide_type": "slide"
    }
   },
   "source": [
    "## Exercice 4 - Groupes\n",
    "\n",
    "1. Appliquer le masque estimé précédemment à la table pour ne conserver que la zone centrée sur l'amas\n",
    "2. Tracer, pour tout les objets, la magnitude 'u' en fonction de la magnitude 'i'. \n",
    "\n",
    "          Avant d'avoir appliqué le masque sur `magSigma`, chaque objet possédait 2 lignes, une pour chaque filtre. Cette coupure a fait disparaitre un certain nombre de ces lignes, et de nombreux objets n'ont plus qu'une mesure. Il est donc nécessaire de les supprimer du catalogue.\n",
    "\n",
    "\n",
    "3. Grouper les objets par `objectId` (`group_by`)\n",
    "4. Créer un masque pour ne conserver que les objets ayant 2 mesures de magnitudes\n",
    "5. Appliquer ce filtre, et tracer le figure du 2."
   ]
  },
  {
   "cell_type": "code",
   "execution_count": 21,
   "metadata": {
    "collapsed": true,
    "slideshow": {
     "slide_type": "slide"
    }
   },
   "outputs": [],
   "source": [
    "# 4.1 Grouper, filtrer, et tracer mag_u vs. mag_i\n",
    "# Ne conserver que les données proche de l'amas\n",
    "centered_table = table[mask]"
   ]
  },
  {
   "cell_type": "code",
   "execution_count": 22,
   "metadata": {
    "collapsed": true,
    "slideshow": {
     "slide_type": "fragment"
    }
   },
   "outputs": [],
   "source": [
    "# 4.2 Grouper les objets par 'objectId'\n",
    "# chaque objet devrait avoir deuxx lignes de données, une pour \n",
    "# chaque filtre\n",
    "grouped_table = centered_table.group_by('objectId')"
   ]
  },
  {
   "cell_type": "code",
   "execution_count": 23,
   "metadata": {
    "slideshow": {
     "slide_type": "fragment"
    }
   },
   "outputs": [
    {
     "name": "stdout",
     "output_type": "stream",
     "text": [
      "2113 2113 686\n"
     ]
    }
   ],
   "source": [
    "# 4.3 Fabrication du masque\n",
    "# La différence des indices est une façon rapide de \n",
    "# connaitre la taille de chaque groupe\n",
    "filt = (grouped_table.groups.indices[1:] - grouped_table.groups.indices[:-1]) == len(set(centered_table['filter']))\n",
    "print(len(centered_table), len(grouped_table), len(grouped_table.groups[filt]))"
   ]
  },
  {
   "cell_type": "code",
   "execution_count": 24,
   "metadata": {
    "slideshow": {
     "slide_type": "fragment"
    }
   },
   "outputs": [
    {
     "name": "stdout",
     "output_type": "stream",
     "text": [
      "1768\n",
      "345\n",
      "343\n",
      "343\n"
     ]
    }
   ],
   "source": [
    "# 4.4 Application du masque\n",
    "new_table = grouped_table.groups[filt]\n",
    "print(len(centered_table[centered_table['filter' ] == 'i']['modelfit_CModel_mag']))\n",
    "print(len(centered_table[centered_table['filter' ] == 'u']['modelfit_CModel_mag']))\n",
    "print(len(new_table[new_table['filter' ] == 'i']['modelfit_CModel_mag']))\n",
    "print(len(new_table[new_table['filter' ] == 'u']['modelfit_CModel_mag']))"
   ]
  },
  {
   "cell_type": "code",
   "execution_count": 25,
   "metadata": {
    "slideshow": {
     "slide_type": "slide"
    }
   },
   "outputs": [
    {
     "data": {
      "text/plain": [
       "<matplotlib.text.Text at 0x7f873bdc9390>"
      ]
     },
     "execution_count": 25,
     "metadata": {},
     "output_type": "execute_result"
    },
    {
     "data": {
      "image/png": "[encoded data removed]",
      "text/plain": [
       "<matplotlib.figure.Figure at 0x7f873befd240>"
      ]
     },
     "metadata": {},
     "output_type": "display_data"
    }
   ],
   "source": [
    "# figure\n",
    "plt.plot(new_table[new_table['filter' ] == 'u']['modelfit_CModel_mag'],\n",
    "         new_table[new_table['filter' ] == 'i']['modelfit_CModel_mag'], 'ok')\n",
    "plt.xlabel('i mag')\n",
    "plt.ylabel('u mag')"
   ]
  },
  {
   "cell_type": "markdown",
   "metadata": {
    "slideshow": {
     "slide_type": "slide"
    }
   },
   "source": [
    "## Exercice 5 - Coordonnées et comparaison de catalogues\n",
    "\n",
    "4. Créez un \"faux\" catalogue de référence à partir de l'original selon la recette suivante\n",
    "\n",
    "        nra = ra[100:200] + (np.random.random(100) / 10000.) * u.deg\n",
    "        ndec = dec[100:200] + (np.random.random(100) / 10000.) * u.deg        \n",
    "\n",
    "5. Faire un match du nouveau catalogue sur l'ancien en utilisant une méthode du module SkyCoord.\n",
    "6. Tracer l'histogramme des distances du catalogue initial au (faux) catalogue de référence en `mas`."
   ]
  },
  {
   "cell_type": "code",
   "execution_count": 26,
   "metadata": {
    "collapsed": true,
    "slideshow": {
     "slide_type": "slide"
    }
   },
   "outputs": [],
   "source": [
    "# 5.1  \n",
    "nra = ra[100:200] + (np.random.random(100) / 10000.) * u.deg\n",
    "ndec = dec[100:200] + (np.random.random(100) / 10000.) * u.deg"
   ]
  },
  {
   "cell_type": "code",
   "execution_count": 27,
   "metadata": {
    "slideshow": {
     "slide_type": "fragment"
    }
   },
   "outputs": [
    {
     "data": {
      "text/plain": [
       "[<matplotlib.lines.Line2D at 0x7f873bd75c88>]"
      ]
     },
     "execution_count": 27,
     "metadata": {},
     "output_type": "execute_result"
    },
    {
     "data": {
      "image/png": "[encoded data removed]",
      "text/plain": [
       "<matplotlib.figure.Figure at 0x7f873be23d68>"
      ]
     },
     "metadata": {},
     "output_type": "display_data"
    }
   ],
   "source": [
    "plt.plot(ra, dec, 'ok')\n",
    "plt.plot(ra[mask], dec[mask], 'ob')\n",
    "plt.plot(nra, ndec, 'or')"
   ]
  },
  {
   "cell_type": "code",
   "execution_count": 28,
   "metadata": {
    "collapsed": true,
    "slideshow": {
     "slide_type": "slide"
    }
   },
   "outputs": [],
   "source": [
    "# 5.2 Matcher les catalogues\n",
    "coords = SkyCoord(ra, dec, unit='deg')\n",
    "fakecat = SkyCoord(nra, ndec, unit='deg')\n",
    "idx, d2d, d3d = fakecat.match_to_catalog_sky(coords)"
   ]
  },
  {
   "cell_type": "code",
   "execution_count": 29,
   "metadata": {
    "collapsed": true,
    "slideshow": {
     "slide_type": "fragment"
    }
   },
   "outputs": [],
   "source": [
    "from astropy import units as u\n",
    "d2d = d2d.value * u.deg"
   ]
  },
  {
   "cell_type": "code",
   "execution_count": 30,
   "metadata": {
    "slideshow": {
     "slide_type": "fragment"
    }
   },
   "outputs": [
    {
     "data": {
      "text/plain": [
       "(array([  3.,   4.,   7.,   7.,   8.,  21.,  22.,  19.,   6.,   3.]),\n",
       " array([  35.67741525,   79.47506603,  123.27271681,  167.07036759,\n",
       "         210.86801837,  254.66566915,  298.46331993,  342.26097071,\n",
       "         386.05862149,  429.85627227,  473.65392305]),\n",
       " <a list of 10 Patch objects>)"
      ]
     },
     "execution_count": 30,
     "metadata": {},
     "output_type": "execute_result"
    },
    {
     "data": {
      "image/png": "[encoded data removed]",
      "text/plain": [
       "<matplotlib.figure.Figure at 0x7f873bd0d9b0>"
      ]
     },
     "metadata": {},
     "output_type": "display_data"
    }
   ],
   "source": [
    "# 5.3 Histogramme\n",
    "plt.hist(d2d.to('mas'))"
   ]
  },
  {
   "cell_type": "code",
   "execution_count": 31,
   "metadata": {
    "slideshow": {
     "slide_type": "slide"
    }
   },
   "outputs": [
    {
     "data": {
      "text/plain": [
       "(array([ 2,  3,  5,  6,  7,  8, 11, 12, 13, 15, 18, 19, 22, 27, 29, 30, 31,\n",
       "        32, 33, 35, 38, 39, 40, 42, 44, 46, 49, 50, 53, 56, 59, 64, 68, 69,\n",
       "        70, 71, 72, 74, 76, 77, 79, 83, 91, 94, 95, 96, 97, 98]),)"
      ]
     },
     "execution_count": 31,
     "metadata": {},
     "output_type": "execute_result"
    }
   ],
   "source": [
    "bad = np.where(d2d.to('mas') > 300 * u.mas)\n",
    "bad"
   ]
  },
  {
   "cell_type": "code",
   "execution_count": 32,
   "metadata": {
    "slideshow": {
     "slide_type": "fragment"
    }
   },
   "outputs": [
    {
     "data": {
      "text/plain": [
       "array([ 458,  459, 2668,  464,  465,  105, 1200,  107, 2677, 1210, 2686,\n",
       "       1214,  112, 2690, 1221, 2691,  116,  117, 1245, 1247,  485,  486,\n",
       "        488, 2767, 2787, 2790,  126,  498,  128,  500,  130, 1303,  132,\n",
       "        133,  134, 2851,  509,  510,  138,  139,  140,  141,  142, 1344,\n",
       "       1356, 2902, 2904,  147,  527,  149,  150, 1383,  152,  153,  154,\n",
       "        155, 1401,  157, 2968, 1407, 2996,  161,  162,  547,  548,  165,\n",
       "       3018, 3028,  168,  169, 1470,  171, 1483,  173, 1489,  557,  176,\n",
       "        562, 1500, 1512, 3146, 3148,  574,  576, 3182,  185, 1531,  587,\n",
       "       3207, 1542, 3219,  191,  595, 3257, 3284,  195,  602,  603, 1596,\n",
       "       1597])"
      ]
     },
     "execution_count": 32,
     "metadata": {},
     "output_type": "execute_result"
    }
   ],
   "source": [
    "idx  # indice dans la catalogue 1 des matches du (faux) catalogues de références"
   ]
  },
  {
   "cell_type": "markdown",
   "metadata": {
    "slideshow": {
     "slide_type": "slide"
    }
   },
   "source": [
    "## Exercice 6\n",
    "\n",
    "6. Crées une nouvelle table astropy pour ce nouveau (faux) catalogue contenant les données des objets les plus proches dans le premier catalogue (toute les clés). \n",
    "7. Ajouter 3 colonnes contenant les sorties de la méthode de match\n",
    "8. Sauvegarder votre nouveaux catalogue dans un fichier HDF5."
   ]
  },
  {
   "cell_type": "code",
   "execution_count": 33,
   "metadata": {
    "collapsed": true,
    "slideshow": {
     "slide_type": "slide"
    }
   },
   "outputs": [],
   "source": [
    "# 6.1 Nouveau catalogue\n",
    "ntable = table[idx]"
   ]
  },
  {
   "cell_type": "code",
   "execution_count": 34,
   "metadata": {
    "collapsed": true,
    "slideshow": {
     "slide_type": "fragment"
    }
   },
   "outputs": [],
   "source": [
    "# 6.2 Ajout de colonnes \n",
    "from astropy.table import Column\n",
    "cols = [Column(idx, name='idx'), Column(d2d, name='2d2'), Column(d3d, 'd3d')]\n",
    "ntable.add_columns(cols)"
   ]
  },
  {
   "cell_type": "code",
   "execution_count": 35,
   "metadata": {
    "slideshow": {
     "slide_type": "slide"
    }
   },
   "outputs": [
    {
     "data": {
      "text/html": [
       "&lt;Table length=100&gt;\n",
       "<table id=\"table140218746936288\" class=\"table-striped table-bordered table-condensed\">\n",
       "<thead><tr><th>modelfit_CModel_dev_flux_inner</th><th>modelfit_CModel_fluxSigma</th><th>modelfit_CModel_initial_flag_apCorr</th><th>modelfit_CModel_apCorrSigma</th><th>modelfit_CModel_flux_inner</th><th>modelfit_CModel_initial_flag_numericError</th><th>modelfit_CModel_exp_flag_badReference</th><th>modelfit_CModel_dev_fluxSigma</th><th>modelfit_CModel_flux</th><th>modelfit_CModel_flag_badReference</th><th>objectId</th><th>modelfit_CModel_dev_flux</th><th>modelfit_CModel_initial_flux</th><th>modelfit_CModel_flag_noShapeletPsf</th><th>modelfit_CModel_exp_apCorr</th><th>modelfit_CModel_apCorr</th><th>modelfit_CModel_fracDev</th><th>modelfit_CModel_initial_flag_badReference</th><th>modelfit_CModel_initial_flag</th><th>modelfit_CModel_flag_region_maxBadPixelFraction</th><th>modelfit_CModel_flag</th><th>modelfit_CModel_exp_fluxSigma</th><th>modelfit_CModel_initial_apCorrSigma</th><th>modelfit_CModel_exp_flag</th><th>modelfit_CModel_flag_region_maxArea</th><th>modelfit_CModel_flag_badCentroid</th><th>modelfit_CModel_dev_apCorr</th><th>modelfit_CModel_initial_flux_inner</th><th>modelfit_CModel_dev_flag_badReference</th><th>coord_ra</th><th>tract</th><th>modelfit_CModel_exp_flux_inner</th><th>modelfit_CModel_exp_flag_apCorr</th><th>modelfit_CModel_dev_apCorrSigma</th><th>modelfit_CModel_initial_fluxSigma</th><th>modelfit_CModel_dev_flag_numericError</th><th>modelfit_CModel_dev_flag_apCorr</th><th>modelfit_CModel_initial_apCorr</th><th>modelfit_CModel_flag_apCorr</th><th>patch</th><th>filter</th><th>modelfit_CModel_objective</th><th>modelfit_CModel_exp_apCorrSigma</th><th>coord_dec</th><th>modelfit_CModel_dev_flag</th><th>modelfit_CModel_exp_flag_numericError</th><th>modelfit_CModel_exp_flux</th><th>modelfit_CModel_mag</th><th>modelfit_CModel_magSigma</th><th>modelfit_CModel_dev_mag</th><th>modelfit_CModel_dev_magSigma</th><th>modelfit_CModel_initial_mag</th><th>modelfit_CModel_initial_magSigma</th><th>modelfit_CModel_exp_mag</th><th>modelfit_CModel_exp_magSigma</th><th>x_Src</th><th>y_Src</th><th>coord_ra_deg</th><th>coord_dec_deg</th><th>idx</th><th>2d2</th><th>d3d</th></tr></thead>\n",
       "<thead><tr><th></th><th></th><th></th><th></th><th></th><th></th><th></th><th></th><th></th><th></th><th></th><th></th><th></th><th></th><th></th><th></th><th></th><th></th><th></th><th></th><th></th><th></th><th></th><th></th><th></th><th></th><th></th><th></th><th></th><th></th><th></th><th></th><th></th><th></th><th></th><th></th><th></th><th></th><th></th><th></th><th></th><th></th><th></th><th></th><th></th><th></th><th></th><th></th><th></th><th></th><th></th><th></th><th></th><th></th><th></th><th></th><th></th><th></th><th></th><th></th><th>deg</th><th></th></tr></thead>\n",
       "<thead><tr><th>float64</th><th>float64</th><th>bool</th><th>float64</th><th>float64</th><th>bool</th><th>bool</th><th>float64</th><th>float64</th><th>bool</th><th>int64</th><th>float64</th><th>float64</th><th>bool</th><th>float64</th><th>float64</th><th>float64</th><th>bool</th><th>bool</th><th>bool</th><th>bool</th><th>float64</th><th>float64</th><th>bool</th><th>bool</th><th>bool</th><th>float64</th><th>float64</th><th>bool</th><th>float64</th><th>int64</th><th>float64</th><th>bool</th><th>float64</th><th>float64</th><th>bool</th><th>bool</th><th>float64</th><th>bool</th><th>bytes3</th><th>bytes1</th><th>float64</th><th>float64</th><th>float64</th><th>bool</th><th>bool</th><th>float64</th><th>float64</th><th>float64</th><th>float64</th><th>float64</th><th>float64</th><th>float64</th><th>float64</th><th>float64</th><th>float64</th><th>float64</th><th>float64</th><th>float64</th><th>int64</th><th>float64</th><th>float64</th></tr></thead>\n",
       "<tr><td>12.124650021</td><td>0.570660536808</td><td>True</td><td>nan</td><td>12.2413831984</td><td>False</td><td>False</td><td>0.628060816787</td><td>14.1163449833</td><td>False</td><td>1099914292820</td><td>15.4242224746</td><td>14.8975441133</td><td>False</td><td>nan</td><td>nan</td><td>0.0</td><td>False</td><td>False</td><td>False</td><td>False</td><td>0.57066055188</td><td>nan</td><td>False</td><td>False</td><td>False</td><td>nan</td><td>12.9054652041</td><td>False</td><td>5.9487698442</td><td>0</td><td>12.2413811217</td><td>True</td><td>nan</td><td>0.596296993342</td><td>False</td><td>True</td><td>nan</td><td>True</td><td>1,3</td><td>u</td><td>0.242534478709</td><td>nan</td><td>-0.16855833144</td><td>False</td><td>False</td><td>14.1163465661</td><td>24.1256943416</td><td>0.043891446842</td><td>24.0294917981</td><td>0.0442102263956</td><td>24.0672132998</td><td>0.0434582525506</td><td>24.1256942199</td><td>0.0438914430799</td><td>7464.8558605</td><td>12966.307363</td><td>340.839405367</td><td>-9.65768099328</td><td>458</td><td>6.63458533869e-05</td><td>1.15795358692e-06</td></tr>\n",
       "<tr><td>76.8452023154</td><td>0.600170617905</td><td>True</td><td>nan</td><td>76.8452042501</td><td>False</td><td>False</td><td>0.60017068062</td><td>118.529611785</td><td>False</td><td>1099914292822</td><td>118.529615152</td><td>118.376007277</td><td>False</td><td>nan</td><td>nan</td><td>1.0</td><td>False</td><td>False</td><td>False</td><td>False</td><td>0.599393355313</td><td>nan</td><td>False</td><td>False</td><td>False</td><td>nan</td><td>76.804613127</td><td>False</td><td>5.94935625966</td><td>0</td><td>76.801693487</td><td>True</td><td>nan</td><td>0.59948883936</td><td>False</td><td>True</td><td>nan</td><td>True</td><td>1,3</td><td>u</td><td>0.678517527506</td><td>nan</td><td>-0.168526983837</td><td>False</td><td>False</td><td>118.355517562</td><td>21.8154328451</td><td>0.0054975879789</td><td>21.8154328142</td><td>0.00549758839721</td><td>21.8168407813</td><td>0.00549846841613</td><td>21.8170287277</td><td>0.00549854438694</td><td>6820.21043121</td><td>13000.3883106</td><td>340.873004498</td><td>-9.65588490794</td><td>459</td><td>4.8079954286e-05</td><td>8.39153506501e-07</td></tr>\n",
       "<tr><td>1181.90231294</td><td>0.897403275406</td><td>True</td><td>nan</td><td>1178.99695567</td><td>False</td><td>False</td><td>0.916056514048</td><td>1389.83106765</td><td>False</td><td>1099914292852</td><td>1414.9686042</td><td>1375.53972557</td><td>False</td><td>nan</td><td>nan</td><td>0.0</td><td>False</td><td>False</td><td>False</td><td>False</td><td>0.897403250756</td><td>nan</td><td>False</td><td>False</td><td>False</td><td>nan</td><td>1169.69906516</td><td>False</td><td>5.9490000827</td><td>0</td><td>1178.99696302</td><td>True</td><td>nan</td><td>0.890237991744</td><td>False</td><td>True</td><td>nan</td><td>True</td><td>1,3</td><td>i</td><td>93.9780954316</td><td>nan</td><td>-0.168545798209</td><td>False</td><td>False</td><td>1389.83116075</td><td>19.1425949613</td><td>0.000701051551556</td><td>19.1231329908</td><td>0.000702910099879</td><td>19.1538171567</td><td>0.000702679537726</td><td>19.1425948886</td><td>0.000701051485336</td><td>7211.75627482</td><td>12979.9472181</td><td>340.852597062</td><td>-9.65696289205</td><td>2668</td><td>8.48852516706e-05</td><td>1.48152712797e-06</td></tr>\n",
       "<tr><td>15.3225020046</td><td>0.477211122848</td><td>True</td><td>nan</td><td>15.3226522892</td><td>False</td><td>False</td><td>0.477198496253</td><td>23.3951962974</td><td>False</td><td>1099914292867</td><td>23.3945632461</td><td>23.3943580723</td><td>False</td><td>nan</td><td>nan</td><td>0.0</td><td>False</td><td>False</td><td>False</td><td>False</td><td>0.477211058372</td><td>nan</td><td>False</td><td>False</td><td>False</td><td>nan</td><td>15.3224918081</td><td>False</td><td>5.94999304825</td><td>0</td><td>15.3226525333</td><td>True</td><td>nan</td><td>0.477193994856</td><td>False</td><td>True</td><td>nan</td><td>True</td><td>1,3</td><td>u</td><td>0.0757451144829</td><td>nan</td><td>-0.168542944776</td><td>False</td><td>False</td><td>23.3951944083</td><td>23.5771832663</td><td>0.0221466572369</td><td>23.5772126456</td><td>0.0221466705229</td><td>23.5772221677</td><td>0.0221466558435</td><td>23.5771833539</td><td>0.022146656033</td><td>6120.25809232</td><td>12981.5741371</td><td>340.909489797</td><td>-9.65679940238</td><td>464</td><td>9.27931627128e-05</td><td>1.61954621277e-06</td></tr>\n",
       "<tr><td>14.2593875594</td><td>0.560939156176</td><td>True</td><td>nan</td><td>14.2308598671</td><td>False</td><td>False</td><td>0.621386746519</td><td>18.6387555516</td><td>False</td><td>1099914292869</td><td>20.6193977928</td><td>18.3833845378</td><td>False</td><td>nan</td><td>nan</td><td>0.0</td><td>False</td><td>False</td><td>False</td><td>False</td><td>0.560939198377</td><td>nan</td><td>False</td><td>False</td><td>False</td><td>nan</td><td>14.39283354</td><td>False</td><td>5.94955216925</td><td>0</td><td>14.2308586501</td><td>True</td><td>nan</td><td>0.550844622114</td><td>False</td><td>True</td><td>nan</td><td>True</td><td>1,3</td><td>u</td><td>0.178985803676</td><td>nan</td><td>-0.168516749806</td><td>False</td><td>False</td><td>18.6387574029</td><td>23.8239577186</td><td>0.0326755693985</td><td>23.714310057</td><td>0.0327197765246</td><td>23.8389363207</td><td>0.0325332883178</td><td>23.8239576107</td><td>0.0326755686111</td><td>6604.84492154</td><td>13011.4940022</td><td>340.884229291</td><td>-9.65529854115</td><td>465</td><td>3.65701112535e-05</td><td>6.38268849138e-07</td></tr>\n",
       "<tr><td>14.1856572825</td><td>0.713223143811</td><td>True</td><td>nan</td><td>13.9524676218</td><td>False</td><td>False</td><td>0.953771110237</td><td>15.8162919185</td><td>False</td><td>1099914282189</td><td>21.0290314024</td><td>15.9458763727</td><td>False</td><td>nan</td><td>nan</td><td>0.0</td><td>False</td><td>False</td><td>False</td><td>False</td><td>0.713223170038</td><td>nan</td><td>False</td><td>False</td><td>False</td><td>nan</td><td>14.1500297664</td><td>False</td><td>5.94892967975</td><td>0</td><td>13.9524691907</td><td>True</td><td>nan</td><td>0.716373385208</td><td>False</td><td>True</td><td>nan</td><td>True</td><td>1,3</td><td>u</td><td>0.413414131844</td><td>nan</td><td>-0.168546838211</td><td>False</td><td>False</td><td>15.8162930206</td><td>24.0022383198</td><td>0.0489604133065</td><td>23.6929518262</td><td>0.0492435341229</td><td>23.9933790182</td><td>0.0487770318964</td><td>24.0022382442</td><td>0.0489604116954</td><td>7289.14588688</td><td>12978.8909543</td><td>340.84856327</td><td>-9.65702247978</td><td>105</td><td>9.75287967079e-05</td><td>1.7021986182e-06</td></tr>\n",
       "<tr><td>37.652385324</td><td>0.637131770979</td><td>True</td><td>nan</td><td>37.7632675171</td><td>False</td><td>False</td><td>0.72841943115</td><td>42.1675373836</td><td>False</td><td>1099914282195</td><td>48.0488802023</td><td>41.6310740147</td><td>False</td><td>nan</td><td>nan</td><td>0.050517510385</td><td>False</td><td>False</td><td>False</td><td>False</td><td>0.63283317117</td><td>nan</td><td>False</td><td>False</td><td>False</td><td>nan</td><td>37.6846548061</td><td>False</td><td>5.9486750674</td><td>0</td><td>37.7590914499</td><td>True</td><td>nan</td><td>0.628596211718</td><td>False</td><td>True</td><td>nan</td><td>True</td><td>1,3</td><td>i</td><td>0.300282039642</td><td>nan</td><td>-0.168521696261</td><td>False</td><td>False</td><td>41.8843629856</td><td>22.9375544034</td><td>0.016404966329</td><td>22.7957918232</td><td>0.0164597248743</td><td>22.9514559622</td><td>0.0163937558996</td><td>22.9448702133</td><td>0.0164044487378</td><td>7568.98377944</td><td>13007.2898686</td><td>340.833975057</td><td>-9.65558195216</td><td>1200</td><td>0.000107848122645</td><td>1.88230483227e-06</td></tr>\n",
       "<tr><td>8.40176321541</td><td>0.510307771815</td><td>True</td><td>nan</td><td>8.35210227966</td><td>False</td><td>False</td><td>0.525212461803</td><td>11.8482454351</td><td>False</td><td>1099914282200</td><td>12.1986330476</td><td>11.7821208707</td><td>False</td><td>nan</td><td>nan</td><td>0.0592510375714</td><td>False</td><td>False</td><td>False</td><td>False</td><td>0.509394893448</td><td>nan</td><td>False</td><td>False</td><td>False</td><td>nan</td><td>8.33897612113</td><td>False</td><td>5.94976548548</td><td>0</td><td>8.34899684171</td><td>True</td><td>nan</td><td>0.507634883505</td><td>False</td><td>True</td><td>nan</td><td>True</td><td>1,3</td><td>u</td><td>0.0863726977263</td><td>nan</td><td>-0.168519151458</td><td>False</td><td>False</td><td>11.8267455111</td><td>24.3158648951</td><td>0.0467630103093</td><td>24.2842220817</td><td>0.0467464004159</td><td>24.3219413156</td><td>0.0467791476483</td><td>24.3178368707</td><td>0.046764215719</td><td>6370.36431659</td><td>13008.4758688</td><td>340.896451411</td><td>-9.65543614568</td><td>107</td><td>0.000117894170967</td><td>2.05764145212e-06</td></tr>\n",
       "<tr><td>57.9224224707</td><td>0.723711063024</td><td>True</td><td>nan</td><td>57.922416687</td><td>False</td><td>False</td><td>0.723711021798</td><td>75.2953289503</td><td>False</td><td>1099914292893</td><td>75.295329444</td><td>65.6538613567</td><td>False</td><td>nan</td><td>nan</td><td>1.0</td><td>False</td><td>False</td><td>False</td><td>False</td><td>0.61289358205</td><td>nan</td><td>False</td><td>False</td><td>False</td><td>nan</td><td>58.3223201075</td><td>False</td><td>5.94836807938</td><td>0</td><td>56.2335039689</td><td>True</td><td>nan</td><td>0.624607574989</td><td>False</td><td>True</td><td>nan</td><td>True</td><td>1,3</td><td>i</td><td>0.881151100359</td><td>nan</td><td>-0.168503093119</td><td>False</td><td>False</td><td>63.6591145407</td><td>22.3080799126</td><td>0.0104356978562</td><td>22.3080799054</td><td>0.0104356971933</td><td>22.4568493157</td><td>0.0103293095626</td><td>22.4903485161</td><td>0.0104531889345</td><td>7906.40404062</td><td>13028.4574096</td><td>340.816385939</td><td>-9.65451607064</td><td>2677</td><td>0.000104371412872</td><td>1.82162479951e-06</td></tr>\n",
       "<tr><td>...</td><td>...</td><td>...</td><td>...</td><td>...</td><td>...</td><td>...</td><td>...</td><td>...</td><td>...</td><td>...</td><td>...</td><td>...</td><td>...</td><td>...</td><td>...</td><td>...</td><td>...</td><td>...</td><td>...</td><td>...</td><td>...</td><td>...</td><td>...</td><td>...</td><td>...</td><td>...</td><td>...</td><td>...</td><td>...</td><td>...</td><td>...</td><td>...</td><td>...</td><td>...</td><td>...</td><td>...</td><td>...</td><td>...</td><td>...</td><td>...</td><td>...</td><td>...</td><td>...</td><td>...</td><td>...</td><td>...</td><td>...</td><td>...</td><td>...</td><td>...</td><td>...</td><td>...</td><td>...</td><td>...</td><td>...</td><td>...</td><td>...</td><td>...</td><td>...</td><td>...</td><td>...</td></tr>\n",
       "<tr><td>966.825588326</td><td>0.856958066281</td><td>True</td><td>nan</td><td>967.804674684</td><td>False</td><td>False</td><td>0.863912308852</td><td>1150.63648647</td><td>False</td><td>1099914294641</td><td>1157.17465203</td><td>1139.88281606</td><td>False</td><td>nan</td><td>nan</td><td>0.0</td><td>False</td><td>False</td><td>False</td><td>False</td><td>0.856958008692</td><td>nan</td><td>False</td><td>False</td><td>False</td><td>nan</td><td>960.588614208</td><td>False</td><td>5.94874911337</td><td>0</td><td>967.804640963</td><td>True</td><td>nan</td><td>0.850852579479</td><td>False</td><td>True</td><td>nan</td><td>True</td><td>1,3</td><td>i</td><td>41.1344218784</td><td>nan</td><td>-0.167610945934</td><td>False</td><td>False</td><td>1150.636338</td><td>19.3476546467</td><td>0.000808622366367</td><td>19.3415027204</td><td>0.000810578480793</td><td>19.3578494834</td><td>0.000810435456557</td><td>19.3476547868</td><td>0.000808622416371</td><td>7486.29307386</td><td>14022.6549466</td><td>340.838217578</td><td>-9.60339980222</td><td>3219</td><td>7.01523456079e-05</td><td>1.2243894086e-06</td></tr>\n",
       "<tr><td>12.9155970176</td><td>0.479349010248</td><td>True</td><td>nan</td><td>12.9136953354</td><td>False</td><td>False</td><td>0.479533397645</td><td>20.0337680363</td><td>False</td><td>1099914283364</td><td>20.0415824286</td><td>20.0334085869</td><td>False</td><td>nan</td><td>nan</td><td>0.0</td><td>False</td><td>False</td><td>False</td><td>False</td><td>0.4793490431</td><td>nan</td><td>False</td><td>False</td><td>False</td><td>nan</td><td>12.9137976397</td><td>False</td><td>5.94832332821</td><td>0</td><td>12.9136967613</td><td>True</td><td>nan</td><td>0.479336849782</td><td>False</td><td>True</td><td>nan</td><td>True</td><td>1,3</td><td>u</td><td>0.0927085632712</td><td>nan</td><td>-0.16763654679</td><td>False</td><td>False</td><td>20.0337682423</td><td>23.7455933977</td><td>0.0259784666668</td><td>23.7451699769</td><td>0.0259783264654</td><td>23.7456128783</td><td>0.0259782737333</td><td>23.7455933865</td><td>0.02597846818</td><td>7954.42797999</td><td>13994.6986622</td><td>340.813821886</td><td>-9.60486662319</td><td>191</td><td>9.87237770326e-05</td><td>1.72305495902e-06</td></tr>\n",
       "<tr><td>287.706587803</td><td>1.0449188222</td><td>True</td><td>nan</td><td>287.706585054</td><td>False</td><td>False</td><td>1.04491852289</td><td>339.178460082</td><td>False</td><td>1099914294720</td><td>339.178416017</td><td>330.968771377</td><td>False</td><td>nan</td><td>nan</td><td>1.0</td><td>False</td><td>False</td><td>False</td><td>False</td><td>0.919977923691</td><td>nan</td><td>False</td><td>False</td><td>False</td><td>nan</td><td>305.078825875</td><td>False</td><td>5.94956816229</td><td>0</td><td>285.253977079</td><td>True</td><td>nan</td><td>1.01058846374</td><td>False</td><td>True</td><td>nan</td><td>True</td><td>1,3</td><td>u</td><td>81.9442664586</td><td>nan</td><td>-0.167621679762</td><td>False</td><td>False</td><td>301.387761007</td><td>20.6739293398</td><td>0.00334486510737</td><td>20.6739294808</td><td>0.00334486458379</td><td>20.7005324556</td><td>0.00331521454012</td><td>20.8021859696</td><td>0.00331418016443</td><td>6585.85412224</td><td>14009.4621338</td><td>340.885145625</td><td>-9.60401480525</td><td>595</td><td>7.20484497374e-05</td><td>1.25748266876e-06</td></tr>\n",
       "<tr><td>58.4204979542</td><td>0.593001107814</td><td>True</td><td>nan</td><td>58.4204953121</td><td>False</td><td>False</td><td>0.593001111597</td><td>71.4707227054</td><td>False</td><td>1099914294745</td><td>71.470720879</td><td>65.7392569454</td><td>False</td><td>nan</td><td>nan</td><td>1.0</td><td>False</td><td>False</td><td>False</td><td>False</td><td>0.546750419371</td><td>nan</td><td>False</td><td>False</td><td>False</td><td>nan</td><td>57.2222897223</td><td>False</td><td>5.94865006514</td><td>0</td><td>57.1257503527</td><td>True</td><td>nan</td><td>0.545145934209</td><td>False</td><td>True</td><td>nan</td><td>True</td><td>1,3</td><td>i</td><td>0.55424945978</td><td>nan</td><td>-0.167602048593</td><td>False</td><td>False</td><td>65.8275314288</td><td>22.3646795658</td><td>0.00900848274432</td><td>22.3646795936</td><td>0.00900848303199</td><td>22.4554380227</td><td>0.00900351943648</td><td>22.4539810773</td><td>0.00901790956447</td><td>7595.17262434</td><td>14032.7150642</td><td>340.832542533</td><td>-9.60289002214</td><td>3257</td><td>5.31877713685e-05</td><td>9.28301732187e-07</td></tr>\n",
       "<tr><td>707.473599529</td><td>0.989038252384</td><td>True</td><td>nan</td><td>707.473524875</td><td>False</td><td>False</td><td>0.989038301391</td><td>864.860212577</td><td>False</td><td>1099914294806</td><td>864.860241023</td><td>861.43267285</td><td>False</td><td>nan</td><td>nan</td><td>1.0</td><td>False</td><td>False</td><td>False</td><td>False</td><td>0.986204258436</td><td>nan</td><td>False</td><td>False</td><td>False</td><td>nan</td><td>705.59371825</td><td>False</td><td>5.95004482531</td><td>0</td><td>705.58779443</td><td>True</td><td>nan</td><td>0.985704854265</td><td>False</td><td>True</td><td>nan</td><td>True</td><td>1,3</td><td>i</td><td>22.2776901088</td><td>nan</td><td>-0.167571587269</td><td>False</td><td>False</td><td>861.824439001</td><td>19.6576352048</td><td>0.00124162797975</td><td>19.6576351691</td><td>0.00124162800043</td><td>19.6619466503</td><td>0.00124236690947</td><td>19.6614529867</td><td>0.00124243131224</td><td>6061.72667808</td><td>14064.5453792</td><td>340.912456404</td><td>-9.60114471681</td><td>3284</td><td>8.51250086591e-05</td><td>1.48571167693e-06</td></tr>\n",
       "<tr><td>10.384392577</td><td>0.543776334681</td><td>True</td><td>nan</td><td>10.3843934967</td><td>False</td><td>False</td><td>0.543776359812</td><td>15.4656692526</td><td>False</td><td>1099914283467</td><td>15.4656701634</td><td>14.3387110242</td><td>False</td><td>nan</td><td>nan</td><td>1.0</td><td>False</td><td>False</td><td>False</td><td>False</td><td>0.507931894037</td><td>nan</td><td>False</td><td>False</td><td>False</td><td>nan</td><td>10.3103119573</td><td>False</td><td>5.94906280538</td><td>0</td><td>10.2615574025</td><td>True</td><td>nan</td><td>0.504107184614</td><td>False</td><td>True</td><td>nan</td><td>True</td><td>1,3</td><td>u</td><td>0.0772988013393</td><td>nan</td><td>-0.167526594202</td><td>False</td><td>False</td><td>14.4338133925</td><td>24.0265782046</td><td>0.0381747239133</td><td>24.0265781407</td><td>0.0381747234296</td><td>24.1087247193</td><td>0.038171312644</td><td>24.1015472844</td><td>0.0382075084324</td><td>7141.29883599</td><td>14116.2511164</td><td>340.856190806</td><td>-9.59856680396</td><td>195</td><td>9.28820678555e-05</td><td>1.62109790006e-06</td></tr>\n",
       "<tr><td>22.4070104016</td><td>0.647227558545</td><td>True</td><td>nan</td><td>23.4670543671</td><td>False</td><td>False</td><td>0.675855489849</td><td>24.7934228619</td><td>False</td><td>1099914294871</td><td>25.5103396556</td><td>29.0993173849</td><td>False</td><td>nan</td><td>nan</td><td>0.0</td><td>False</td><td>False</td><td>False</td><td>False</td><td>0.647227528114</td><td>nan</td><td>False</td><td>False</td><td>False</td><td>nan</td><td>26.990755494</td><td>False</td><td>5.94921046856</td><td>0</td><td>23.4670606938</td><td>True</td><td>nan</td><td>0.748101438815</td><td>False</td><td>True</td><td>nan</td><td>True</td><td>1,3</td><td>u</td><td>0.535898646962</td><td>nan</td><td>-0.167545309505</td><td>False</td><td>False</td><td>24.7934244312</td><td>23.5141587812</td><td>0.0283429358239</td><td>23.4832093974</td><td>0.0287648374902</td><td>23.3402929966</td><td>0.0279127103296</td><td>23.5141587124</td><td>0.0283429326973</td><td>6978.98514066</td><td>14095.1637609</td><td>340.864651284</td><td>-9.59963911186</td><td>602</td><td>9.08373807157e-05</td><td>1.58541137722e-06</td></tr>\n",
       "<tr><td>43.5841718875</td><td>1.37835597176</td><td>True</td><td>nan</td><td>44.1181761394</td><td>False</td><td>False</td><td>1.69013980512</td><td>47.1425824174</td><td>False</td><td>1099914294878</td><td>57.3530260639</td><td>49.2277829932</td><td>False</td><td>nan</td><td>nan</td><td>0.0179885775472</td><td>False</td><td>False</td><td>False</td><td>False</td><td>1.37361242039</td><td>nan</td><td>False</td><td>False</td><td>False</td><td>nan</td><td>46.1245082481</td><td>False</td><td>5.95010373412</td><td>0</td><td>44.119724471</td><td>True</td><td>nan</td><td>1.42642631055</td><td>False</td><td>True</td><td>nan</td><td>True</td><td>1,3</td><td>u</td><td>1.65039211076</td><td>nan</td><td>-0.167521342838</td><td>False</td><td>False</td><td>46.9824585103</td><td>22.8164665775</td><td>0.031744781572</td><td>22.6036091572</td><td>0.0319956260979</td><td>22.7694743063</td><td>0.0314603379355</td><td>22.8201606527</td><td>0.0317433523791</td><td>5996.87725667</td><td>14120.4695449</td><td>340.91583163</td><td>-9.59826592301</td><td>603</td><td>0.000103721213872</td><td>1.8102766861e-06</td></tr>\n",
       "<tr><td>57.3472491838</td><td>0.789675893731</td><td>True</td><td>nan</td><td>61.0942361001</td><td>False</td><td>False</td><td>0.867887173177</td><td>71.9452416764</td><td>False</td><td>1099914283493</td><td>77.7178091125</td><td>78.2049743745</td><td>False</td><td>nan</td><td>nan</td><td>0.0</td><td>False</td><td>False</td><td>False</td><td>False</td><td>0.789675939952</td><td>nan</td><td>False</td><td>False</td><td>False</td><td>nan</td><td>71.043507185</td><td>False</td><td>5.94891080029</td><td>0</td><td>61.0942448052</td><td>True</td><td>nan</td><td>0.811861270653</td><td>False</td><td>True</td><td>nan</td><td>True</td><td>1,3</td><td>i</td><td>3.39805258386</td><td>nan</td><td>-0.167537250945</td><td>False</td><td>False</td><td>71.9452452494</td><td>22.3574948105</td><td>0.0119171148483</td><td>22.273698627</td><td>0.012124589413</td><td>22.2669140549</td><td>0.0112712417828</td><td>22.3574947566</td><td>0.011917114954</td><td>7308.42942947</td><td>14104.5914463</td><td>340.847481557</td><td>-9.59917739038</td><td>1596</td><td>8.47694392445e-05</td><td>1.47950581989e-06</td></tr>\n",
       "<tr><td>746.099896418</td><td>0.783441789271</td><td>True</td><td>nan</td><td>745.884479092</td><td>False</td><td>False</td><td>0.783647728005</td><td>904.635225606</td><td>False</td><td>1099914283507</td><td>904.951480598</td><td>905.134927718</td><td>False</td><td>nan</td><td>nan</td><td>0.0</td><td>False</td><td>False</td><td>False</td><td>False</td><td>0.783441823565</td><td>nan</td><td>False</td><td>False</td><td>False</td><td>nan</td><td>746.230229546</td><td>False</td><td>5.94843700361</td><td>0</td><td>745.884467642</td><td>True</td><td>nan</td><td>0.783761280951</td><td>False</td><td>True</td><td>nan</td><td>True</td><td>1,3</td><td>i</td><td>34.810122249</td><td>nan</td><td>-0.167521237328</td><td>False</td><td>False</td><td>904.635137282</td><td>19.6088162632</td><td>0.000940280779319</td><td>19.6084367627</td><td>0.000940199257433</td><td>19.6082166901</td><td>0.000940144913822</td><td>19.6088163692</td><td>0.000940280912282</td><td>7829.29841084</td><td>14123.1123295</td><td>340.820335006</td><td>-9.59825987768</td><td>1597</td><td>7.40706274576e-05</td><td>1.29277632804e-06</td></tr>\n",
       "</table>"
      ],
      "text/plain": [
       "<Table length=100>\n",
       "modelfit_CModel_dev_flux_inner modelfit_CModel_fluxSigma ...        d3d       \n",
       "                                                         ...                  \n",
       "           float64                      float64          ...      float64     \n",
       "------------------------------ ------------------------- ... -----------------\n",
       "                  12.124650021            0.570660536808 ... 1.15795358692e-06\n",
       "                 76.8452023154            0.600170617905 ... 8.39153506501e-07\n",
       "                 1181.90231294            0.897403275406 ... 1.48152712797e-06\n",
       "                 15.3225020046            0.477211122848 ... 1.61954621277e-06\n",
       "                 14.2593875594            0.560939156176 ... 6.38268849138e-07\n",
       "                 14.1856572825            0.713223143811 ...  1.7021986182e-06\n",
       "                  37.652385324            0.637131770979 ... 1.88230483227e-06\n",
       "                 8.40176321541            0.510307771815 ... 2.05764145212e-06\n",
       "                 57.9224224707            0.723711063024 ... 1.82162479951e-06\n",
       "                           ...                       ... ...               ...\n",
       "                 966.825588326            0.856958066281 ...  1.2243894086e-06\n",
       "                 12.9155970176            0.479349010248 ... 1.72305495902e-06\n",
       "                 287.706587803              1.0449188222 ... 1.25748266876e-06\n",
       "                 58.4204979542            0.593001107814 ... 9.28301732187e-07\n",
       "                 707.473599529            0.989038252384 ... 1.48571167693e-06\n",
       "                  10.384392577            0.543776334681 ... 1.62109790006e-06\n",
       "                 22.4070104016            0.647227558545 ... 1.58541137722e-06\n",
       "                 43.5841718875             1.37835597176 ...  1.8102766861e-06\n",
       "                 57.3472491838            0.789675893731 ... 1.47950581989e-06\n",
       "                 746.099896418            0.783441789271 ... 1.29277632804e-06"
      ]
     },
     "execution_count": 35,
     "metadata": {},
     "output_type": "execute_result"
    }
   ],
   "source": [
    "ntable"
   ]
  },
  {
   "cell_type": "code",
   "execution_count": 36,
   "metadata": {
    "collapsed": true,
    "slideshow": {
     "slide_type": "slide"
    }
   },
   "outputs": [],
   "source": [
    "# 6.3 Sauvegarder le nouveau catalogues\n",
    "ntable.write('newtable.hdf5', path='deepCoadd_forced_src', overwrite='True')"
   ]
  },
  {
   "cell_type": "markdown",
   "metadata": {
    "slideshow": {
     "slide_type": "slide"
    }
   },
   "source": [
    "## Exercice 7 - WCS\n",
    "\n",
    "1. Charger le WCS du ficher de données (`path=wcs`)\n",
    "2. Utiliser la fonction suivante pour le convertir dans le bon format (un dictionnaire)\n",
    "\n",
    "        def load_wcs(wcs):\n",
    "            return {k: wcs[k].item().decode() if isinstance(wcs[k].item(), bytes) else wcs[k].item() for k in wcs.keys()}\n",
    "        \n",
    "3. À l'aide de la classe `WCS` du module `astropy.wcs`, créer un objet WCS à partir du dictionnaire obtenu\n",
    "4. Convertir les coordonnées des objets du catalogues en pixel, et tracer la carte des objets en pixel.\n",
    "5. Faite la transformation inverse, et vérifier l'integrité des données (valeurs des coordonnées avant et après)."
   ]
  },
  {
   "cell_type": "code",
   "execution_count": 37,
   "metadata": {
    "collapsed": true,
    "slideshow": {
     "slide_type": "slide"
    }
   },
   "outputs": [],
   "source": [
    "# 7.1 chargement du WCS\n",
    "from astropy.wcs import WCS, utils\n",
    "wcs = Table.read(mon_fichier, path='wcs')"
   ]
  },
  {
   "cell_type": "code",
   "execution_count": 38,
   "metadata": {
    "slideshow": {
     "slide_type": "fragment"
    }
   },
   "outputs": [
    {
     "data": {
      "text/html": [
       "&lt;Table length=1&gt;\n",
       "<table id=\"table140218746257304\" class=\"table-striped table-bordered table-condensed\">\n",
       "<thead><tr><th>CD1_2</th><th>CD1_1</th><th>CRVAL2</th><th>CRPIX1</th><th>CRPIX2</th><th>CRVAL1</th><th>CUNIT2</th><th>NAXIS</th><th>CUNIT1</th><th>CTYPE2</th><th>CTYPE1</th><th>CD2_2</th><th>CD2_1</th><th>RADESYS</th></tr></thead>\n",
       "<thead><tr><th>float64</th><th>float64</th><th>float64</th><th>float64</th><th>float64</th><th>float64</th><th>bytes3</th><th>int64</th><th>bytes3</th><th>bytes8</th><th>bytes8</th><th>float64</th><th>float64</th><th>bytes4</th></tr></thead>\n",
       "<tr><td>0.0</td><td>-5.13888888889e-05</td><td>-9.50212029171</td><td>16000.0</td><td>16000.0</td><td>340.394550607</td><td>deg</td><td>2</td><td>deg</td><td>DEC--TAN</td><td>RA---TAN</td><td>5.13888888889e-05</td><td>0.0</td><td>ICRS</td></tr>\n",
       "</table>"
      ],
      "text/plain": [
       "<Table length=1>\n",
       " CD1_2        CD1_1            CRVAL2     ...       CD2_2        CD2_1  RADESYS\n",
       "float64      float64          float64     ...      float64      float64  bytes4\n",
       "------- ------------------ -------------- ... ----------------- ------- -------\n",
       "    0.0 -5.13888888889e-05 -9.50212029171 ... 5.13888888889e-05     0.0    ICRS"
      ]
     },
     "execution_count": 38,
     "metadata": {},
     "output_type": "execute_result"
    }
   ],
   "source": [
    "wcs"
   ]
  },
  {
   "cell_type": "code",
   "execution_count": 39,
   "metadata": {
    "slideshow": {
     "slide_type": "fragment"
    }
   },
   "outputs": [
    {
     "data": {
      "text/plain": [
       "{'CD1_1': -5.13888888888889e-05,\n",
       " 'CD1_2': 0.0,\n",
       " 'CD2_1': 0.0,\n",
       " 'CD2_2': 5.13888888888889e-05,\n",
       " 'CRPIX1': 16000.0,\n",
       " 'CRPIX2': 16000.0,\n",
       " 'CRVAL1': 340.394550606816,\n",
       " 'CRVAL2': -9.50212029170686,\n",
       " 'CTYPE1': 'RA---TAN',\n",
       " 'CTYPE2': 'DEC--TAN',\n",
       " 'CUNIT1': 'deg',\n",
       " 'CUNIT2': 'deg',\n",
       " 'NAXIS': 2,\n",
       " 'RADESYS': 'ICRS'}"
      ]
     },
     "execution_count": 39,
     "metadata": {},
     "output_type": "execute_result"
    }
   ],
   "source": [
    "# 7.2 transformation en dictionnaire\n",
    "nwcs = {k: wcs[k].item().decode() if isinstance(wcs[k].item(), bytes) else wcs[k].item() for k in wcs.keys()}\n",
    "nwcs"
   ]
  },
  {
   "cell_type": "code",
   "execution_count": 40,
   "metadata": {
    "slideshow": {
     "slide_type": "slide"
    }
   },
   "outputs": [],
   "source": [
    "# 7.3 création d'un objet astropy WCS\n",
    "owcs = WCS(nwcs)"
   ]
  },
  {
   "cell_type": "code",
   "execution_count": 41,
   "metadata": {
    "collapsed": true,
    "slideshow": {
     "slide_type": "fragment"
    }
   },
   "outputs": [],
   "source": [
    "# 7.4 transformation en pixel et figure\n",
    "ra = table['coord_ra_deg'] * u.deg\n",
    "dec = table['coord_dec_deg'] * u.deg\n",
    "coords = SkyCoord(ra, dec)\n",
    "x, y = utils.skycoord_to_pixel(coords, owcs)"
   ]
  },
  {
   "cell_type": "code",
   "execution_count": 42,
   "metadata": {
    "slideshow": {
     "slide_type": "slide"
    }
   },
   "outputs": [
    {
     "data": {
      "text/plain": [
       "[<matplotlib.lines.Line2D at 0x7f873884bba8>]"
      ]
     },
     "execution_count": 42,
     "metadata": {},
     "output_type": "execute_result"
    },
    {
     "data": {
      "image/png": "[encoded data removed]",
      "text/plain": [
       "<matplotlib.figure.Figure at 0x7f873be305c0>"
      ]
     },
     "metadata": {},
     "output_type": "display_data"
    }
   ],
   "source": [
    "ax = plt.subplot()\n",
    "ax.plot(coords.ra, coords.dec, 'ok')"
   ]
  },
  {
   "cell_type": "code",
   "execution_count": 43,
   "metadata": {
    "slideshow": {
     "slide_type": "slide"
    }
   },
   "outputs": [
    {
     "data": {
      "text/plain": [
       "[<matplotlib.lines.Line2D at 0x7f873bd21eb8>]"
      ]
     },
     "execution_count": 43,
     "metadata": {},
     "output_type": "execute_result"
    },
    {
     "data": {
      "image/png": "[encoded data removed]",
      "text/plain": [
       "<matplotlib.figure.Figure at 0x7f873884bb38>"
      ]
     },
     "metadata": {},
     "output_type": "display_data"
    }
   ],
   "source": [
    "ax = plt.subplot()\n",
    "ax.plot(-x, y, 'ok')"
   ]
  },
  {
   "cell_type": "code",
   "execution_count": 44,
   "metadata": {
    "collapsed": true,
    "slideshow": {
     "slide_type": "slide"
    }
   },
   "outputs": [],
   "source": [
    "# 7.5 transformation inverse et vérification\n",
    "coords2 = utils.pixel_to_skycoord(x, y, owcs)"
   ]
  },
  {
   "cell_type": "code",
   "execution_count": 45,
   "metadata": {
    "slideshow": {
     "slide_type": "fragment"
    }
   },
   "outputs": [
    {
     "data": {
      "text/plain": [
       "True"
      ]
     },
     "execution_count": 45,
     "metadata": {},
     "output_type": "execute_result"
    }
   ],
   "source": [
    "all(coords.ra == coords2.ra)"
   ]
  },
  {
   "cell_type": "code",
   "execution_count": 46,
   "metadata": {
    "slideshow": {
     "slide_type": "fragment"
    }
   },
   "outputs": [
    {
     "data": {
      "text/plain": [
       "array([False, False,  True, ..., False, False, False], dtype=bool)"
      ]
     },
     "execution_count": 46,
     "metadata": {},
     "output_type": "execute_result"
    }
   ],
   "source": [
    "coords.dec == coords2.dec"
   ]
  },
  {
   "cell_type": "code",
   "execution_count": 47,
   "metadata": {
    "slideshow": {
     "slide_type": "fragment"
    }
   },
   "outputs": [
    {
     "data": {
      "text/plain": [
       "-9.7107127827344062"
      ]
     },
     "execution_count": 47,
     "metadata": {},
     "output_type": "execute_result"
    }
   ],
   "source": [
    "coords.dec.deg[0]"
   ]
  },
  {
   "cell_type": "code",
   "execution_count": 48,
   "metadata": {
    "slideshow": {
     "slide_type": "fragment"
    }
   },
   "outputs": [
    {
     "data": {
      "text/plain": [
       "-9.7107127827344115"
      ]
     },
     "execution_count": 48,
     "metadata": {},
     "output_type": "execute_result"
    }
   ],
   "source": [
    "coords2.dec.deg[0]"
   ]
  },
  {
   "cell_type": "markdown",
   "metadata": {
    "slideshow": {
     "slide_type": "slide"
    }
   },
   "source": [
    "## Exercice 8 - Stacking\n",
    "\n",
    "1. Créer 2 sous-tables d'une centaine d'éléments (ligne) à partir de la table principale\n",
    "2. Les \"stacker\" verticalement pour reformer une table unique\n",
    "3. Vérifier que la taille de la table \"stackée\" est bien égale à la somme des tailles des sous-tables"
   ]
  },
  {
   "cell_type": "code",
   "execution_count": 49,
   "metadata": {
    "collapsed": true,
    "slideshow": {
     "slide_type": "slide"
    }
   },
   "outputs": [],
   "source": [
    "# 8.1 Création de deux sous-tables\n",
    "t1 = table[50:100]\n",
    "t2 = table[200:280]"
   ]
  },
  {
   "cell_type": "code",
   "execution_count": 50,
   "metadata": {
    "slideshow": {
     "slide_type": "fragment"
    }
   },
   "outputs": [
    {
     "name": "stdout",
     "output_type": "stream",
     "text": [
      "50 80 130\n",
      "59 59 59\n"
     ]
    }
   ],
   "source": [
    "# 8.2 stacking\n",
    "from astropy.table import vstack\n",
    "t3 = vstack([t1, t2])\n",
    "print(len(t1), len(t2), len(t3))\n",
    "print(len(t1.keys()), len(t2.keys()), len(t3.keys()))"
   ]
  }
 ],
 "metadata": {
  "celltoolbar": "Slideshow",
  "kernelspec": {
   "display_name": "Python 3",
   "language": "python",
   "name": "python3"
  },
  "language_info": {
   "codemirror_mode": {
    "name": "ipython",
    "version": 3
   },
   "file_extension": ".py",
   "mimetype": "text/x-python",
   "name": "python",
   "nbconvert_exporter": "python",
   "pygments_lexer": "ipython3",
   "version": "3.6.2"
  }
 },
 "nbformat": 4,
 "nbformat_minor": 2
}
