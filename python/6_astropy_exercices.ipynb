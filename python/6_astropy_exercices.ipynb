{
 "cells": [
  {
   "cell_type": "markdown",
   "metadata": {
    "slideshow": {
     "slide_type": "slide"
    }
   },
   "source": [
    "# Exercices Astropy"
   ]
  },
  {
   "cell_type": "markdown",
   "metadata": {
    "slideshow": {
     "slide_type": "slide"
    }
   },
   "source": [
    "Les modules Astropy suivants seront, pour la plupart très partiellement, utilisés dans ces exercices :\n",
    "  - `astropy.constants` : constants useful in Astronomy\n",
    "  - `astropy.units` : everything related to physical quantities\n",
    "  - `astropy.table` : store and manipulate heterogeneous tables\n",
    "  - `astropy.coordinates` : celestial/spatial coordinates, tools for converting between common coordinate systems\n",
    "  - `astropy.wcs` : WCS transformations in FITS files\n",
    "  - `astropy.io.fits` : access to FITS files\n",
    "  - `astropy.io.misc` : IO routines (HDF5, YAML, pickle)"
   ]
  },
  {
   "cell_type": "markdown",
   "metadata": {},
   "source": [
    "Le fichier `HDF5` suivant, téléchargeable en ligne, contient plusieurs catalogues de données CFHT réduites par le stack LSST.\n",
    "\n",
    "        https://github.com/nicolaschotard/lsst_drp_analysis/blob/master/python/testdata.hdf5?raw=true\n",
    "        \n",
    "1. Téléchargez-le ([doc](http://docs.astropy.org/en/stable/utils/)) ou récupérez-le directement [sur github](https://github.com/nicolaschotard/lsst_drp_analysis/blob/master/python/testdata.hdf5)\n",
    "2. Ce fichier hdf5 contient un catalogue dont le `path` (nom de la clé dans le langage HDF5) est `deepCoadd_forced_src` ([doc](http://docs.astropy.org/en/v0.2.1/table/io.html)). Chargez-le et créer une table `astropy`.\n",
    "3. Visualiser le contenue de la table, afficher le nombre de colonnes et le nombre de lignes, chaque ligne correspondant à une galaxies.\n",
    "4. Dans ce catalogue, les magnitudes sont définies par la clé `modelfit_CModel_mag`, et les filtres du CFHT par la clé `filter`. Afficher dans une unique figure les distributions des magnitudes pour les 2 filtres du CFHT disponible ici(u, et i). Attention, certaines magnitudes ont pour valeur des NaN (Not a Number), et devront tout d'abord être filtrées (voir `np.isfinite`).\n",
    "5. Refaire"
   ]
  },
  {
   "cell_type": "code",
   "execution_count": 5,
   "metadata": {
    "collapsed": true
   },
   "outputs": [],
   "source": [
    "# Initialisation de matplotlib et numpy\n",
    "%matplotlib inline  \n",
    "import matplotlib.pyplot as plt\n",
    "import numpy as np"
   ]
  },
  {
   "cell_type": "code",
   "execution_count": 6,
   "metadata": {},
   "outputs": [
    {
     "name": "stdout",
     "output_type": "stream",
     "text": [
      "Downloading https://github.com/nicolaschotard/lsst_drp_analysis/blob/master/python/testdata.hdf5?raw=true [Done]\n"
     ]
    }
   ],
   "source": [
    "# 1. Téléchargement du fichier de données\n",
    "from astropy.utils.data import download_file\n",
    "f = 'https://github.com/nicolaschotard/lsst_drp_analysis/blob/master/python/testdata.hdf5?raw=true'\n",
    "mon_fichier = download_file(f)"
   ]
  },
  {
   "cell_type": "code",
   "execution_count": 8,
   "metadata": {},
   "outputs": [],
   "source": [
    "# 2. Chargemment du catalogue dans une table astropy\n",
    "from astropy.table import Table\n",
    "table = Table.read(mon_fichier, path='deepCoadd_forced_src')"
   ]
  },
  {
   "cell_type": "code",
   "execution_count": 29,
   "metadata": {},
   "outputs": [
    {
     "data": {
      "text/html": [
       "&lt;Table length=68784&gt;\n",
       "<table id=\"table140200080733464\" class=\"table-striped table-bordered table-condensed\">\n",
       "<thead><tr><th>modelfit_CModel_dev_flux_inner</th><th>modelfit_CModel_fluxSigma</th><th>modelfit_CModel_initial_flag_apCorr</th><th>modelfit_CModel_apCorrSigma</th><th>modelfit_CModel_flux_inner</th><th>modelfit_CModel_initial_flag_numericError</th><th>modelfit_CModel_exp_flag_badReference</th><th>modelfit_CModel_dev_fluxSigma</th><th>modelfit_CModel_flux</th><th>modelfit_CModel_flag_badReference</th><th>objectId</th><th>modelfit_CModel_dev_flux</th><th>modelfit_CModel_initial_flux</th><th>modelfit_CModel_flag_noShapeletPsf</th><th>modelfit_CModel_exp_apCorr</th><th>modelfit_CModel_apCorr</th><th>modelfit_CModel_fracDev</th><th>modelfit_CModel_initial_flag_badReference</th><th>modelfit_CModel_initial_flag</th><th>modelfit_CModel_flag_region_maxBadPixelFraction</th><th>modelfit_CModel_flag</th><th>modelfit_CModel_exp_fluxSigma</th><th>modelfit_CModel_initial_apCorrSigma</th><th>modelfit_CModel_exp_flag</th><th>modelfit_CModel_flag_region_maxArea</th><th>modelfit_CModel_flag_badCentroid</th><th>modelfit_CModel_dev_apCorr</th><th>modelfit_CModel_initial_flux_inner</th><th>modelfit_CModel_dev_flag_badReference</th><th>coord_ra</th><th>tract</th><th>modelfit_CModel_exp_flux_inner</th><th>modelfit_CModel_exp_flag_apCorr</th><th>modelfit_CModel_dev_apCorrSigma</th><th>modelfit_CModel_initial_fluxSigma</th><th>modelfit_CModel_dev_flag_numericError</th><th>modelfit_CModel_dev_flag_apCorr</th><th>modelfit_CModel_initial_apCorr</th><th>modelfit_CModel_flag_apCorr</th><th>patch</th><th>filter</th><th>modelfit_CModel_objective</th><th>modelfit_CModel_exp_apCorrSigma</th><th>coord_dec</th><th>modelfit_CModel_dev_flag</th><th>modelfit_CModel_exp_flag_numericError</th><th>modelfit_CModel_exp_flux</th><th>modelfit_CModel_mag</th><th>modelfit_CModel_magSigma</th><th>modelfit_CModel_dev_mag</th><th>modelfit_CModel_dev_magSigma</th><th>modelfit_CModel_initial_mag</th><th>modelfit_CModel_initial_magSigma</th><th>modelfit_CModel_exp_mag</th><th>modelfit_CModel_exp_magSigma</th><th>x_Src</th><th>y_Src</th><th>coord_ra_deg</th><th>coord_dec_deg</th></tr></thead>\n",
       "<thead><tr><th>float64</th><th>float64</th><th>bool</th><th>float64</th><th>float64</th><th>bool</th><th>bool</th><th>float64</th><th>float64</th><th>bool</th><th>int64</th><th>float64</th><th>float64</th><th>bool</th><th>float64</th><th>float64</th><th>float64</th><th>bool</th><th>bool</th><th>bool</th><th>bool</th><th>float64</th><th>float64</th><th>bool</th><th>bool</th><th>bool</th><th>float64</th><th>float64</th><th>bool</th><th>float64</th><th>bytes3</th><th>float64</th><th>bool</th><th>float64</th><th>float64</th><th>bool</th><th>bool</th><th>float64</th><th>bool</th><th>int64</th><th>bytes1</th><th>float64</th><th>float64</th><th>float64</th><th>bool</th><th>bool</th><th>float64</th><th>float64</th><th>float64</th><th>float64</th><th>float64</th><th>float64</th><th>float64</th><th>float64</th><th>float64</th><th>float64</th><th>float64</th><th>float64</th><th>float64</th></tr></thead>\n",
       "<tr><td>nan</td><td>nan</td><td>True</td><td>nan</td><td>nan</td><td>False</td><td>True</td><td>nan</td><td>nan</td><td>True</td><td>1099914280961</td><td>nan</td><td>nan</td><td>False</td><td>nan</td><td>nan</td><td>nan</td><td>True</td><td>True</td><td>False</td><td>True</td><td>nan</td><td>nan</td><td>True</td><td>False</td><td>False</td><td>nan</td><td>nan</td><td>True</td><td>5.95000655662</td><td>1,3</td><td>nan</td><td>True</td><td>nan</td><td>nan</td><td>False</td><td>True</td><td>nan</td><td>True</td><td>0</td><td>u</td><td>nan</td><td>nan</td><td>-0.169503081795</td><td>True</td><td>False</td><td>nan</td><td>nan</td><td>nan</td><td>nan</td><td>nan</td><td>nan</td><td>nan</td><td>nan</td><td>nan</td><td>6107.0</td><td>11911.0</td><td>340.910263769</td><td>-9.71181120133</td></tr>\n",
       "<tr><td>nan</td><td>nan</td><td>True</td><td>nan</td><td>nan</td><td>False</td><td>False</td><td>nan</td><td>nan</td><td>True</td><td>1099914280962</td><td>nan</td><td>nan</td><td>False</td><td>nan</td><td>nan</td><td>nan</td><td>False</td><td>True</td><td>True</td><td>True</td><td>nan</td><td>nan</td><td>True</td><td>False</td><td>False</td><td>nan</td><td>nan</td><td>False</td><td>5.94954253012</td><td>1,3</td><td>nan</td><td>True</td><td>nan</td><td>nan</td><td>False</td><td>True</td><td>nan</td><td>True</td><td>0</td><td>u</td><td>nan</td><td>nan</td><td>-0.16950913956</td><td>True</td><td>False</td><td>nan</td><td>nan</td><td>nan</td><td>nan</td><td>nan</td><td>nan</td><td>nan</td><td>nan</td><td>nan</td><td>6617.0</td><td>11905.0</td><td>340.88367701</td><td>-9.71215828568</td></tr>\n",
       "<tr><td>nan</td><td>nan</td><td>True</td><td>nan</td><td>nan</td><td>False</td><td>False</td><td>nan</td><td>nan</td><td>True</td><td>1099914280963</td><td>nan</td><td>nan</td><td>False</td><td>nan</td><td>nan</td><td>nan</td><td>False</td><td>True</td><td>True</td><td>True</td><td>nan</td><td>nan</td><td>True</td><td>False</td><td>False</td><td>nan</td><td>nan</td><td>False</td><td>5.94947883881</td><td>1,3</td><td>nan</td><td>True</td><td>nan</td><td>nan</td><td>False</td><td>True</td><td>nan</td><td>True</td><td>0</td><td>u</td><td>nan</td><td>nan</td><td>-0.169509229636</td><td>True</td><td>False</td><td>nan</td><td>nan</td><td>nan</td><td>nan</td><td>nan</td><td>nan</td><td>nan</td><td>nan</td><td>nan</td><td>6687.0</td><td>11905.0</td><td>340.880027766</td><td>-9.71216344665</td></tr>\n",
       "<tr><td>1.2238184989</td><td>0.620667116148</td><td>True</td><td>nan</td><td>1.22381837283</td><td>False</td><td>False</td><td>0.620667049202</td><td>1.646709411</td><td>False</td><td>1099914280964</td><td>1.64670925588</td><td>1.48702485256</td><td>False</td><td>nan</td><td>nan</td><td>1.0</td><td>False</td><td>False</td><td>False</td><td>False</td><td>0.543752068165</td><td>nan</td><td>False</td><td>False</td><td>False</td><td>nan</td><td>1.23642581277</td><td>False</td><td>5.94934689405</td><td>1,3</td><td>1.19399577963</td><td>True</td><td>nan</td><td>0.557977720917</td><td>False</td><td>True</td><td>nan</td><td>True</td><td>0</td><td>u</td><td>0.144015733971</td><td>nan</td><td>-0.169500445455</td><td>False</td><td>False</td><td>1.42536906499</td><td>26.4584575812</td><td>0.409228704593</td><td>26.4584576835</td><td>0.409228699004</td><td>26.5692044327</td><td>0.407401807715</td><td>26.6151816775</td><td>0.414188382028</td><td>6832.0</td><td>11915.0</td><td>340.872467888</td><td>-9.71166015016</td></tr>\n",
       "<tr><td>nan</td><td>nan</td><td>True</td><td>nan</td><td>nan</td><td>False</td><td>True</td><td>nan</td><td>nan</td><td>True</td><td>1099914280965</td><td>nan</td><td>nan</td><td>False</td><td>nan</td><td>nan</td><td>nan</td><td>True</td><td>True</td><td>False</td><td>True</td><td>nan</td><td>nan</td><td>True</td><td>False</td><td>False</td><td>nan</td><td>nan</td><td>True</td><td>5.94895929115</td><td>1,3</td><td>nan</td><td>True</td><td>nan</td><td>nan</td><td>False</td><td>True</td><td>nan</td><td>True</td><td>0</td><td>u</td><td>nan</td><td>nan</td><td>-0.169505454883</td><td>True</td><td>False</td><td>nan</td><td>nan</td><td>nan</td><td>nan</td><td>nan</td><td>nan</td><td>nan</td><td>nan</td><td>nan</td><td>7258.0</td><td>11910.0</td><td>340.850259878</td><td>-9.71194716925</td></tr>\n",
       "<tr><td>nan</td><td>nan</td><td>True</td><td>nan</td><td>nan</td><td>False</td><td>False</td><td>nan</td><td>nan</td><td>False</td><td>1099914280966</td><td>nan</td><td>nan</td><td>False</td><td>nan</td><td>nan</td><td>nan</td><td>False</td><td>True</td><td>True</td><td>True</td><td>nan</td><td>nan</td><td>True</td><td>False</td><td>False</td><td>nan</td><td>nan</td><td>False</td><td>5.94891105899</td><td>1,3</td><td>nan</td><td>True</td><td>nan</td><td>nan</td><td>False</td><td>True</td><td>nan</td><td>True</td><td>0</td><td>u</td><td>nan</td><td>nan</td><td>-0.169499240411</td><td>True</td><td>False</td><td>nan</td><td>nan</td><td>nan</td><td>nan</td><td>nan</td><td>nan</td><td>nan</td><td>nan</td><td>nan</td><td>7311.0</td><td>11917.0</td><td>340.847496379</td><td>-9.7115911062</td></tr>\n",
       "<tr><td>nan</td><td>nan</td><td>True</td><td>nan</td><td>nan</td><td>False</td><td>False</td><td>nan</td><td>nan</td><td>True</td><td>1099914280967</td><td>nan</td><td>nan</td><td>False</td><td>nan</td><td>nan</td><td>nan</td><td>False</td><td>True</td><td>True</td><td>True</td><td>nan</td><td>nan</td><td>True</td><td>False</td><td>False</td><td>nan</td><td>nan</td><td>False</td><td>5.94883828006</td><td>1,3</td><td>nan</td><td>True</td><td>nan</td><td>nan</td><td>False</td><td>True</td><td>nan</td><td>True</td><td>0</td><td>u</td><td>nan</td><td>nan</td><td>-0.169508304309</td><td>True</td><td>False</td><td>nan</td><td>nan</td><td>nan</td><td>nan</td><td>nan</td><td>nan</td><td>nan</td><td>nan</td><td>nan</td><td>7391.0</td><td>11907.0</td><td>340.843326453</td><td>-9.71211042932</td></tr>\n",
       "<tr><td>nan</td><td>nan</td><td>True</td><td>nan</td><td>nan</td><td>False</td><td>False</td><td>nan</td><td>nan</td><td>True</td><td>1099914280968</td><td>nan</td><td>nan</td><td>False</td><td>nan</td><td>nan</td><td>nan</td><td>False</td><td>True</td><td>True</td><td>True</td><td>nan</td><td>nan</td><td>True</td><td>False</td><td>False</td><td>nan</td><td>nan</td><td>False</td><td>5.9483414828</td><td>1,3</td><td>nan</td><td>True</td><td>nan</td><td>nan</td><td>False</td><td>True</td><td>nan</td><td>True</td><td>0</td><td>u</td><td>nan</td><td>nan</td><td>-0.169510724576</td><td>True</td><td>False</td><td>nan</td><td>nan</td><td>nan</td><td>nan</td><td>nan</td><td>nan</td><td>nan</td><td>nan</td><td>nan</td><td>7937.0</td><td>11905.0</td><td>340.814862067</td><td>-9.71224910038</td></tr>\n",
       "<tr><td>nan</td><td>nan</td><td>True</td><td>nan</td><td>nan</td><td>False</td><td>False</td><td>nan</td><td>nan</td><td>True</td><td>1099914280969</td><td>nan</td><td>nan</td><td>False</td><td>nan</td><td>nan</td><td>nan</td><td>False</td><td>True</td><td>True</td><td>True</td><td>nan</td><td>nan</td><td>True</td><td>False</td><td>False</td><td>nan</td><td>nan</td><td>False</td><td>5.94829871782</td><td>1,3</td><td>nan</td><td>True</td><td>nan</td><td>nan</td><td>False</td><td>True</td><td>nan</td><td>True</td><td>0</td><td>u</td><td>nan</td><td>nan</td><td>-0.16951077659</td><td>True</td><td>False</td><td>nan</td><td>nan</td><td>nan</td><td>nan</td><td>nan</td><td>nan</td><td>nan</td><td>nan</td><td>nan</td><td>7984.0</td><td>11905.0</td><td>340.812411814</td><td>-9.71225208058</td></tr>\n",
       "<tr><td>nan</td><td>nan</td><td>True</td><td>nan</td><td>nan</td><td>False</td><td>False</td><td>nan</td><td>nan</td><td>True</td><td>1099914280970</td><td>nan</td><td>nan</td><td>False</td><td>nan</td><td>nan</td><td>nan</td><td>False</td><td>True</td><td>True</td><td>True</td><td>nan</td><td>nan</td><td>True</td><td>False</td><td>False</td><td>nan</td><td>nan</td><td>False</td><td>5.94873364312</td><td>1,3</td><td>nan</td><td>True</td><td>nan</td><td>nan</td><td>False</td><td>True</td><td>nan</td><td>True</td><td>0</td><td>u</td><td>nan</td><td>nan</td><td>-0.169508439681</td><td>True</td><td>False</td><td>nan</td><td>nan</td><td>nan</td><td>nan</td><td>nan</td><td>nan</td><td>nan</td><td>nan</td><td>nan</td><td>7506.0</td><td>11907.0</td><td>340.837331198</td><td>-9.71211818558</td></tr>\n",
       "<tr><td>...</td><td>...</td><td>...</td><td>...</td><td>...</td><td>...</td><td>...</td><td>...</td><td>...</td><td>...</td><td>...</td><td>...</td><td>...</td><td>...</td><td>...</td><td>...</td><td>...</td><td>...</td><td>...</td><td>...</td><td>...</td><td>...</td><td>...</td><td>...</td><td>...</td><td>...</td><td>...</td><td>...</td><td>...</td><td>...</td><td>...</td><td>...</td><td>...</td><td>...</td><td>...</td><td>...</td><td>...</td><td>...</td><td>...</td><td>...</td><td>...</td><td>...</td><td>...</td><td>...</td><td>...</td><td>...</td><td>...</td><td>...</td><td>...</td><td>...</td><td>...</td><td>...</td><td>...</td><td>...</td><td>...</td><td>...</td><td>...</td><td>...</td><td>...</td></tr>\n",
       "<tr><td>0.0515425829469</td><td>0.970859214709</td><td>True</td><td>nan</td><td>0.0515425772492</td><td>False</td><td>False</td><td>0.970859149585</td><td>0.0596183571772</td><td>False</td><td>2199425942524</td><td>0.0596183544019</td><td>0.0323756271251</td><td>False</td><td>nan</td><td>nan</td><td>1.0</td><td>False</td><td>False</td><td>False</td><td>False</td><td>0.89544501888</td><td>nan</td><td>False</td><td>False</td><td>False</td><td>nan</td><td>0.0304786193181</td><td>False</td><td>5.94623927302</td><td>2,3</td><td>0.0306371201017</td><td>True</td><td>nan</td><td>0.897791974528</td><td>False</td><td>True</td><td>nan</td><td>True</td><td>0</td><td>i</td><td>0.287114645891</td><td>nan</td><td>-0.166204026394</td><td>False</td><td>False</td><td>0.032573774039</td><td>30.0615499885</td><td>17.6807454791</td><td>30.0615500391</td><td>17.6807451162</td><td>30.7244545261</td><td>30.1079959724</td><td>30.7178298015</td><td>29.8466206343</td><td>10244.1730631</td><td>15594.3018101</td><td>340.694414319</td><td>-9.52278925045</td></tr>\n",
       "<tr><td>nan</td><td>nan</td><td>True</td><td>nan</td><td>nan</td><td>True</td><td>False</td><td>nan</td><td>nan</td><td>False</td><td>2199425942525</td><td>nan</td><td>nan</td><td>False</td><td>nan</td><td>nan</td><td>nan</td><td>False</td><td>True</td><td>False</td><td>True</td><td>nan</td><td>nan</td><td>True</td><td>False</td><td>False</td><td>nan</td><td>nan</td><td>False</td><td>5.94622350759</td><td>2,3</td><td>nan</td><td>True</td><td>nan</td><td>nan</td><td>True</td><td>True</td><td>nan</td><td>True</td><td>0</td><td>i</td><td>nan</td><td>nan</td><td>-0.166202628051</td><td>True</td><td>True</td><td>nan</td><td>nan</td><td>nan</td><td>nan</td><td>nan</td><td>nan</td><td>nan</td><td>nan</td><td>nan</td><td>10261.5075447</td><td>15595.8758931</td><td>340.693511026</td><td>-9.52270913131</td></tr>\n",
       "<tr><td>0.414313399366</td><td>0.944744425937</td><td>True</td><td>nan</td><td>0.414313361385</td><td>False</td><td>False</td><td>0.944744676812</td><td>0.462201537091</td><td>False</td><td>2199425942526</td><td>0.462201650446</td><td>0.217453217602</td><td>False</td><td>nan</td><td>nan</td><td>1.0</td><td>False</td><td>False</td><td>False</td><td>False</td><td>0.878354937771</td><td>nan</td><td>False</td><td>False</td><td>False</td><td>nan</td><td>0.204805831123</td><td>False</td><td>5.94623091688</td><td>2,3</td><td>0.228182357321</td><td>True</td><td>nan</td><td>0.979330781728</td><td>False</td><td>True</td><td>nan</td><td>True</td><td>0</td><td>i</td><td>1.01943405529</td><td>nan</td><td>-0.166207083199</td><td>False</td><td>False</td><td>0.240541853923</td><td>27.8379215364</td><td>2.21925533597</td><td>27.8379212701</td><td>2.21925538101</td><td>28.6565854045</td><td>4.88976386683</td><td>28.5470233653</td><td>3.96463958772</td><td>10253.3644985</td><td>15590.9015464</td><td>340.693935547</td><td>-9.52296439246</td></tr>\n",
       "<tr><td>1.43048203614</td><td>0.671073357159</td><td>True</td><td>nan</td><td>1.42389178619</td><td>False</td><td>False</td><td>0.724881244742</td><td>1.48671252381</td><td>False</td><td>2199425942527</td><td>1.53719982538</td><td>1.68849696244</td><td>False</td><td>nan</td><td>nan</td><td>0.0</td><td>False</td><td>False</td><td>False</td><td>False</td><td>0.671073218929</td><td>nan</td><td>False</td><td>False</td><td>False</td><td>nan</td><td>1.59175663455</td><td>False</td><td>5.94834737814</td><td>2,3</td><td>1.42389182835</td><td>True</td><td>nan</td><td>0.975831273792</td><td>False</td><td>True</td><td>nan</td><td>True</td><td>0</td><td>i</td><td>1.12334338067</td><td>nan</td><td>-0.166165362194</td><td>False</td><td>False</td><td>1.48671224848</td><td>26.5694325003</td><td>0.490080380873</td><td>26.5331741839</td><td>0.511989266829</td><td>26.4312492908</td><td>0.627478383001</td><td>26.5694327014</td><td>0.490080370684</td><td>7926.0</td><td>15635.0</td><td>340.815199845</td><td>-9.52057395499</td></tr>\n",
       "<tr><td>0.0483431505092</td><td>0.718469410392</td><td>True</td><td>nan</td><td>0.0483431406319</td><td>False</td><td>False</td><td>0.718469425813</td><td>0.0527809479335</td><td>False</td><td>2199425942528</td><td>0.0527809489298</td><td>0.0716716150635</td><td>False</td><td>nan</td><td>nan</td><td>1.0</td><td>False</td><td>False</td><td>False</td><td>False</td><td>0.663407024415</td><td>nan</td><td>False</td><td>False</td><td>False</td><td>nan</td><td>0.0675525696026</td><td>False</td><td>5.94834010087</td><td>2,3</td><td>0.00945333821763</td><td>True</td><td>nan</td><td>0.876362203519</td><td>False</td><td>True</td><td>nan</td><td>True</td><td>0</td><td>i</td><td>0.360218981885</td><td>nan</td><td>-0.166163577141</td><td>False</td><td>False</td><td>0.00988537933204</td><td>30.1938070355</td><td>14.7793528047</td><td>30.1938070151</td><td>14.7793528429</td><td>29.8616320223</td><td>13.2758020312</td><td>32.0125166521</td><td>72.863670751</td><td>7934.0</td><td>15637.0</td><td>340.814782888</td><td>-9.52047167895</td></tr>\n",
       "<tr><td>0.000325984326144</td><td>0.993309068105</td><td>True</td><td>nan</td><td>0.000325984530084</td><td>False</td><td>False</td><td>0.99330996111</td><td>0.0003635402249</td><td>False</td><td>2199425942529</td><td>0.000363540311669</td><td>0.0393117692605</td><td>False</td><td>nan</td><td>nan</td><td>1.0</td><td>False</td><td>False</td><td>False</td><td>False</td><td>0.914183880426</td><td>nan</td><td>False</td><td>False</td><td>False</td><td>nan</td><td>0.0370478842256</td><td>False</td><td>5.94622279948</td><td>2,3</td><td>-1.46095600876e-05</td><td>True</td><td>nan</td><td>1.24841048035</td><td>False</td><td>True</td><td>nan</td><td>True</td><td>0</td><td>i</td><td>0.123290493495</td><td>nan</td><td>-0.166042581235</td><td>False</td><td>False</td><td>-1.54249411197e-05</td><td>35.5986188211</td><td>2966.58125811</td><td>35.598618562</td><td>2966.58321707</td><td>30.5136935248</td><td>34.4793552265</td><td>nan</td><td>nan</td><td>10262.1325009</td><td>15774.3222571</td><td>340.693470454</td><td>-9.5135391242</td></tr>\n",
       "<tr><td>1.7693177659</td><td>0.995353873342</td><td>True</td><td>nan</td><td>1.77226573562</td><td>False</td><td>False</td><td>1.02308761642</td><td>1.99844045999</td><td>False</td><td>2199425942530</td><td>2.05097676865</td><td>3.01365295195</td><td>False</td><td>nan</td><td>nan</td><td>0.657748362831</td><td>False</td><td>False</td><td>False</td><td>False</td><td>0.942298338646</td><td>nan</td><td>False</td><td>False</td><td>False</td><td>nan</td><td>2.82310802473</td><td>False</td><td>5.94623140032</td><td>2,3</td><td>1.76338224405</td><td>True</td><td>nan</td><td>1.08179213198</td><td>False</td><td>True</td><td>nan</td><td>True</td><td>0</td><td>i</td><td>1.42268755951</td><td>nan</td><td>-0.166032491563</td><td>False</td><td>False</td><td>1.88951986975</td><td>26.2482719656</td><td>0.540767542726</td><td>26.2200981471</td><td>0.541597195427</td><td>25.8022669047</td><td>0.389739927736</td><td>26.309121342</td><td>0.541453645621</td><td>10252.6649659</td><td>15785.5636686</td><td>340.693963247</td><td>-9.51296102859</td></tr>\n",
       "<tr><td>-0.00994690998403</td><td>0.90620921712</td><td>True</td><td>nan</td><td>-0.000860859829842</td><td>False</td><td>False</td><td>0.98139603974</td><td>-0.000904169191411</td><td>False</td><td>2199425942531</td><td>-0.0106878236646</td><td>-0.0318582070996</td><td>False</td><td>nan</td><td>nan</td><td>-0.0</td><td>False</td><td>False</td><td>False</td><td>False</td><td>0.906209200833</td><td>nan</td><td>False</td><td>False</td><td>False</td><td>nan</td><td>-0.0298506147554</td><td>False</td><td>5.94620778818</td><td>2,3</td><td>-0.000860859580529</td><td>True</td><td>nan</td><td>1.44312853365</td><td>False</td><td>True</td><td>nan</td><td>True</td><td>0</td><td>i</td><td>inf</td><td>nan</td><td>-0.166056641299</td><td>False</td><td>False</td><td>-0.00090416914787</td><td>nan</td><td>nan</td><td>nan</td><td>nan</td><td>nan</td><td>nan</td><td>nan</td><td>nan</td><td>10278.6529765</td><td>15758.6600725</td><td>340.69261037</td><td>-9.51434470653</td></tr>\n",
       "<tr><td>2.29233827593</td><td>0.92108834218</td><td>True</td><td>nan</td><td>2.29233871212</td><td>False</td><td>False</td><td>0.921088696524</td><td>2.46739961161</td><td>False</td><td>2199425942532</td><td>2.46740001754</td><td>2.75263566574</td><td>False</td><td>nan</td><td>nan</td><td>1.0</td><td>False</td><td>False</td><td>False</td><td>False</td><td>0.84945431769</td><td>nan</td><td>False</td><td>False</td><td>False</td><td>nan</td><td>2.55659368149</td><td>False</td><td>5.94619006647</td><td>2,3</td><td>1.93405645963</td><td>True</td><td>nan</td><td>1.566528951</td><td>False</td><td>True</td><td>nan</td><td>True</td><td>0</td><td>i</td><td>2.88157296911</td><td>nan</td><td>-0.166078463253</td><td>False</td><td>False</td><td>2.04835568663</td><td>26.0194012699</td><td>0.405308875052</td><td>26.0194010913</td><td>0.405308964294</td><td>25.9006281682</td><td>0.617894049353</td><td>26.2214865703</td><td>0.450255447832</td><td>10298.1612325</td><td>15734.3462142</td><td>340.691594992</td><td>-9.51559501239</td></tr>\n",
       "<tr><td>nan</td><td>nan</td><td>True</td><td>nan</td><td>nan</td><td>True</td><td>False</td><td>nan</td><td>nan</td><td>False</td><td>2199425942533</td><td>nan</td><td>nan</td><td>False</td><td>nan</td><td>nan</td><td>nan</td><td>False</td><td>True</td><td>False</td><td>True</td><td>nan</td><td>nan</td><td>True</td><td>False</td><td>False</td><td>nan</td><td>nan</td><td>False</td><td>5.94619785443</td><td>2,3</td><td>nan</td><td>True</td><td>nan</td><td>nan</td><td>True</td><td>True</td><td>nan</td><td>True</td><td>0</td><td>i</td><td>nan</td><td>nan</td><td>-0.166068203511</td><td>True</td><td>True</td><td>nan</td><td>nan</td><td>nan</td><td>nan</td><td>nan</td><td>nan</td><td>nan</td><td>nan</td><td>nan</td><td>10289.5875382</td><td>15745.7780622</td><td>340.692041209</td><td>-9.51500717248</td></tr>\n",
       "</table>"
      ],
      "text/plain": [
       "<Table length=68784>\n",
       "modelfit_CModel_dev_flux_inner modelfit_CModel_fluxSigma ... coord_dec_deg \n",
       "           float64                      float64          ...    float64    \n",
       "------------------------------ ------------------------- ... --------------\n",
       "                           nan                       nan ... -9.71181120133\n",
       "                           nan                       nan ... -9.71215828568\n",
       "                           nan                       nan ... -9.71216344665\n",
       "                  1.2238184989            0.620667116148 ... -9.71166015016\n",
       "                           nan                       nan ... -9.71194716925\n",
       "                           nan                       nan ...  -9.7115911062\n",
       "                           nan                       nan ... -9.71211042932\n",
       "                           nan                       nan ... -9.71224910038\n",
       "                           nan                       nan ... -9.71225208058\n",
       "                           nan                       nan ... -9.71211818558\n",
       "                           ...                       ... ...            ...\n",
       "               0.0515425829469            0.970859214709 ... -9.52278925045\n",
       "                           nan                       nan ... -9.52270913131\n",
       "                0.414313399366            0.944744425937 ... -9.52296439246\n",
       "                 1.43048203614            0.671073357159 ... -9.52057395499\n",
       "               0.0483431505092            0.718469410392 ... -9.52047167895\n",
       "             0.000325984326144            0.993309068105 ...  -9.5135391242\n",
       "                  1.7693177659            0.995353873342 ... -9.51296102859\n",
       "             -0.00994690998403             0.90620921712 ... -9.51434470653\n",
       "                 2.29233827593             0.92108834218 ... -9.51559501239\n",
       "                           nan                       nan ... -9.51500717248"
      ]
     },
     "execution_count": 29,
     "metadata": {},
     "output_type": "execute_result"
    }
   ],
   "source": [
    "# 3. Visualisation de la table\n",
    "table"
   ]
  },
  {
   "cell_type": "code",
   "execution_count": 31,
   "metadata": {},
   "outputs": [
    {
     "data": {
      "text/plain": [
       "(59,\n",
       " ['modelfit_CModel_dev_flux_inner',\n",
       "  'modelfit_CModel_fluxSigma',\n",
       "  'modelfit_CModel_initial_flag_apCorr',\n",
       "  'modelfit_CModel_apCorrSigma',\n",
       "  'modelfit_CModel_flux_inner',\n",
       "  'modelfit_CModel_initial_flag_numericError',\n",
       "  'modelfit_CModel_exp_flag_badReference',\n",
       "  'modelfit_CModel_dev_fluxSigma',\n",
       "  'modelfit_CModel_flux',\n",
       "  'modelfit_CModel_flag_badReference',\n",
       "  'objectId',\n",
       "  'modelfit_CModel_dev_flux',\n",
       "  'modelfit_CModel_initial_flux',\n",
       "  'modelfit_CModel_flag_noShapeletPsf',\n",
       "  'modelfit_CModel_exp_apCorr',\n",
       "  'modelfit_CModel_apCorr',\n",
       "  'modelfit_CModel_fracDev',\n",
       "  'modelfit_CModel_initial_flag_badReference',\n",
       "  'modelfit_CModel_initial_flag',\n",
       "  'modelfit_CModel_flag_region_maxBadPixelFraction',\n",
       "  'modelfit_CModel_flag',\n",
       "  'modelfit_CModel_exp_fluxSigma',\n",
       "  'modelfit_CModel_initial_apCorrSigma',\n",
       "  'modelfit_CModel_exp_flag',\n",
       "  'modelfit_CModel_flag_region_maxArea',\n",
       "  'modelfit_CModel_flag_badCentroid',\n",
       "  'modelfit_CModel_dev_apCorr',\n",
       "  'modelfit_CModel_initial_flux_inner',\n",
       "  'modelfit_CModel_dev_flag_badReference',\n",
       "  'coord_ra',\n",
       "  'tract',\n",
       "  'modelfit_CModel_exp_flux_inner',\n",
       "  'modelfit_CModel_exp_flag_apCorr',\n",
       "  'modelfit_CModel_dev_apCorrSigma',\n",
       "  'modelfit_CModel_initial_fluxSigma',\n",
       "  'modelfit_CModel_dev_flag_numericError',\n",
       "  'modelfit_CModel_dev_flag_apCorr',\n",
       "  'modelfit_CModel_initial_apCorr',\n",
       "  'modelfit_CModel_flag_apCorr',\n",
       "  'patch',\n",
       "  'filter',\n",
       "  'modelfit_CModel_objective',\n",
       "  'modelfit_CModel_exp_apCorrSigma',\n",
       "  'coord_dec',\n",
       "  'modelfit_CModel_dev_flag',\n",
       "  'modelfit_CModel_exp_flag_numericError',\n",
       "  'modelfit_CModel_exp_flux',\n",
       "  'modelfit_CModel_mag',\n",
       "  'modelfit_CModel_magSigma',\n",
       "  'modelfit_CModel_dev_mag',\n",
       "  'modelfit_CModel_dev_magSigma',\n",
       "  'modelfit_CModel_initial_mag',\n",
       "  'modelfit_CModel_initial_magSigma',\n",
       "  'modelfit_CModel_exp_mag',\n",
       "  'modelfit_CModel_exp_magSigma',\n",
       "  'x_Src',\n",
       "  'y_Src',\n",
       "  'coord_ra_deg',\n",
       "  'coord_dec_deg'])"
      ]
     },
     "execution_count": 31,
     "metadata": {},
     "output_type": "execute_result"
    }
   ],
   "source": [
    "len(table.colnames), table.colnames"
   ]
  },
  {
   "cell_type": "code",
   "execution_count": 26,
   "metadata": {},
   "outputs": [
    {
     "data": {
      "text/plain": [
       "<matplotlib.legend.Legend at 0x7f82aa7475f8>"
      ]
     },
     "execution_count": 26,
     "metadata": {},
     "output_type": "execute_result"
    },
    {
     "data": {
      "image/png": "[encoded data removed]",
      "text/plain": [
       "<matplotlib.figure.Figure at 0x7f82b89ced30>"
      ]
     },
     "metadata": {},
     "output_type": "display_data"
    }
   ],
   "source": [
    "\n",
    "# Les histogrammes\n",
    "# pour le filtre 'i'\n",
    "mags = table[table['filter'] == 'i']['modelfit_CModel_mag']\n",
    "# pour tout les filtres\n",
    "filters = set(table['filter'])\n",
    "mags = [table[table['filter'] == f]['modelfit_CModel_mag'] for f in filters]\n",
    "fig, ax = plt.subplots()\n",
    "for mag, filt in zip(mags, filters):\n",
    "    mag = mag[np.isfinite(mag)]\n",
    "    ax.hist(mag, label=filt, histtype='step')\n",
    "ax.legend()"
   ]
  },
  {
   "cell_type": "code",
   "execution_count": 17,
   "metadata": {},
   "outputs": [
    {
     "data": {
      "text/html": [
       "&lt;Column name=&apos;modelfit_CModel_mag&apos; dtype=&apos;float64&apos; length=34392&gt;\n",
       "<table>\n",
       "<tr><td>nan</td></tr>\n",
       "<tr><td>nan</td></tr>\n",
       "<tr><td>nan</td></tr>\n",
       "<tr><td>24.7124964208</td></tr>\n",
       "<tr><td>nan</td></tr>\n",
       "<tr><td>23.0810067463</td></tr>\n",
       "<tr><td>nan</td></tr>\n",
       "<tr><td>nan</td></tr>\n",
       "<tr><td>nan</td></tr>\n",
       "<tr><td>nan</td></tr>\n",
       "<tr><td>nan</td></tr>\n",
       "<tr><td>nan</td></tr>\n",
       "<tr><td>...</td></tr>\n",
       "<tr><td>25.8240811687</td></tr>\n",
       "<tr><td>26.8271575937</td></tr>\n",
       "<tr><td>30.0615499885</td></tr>\n",
       "<tr><td>nan</td></tr>\n",
       "<tr><td>27.8379215364</td></tr>\n",
       "<tr><td>26.5694325003</td></tr>\n",
       "<tr><td>30.1938070355</td></tr>\n",
       "<tr><td>35.5986188211</td></tr>\n",
       "<tr><td>26.2482719656</td></tr>\n",
       "<tr><td>nan</td></tr>\n",
       "<tr><td>26.0194012699</td></tr>\n",
       "<tr><td>nan</td></tr>\n",
       "</table>"
      ],
      "text/plain": [
       "<Column name='modelfit_CModel_mag' dtype='float64' length=34392>\n",
       "          nan\n",
       "          nan\n",
       "          nan\n",
       "24.7124964208\n",
       "          nan\n",
       "23.0810067463\n",
       "          nan\n",
       "          nan\n",
       "          nan\n",
       "          nan\n",
       "          nan\n",
       "          nan\n",
       "          ...\n",
       "25.8240811687\n",
       "26.8271575937\n",
       "30.0615499885\n",
       "          nan\n",
       "27.8379215364\n",
       "26.5694325003\n",
       "30.1938070355\n",
       "35.5986188211\n",
       "26.2482719656\n",
       "          nan\n",
       "26.0194012699\n",
       "          nan"
      ]
     },
     "execution_count": 17,
     "metadata": {},
     "output_type": "execute_result"
    }
   ],
   "source": [
    "magi"
   ]
  },
  {
   "cell_type": "code",
   "execution_count": null,
   "metadata": {
    "collapsed": true
   },
   "outputs": [],
   "source": []
  }
 ],
 "metadata": {
  "celltoolbar": "Slideshow",
  "kernelspec": {
   "display_name": "Python 3",
   "language": "python",
   "name": "python3"
  },
  "language_info": {
   "codemirror_mode": {
    "name": "ipython",
    "version": 3
   },
   "file_extension": ".py",
   "mimetype": "text/x-python",
   "name": "python",
   "nbconvert_exporter": "python",
   "pygments_lexer": "ipython3",
   "version": "3.6.2"
  }
 },
 "nbformat": 4,
 "nbformat_minor": 2
}
