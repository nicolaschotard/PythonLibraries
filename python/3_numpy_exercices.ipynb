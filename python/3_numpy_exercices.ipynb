{
 "cells": [
  {
   "cell_type": "markdown",
   "metadata": {
    "slideshow": {
     "slide_type": "slide"
    }
   },
   "source": [
    "# Exercices de base sur NumPy"
   ]
  },
  {
   "cell_type": "code",
   "execution_count": 1,
   "metadata": {
    "collapsed": true,
    "slideshow": {
     "slide_type": "fragment"
    }
   },
   "outputs": [],
   "source": [
    "import numpy as np"
   ]
  },
  {
   "cell_type": "markdown",
   "metadata": {
    "slideshow": {
     "slide_type": "slide"
    }
   },
   "source": [
    "## Exercice 1\n",
    "\n",
    "1. Créer une matrice 4 x 4 avec 4 sur sa diagonale. \n",
    "2. Remplacer les valeurs des 4 coins de cette matrice par 1\n",
    "3. Remplacer les valeurs de la colonne d'indice 2 par des 3\n",
    "4. Faire la somme :\n",
    "  - de la première ligne de la matrice\n",
    "  - de la troisième colonne\n",
    "  - selon le premier axe (axe 0)\n",
    "  - du contenu complet de la matrice\n",
    "5. Faire la moyenne du contenue de la matrice\n",
    "6. Comparer 2 méthodes pour créer la matrice du 1 avec 500 éléments. (utiliser `%%timeit` au début de la cellule)"
   ]
  },
  {
   "cell_type": "code",
   "execution_count": 35,
   "metadata": {
    "slideshow": {
     "slide_type": "slide"
    }
   },
   "outputs": [
    {
     "name": "stdout",
     "output_type": "stream",
     "text": [
      "[[ 4.  0.  0.  0.]\n",
      " [ 0.  4.  0.  0.]\n",
      " [ 0.  0.  4.  0.]\n",
      " [ 0.  0.  0.  4.]]\n"
     ]
    }
   ],
   "source": [
    "# 1. Créer une matrice 4 x 4 avec 4 sur sa diagonale. \n",
    "m = np.eye(4) * 4\n",
    "print(m)"
   ]
  },
  {
   "cell_type": "code",
   "execution_count": 17,
   "metadata": {
    "slideshow": {
     "slide_type": "fragment"
    }
   },
   "outputs": [
    {
     "name": "stdout",
     "output_type": "stream",
     "text": [
      "[[ 1.  0.  0.  1.]\n",
      " [ 0.  4.  0.  0.]\n",
      " [ 0.  0.  4.  0.]\n",
      " [ 1.  0.  0.  1.]]\n"
     ]
    }
   ],
   "source": [
    "# 2. Remplacer les valeurs des 4 coins de cette matrice par 1\n",
    "m[0, (0, -1)] = m[-1, (0, -1)] = 1\n",
    "print(m)"
   ]
  },
  {
   "cell_type": "code",
   "execution_count": 19,
   "metadata": {
    "slideshow": {
     "slide_type": "fragment"
    }
   },
   "outputs": [
    {
     "name": "stdout",
     "output_type": "stream",
     "text": [
      "[[ 1.  0.  3.  1.]\n",
      " [ 0.  4.  3.  0.]\n",
      " [ 0.  0.  3.  0.]\n",
      " [ 1.  0.  3.  1.]]\n"
     ]
    }
   ],
   "source": [
    "# 3. Remplacer les valeurs de la colonne d'indice 2 par des 3\n",
    "m[:, 2] = 3\n",
    "print(m)"
   ]
  },
  {
   "cell_type": "code",
   "execution_count": 25,
   "metadata": {
    "slideshow": {
     "slide_type": "fragment"
    }
   },
   "outputs": [
    {
     "name": "stdout",
     "output_type": "stream",
     "text": [
      "5.0 12.0 [  2.   4.  12.   2.] 20.0\n"
     ]
    }
   ],
   "source": [
    "# 4. Sommes\n",
    "print(m[0].sum(), m[:, 2].sum(), m.sum(axis=0), m.sum())"
   ]
  },
  {
   "cell_type": "code",
   "execution_count": 28,
   "metadata": {
    "slideshow": {
     "slide_type": "slide"
    }
   },
   "outputs": [
    {
     "name": "stdout",
     "output_type": "stream",
     "text": [
      "1.25\n"
     ]
    }
   ],
   "source": [
    "# 5. Moyenne\n",
    "print(m.mean())"
   ]
  },
  {
   "cell_type": "code",
   "execution_count": 32,
   "metadata": {
    "slideshow": {
     "slide_type": "fragment"
    }
   },
   "outputs": [
    {
     "data": {
      "text/plain": [
       "array([[ 4.,  0.,  0.,  0.],\n",
       "       [ 0.,  4.,  0.,  0.],\n",
       "       [ 0.,  0.,  4.,  0.],\n",
       "       [ 0.,  0.,  0.,  4.]])"
      ]
     },
     "execution_count": 32,
     "metadata": {},
     "output_type": "execute_result"
    }
   ],
   "source": [
    "# 6. Comparaison avec timeit\n",
    "np.diag(np.ones(4) * 4)"
   ]
  },
  {
   "cell_type": "code",
   "execution_count": 33,
   "metadata": {
    "slideshow": {
     "slide_type": "fragment"
    }
   },
   "outputs": [
    {
     "name": "stdout",
     "output_type": "stream",
     "text": [
      "115 µs ± 5.31 µs per loop (mean ± std. dev. of 7 runs, 10000 loops each)\n"
     ]
    }
   ],
   "source": [
    "%%timeit\n",
    "np.diag(np.ones(500) * 4)"
   ]
  },
  {
   "cell_type": "code",
   "execution_count": 36,
   "metadata": {
    "slideshow": {
     "slide_type": "fragment"
    }
   },
   "outputs": [
    {
     "name": "stdout",
     "output_type": "stream",
     "text": [
      "229 µs ± 18.6 µs per loop (mean ± std. dev. of 7 runs, 1000 loops each)\n"
     ]
    }
   ],
   "source": [
    "%%timeit\n",
    "np.eye(500) * 4"
   ]
  },
  {
   "cell_type": "markdown",
   "metadata": {
    "slideshow": {
     "slide_type": "slide"
    }
   },
   "source": [
    "## Exercice 2\n",
    "\n",
    "1. Créer un array de 1000 valeurs aléatoires de distribution gaussienne.\n",
    "2. En calculer la moyenne et la déviation standard\n",
    "3. Décaler le centre de la gaussienne pour que sa moyenne soit égale à 3 (vérifier la moyenne et la déviation standard)\n",
    "4. Normaliser la distribution pour que l'intégrale (la somme) soit égale à 1\n",
    "5. Remplacer sa plus petite valeur par 0"
   ]
  },
  {
   "cell_type": "code",
   "execution_count": 47,
   "metadata": {
    "collapsed": true,
    "slideshow": {
     "slide_type": "slide"
    }
   },
   "outputs": [],
   "source": [
    "# 1. Créer un array de 1000 valeurs aléatoires de distribution gaussienne.\n",
    "a = np.random.randn(1000)"
   ]
  },
  {
   "cell_type": "code",
   "execution_count": 48,
   "metadata": {
    "slideshow": {
     "slide_type": "fragment"
    }
   },
   "outputs": [
    {
     "data": {
      "text/plain": [
       "(0.019791677144457304, 1.0017398008021072)"
      ]
     },
     "execution_count": 48,
     "metadata": {},
     "output_type": "execute_result"
    }
   ],
   "source": [
    "# 2. En calculer la moyenne et la déviation standard\n",
    "a.mean(), a.std()"
   ]
  },
  {
   "cell_type": "code",
   "execution_count": 49,
   "metadata": {
    "slideshow": {
     "slide_type": "fragment"
    }
   },
   "outputs": [
    {
     "data": {
      "text/plain": [
       "(3.0197916771444571, 1.0017398008021072)"
      ]
     },
     "execution_count": 49,
     "metadata": {},
     "output_type": "execute_result"
    }
   ],
   "source": [
    "# 3. Décaler le centre de la gaussienne pour que sa moyenne soit égale à 3\n",
    "a += 3\n",
    "a.mean(), a.std()"
   ]
  },
  {
   "cell_type": "code",
   "execution_count": 56,
   "metadata": {
    "slideshow": {
     "slide_type": "fragment"
    }
   },
   "outputs": [
    {
     "data": {
      "text/plain": [
       "1.0"
      ]
     },
     "execution_count": 56,
     "metadata": {},
     "output_type": "execute_result"
    }
   ],
   "source": [
    "# 4. Normaliser la distribution pour que l'intégrale (la somme) soit égale à 1\n",
    "a /= a.sum()\n",
    "a.sum()"
   ]
  },
  {
   "cell_type": "code",
   "execution_count": 60,
   "metadata": {
    "slideshow": {
     "slide_type": "fragment"
    }
   },
   "outputs": [
    {
     "data": {
      "text/plain": [
       "-4.6357544003563811e-05"
      ]
     },
     "execution_count": 60,
     "metadata": {},
     "output_type": "execute_result"
    }
   ],
   "source": [
    "# 5. Remplacer sa plus petite valeur par 0\n",
    "a[a.argmin()] = 0\n",
    "a[a.argmin()]"
   ]
  },
  {
   "cell_type": "markdown",
   "metadata": {
    "slideshow": {
     "slide_type": "slide"
    }
   },
   "source": [
    "## Exercice 3\n",
    "\n",
    "1. Créer un array contenant les nombre suivants\n",
    "    \n",
    "        1 2 3 4 5\n",
    "        1 2 3 4 5\n",
    "        1 2 3 4 5\n",
    "        1 2 3 4 5\n",
    "        1 2 3 4 5\n",
    "    \n",
    "2. Le transformer en\n",
    "\n",
    "         [1.,  2.,  3.,  4.,  5.,  1.,  2.,  3.,  4.,  5.,  1.,  2.,  3.,\n",
    "          4.,  5.,  1.,  2.,  3.,  4.,  5.,  1.,  2.,  3.,  4.,  5.]\n",
    "        \n",
    "3. Le mettre au carré, et sommer"
   ]
  },
  {
   "cell_type": "code",
   "execution_count": 290,
   "metadata": {
    "slideshow": {
     "slide_type": "slide"
    }
   },
   "outputs": [
    {
     "name": "stdout",
     "output_type": "stream",
     "text": [
      "[[ 1.  2.  3.  4.  5.]\n",
      " [ 1.  2.  3.  4.  5.]\n",
      " [ 1.  2.  3.  4.  5.]\n",
      " [ 1.  2.  3.  4.  5.]\n",
      " [ 1.  2.  3.  4.  5.]]\n"
     ]
    }
   ],
   "source": [
    "# 1. Créer un array\n",
    "a = np.ones((5, 5)) * np.arange(1, 6)\n",
    "print(a)"
   ]
  },
  {
   "cell_type": "code",
   "execution_count": 291,
   "metadata": {
    "slideshow": {
     "slide_type": "fragment"
    }
   },
   "outputs": [
    {
     "data": {
      "text/plain": [
       "array([ 1.,  2.,  3.,  4.,  5.,  1.,  2.,  3.,  4.,  5.,  1.,  2.,  3.,\n",
       "        4.,  5.,  1.,  2.,  3.,  4.,  5.,  1.,  2.,  3.,  4.,  5.])"
      ]
     },
     "execution_count": 291,
     "metadata": {},
     "output_type": "execute_result"
    }
   ],
   "source": [
    "# 2. Le \"dérouler\"\n",
    "a.ravel()"
   ]
  },
  {
   "cell_type": "code",
   "execution_count": 292,
   "metadata": {
    "slideshow": {
     "slide_type": "fragment"
    }
   },
   "outputs": [
    {
     "data": {
      "text/plain": [
       "array([[ 1.,  2.,  3.,  4.,  5.,  1.,  2.,  3.,  4.,  5.,  1.,  2.,  3.,\n",
       "         4.,  5.,  1.,  2.,  3.,  4.,  5.,  1.,  2.,  3.,  4.,  5.]])"
      ]
     },
     "execution_count": 292,
     "metadata": {},
     "output_type": "execute_result"
    }
   ],
   "source": [
    "a.reshape(1, 25)"
   ]
  },
  {
   "cell_type": "code",
   "execution_count": 70,
   "metadata": {
    "slideshow": {
     "slide_type": "fragment"
    }
   },
   "outputs": [
    {
     "data": {
      "text/plain": [
       "array([  1.,   4.,   9.,  16.,  25.,   1.,   4.,   9.,  16.,  25.,   1.,\n",
       "         4.,   9.,  16.,  25.,   1.,   4.,   9.,  16.,  25.,   1.,   4.,\n",
       "         9.,  16.,  25.])"
      ]
     },
     "execution_count": 70,
     "metadata": {},
     "output_type": "execute_result"
    }
   ],
   "source": [
    "a.ravel() ** 2"
   ]
  },
  {
   "cell_type": "code",
   "execution_count": 71,
   "metadata": {
    "slideshow": {
     "slide_type": "fragment"
    }
   },
   "outputs": [
    {
     "data": {
      "text/plain": [
       "275.0"
      ]
     },
     "execution_count": 71,
     "metadata": {},
     "output_type": "execute_result"
    }
   ],
   "source": [
    "# 3. Le mettre au carré, et sommer\n",
    "(a.ravel() ** 2).sum()"
   ]
  },
  {
   "cell_type": "markdown",
   "metadata": {
    "slideshow": {
     "slide_type": "slide"
    }
   },
   "source": [
    "## Exercice 4\n",
    "\n",
    "Créer un damier de taille 8 x 8\n",
    "\n",
    "    0 1 0 1 0 1 0 1\n",
    "    1 0 1 0 1 0 1 0\n",
    "    0 1 0 1 0 1 0 1\n",
    "    1 0 1 0 1 0 1 0\n",
    "    0 1 0 1 0 1 0 1\n",
    "    1 0 1 0 1 0 1 0\n",
    "    0 1 0 1 0 1 0 1\n",
    "    1 0 1 0 1 0 1 0"
   ]
  },
  {
   "cell_type": "code",
   "execution_count": 73,
   "metadata": {
    "slideshow": {
     "slide_type": "slide"
    }
   },
   "outputs": [
    {
     "data": {
      "text/plain": [
       "array([[0, 1, 0, 1, 0, 1, 0, 1],\n",
       "       [1, 0, 1, 0, 1, 0, 1, 0],\n",
       "       [0, 1, 0, 1, 0, 1, 0, 1],\n",
       "       [1, 0, 1, 0, 1, 0, 1, 0],\n",
       "       [0, 1, 0, 1, 0, 1, 0, 1],\n",
       "       [1, 0, 1, 0, 1, 0, 1, 0],\n",
       "       [0, 1, 0, 1, 0, 1, 0, 1],\n",
       "       [1, 0, 1, 0, 1, 0, 1, 0]], dtype=int32)"
      ]
     },
     "execution_count": 73,
     "metadata": {},
     "output_type": "execute_result"
    }
   ],
   "source": [
    "damier = np.zeros((8, 8), dtype='i')\n",
    "damier[::2, 1::2] = 1\n",
    "damier[1::2, ::2] = 1\n",
    "damier"
   ]
  },
  {
   "cell_type": "markdown",
   "metadata": {
    "slideshow": {
     "slide_type": "slide"
    }
   },
   "source": [
    "## Exercice 5\n",
    "\n",
    "1. Créer un array de 10 éléments équidistants les uns des autres, entre 0 et 1 exclus.\n",
    "2. Dans cet array, trouver la valeur la plus proche de 8\n",
    "3. Extraire la partie entière de chaque élément de cet array"
   ]
  },
  {
   "cell_type": "code",
   "execution_count": 293,
   "metadata": {
    "slideshow": {
     "slide_type": "slide"
    }
   },
   "outputs": [
    {
     "name": "stdout",
     "output_type": "stream",
     "text": [
      "[ 0.90909091  1.81818182  2.72727273  3.63636364  4.54545455  5.45454545\n",
      "  6.36363636  7.27272727  8.18181818  9.09090909]\n"
     ]
    }
   ],
   "source": [
    "# 1. Créer un array de 10 élément équidistant les uns des autres, entre 0 et 1 exclus.\n",
    "a = np.linspace(0, 10, 11, endpoint=False)[1:]\n",
    "print(a)"
   ]
  },
  {
   "cell_type": "code",
   "execution_count": 294,
   "metadata": {
    "slideshow": {
     "slide_type": "fragment"
    }
   },
   "outputs": [
    {
     "name": "stdout",
     "output_type": "stream",
     "text": [
      "[ 0.90909091  1.81818182  2.72727273  3.63636364  4.54545455  5.45454545\n",
      "  6.36363636  7.27272727  8.18181818  9.09090909]\n"
     ]
    }
   ],
   "source": [
    "a = np.linspace(0, 10, 12)[1:-1]\n",
    "print(a)"
   ]
  },
  {
   "cell_type": "code",
   "execution_count": 295,
   "metadata": {
    "slideshow": {
     "slide_type": "fragment"
    }
   },
   "outputs": [
    {
     "data": {
      "text/plain": [
       "8.1818181818181817"
      ]
     },
     "execution_count": 295,
     "metadata": {},
     "output_type": "execute_result"
    }
   ],
   "source": [
    "# 2. Dans cet array, trouver la valeur la plus proche de 8\n",
    "a[np.abs(a - 8).argmin()]"
   ]
  },
  {
   "cell_type": "code",
   "execution_count": 296,
   "metadata": {
    "slideshow": {
     "slide_type": "fragment"
    }
   },
   "outputs": [
    {
     "data": {
      "text/plain": [
       "array([0, 1, 2, 3, 4, 5, 6, 7, 8, 9])"
      ]
     },
     "execution_count": 296,
     "metadata": {},
     "output_type": "execute_result"
    }
   ],
   "source": [
    "# 3. Extraire la partie entière de chaque élément de cet array\n",
    "a.astype(int)"
   ]
  },
  {
   "cell_type": "markdown",
   "metadata": {
    "slideshow": {
     "slide_type": "slide"
    }
   },
   "source": [
    "#### Alternatives et évaluation du temps"
   ]
  },
  {
   "cell_type": "code",
   "execution_count": 132,
   "metadata": {
    "collapsed": true,
    "slideshow": {
     "slide_type": "fragment"
    }
   },
   "outputs": [],
   "source": [
    "a = np.random.uniform(0, 20, 10000)"
   ]
  },
  {
   "cell_type": "code",
   "execution_count": 133,
   "metadata": {
    "slideshow": {
     "slide_type": "fragment"
    }
   },
   "outputs": [
    {
     "name": "stdout",
     "output_type": "stream",
     "text": [
      "6.19 µs ± 80.6 ns per loop (mean ± std. dev. of 7 runs, 100000 loops each)\n"
     ]
    }
   ],
   "source": [
    "%timeit a.astype(int)"
   ]
  },
  {
   "cell_type": "code",
   "execution_count": 134,
   "metadata": {
    "slideshow": {
     "slide_type": "fragment"
    }
   },
   "outputs": [
    {
     "name": "stdout",
     "output_type": "stream",
     "text": [
      "30.8 µs ± 480 ns per loop (mean ± std. dev. of 7 runs, 10000 loops each)\n"
     ]
    }
   ],
   "source": [
    "%timeit np.floor(a)"
   ]
  },
  {
   "cell_type": "code",
   "execution_count": 135,
   "metadata": {
    "slideshow": {
     "slide_type": "fragment"
    }
   },
   "outputs": [
    {
     "name": "stdout",
     "output_type": "stream",
     "text": [
      "37.4 µs ± 491 ns per loop (mean ± std. dev. of 7 runs, 10000 loops each)\n"
     ]
    }
   ],
   "source": [
    "%timeit np.ceil(a) - 1"
   ]
  },
  {
   "cell_type": "code",
   "execution_count": 136,
   "metadata": {
    "slideshow": {
     "slide_type": "fragment"
    }
   },
   "outputs": [
    {
     "name": "stdout",
     "output_type": "stream",
     "text": [
      "43.3 µs ± 295 ns per loop (mean ± std. dev. of 7 runs, 10000 loops each)\n"
     ]
    }
   ],
   "source": [
    "%timeit np.trunc(a)"
   ]
  },
  {
   "cell_type": "code",
   "execution_count": 137,
   "metadata": {
    "slideshow": {
     "slide_type": "fragment"
    }
   },
   "outputs": [
    {
     "name": "stdout",
     "output_type": "stream",
     "text": [
      "91 µs ± 205 ns per loop (mean ± std. dev. of 7 runs, 10000 loops each)\n"
     ]
    }
   ],
   "source": [
    "%timeit a -a%1"
   ]
  },
  {
   "cell_type": "markdown",
   "metadata": {
    "slideshow": {
     "slide_type": "slide"
    }
   },
   "source": [
    "## Exercice 6\n",
    "\n",
    "1. Créer un array contenant les coordonnées 3D aléatoires (`n_dims=3`) de 4 points de l'espace (`n_points=4`), \n",
    "2. Écrire une fonction qui retourne les indices des points les plus proches dans ce même array, pour chaque points de cet array.\n",
    "2. Comparer les performances de cette fonction à la fonction `NearestNeighbors` de `scikit-learn` (ci-dessous)"
   ]
  },
  {
   "cell_type": "code",
   "execution_count": 297,
   "metadata": {
    "collapsed": true,
    "slideshow": {
     "slide_type": "fragment"
    }
   },
   "outputs": [],
   "source": [
    "def nearset_neighbors_sklear(data):\n",
    "    from sklearn.neighbors import NearestNeighbors\n",
    "    nbrs = NearestNeighbors(n_neighbors=2, algorithm='ball_tree').fit(data)\n",
    "    distances, indices = nbrs.kneighbors(data)\n",
    "    return indices[:, 1]"
   ]
  },
  {
   "cell_type": "code",
   "execution_count": 300,
   "metadata": {
    "collapsed": true,
    "slideshow": {
     "slide_type": "slide"
    }
   },
   "outputs": [],
   "source": [
    "n_points = 4\n",
    "n_dims = 3"
   ]
  },
  {
   "cell_type": "code",
   "execution_count": 301,
   "metadata": {
    "slideshow": {
     "slide_type": "fragment"
    }
   },
   "outputs": [
    {
     "name": "stdout",
     "output_type": "stream",
     "text": [
      "(4, 3)\n",
      "[[ 0.97197277  0.37302222  0.57591548]\n",
      " [ 0.00541308  0.96354502  0.45031983]\n",
      " [ 0.00920761  0.08480097  0.25496418]\n",
      " [ 0.43607756  0.46195006  0.72150335]]\n"
     ]
    }
   ],
   "source": [
    "data = np.random.random((n_points, n_dims))\n",
    "print(np.shape(data))\n",
    "print(data)"
   ]
  },
  {
   "cell_type": "code",
   "execution_count": 247,
   "metadata": {
    "collapsed": true,
    "slideshow": {
     "slide_type": "slide"
    }
   },
   "outputs": [],
   "source": [
    "def nearset_neighbors(data):\n",
    "    n_points, n_dims = np.shape(data)\n",
    "    distances = np.sum((data.reshape(n_points, 1, n_dims) - data)**2, axis=2)\n",
    "    distances[np.diag_indices_from(distances)] = np.inf\n",
    "    return np.argmin(distances, axis=1)"
   ]
  },
  {
   "cell_type": "code",
   "execution_count": 249,
   "metadata": {
    "slideshow": {
     "slide_type": "fragment"
    }
   },
   "outputs": [
    {
     "data": {
      "text/plain": [
       "array([ True,  True,  True,  True], dtype=bool)"
      ]
     },
     "execution_count": 249,
     "metadata": {},
     "output_type": "execute_result"
    }
   ],
   "source": [
    "nearset_neighbors_sklear(data) == nearset_neighbors(data)"
   ]
  },
  {
   "cell_type": "code",
   "execution_count": 250,
   "metadata": {
    "slideshow": {
     "slide_type": "slide"
    }
   },
   "outputs": [
    {
     "name": "stdout",
     "output_type": "stream",
     "text": [
      "(4, 1, 3)\n",
      "[[[ 0.37584168  0.31295518  0.92184453]]\n",
      "\n",
      " [[ 0.32883427  0.6450784   0.06649225]]\n",
      "\n",
      " [[ 0.1903183   0.0367334   0.78393546]]\n",
      "\n",
      " [[ 0.40414839  0.54369458  0.224079  ]]]\n"
     ]
    }
   ],
   "source": [
    "data_reshaped = data.reshape(n_points, 1, n_dims)\n",
    "print(np.shape(data_reshaped))\n",
    "print(data_reshaped)"
   ]
  },
  {
   "cell_type": "code",
   "execution_count": 251,
   "metadata": {
    "slideshow": {
     "slide_type": "slide"
    }
   },
   "outputs": [
    {
     "name": "stdout",
     "output_type": "stream",
     "text": [
      "(4, 4, 3)\n",
      "[[[ 0.          0.          0.        ]\n",
      "  [ 0.04700741 -0.33212322  0.85535229]\n",
      "  [ 0.18552338  0.27622178  0.13790907]\n",
      "  [-0.02830672 -0.2307394   0.69776553]]\n",
      "\n",
      " [[-0.04700741  0.33212322 -0.85535229]\n",
      "  [ 0.          0.          0.        ]\n",
      "  [ 0.13851597  0.60834501 -0.71744322]\n",
      "  [-0.07531412  0.10138382 -0.15758676]]\n",
      "\n",
      " [[-0.18552338 -0.27622178 -0.13790907]\n",
      "  [-0.13851597 -0.60834501  0.71744322]\n",
      "  [ 0.          0.          0.        ]\n",
      "  [-0.21383009 -0.50696118  0.55985646]]\n",
      "\n",
      " [[ 0.02830672  0.2307394  -0.69776553]\n",
      "  [ 0.07531412 -0.10138382  0.15758676]\n",
      "  [ 0.21383009  0.50696118 -0.55985646]\n",
      "  [ 0.          0.          0.        ]]]\n"
     ]
    }
   ],
   "source": [
    "difference = data_reshaped - data\n",
    "print(np.shape(difference))\n",
    "print(difference)"
   ]
  },
  {
   "cell_type": "code",
   "execution_count": 252,
   "metadata": {
    "slideshow": {
     "slide_type": "slide"
    }
   },
   "outputs": [
    {
     "name": "stdout",
     "output_type": "stream",
     "text": [
      "(4, 4)\n",
      "[[ 0.          0.84414306  0.12973631  0.54091867]\n",
      " [ 0.84414306  0.          0.90399509  0.04078448]\n",
      " [ 0.12973631  0.90399509  0.          0.61617221]\n",
      " [ 0.54091867  0.04078448  0.61617221  0.        ]]\n"
     ]
    }
   ],
   "source": [
    "distances = np.sum(difference**2, axis=2)\n",
    "print(np.shape(distances))\n",
    "print(distances)"
   ]
  },
  {
   "cell_type": "code",
   "execution_count": 253,
   "metadata": {
    "collapsed": true,
    "slideshow": {
     "slide_type": "fragment"
    }
   },
   "outputs": [],
   "source": [
    "distances[np.diag_indices_from(distances)] = np.inf  # supprimer les distances des points à eux-même"
   ]
  },
  {
   "cell_type": "code",
   "execution_count": 254,
   "metadata": {
    "slideshow": {
     "slide_type": "fragment"
    }
   },
   "outputs": [
    {
     "data": {
      "text/plain": [
       "array([2, 3, 0, 1])"
      ]
     },
     "execution_count": 254,
     "metadata": {},
     "output_type": "execute_result"
    }
   ],
   "source": [
    "np.argmin(distances, axis=1)"
   ]
  },
  {
   "cell_type": "markdown",
   "metadata": {
    "slideshow": {
     "slide_type": "slide"
    }
   },
   "source": [
    "#### Comparaison des efficacités"
   ]
  },
  {
   "cell_type": "code",
   "execution_count": 297,
   "metadata": {
    "collapsed": true,
    "slideshow": {
     "slide_type": "slide"
    }
   },
   "outputs": [],
   "source": [
    "def nearset_neighbors_sklear(data):\n",
    "    from sklearn.neighbors import NearestNeighbors\n",
    "    nbrs = NearestNeighbors(n_neighbors=2, algorithm='ball_tree').fit(data)\n",
    "    distances, indices = nbrs.kneighbors(data)\n",
    "    return indices[:, 1]"
   ]
  },
  {
   "cell_type": "code",
   "execution_count": 259,
   "metadata": {
    "collapsed": true,
    "slideshow": {
     "slide_type": "slide"
    }
   },
   "outputs": [],
   "source": [
    "n_points = 100\n",
    "n_dims = 3"
   ]
  },
  {
   "cell_type": "code",
   "execution_count": 260,
   "metadata": {
    "collapsed": true,
    "slideshow": {
     "slide_type": "fragment"
    }
   },
   "outputs": [],
   "source": [
    "data = np.random.random((n_points, n_dims))"
   ]
  },
  {
   "cell_type": "code",
   "execution_count": 261,
   "metadata": {
    "slideshow": {
     "slide_type": "fragment"
    }
   },
   "outputs": [
    {
     "name": "stdout",
     "output_type": "stream",
     "text": [
      "394 µs ± 3.16 µs per loop (mean ± std. dev. of 7 runs, 1000 loops each)\n"
     ]
    }
   ],
   "source": [
    "%timeit nearset_neighbors_sklear(data)"
   ]
  },
  {
   "cell_type": "code",
   "execution_count": 262,
   "metadata": {
    "slideshow": {
     "slide_type": "fragment"
    }
   },
   "outputs": [
    {
     "name": "stdout",
     "output_type": "stream",
     "text": [
      "316 µs ± 2.83 µs per loop (mean ± std. dev. of 7 runs, 1000 loops each)\n"
     ]
    }
   ],
   "source": [
    "%timeit nearset_neighbors(data)"
   ]
  },
  {
   "cell_type": "code",
   "execution_count": 267,
   "metadata": {
    "collapsed": true,
    "slideshow": {
     "slide_type": "slide"
    }
   },
   "outputs": [],
   "source": [
    "n_points = 10000\n",
    "n_dims = 3"
   ]
  },
  {
   "cell_type": "code",
   "execution_count": 268,
   "metadata": {
    "collapsed": true,
    "slideshow": {
     "slide_type": "fragment"
    }
   },
   "outputs": [],
   "source": [
    "data = np.random.random((n_points, n_dims))"
   ]
  },
  {
   "cell_type": "code",
   "execution_count": 269,
   "metadata": {
    "slideshow": {
     "slide_type": "fragment"
    }
   },
   "outputs": [
    {
     "name": "stdout",
     "output_type": "stream",
     "text": [
      "44.1 ms ± 199 µs per loop (mean ± std. dev. of 7 runs, 10 loops each)\n"
     ]
    }
   ],
   "source": [
    "%timeit nearset_neighbors_sklear(data)"
   ]
  },
  {
   "cell_type": "code",
   "execution_count": 270,
   "metadata": {
    "slideshow": {
     "slide_type": "fragment"
    }
   },
   "outputs": [
    {
     "name": "stdout",
     "output_type": "stream",
     "text": [
      "3.51 s ± 9.55 ms per loop (mean ± std. dev. of 7 runs, 1 loop each)\n"
     ]
    }
   ],
   "source": [
    "%timeit nearset_neighbors(data)"
   ]
  }
 ],
 "metadata": {
  "celltoolbar": "Slideshow",
  "kernelspec": {
   "display_name": "Python 3",
   "language": "python",
   "name": "python3"
  },
  "language_info": {
   "codemirror_mode": {
    "name": "ipython",
    "version": 3
   },
   "file_extension": ".py",
   "mimetype": "text/x-python",
   "name": "python",
   "nbconvert_exporter": "python",
   "pygments_lexer": "ipython3",
   "version": "3.6.2"
  }
 },
 "nbformat": 4,
 "nbformat_minor": 2
}
