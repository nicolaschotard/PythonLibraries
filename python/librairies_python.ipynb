{
 "cells": [
  {
   "cell_type": "markdown",
   "metadata": {
    "slideshow": {
     "slide_type": "slide"
    }
   },
   "source": [
    "# Librairies Python\n",
    "\n",
    "<center>\n",
    "![https://pypi.org/static/images/logo-large.72ad8bf1.svg](https://pypi.org/static/images/logo-large.72ad8bf1.svg)\n",
    "![https://www.anaconda.com/wp-content/themes/anaconda/images/logo-dark.png](https://www.anaconda.com/wp-content/themes/anaconda/images/logo-dark.png)\n",
    "</center>\n"
   ]
  },
  {
   "cell_type": "markdown",
   "metadata": {
    "slideshow": {
     "slide_type": "slide"
    }
   },
   "source": [
    "## Les librairies en Python\n",
    "\n",
    "- Des librairies sont installées nativement en Python\n",
    "- D'autres sont disponibles en ligne sur des dépots\n",
    "- Des milliers de librairies disponibles\n",
    "  - ~ 117000 sur [PyPI](https://pypi.org/)\n",
    "  - Et certainement beaucoup d'autres sur différents dépots\n",
    "  - Installation de librairies : `pip install librairie`\n",
    "- Anaconda : Plateforme d'analyse scientifque pour Python \n",
    "  - Plus de 1000 paquets python orientés analyse scientifique disponibles à l'[installation](https://www.anaconda.com/download/)\n",
    "  - Installation de librairies via `pip` ou `conda`\n",
    "- Librairies gérérales + librairies scientifiques  "
   ]
  },
  {
   "cell_type": "markdown",
   "metadata": {
    "slideshow": {
     "slide_type": "slide"
    }
   },
   "source": [
    "## Quelques librairies générales"
   ]
  },
  {
   "cell_type": "markdown",
   "metadata": {
    "slideshow": {
     "slide_type": "slide"
    }
   },
   "source": [
    "### [os](https://docs.python.org/3.6/library/os.html) : interfaces au système d'exploitation"
   ]
  },
  {
   "cell_type": "code",
   "execution_count": 29,
   "metadata": {
    "collapsed": true,
    "slideshow": {
     "slide_type": "fragment"
    }
   },
   "outputs": [],
   "source": [
    "import os"
   ]
  },
  {
   "cell_type": "code",
   "execution_count": 30,
   "metadata": {
    "slideshow": {
     "slide_type": "fragment"
    }
   },
   "outputs": [
    {
     "name": "stdout",
     "output_type": "stream",
     "text": [
      "False\n"
     ]
    }
   ],
   "source": [
    "print(os.path.exists(\"unfichier.txt\"))  # vérifie l'existance d'un fichier"
   ]
  },
  {
   "cell_type": "code",
   "execution_count": 31,
   "metadata": {
    "slideshow": {
     "slide_type": "fragment"
    }
   },
   "outputs": [
    {
     "name": "stdout",
     "output_type": "stream",
     "text": [
      "/home/chotard\n"
     ]
    }
   ],
   "source": [
    "print(os.getenv(\"HOME\"))  # Pour récupérer la valeur d'une variable d'environement (setenv pour créer ou changer)"
   ]
  },
  {
   "cell_type": "code",
   "execution_count": 49,
   "metadata": {
    "slideshow": {
     "slide_type": "fragment"
    }
   },
   "outputs": [
    {
     "name": "stdout",
     "output_type": "stream",
     "text": [
      "/home/chotard/Work/Confs/lsst_drp_analysis\n",
      "/home/chotard\n"
     ]
    }
   ],
   "source": [
    "os.chdir(\"/home/chotard/Work/Confs/lsst_drp_analysis\")\n",
    "print(os.getcwd())           # pour récupérer le repertoire courant\n",
    "os.chdir(os.getenv(\"HOME\"))  # change de répertoire\n",
    "print(os.getcwd())\n",
    "os.chdir(\"/home/chotard/Work/Confs/lsst_drp_analysis\")"
   ]
  },
  {
   "cell_type": "code",
   "execution_count": 50,
   "metadata": {
    "slideshow": {
     "slide_type": "fragment"
    }
   },
   "outputs": [
    {
     "name": "stdout",
     "output_type": "stream",
     "text": [
      "chotard\n"
     ]
    }
   ],
   "source": [
    "print(os.getlogin())"
   ]
  },
  {
   "cell_type": "code",
   "execution_count": 59,
   "metadata": {
    "slideshow": {
     "slide_type": "slide"
    }
   },
   "outputs": [
    {
     "name": "stdout",
     "output_type": "stream",
     "text": [
      "['.ipynb_checkpoints', 'librairies_python.ipynb', 'README.rst', 'rappels_python.ipynb', '.git']\n"
     ]
    }
   ],
   "source": [
    "print(os.listdir(\".\"))"
   ]
  },
  {
   "cell_type": "code",
   "execution_count": 63,
   "metadata": {
    "slideshow": {
     "slide_type": "fragment"
    }
   },
   "outputs": [
    {
     "name": "stdout",
     "output_type": "stream",
     "text": [
      "['.ipynb_checkpoints', 'librairies_python.ipynb', 'README.rst', 'rappels_python.ipynb', '.git']\n"
     ]
    }
   ],
   "source": [
    "print(os.listdir(\"../lsst_drp_analysis\"))"
   ]
  },
  {
   "cell_type": "markdown",
   "metadata": {
    "slideshow": {
     "slide_type": "fragment"
    }
   },
   "source": [
    "### [glob](https://docs.python.org/3.6/library/glob.html) : contenu de repertoire \"à la unix\""
   ]
  },
  {
   "cell_type": "code",
   "execution_count": 45,
   "metadata": {
    "collapsed": true,
    "slideshow": {
     "slide_type": "fragment"
    }
   },
   "outputs": [],
   "source": [
    "import glob"
   ]
  },
  {
   "cell_type": "code",
   "execution_count": 61,
   "metadata": {
    "slideshow": {
     "slide_type": "fragment"
    }
   },
   "outputs": [
    {
     "name": "stdout",
     "output_type": "stream",
     "text": [
      "['librairies_python.ipynb', 'README.rst', 'rappels_python.ipynb']\n"
     ]
    }
   ],
   "source": [
    "print(glob.glob(\"*.*\"))   # ** + recursive=True pour chercher dans les sous répertoires"
   ]
  },
  {
   "cell_type": "code",
   "execution_count": 64,
   "metadata": {
    "slideshow": {
     "slide_type": "fragment"
    }
   },
   "outputs": [
    {
     "name": "stdout",
     "output_type": "stream",
     "text": [
      "['../lsst_drp_analysis/librairies_python.ipynb', '../lsst_drp_analysis/README.rst', '../lsst_drp_analysis/rappels_python.ipynb']\n"
     ]
    }
   ],
   "source": [
    "print(glob.glob(\"../lsst_drp_analysis/*.*\"))"
   ]
  },
  {
   "cell_type": "code",
   "execution_count": 57,
   "metadata": {
    "slideshow": {
     "slide_type": "fragment"
    }
   },
   "outputs": [
    {
     "data": {
      "text/plain": [
       "['/home/chotard/Work/Confs/lsst_drp_analysis/.ipynb_checkpoints',\n",
       " '/home/chotard/Work/Confs/lsst_drp_analysis/.git']"
      ]
     },
     "execution_count": 57,
     "metadata": {},
     "output_type": "execute_result"
    }
   ],
   "source": [
    "glob.glob(\"/home/chotard/Work/Confs/lsst_drp_analysis/.*\")"
   ]
  },
  {
   "cell_type": "markdown",
   "metadata": {
    "slideshow": {
     "slide_type": "slide"
    }
   },
   "source": [
    "### [PyYAML](http://pyyaml.org/wiki/PyYAML) : lire et écrire des fichiers YAML"
   ]
  },
  {
   "cell_type": "markdown",
   "metadata": {},
   "source": [
    "*YAML is a data serialization format designed for human readability and interaction with scripting languages*"
   ]
  },
  {
   "cell_type": "code",
   "execution_count": 93,
   "metadata": {
    "collapsed": true,
    "slideshow": {
     "slide_type": "fragment"
    }
   },
   "outputs": [],
   "source": [
    "import yaml"
   ]
  },
  {
   "cell_type": "code",
   "execution_count": 94,
   "metadata": {
    "slideshow": {
     "slide_type": "fragment"
    }
   },
   "outputs": [],
   "source": [
    "# Sauvegarder des données structurées dans un dictionnaire\n",
    "d = {'a': 1, 'b': 2}\n",
    "yaml.dump(d, open('fichier.yaml', 'w'))"
   ]
  },
  {
   "cell_type": "code",
   "execution_count": 105,
   "metadata": {
    "collapsed": true,
    "slideshow": {
     "slide_type": "fragment"
    }
   },
   "outputs": [],
   "source": [
    "less fichier.yaml"
   ]
  },
  {
   "cell_type": "code",
   "execution_count": 96,
   "metadata": {
    "slideshow": {
     "slide_type": "fragment"
    }
   },
   "outputs": [
    {
     "name": "stdout",
     "output_type": "stream",
     "text": [
      "{'a': 1, 'b': 2}\n"
     ]
    }
   ],
   "source": [
    "d2 = yaml.load(open(\"fichier.yaml\"))\n",
    "print(d2)"
   ]
  },
  {
   "cell_type": "code",
   "execution_count": 97,
   "metadata": {
    "collapsed": true,
    "slideshow": {
     "slide_type": "slide"
    }
   },
   "outputs": [],
   "source": [
    "d = yaml.load(\"\"\"\n",
    "cluster: MACSJ2243.3-0935\n",
    "ra: 340.83\n",
    "dec: -9.59\n",
    "redshift: 0.4470\n",
    "filter: [u, g, r, i, 'i2', z]\n",
    "butler: /sps/lsst/data/clusters/MACSJ2243.3-0935/output_v1/coadd_dir\n",
    "patch: ['1,1', '1,3', '1,2', '1,4', '1,5', '2,1', '2,2', '2,3', '2,4', '2,5', '3,2', '3,3', '3,4']\n",
    "\"\"\")"
   ]
  },
  {
   "cell_type": "code",
   "execution_count": 98,
   "metadata": {
    "slideshow": {
     "slide_type": "fragment"
    }
   },
   "outputs": [
    {
     "name": "stdout",
     "output_type": "stream",
     "text": [
      "{'cluster': 'MACSJ2243.3-0935', 'ra': 340.83, 'dec': -9.59, 'redshift': 0.447, 'filter': ['u', 'g', 'r', 'i', 'i2', 'z'], 'butler': '/sps/lsst/data/clusters/MACSJ2243.3-0935/output_v1/coadd_dir', 'patch': ['1,1', '1,3', '1,2', '1,4', '1,5', '2,1', '2,2', '2,3', '2,4', '2,5', '3,2', '3,3', '3,4']}\n"
     ]
    }
   ],
   "source": [
    "print(d)"
   ]
  },
  {
   "cell_type": "code",
   "execution_count": 99,
   "metadata": {
    "slideshow": {
     "slide_type": "fragment"
    }
   },
   "outputs": [],
   "source": [
    "yaml.dump(d, open(\"fichier2.yaml\", 'w'))"
   ]
  },
  {
   "cell_type": "code",
   "execution_count": 106,
   "metadata": {
    "collapsed": true,
    "slideshow": {
     "slide_type": "fragment"
    }
   },
   "outputs": [],
   "source": [
    "less fichier2.yaml"
   ]
  },
  {
   "cell_type": "markdown",
   "metadata": {
    "slideshow": {
     "slide_type": "slide"
    }
   },
   "source": [
    "## D'autres librairies générales intéressantes\n",
    "\n",
    "- [csv](https://docs.python.org/3.6/library/csv.html) : Lire et écrire des fichiers de données\n",
    "- [pickle](https://docs.python.org/3.6/library/pickle.html) : Sérialisation binaire d'objets Python\n",
    "- [re](https://docs.python.org/3.6/library/re.html) : Opérations sur les expression regulières\n",
    "- [subprocess](https://docs.python.org/3.6/library/subprocess.html) : Gérer des sous-processus (entrées, sorties, erreurs)\n",
    "- [requests](http://docs.python-requests.org/en/master/) : Simplifier les requettes HTTP via Python\n",
    "- [logging](https://docs.python.org/3.6/library/logging.html) : Gèrer les logs\n",
    "- [time](https://docs.python.org/3.6/library/time.html) & [datetime](https://docs.python.org/3.6/library/datetime.html) :  Manipulation de date, heure, et conversions\n",
    "- [itertools](https://docs.python.org/3.6/library/itertools.html) : Créer des itérateur, permutations, combinaisons, etc.\n",
    "- [argparse](https://docs.python.org/3/library/argparse.html) : Parseur d'options pour Python en ligne de commande\n",
    "- [ipython](https://ipython.org/) : Calcul et visualisation intéractive pour Python \n",
    "- [jupyter](https://jupyter.org/) : Python interactif sur votre navigateur\n",
    "- et bien d'autres..."
   ]
  },
  {
   "cell_type": "markdown",
   "metadata": {
    "slideshow": {
     "slide_type": "slide"
    }
   },
   "source": [
    "## Quelques librairies scientifiques"
   ]
  },
  {
   "cell_type": "markdown",
   "metadata": {
    "slideshow": {
     "slide_type": "slide"
    }
   },
   "source": [
    "<center>\n",
    "<img src=\"https://scipy.org/_static/logo.gif\" alt=\"Drawing\" style=\"width: 400px;\"/>\n",
    "</center>"
   ]
  },
  {
   "cell_type": "markdown",
   "metadata": {
    "slideshow": {
     "slide_type": "slide"
    }
   },
   "source": [
    "<center>\n",
    "<img src=\"http://www.numpy.org/_static/numpy_logo.png\" alt=\"Drawing\" style=\"width: 300px;\"/>\n",
    "</center>"
   ]
  },
  {
   "cell_type": "markdown",
   "metadata": {
    "slideshow": {
     "slide_type": "slide"
    }
   },
   "source": [
    "<center>\n",
    "<img src=\"http://matplotlib.org/_static/logo2.svg\" alt=\"Drawing\" style=\"width: 400px;\"/>\n",
    "</center>"
   ]
  },
  {
   "cell_type": "markdown",
   "metadata": {
    "slideshow": {
     "slide_type": "slide"
    }
   },
   "source": [
    "<center>\n",
    "<img src=\"http://pandas.pydata.org/_static/pandas_logo.png\" alt=\"Drawing\" style=\"width: 400px;\"/>\n",
    "</center>"
   ]
  },
  {
   "cell_type": "markdown",
   "metadata": {
    "slideshow": {
     "slide_type": "slide"
    }
   },
   "source": [
    "<center>\n",
    "<img src=\"http://www.astropy.org/images/astropy_banner.svg\" alt=\"Drawing\" style=\"width: 400px;\"/>\n",
    "</center>"
   ]
  },
  {
   "cell_type": "markdown",
   "metadata": {
    "slideshow": {
     "slide_type": "slide"
    }
   },
   "source": [
    "## D'autres librairies scientifiques intéressantes\n",
    "- [math](https://docs.python.org/3.6/library/math.html) : Fonctions mathématiques standards (natif)\n",
    "- [sympy](http://www.sympy.org/en/index.html) : Calcul mathématiques complexes : résolution d'équations, simplification, factorisation, statistics, etc. \n",
    "- [scikit-learn](http://scikit-learn.org/stable/index.html) : Outils d'exploration et d'analyse de données (classification, regression, clustering, etc )\n",
    "- [h5py](http://www.h5py.org/) : Interface Python au format de données HDF5\n",
    "- [pyfits](http://pythonhosted.org/pyfits/) : Interface au format de données FITS \n",
    "- [healpy](https://github.com/healpy/healpy) : Interface au format de données HEALPIX (cartes)\n",
    "- [numba](http://numba.pydata.org/) : Compilation à la volée de morceau de code\n",
    "- [scipy](https://scipy.org/), [numpy](http://www.numpy.org/), [matplotlib](http://matplotlib.org/), [pandas](http://pandas.pydata.org/), [astropy](http://www.astropy.org/)\n",
    "- et bien d'autres..."
   ]
  }
 ],
 "metadata": {
  "celltoolbar": "Slideshow",
  "kernelspec": {
   "display_name": "Python 3",
   "language": "python",
   "name": "python3"
  },
  "language_info": {
   "codemirror_mode": {
    "name": "ipython",
    "version": 3
   },
   "file_extension": ".py",
   "mimetype": "text/x-python",
   "name": "python",
   "nbconvert_exporter": "python",
   "pygments_lexer": "ipython3",
   "version": "3.6.2"
  }
 },
 "nbformat": 4,
 "nbformat_minor": 2
}
