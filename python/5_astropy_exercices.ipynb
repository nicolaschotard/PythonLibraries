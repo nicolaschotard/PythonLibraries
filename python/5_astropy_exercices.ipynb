{
 "cells": [
  {
   "cell_type": "markdown",
   "metadata": {
    "slideshow": {
     "slide_type": "slide"
    }
   },
   "source": [
    "# Exercices Astropy"
   ]
  },
  {
   "cell_type": "markdown",
   "metadata": {
    "slideshow": {
     "slide_type": "slide"
    }
   },
   "source": [
    "Les modules Astropy suivants seront, pour la plupart très partiellement, utilisés dans ces exercices :\n",
    "  - `astropy.constants` : constants useful in Astronomy\n",
    "  - `astropy.units` : everything related to physical quantities\n",
    "  - `astropy.table` : store and manipulate heterogeneous tables\n",
    "  - `astropy.coordinates` : celestial/spatial coordinates, tools for converting between common coordinate systems\n",
    "  - `astropy.wcs` : WCS transformations in FITS files\n",
    "  - `astropy.io.fits` : access to FITS files\n",
    "  - `astropy.io.misc` : IO routines (HDF5, YAML, pickle)\n",
    "  - `astropy.cosmology` : calculating quantities that depend on a cosmological model\n",
    "  - `astropy.stats` : statistical functions or algorithms"
   ]
  },
  {
   "cell_type": "markdown",
   "metadata": {
    "collapsed": true
   },
   "source": [
    "## Exercice 1\n",
    "\n"
   ]
  }
 ],
 "metadata": {
  "celltoolbar": "Slideshow",
  "kernelspec": {
   "display_name": "Python 3",
   "language": "python",
   "name": "python3"
  },
  "language_info": {
   "codemirror_mode": {
    "name": "ipython",
    "version": 3
   },
   "file_extension": ".py",
   "mimetype": "text/x-python",
   "name": "python",
   "nbconvert_exporter": "python",
   "pygments_lexer": "ipython3",
   "version": "3.6.2"
  }
 },
 "nbformat": 4,
 "nbformat_minor": 2
}
