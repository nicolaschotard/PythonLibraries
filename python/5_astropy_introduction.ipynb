{
 "cells": [
  {
   "cell_type": "markdown",
   "metadata": {
    "slideshow": {
     "slide_type": "slide"
    }
   },
   "source": [
    "<img src=\"http://www.astropy.org/images/astropy_banner.svg\" alt=\"Drawing\" style=\"width: 400px;\"/>\n",
    "\n",
    "# Introduction à [Astropy](http://www.astropy.org/)"
   ]
  },
  {
   "cell_type": "markdown",
   "metadata": {
    "slideshow": {
     "slide_type": "slide"
    }
   },
   "source": [
    "### [Astropy](http://docs.astropy.org/en/stable/)\n",
    "\n",
    "- Librairie centrale et unique contenant les élément essentiels des analyses pour l'astronomie, et ayant pour but de rendre possible l'inter-operabilité des librairies d'astronomies.\n",
    "- Les fonctionnalités principales d'astropy se font selon trois catégories principales\n",
    "  - Data structures and transformations (constantes, unitées, temps, coordonnées, WCS, table, etc)\n",
    "  - Files, I/O, and Communication (FITS, ASCII, VOTable, HDF5, YAML, etc.)\n",
    "  - Computations and utilities (cosmologie, astr-statistique, visualisation, convolution, filtering)\n",
    "- [Documentation en ligne](http://docs.astropy.org/en/stable/)"
   ]
  },
  {
   "cell_type": "markdown",
   "metadata": {
    "slideshow": {
     "slide_type": "slide"
    }
   },
   "source": [
    "#### Data structures and transformations\n",
    "\n",
    "- Constants (astropy.constants)\n",
    "- Units and Quantities (astropy.units)\n",
    "- N-dimensional datasets (astropy.nddata)\n",
    "- Data Tables (astropy.table)\n",
    "- Time and Dates (astropy.time)\n",
    "- Astronomical Coordinate Systems (astropy.coordinates)\n",
    "- World Coordinate System (astropy.wcs)\n",
    "- Models and Fitting (astropy.modeling)\n",
    "- Analytic Functions (astropy.analytic_functions)"
   ]
  },
  {
   "cell_type": "markdown",
   "metadata": {
    "slideshow": {
     "slide_type": "slide"
    }
   },
   "source": [
    "#### Files, I/O, and Communication\n",
    "\n",
    "- Unified file read/write interface\n",
    "- FITS File handling (astropy.io.fits)\n",
    "- ASCII Tables (astropy.io.ascii)\n",
    "- VOTable XML handling (astropy.io.votable)\n",
    "- Miscellaneous: HDF5, YAML, pickle (astropy.io.misc)\n",
    "- Simple Application Messaging Protocol (astropy.samp)\n",
    "- Virtual Observatory Access (astropy.vo)"
   ]
  },
  {
   "cell_type": "markdown",
   "metadata": {
    "slideshow": {
     "slide_type": "slide"
    }
   },
   "source": [
    "#### Computations and utilities\n",
    "\n",
    "- Cosmological Calculations (astropy.cosmology)\n",
    "- Convolution and filtering (astropy.convolution)\n",
    "- Data Visualization (astropy.visualization)\n",
    "- Astrostatistics Tools (astropy.stats)"
   ]
  },
  {
   "cell_type": "markdown",
   "metadata": {
    "slideshow": {
     "slide_type": "slide"
    }
   },
   "source": [
    "# Exemples"
   ]
  },
  {
   "cell_type": "markdown",
   "metadata": {
    "slideshow": {
     "slide_type": "slide"
    }
   },
   "source": [
    "## Units et Quantities\n",
    "\n",
    "[**units**](http://docs.astropy.org/en/stable/units/) : définition, calcul et convertion d'unités de quantités physiques telles des que mètres, secondes, Hz, decibel, magnitudes, etc.\n",
    "\n",
    "[**quantity**](http://docs.astropy.org/en/stable/units/quantity.html#quantity) : combinaison d'une valeur et d'une unité forme une quantité\n",
    "\n",
    "[**constants**](http://docs.astropy.org/en/stable/constants/index.html) : constantes physiques utiles en astronomie."
   ]
  },
  {
   "cell_type": "markdown",
   "metadata": {
    "slideshow": {
     "slide_type": "slide"
    }
   },
   "source": [
    "### Units"
   ]
  },
  {
   "cell_type": "code",
   "execution_count": 1,
   "metadata": {
    "collapsed": true,
    "slideshow": {
     "slide_type": "fragment"
    }
   },
   "outputs": [],
   "source": [
    "from astropy import units as u"
   ]
  },
  {
   "cell_type": "code",
   "execution_count": 2,
   "metadata": {
    "slideshow": {
     "slide_type": "fragment"
    }
   },
   "outputs": [
    {
     "data": {
      "text/plain": [
       "['A',\n",
       " 'AA',\n",
       " 'ABmag',\n",
       " 'AU',\n",
       " 'Angstrom',\n",
       " 'B',\n",
       " 'Ba',\n",
       " 'Barye',\n",
       " 'Bi',\n",
       " 'Biot',\n",
       " 'Bq',\n",
       " 'C',\n",
       " 'Celsius',\n",
       " 'Ci',\n",
       " 'CompositeUnit',\n",
       " 'D',\n",
       " 'Da',\n",
       " 'Dalton',\n",
       " 'Debye',\n",
       " 'Decibel',\n",
       " 'DecibelUnit',\n",
       " 'Dex',\n",
       " 'DexUnit',\n",
       " 'EA',\n",
       " 'EAU',\n",
       " 'EB',\n",
       " 'EBa',\n",
       " 'EC',\n",
       " 'ED',\n",
       " 'EF',\n",
       " 'EG',\n",
       " 'EGal',\n",
       " 'EH',\n",
       " 'EHz',\n",
       " 'EJ',\n",
       " 'EJy',\n",
       " 'EK',\n",
       " 'EL',\n",
       " 'EN',\n",
       " 'EOhm',\n",
       " 'EP',\n",
       " 'EPa',\n",
       " 'ER',\n",
       " 'ERy',\n",
       " 'ES',\n",
       " 'ESt',\n",
       " 'ET',\n",
       " 'EV',\n",
       " 'EW',\n",
       " 'EWb',\n",
       " 'Ea',\n",
       " 'Eadu',\n",
       " 'Earcmin',\n",
       " 'Earcsec',\n",
       " 'Eau',\n",
       " 'Eb',\n",
       " 'Ebarn',\n",
       " 'Ebeam',\n",
       " 'Ebin',\n",
       " 'Ebit',\n",
       " 'Ebyte',\n",
       " 'Ecd',\n",
       " 'Echan',\n",
       " 'Ecount',\n",
       " 'Ect',\n",
       " 'Ed',\n",
       " 'Edeg',\n",
       " 'Edyn',\n",
       " 'EeV',\n",
       " 'Eerg',\n",
       " 'Eg',\n",
       " 'Eh',\n",
       " 'EiB',\n",
       " 'Eib',\n",
       " 'Eibit',\n",
       " 'Eibyte',\n",
       " 'Ek',\n",
       " 'El',\n",
       " 'Elm',\n",
       " 'Elx',\n",
       " 'Elyr',\n",
       " 'Em',\n",
       " 'Emag',\n",
       " 'Emin',\n",
       " 'Emol',\n",
       " 'Eohm',\n",
       " 'Epc',\n",
       " 'Eph',\n",
       " 'Ephoton',\n",
       " 'Epix',\n",
       " 'Epixel',\n",
       " 'Erad',\n",
       " 'Es',\n",
       " 'Esr',\n",
       " 'Eu',\n",
       " 'Evox',\n",
       " 'Evoxel',\n",
       " 'Eyr',\n",
       " 'F',\n",
       " 'Farad',\n",
       " 'Fr',\n",
       " 'Franklin',\n",
       " 'FunctionQuantity',\n",
       " 'FunctionUnitBase',\n",
       " 'G',\n",
       " 'GA',\n",
       " 'GAU',\n",
       " 'GB',\n",
       " 'GBa',\n",
       " 'GC',\n",
       " 'GD',\n",
       " 'GF',\n",
       " 'GG',\n",
       " 'GGal',\n",
       " 'GH',\n",
       " 'GHz',\n",
       " 'GJ',\n",
       " 'GJy',\n",
       " 'GK',\n",
       " 'GL',\n",
       " 'GN',\n",
       " 'GOhm',\n",
       " 'GP',\n",
       " 'GPa',\n",
       " 'GR',\n",
       " 'GRy',\n",
       " 'GS',\n",
       " 'GSt',\n",
       " 'GT',\n",
       " 'GV',\n",
       " 'GW',\n",
       " 'GWb',\n",
       " 'Ga',\n",
       " 'Gadu',\n",
       " 'Gal',\n",
       " 'Garcmin',\n",
       " 'Garcsec',\n",
       " 'Gau',\n",
       " 'Gauss',\n",
       " 'Gb',\n",
       " 'Gbarn',\n",
       " 'Gbeam',\n",
       " 'Gbin',\n",
       " 'Gbit',\n",
       " 'Gbyte',\n",
       " 'Gcd',\n",
       " 'Gchan',\n",
       " 'Gcount',\n",
       " 'Gct',\n",
       " 'Gd',\n",
       " 'Gdeg',\n",
       " 'Gdyn',\n",
       " 'GeV',\n",
       " 'Gerg',\n",
       " 'Gg',\n",
       " 'Gh',\n",
       " 'GiB',\n",
       " 'Gib',\n",
       " 'Gibit',\n",
       " 'Gibyte',\n",
       " 'Gk',\n",
       " 'Gl',\n",
       " 'Glm',\n",
       " 'Glx',\n",
       " 'Glyr',\n",
       " 'Gm',\n",
       " 'Gmag',\n",
       " 'Gmin',\n",
       " 'Gmol',\n",
       " 'Gohm',\n",
       " 'Gpc',\n",
       " 'Gph',\n",
       " 'Gphoton',\n",
       " 'Gpix',\n",
       " 'Gpixel',\n",
       " 'Grad',\n",
       " 'Gs',\n",
       " 'Gsr',\n",
       " 'Gu',\n",
       " 'Gvox',\n",
       " 'Gvoxel',\n",
       " 'Gyr',\n",
       " 'H',\n",
       " 'Henry',\n",
       " 'Hertz',\n",
       " 'Hz',\n",
       " 'IrreducibleUnit',\n",
       " 'J',\n",
       " 'Jansky',\n",
       " 'Joule',\n",
       " 'Jy',\n",
       " 'K',\n",
       " 'Kayser',\n",
       " 'Kelvin',\n",
       " 'KiB',\n",
       " 'Kib',\n",
       " 'Kibit',\n",
       " 'Kibyte',\n",
       " 'L',\n",
       " 'L_sun',\n",
       " 'LogQuantity',\n",
       " 'LogUnit',\n",
       " 'Lsun',\n",
       " 'MA',\n",
       " 'MAU',\n",
       " 'MB',\n",
       " 'MBa',\n",
       " 'MC',\n",
       " 'MD',\n",
       " 'MF',\n",
       " 'MG',\n",
       " 'MGal',\n",
       " 'MH',\n",
       " 'MHz',\n",
       " 'MJ',\n",
       " 'MJy',\n",
       " 'MK',\n",
       " 'ML',\n",
       " 'MN',\n",
       " 'MOhm',\n",
       " 'MP',\n",
       " 'MPa',\n",
       " 'MR',\n",
       " 'MRy',\n",
       " 'MS',\n",
       " 'MSt',\n",
       " 'MT',\n",
       " 'MV',\n",
       " 'MW',\n",
       " 'MWb',\n",
       " 'M_bol',\n",
       " 'M_e',\n",
       " 'M_earth',\n",
       " 'M_jup',\n",
       " 'M_jupiter',\n",
       " 'M_p',\n",
       " 'M_sun',\n",
       " 'Ma',\n",
       " 'Madu',\n",
       " 'MagUnit',\n",
       " 'Magnitude',\n",
       " 'Marcmin',\n",
       " 'Marcsec',\n",
       " 'Mau',\n",
       " 'Mb',\n",
       " 'Mbarn',\n",
       " 'Mbeam',\n",
       " 'Mbin',\n",
       " 'Mbit',\n",
       " 'Mbyte',\n",
       " 'Mcd',\n",
       " 'Mchan',\n",
       " 'Mcount',\n",
       " 'Mct',\n",
       " 'Md',\n",
       " 'Mdeg',\n",
       " 'Mdyn',\n",
       " 'MeV',\n",
       " 'Mearth',\n",
       " 'Merg',\n",
       " 'Mg',\n",
       " 'Mh',\n",
       " 'MiB',\n",
       " 'Mib',\n",
       " 'Mibit',\n",
       " 'Mibyte',\n",
       " 'Mjup',\n",
       " 'Mjupiter',\n",
       " 'Mk',\n",
       " 'Ml',\n",
       " 'Mlm',\n",
       " 'Mlx',\n",
       " 'Mlyr',\n",
       " 'Mm',\n",
       " 'Mmag',\n",
       " 'Mmin',\n",
       " 'Mmol',\n",
       " 'Mohm',\n",
       " 'Mpc',\n",
       " 'Mph',\n",
       " 'Mphoton',\n",
       " 'Mpix',\n",
       " 'Mpixel',\n",
       " 'Mrad',\n",
       " 'Ms',\n",
       " 'Msr',\n",
       " 'Msun',\n",
       " 'Mu',\n",
       " 'Mvox',\n",
       " 'Mvoxel',\n",
       " 'Myr',\n",
       " 'N',\n",
       " 'NamedUnit',\n",
       " 'Newton',\n",
       " 'Ohm',\n",
       " 'P',\n",
       " 'PA',\n",
       " 'PAU',\n",
       " 'PB',\n",
       " 'PBa',\n",
       " 'PC',\n",
       " 'PD',\n",
       " 'PF',\n",
       " 'PG',\n",
       " 'PGal',\n",
       " 'PH',\n",
       " 'PHz',\n",
       " 'PJ',\n",
       " 'PJy',\n",
       " 'PK',\n",
       " 'PL',\n",
       " 'PN',\n",
       " 'POhm',\n",
       " 'PP',\n",
       " 'PPa',\n",
       " 'PR',\n",
       " 'PRy',\n",
       " 'PS',\n",
       " 'PSt',\n",
       " 'PT',\n",
       " 'PV',\n",
       " 'PW',\n",
       " 'PWb',\n",
       " 'Pa',\n",
       " 'Padu',\n",
       " 'Parcmin',\n",
       " 'Parcsec',\n",
       " 'Pascal',\n",
       " 'Pau',\n",
       " 'Pb',\n",
       " 'Pbarn',\n",
       " 'Pbeam',\n",
       " 'Pbin',\n",
       " 'Pbit',\n",
       " 'Pbyte',\n",
       " 'Pcd',\n",
       " 'Pchan',\n",
       " 'Pcount',\n",
       " 'Pct',\n",
       " 'Pd',\n",
       " 'Pdeg',\n",
       " 'Pdyn',\n",
       " 'PeV',\n",
       " 'Perg',\n",
       " 'Pg',\n",
       " 'Ph',\n",
       " 'PiB',\n",
       " 'Pib',\n",
       " 'Pibit',\n",
       " 'Pibyte',\n",
       " 'Pk',\n",
       " 'Pl',\n",
       " 'Plm',\n",
       " 'Plx',\n",
       " 'Plyr',\n",
       " 'Pm',\n",
       " 'Pmag',\n",
       " 'Pmin',\n",
       " 'Pmol',\n",
       " 'Pohm',\n",
       " 'Ppc',\n",
       " 'Pph',\n",
       " 'Pphoton',\n",
       " 'Ppix',\n",
       " 'Ppixel',\n",
       " 'Prad',\n",
       " 'PrefixUnit',\n",
       " 'Ps',\n",
       " 'Psr',\n",
       " 'Pu',\n",
       " 'Pvox',\n",
       " 'Pvoxel',\n",
       " 'Pyr',\n",
       " 'Quantity',\n",
       " 'QuantityInfo',\n",
       " 'QuantityInfoBase',\n",
       " 'R',\n",
       " 'R_earth',\n",
       " 'R_jup',\n",
       " 'R_jupiter',\n",
       " 'R_sun',\n",
       " 'Rayleigh',\n",
       " 'Rearth',\n",
       " 'Rjup',\n",
       " 'Rjupiter',\n",
       " 'Rsun',\n",
       " 'Ry',\n",
       " 'S',\n",
       " 'STmag',\n",
       " 'Siemens',\n",
       " 'SpecificTypeQuantity',\n",
       " 'St',\n",
       " 'Sun',\n",
       " 'T',\n",
       " 'TA',\n",
       " 'TAU',\n",
       " 'TB',\n",
       " 'TBa',\n",
       " 'TC',\n",
       " 'TD',\n",
       " 'TF',\n",
       " 'TG',\n",
       " 'TGal',\n",
       " 'TH',\n",
       " 'THz',\n",
       " 'TJ',\n",
       " 'TJy',\n",
       " 'TK',\n",
       " 'TL',\n",
       " 'TN',\n",
       " 'TOhm',\n",
       " 'TP',\n",
       " 'TPa',\n",
       " 'TR',\n",
       " 'TRy',\n",
       " 'TS',\n",
       " 'TSt',\n",
       " 'TT',\n",
       " 'TV',\n",
       " 'TW',\n",
       " 'TWb',\n",
       " 'Ta',\n",
       " 'Tadu',\n",
       " 'Tarcmin',\n",
       " 'Tarcsec',\n",
       " 'Tau',\n",
       " 'Tb',\n",
       " 'Tbarn',\n",
       " 'Tbeam',\n",
       " 'Tbin',\n",
       " 'Tbit',\n",
       " 'Tbyte',\n",
       " 'Tcd',\n",
       " 'Tchan',\n",
       " 'Tcount',\n",
       " 'Tct',\n",
       " 'Td',\n",
       " 'Tdeg',\n",
       " 'Tdyn',\n",
       " 'TeV',\n",
       " 'Terg',\n",
       " 'Tesla',\n",
       " 'Tg',\n",
       " 'Th',\n",
       " 'TiB',\n",
       " 'Tib',\n",
       " 'Tibit',\n",
       " 'Tibyte',\n",
       " 'Tk',\n",
       " 'Tl',\n",
       " 'Tlm',\n",
       " 'Tlx',\n",
       " 'Tlyr',\n",
       " 'Tm',\n",
       " 'Tmag',\n",
       " 'Tmin',\n",
       " 'Tmol',\n",
       " 'Tohm',\n",
       " 'Tpc',\n",
       " 'Tph',\n",
       " 'Tphoton',\n",
       " 'Tpix',\n",
       " 'Tpixel',\n",
       " 'Trad',\n",
       " 'Ts',\n",
       " 'Tsr',\n",
       " 'Tu',\n",
       " 'Tvox',\n",
       " 'Tvoxel',\n",
       " 'Tyr',\n",
       " 'Unit',\n",
       " 'UnitBase',\n",
       " 'UnitConversionError',\n",
       " 'UnitTypeError',\n",
       " 'UnitsError',\n",
       " 'UnitsWarning',\n",
       " 'UnrecognizedUnit',\n",
       " 'V',\n",
       " 'Volt',\n",
       " 'W',\n",
       " 'Watt',\n",
       " 'Wb',\n",
       " 'Weber',\n",
       " 'YA',\n",
       " 'YAU',\n",
       " 'YB',\n",
       " 'YBa',\n",
       " 'YC',\n",
       " 'YD',\n",
       " 'YF',\n",
       " 'YG',\n",
       " 'YGal',\n",
       " 'YH',\n",
       " 'YHz',\n",
       " 'YJ',\n",
       " 'YJy',\n",
       " 'YK',\n",
       " 'YL',\n",
       " 'YN',\n",
       " 'YOhm',\n",
       " 'YP',\n",
       " 'YPa',\n",
       " 'YR',\n",
       " 'YRy',\n",
       " 'YS',\n",
       " 'YSt',\n",
       " 'YT',\n",
       " 'YV',\n",
       " 'YW',\n",
       " 'YWb',\n",
       " 'Ya',\n",
       " 'Yadu',\n",
       " 'Yarcmin',\n",
       " 'Yarcsec',\n",
       " 'Yau',\n",
       " 'Yb',\n",
       " 'Ybarn',\n",
       " 'Ybeam',\n",
       " 'Ybin',\n",
       " 'Ybit',\n",
       " 'Ybyte',\n",
       " 'Ycd',\n",
       " 'Ychan',\n",
       " 'Ycount',\n",
       " 'Yct',\n",
       " 'Yd',\n",
       " 'Ydeg',\n",
       " 'Ydyn',\n",
       " 'YeV',\n",
       " 'Yerg',\n",
       " 'Yg',\n",
       " 'Yh',\n",
       " 'Yk',\n",
       " 'Yl',\n",
       " 'Ylm',\n",
       " 'Ylx',\n",
       " 'Ylyr',\n",
       " 'Ym',\n",
       " 'Ymag',\n",
       " 'Ymin',\n",
       " 'Ymol',\n",
       " 'Yohm',\n",
       " 'Ypc',\n",
       " 'Yph',\n",
       " 'Yphoton',\n",
       " 'Ypix',\n",
       " 'Ypixel',\n",
       " 'Yrad',\n",
       " 'Ys',\n",
       " 'Ysr',\n",
       " 'Yu',\n",
       " 'Yvox',\n",
       " 'Yvoxel',\n",
       " 'Yyr',\n",
       " 'ZA',\n",
       " 'ZAU',\n",
       " 'ZB',\n",
       " 'ZBa',\n",
       " 'ZC',\n",
       " 'ZD',\n",
       " 'ZF',\n",
       " 'ZG',\n",
       " 'ZGal',\n",
       " 'ZH',\n",
       " 'ZHz',\n",
       " 'ZJ',\n",
       " 'ZJy',\n",
       " 'ZK',\n",
       " 'ZL',\n",
       " 'ZN',\n",
       " 'ZOhm',\n",
       " 'ZP',\n",
       " 'ZPa',\n",
       " 'ZR',\n",
       " 'ZRy',\n",
       " 'ZS',\n",
       " 'ZSt',\n",
       " 'ZT',\n",
       " 'ZV',\n",
       " 'ZW',\n",
       " 'ZWb',\n",
       " 'Za',\n",
       " 'Zadu',\n",
       " 'Zarcmin',\n",
       " 'Zarcsec',\n",
       " 'Zau',\n",
       " 'Zb',\n",
       " 'Zbarn',\n",
       " 'Zbeam',\n",
       " 'Zbin',\n",
       " 'Zbit',\n",
       " 'Zbyte',\n",
       " 'Zcd',\n",
       " 'Zchan',\n",
       " 'Zcount',\n",
       " 'Zct',\n",
       " 'Zd',\n",
       " 'Zdeg',\n",
       " 'Zdyn',\n",
       " 'ZeV',\n",
       " 'Zerg',\n",
       " 'Zg',\n",
       " 'Zh',\n",
       " 'Zk',\n",
       " 'Zl',\n",
       " 'Zlm',\n",
       " 'Zlx',\n",
       " 'Zlyr',\n",
       " 'Zm',\n",
       " 'Zmag',\n",
       " 'Zmin',\n",
       " 'Zmol',\n",
       " 'Zohm',\n",
       " 'Zpc',\n",
       " 'Zph',\n",
       " 'Zphoton',\n",
       " 'Zpix',\n",
       " 'Zpixel',\n",
       " 'Zrad',\n",
       " 'Zs',\n",
       " 'Zsr',\n",
       " 'Zu',\n",
       " 'Zvox',\n",
       " 'Zvoxel',\n",
       " 'Zyr',\n",
       " '__builtins__',\n",
       " '__cached__',\n",
       " '__doc__',\n",
       " '__file__',\n",
       " '__loader__',\n",
       " '__name__',\n",
       " '__package__',\n",
       " '__path__',\n",
       " '__spec__',\n",
       " 'a',\n",
       " 'aA',\n",
       " 'aAU',\n",
       " 'aB',\n",
       " 'aBa',\n",
       " 'aC',\n",
       " 'aD',\n",
       " 'aF',\n",
       " 'aG',\n",
       " 'aGal',\n",
       " 'aH',\n",
       " 'aHz',\n",
       " 'aJ',\n",
       " 'aJy',\n",
       " 'aK',\n",
       " 'aL',\n",
       " 'aN',\n",
       " 'aOhm',\n",
       " 'aP',\n",
       " 'aPa',\n",
       " 'aR',\n",
       " 'aRy',\n",
       " 'aS',\n",
       " 'aSt',\n",
       " 'aT',\n",
       " 'aV',\n",
       " 'aW',\n",
       " 'aWb',\n",
       " 'aa',\n",
       " 'aadu',\n",
       " 'aarcmin',\n",
       " 'aarcsec',\n",
       " 'aau',\n",
       " 'ab',\n",
       " 'abA',\n",
       " 'abC',\n",
       " 'abampere',\n",
       " 'abarn',\n",
       " 'abcoulomb',\n",
       " 'abeam',\n",
       " 'abin',\n",
       " 'abit',\n",
       " 'absolute_import',\n",
       " 'abyte',\n",
       " 'acd',\n",
       " 'achan',\n",
       " 'acount',\n",
       " 'act',\n",
       " 'ad',\n",
       " 'add_enabled_equivalencies',\n",
       " 'add_enabled_units',\n",
       " 'adeg',\n",
       " 'adu',\n",
       " 'adyn',\n",
       " 'aeV',\n",
       " 'aerg',\n",
       " 'ag',\n",
       " 'ah',\n",
       " 'ak',\n",
       " 'al',\n",
       " 'alm',\n",
       " 'alx',\n",
       " 'alyr',\n",
       " 'am',\n",
       " 'amag',\n",
       " 'amin',\n",
       " 'amol',\n",
       " 'amp',\n",
       " 'ampere',\n",
       " 'angstrom',\n",
       " 'annum',\n",
       " 'aohm',\n",
       " 'apc',\n",
       " 'aph',\n",
       " 'aphoton',\n",
       " 'apix',\n",
       " 'apixel',\n",
       " 'arad',\n",
       " 'arcmin',\n",
       " 'arcminute',\n",
       " 'arcsec',\n",
       " 'arcsecond',\n",
       " 'asr',\n",
       " 'astronomical_unit',\n",
       " 'astrophys',\n",
       " 'attoBarye',\n",
       " 'attoDa',\n",
       " 'attoDalton',\n",
       " 'attoDebye',\n",
       " 'attoFarad',\n",
       " 'attoGauss',\n",
       " 'attoHenry',\n",
       " 'attoHertz',\n",
       " 'attoJansky',\n",
       " 'attoJoule',\n",
       " 'attoKayser',\n",
       " 'attoKelvin',\n",
       " 'attoNewton',\n",
       " 'attoOhm',\n",
       " 'attoPascal',\n",
       " 'attoRayleigh',\n",
       " 'attoSiemens',\n",
       " 'attoTesla',\n",
       " 'attoVolt',\n",
       " 'attoWatt',\n",
       " 'attoWeber',\n",
       " 'attoamp',\n",
       " 'attoampere',\n",
       " 'attoannum',\n",
       " 'attoarcminute',\n",
       " 'attoarcsecond',\n",
       " 'attoastronomical_unit',\n",
       " 'attobarn',\n",
       " 'attobarye',\n",
       " 'attobit',\n",
       " 'attobyte',\n",
       " 'attocandela',\n",
       " 'attocoulomb',\n",
       " 'attocount',\n",
       " 'attoday',\n",
       " 'attodebye',\n",
       " 'attodegree',\n",
       " 'attodyne',\n",
       " 'attoelectronvolt',\n",
       " 'attofarad',\n",
       " 'attogal',\n",
       " 'attogauss',\n",
       " 'attogram',\n",
       " 'attohenry',\n",
       " 'attohertz',\n",
       " 'attohour',\n",
       " 'attohr',\n",
       " 'attojansky',\n",
       " 'attojoule',\n",
       " 'attokayser',\n",
       " 'attolightyear',\n",
       " 'attoliter',\n",
       " 'attolumen',\n",
       " 'attolux',\n",
       " 'attometer',\n",
       " 'attominute',\n",
       " 'attomole',\n",
       " 'attonewton',\n",
       " 'attoparsec',\n",
       " 'attopascal',\n",
       " 'attophoton',\n",
       " 'attopixel',\n",
       " 'attopoise',\n",
       " 'attoradian',\n",
       " 'attorayleigh',\n",
       " 'attorydberg',\n",
       " 'attosecond',\n",
       " 'attosiemens',\n",
       " 'attosteradian',\n",
       " 'attostokes',\n",
       " 'attotesla',\n",
       " 'attovolt',\n",
       " 'attovoxel',\n",
       " 'attowatt',\n",
       " 'attoweber',\n",
       " 'attoyear',\n",
       " 'au',\n",
       " 'avox',\n",
       " 'avoxel',\n",
       " 'ayr',\n",
       " 'b',\n",
       " 'bar',\n",
       " 'barn',\n",
       " 'barye',\n",
       " 'beam',\n",
       " 'becquerel',\n",
       " 'bin',\n",
       " 'binary_prefixes',\n",
       " 'bit',\n",
       " 'brightness_temperature',\n",
       " 'byte',\n",
       " 'cA',\n",
       " 'cAU',\n",
       " 'cB',\n",
       " 'cBa',\n",
       " 'cC',\n",
       " 'cD',\n",
       " 'cF',\n",
       " 'cG',\n",
       " 'cGal',\n",
       " 'cH',\n",
       " 'cHz',\n",
       " 'cJ',\n",
       " 'cJy',\n",
       " 'cK',\n",
       " 'cL',\n",
       " 'cN',\n",
       " 'cOhm',\n",
       " 'cP',\n",
       " 'cPa',\n",
       " 'cR',\n",
       " 'cRy',\n",
       " 'cS',\n",
       " 'cSt',\n",
       " 'cT',\n",
       " 'cV',\n",
       " 'cW',\n",
       " 'cWb',\n",
       " 'ca',\n",
       " 'cadu',\n",
       " 'candela',\n",
       " 'carcmin',\n",
       " 'carcsec',\n",
       " 'cau',\n",
       " 'cb',\n",
       " 'cbarn',\n",
       " 'cbeam',\n",
       " 'cbin',\n",
       " 'cbit',\n",
       " 'cbyte',\n",
       " 'ccd',\n",
       " 'cchan',\n",
       " 'ccount',\n",
       " 'cct',\n",
       " 'cd',\n",
       " 'cdeg',\n",
       " 'cdyn',\n",
       " 'ceV',\n",
       " 'centiBarye',\n",
       " 'centiDa',\n",
       " 'centiDalton',\n",
       " 'centiDebye',\n",
       " 'centiFarad',\n",
       " 'centiGauss',\n",
       " 'centiHenry',\n",
       " 'centiHertz',\n",
       " 'centiJansky',\n",
       " 'centiJoule',\n",
       " 'centiKayser',\n",
       " 'centiKelvin',\n",
       " 'centiNewton',\n",
       " 'centiOhm',\n",
       " 'centiPascal',\n",
       " 'centiRayleigh',\n",
       " 'centiSiemens',\n",
       " 'centiTesla',\n",
       " 'centiVolt',\n",
       " 'centiWatt',\n",
       " 'centiWeber',\n",
       " 'centiamp',\n",
       " 'centiampere',\n",
       " 'centiannum',\n",
       " 'centiarcminute',\n",
       " 'centiarcsecond',\n",
       " 'centiastronomical_unit',\n",
       " 'centibarn',\n",
       " 'centibarye',\n",
       " 'centibit',\n",
       " 'centibyte',\n",
       " 'centicandela',\n",
       " 'centicoulomb',\n",
       " 'centicount',\n",
       " 'centiday',\n",
       " 'centidebye',\n",
       " 'centidegree',\n",
       " 'centidyne',\n",
       " 'centielectronvolt',\n",
       " 'centifarad',\n",
       " 'centigal',\n",
       " 'centigauss',\n",
       " 'centigram',\n",
       " 'centihenry',\n",
       " 'centihertz',\n",
       " 'centihour',\n",
       " 'centihr',\n",
       " 'centijansky',\n",
       " 'centijoule',\n",
       " 'centikayser',\n",
       " 'centilightyear',\n",
       " 'centiliter',\n",
       " 'centilumen',\n",
       " 'centilux',\n",
       " 'centimeter',\n",
       " 'centiminute',\n",
       " 'centimole',\n",
       " 'centinewton',\n",
       " 'centiparsec',\n",
       " 'centipascal',\n",
       " 'centiphoton',\n",
       " 'centipixel',\n",
       " 'centipoise',\n",
       " 'centiradian',\n",
       " 'centirayleigh',\n",
       " 'centirydberg',\n",
       " 'centisecond',\n",
       " 'centisiemens',\n",
       " 'centisteradian',\n",
       " 'centistokes',\n",
       " 'centitesla',\n",
       " 'centivolt',\n",
       " 'centivoxel',\n",
       " 'centiwatt',\n",
       " 'centiweber',\n",
       " 'centiyear',\n",
       " 'cerg',\n",
       " 'cg',\n",
       " 'cgs',\n",
       " 'ch',\n",
       " 'chan',\n",
       " 'ck',\n",
       " 'cl',\n",
       " 'clm',\n",
       " 'clx',\n",
       " 'clyr',\n",
       " 'cm',\n",
       " 'cmag',\n",
       " 'cmin',\n",
       " 'cmol',\n",
       " 'cohm',\n",
       " 'core',\n",
       " 'coulomb',\n",
       " 'count',\n",
       " 'cpc',\n",
       " 'cph',\n",
       " 'cphoton',\n",
       " 'cpix',\n",
       " 'cpixel',\n",
       " 'crad',\n",
       " 'cs',\n",
       " 'csr',\n",
       " 'ct',\n",
       " 'cu',\n",
       " 'curie',\n",
       " 'cvox',\n",
       " 'cvoxel',\n",
       " 'cy',\n",
       " 'cycle',\n",
       " 'cyr',\n",
       " 'd',\n",
       " 'dA',\n",
       " 'dAU',\n",
       " 'dB',\n",
       " 'dBa',\n",
       " 'dC',\n",
       " 'dD',\n",
       " 'dF',\n",
       " 'dG',\n",
       " 'dGal',\n",
       " 'dH',\n",
       " 'dHz',\n",
       " 'dJ',\n",
       " 'dJy',\n",
       " 'dK',\n",
       " 'dL',\n",
       " 'dN',\n",
       " 'dOhm',\n",
       " 'dP',\n",
       " 'dPa',\n",
       " 'dR',\n",
       " 'dRy',\n",
       " 'dS',\n",
       " 'dSt',\n",
       " 'dT',\n",
       " 'dV',\n",
       " 'dW',\n",
       " 'dWb',\n",
       " 'da',\n",
       " 'daA',\n",
       " 'daAU',\n",
       " 'daB',\n",
       " 'daBa',\n",
       " ...]"
      ]
     },
     "execution_count": 2,
     "metadata": {},
     "output_type": "execute_result"
    }
   ],
   "source": [
    "dir(u)"
   ]
  },
  {
   "cell_type": "code",
   "execution_count": 3,
   "metadata": {
    "slideshow": {
     "slide_type": "fragment"
    }
   },
   "outputs": [
    {
     "data": {
      "text/plain": [
       "(Unit(\"lyr\"), 'length', ['lightyear'])"
      ]
     },
     "execution_count": 3,
     "metadata": {},
     "output_type": "execute_result"
    }
   ],
   "source": [
    "u.lightyear, u.lightyear.physical_type, u.lightyear.long_names"
   ]
  },
  {
   "cell_type": "markdown",
   "metadata": {
    "slideshow": {
     "slide_type": "slide"
    }
   },
   "source": [
    "### Quantité\n",
    "\n",
    "Une quantité est créée par la mutliplication d'un nombre par une unité"
   ]
  },
  {
   "cell_type": "code",
   "execution_count": 4,
   "metadata": {
    "slideshow": {
     "slide_type": "fragment"
    }
   },
   "outputs": [
    {
     "data": {
      "text/latex": [
       "$3 \\; \\mathrm{lyr}$"
      ],
      "text/plain": [
       "<Quantity 3.0 lyr>"
      ]
     },
     "execution_count": 4,
     "metadata": {},
     "output_type": "execute_result"
    }
   ],
   "source": [
    "distance = 3 * u.lightyear\n",
    "distance"
   ]
  },
  {
   "cell_type": "code",
   "execution_count": 5,
   "metadata": {
    "slideshow": {
     "slide_type": "fragment"
    }
   },
   "outputs": [
    {
     "data": {
      "text/plain": [
       "astropy.units.quantity.Quantity"
      ]
     },
     "execution_count": 5,
     "metadata": {},
     "output_type": "execute_result"
    }
   ],
   "source": [
    "type(distance)"
   ]
  },
  {
   "cell_type": "markdown",
   "metadata": {
    "slideshow": {
     "slide_type": "slide"
    }
   },
   "source": [
    "### Conversion\n",
    "\n",
    "Une quantité peut être convertie d'une unité à une autre"
   ]
  },
  {
   "cell_type": "code",
   "execution_count": 6,
   "metadata": {
    "slideshow": {
     "slide_type": "fragment"
    }
   },
   "outputs": [
    {
     "data": {
      "text/plain": [
       "(<Quantity 2.83821914177424e+16 m>,\n",
       " <Quantity 0.9198041813638581 pc>,\n",
       " <Quantity 189723.23125279884 AU>)"
      ]
     },
     "execution_count": 6,
     "metadata": {},
     "output_type": "execute_result"
    }
   ],
   "source": [
    "distance.to('meter'), distance.to('pc'), distance.to('au')"
   ]
  },
  {
   "cell_type": "code",
   "execution_count": 7,
   "metadata": {
    "collapsed": true,
    "slideshow": {
     "slide_type": "skip"
    }
   },
   "outputs": [],
   "source": [
    "from IPython.core.magic import register_line_magic\n",
    "\n",
    "@register_line_magic\n",
    "def shorterr(line):\n",
    "    \"\"\"Show only the exception message if one is raised.\"\"\"\n",
    "    try:\n",
    "        output = eval(line)\n",
    "    except Exception as e:\n",
    "        print(\"\\x1b[31m\\x1b[1m{e.__class__.__name__}: {e}\\x1b[0m\".format(e=e))\n",
    "    else:\n",
    "        return output\n",
    "    \n",
    "del shorterr"
   ]
  },
  {
   "cell_type": "code",
   "execution_count": 8,
   "metadata": {
    "slideshow": {
     "slide_type": "fragment"
    }
   },
   "outputs": [
    {
     "name": "stdout",
     "output_type": "stream",
     "text": [
      "\u001b[31m\u001b[1mUnitConversionError: 'lyr' (length) and 's' (time) are not convertible\u001b[0m\n"
     ]
    }
   ],
   "source": [
    "%shorterr distance.to('second')"
   ]
  },
  {
   "cell_type": "markdown",
   "metadata": {
    "slideshow": {
     "slide_type": "fragment"
    }
   },
   "source": [
    "Le module `units` peut aussi convertir des unités **compatibles dans certains contextes** à l'aide des [`equivalencies`](http://docs.astropy.org/en/stable/units/equivalencies.html)"
   ]
  },
  {
   "cell_type": "code",
   "execution_count": 9,
   "metadata": {
    "slideshow": {
     "slide_type": "fragment"
    }
   },
   "outputs": [
    {
     "name": "stdout",
     "output_type": "stream",
     "text": [
      "\u001b[31m\u001b[1mUnitConversionError: 'arcsec' (angle) and 'pc' (length) are not convertible\u001b[0m\n"
     ]
    }
   ],
   "source": [
    "% shorterr (8.0 * u.arcsec).to(u.parsec)  "
   ]
  },
  {
   "cell_type": "code",
   "execution_count": 10,
   "metadata": {
    "slideshow": {
     "slide_type": "fragment"
    }
   },
   "outputs": [
    {
     "data": {
      "text/latex": [
       "$0.125 \\; \\mathrm{pc}$"
      ],
      "text/plain": [
       "<Quantity 0.125 pc>"
      ]
     },
     "execution_count": 10,
     "metadata": {},
     "output_type": "execute_result"
    }
   ],
   "source": [
    "(8.0 * u.arcsec).to(u.parsec, equivalencies=u.parallax())"
   ]
  },
  {
   "cell_type": "markdown",
   "metadata": {
    "slideshow": {
     "slide_type": "slide"
    }
   },
   "source": [
    "On peut aussi créer des listes de quantités de la même façon"
   ]
  },
  {
   "cell_type": "code",
   "execution_count": 11,
   "metadata": {
    "collapsed": true,
    "slideshow": {
     "slide_type": "fragment"
    }
   },
   "outputs": [],
   "source": [
    "distances = [1, 2, 3] * u.cm"
   ]
  },
  {
   "cell_type": "code",
   "execution_count": 12,
   "metadata": {
    "slideshow": {
     "slide_type": "fragment"
    }
   },
   "outputs": [
    {
     "data": {
      "text/latex": [
       "$[3.2407793 \\times 10^{-19},~6.4815586 \\times 10^{-19},~9.7223379 \\times 10^{-19}] \\; \\mathrm{pc}$"
      ],
      "text/plain": [
       "<Quantity [  3.24077929e-19,  6.48155858e-19,  9.72233787e-19] pc>"
      ]
     },
     "execution_count": 12,
     "metadata": {},
     "output_type": "execute_result"
    }
   ],
   "source": [
    "(distances).to('pc')"
   ]
  },
  {
   "cell_type": "code",
   "execution_count": 49,
   "metadata": {
    "slideshow": {
     "slide_type": "fragment"
    }
   },
   "outputs": [
    {
     "data": {
      "text/plain": [
       "(astropy.units.quantity.Quantity, numpy.ndarray, <Quantity 2.0 cm>)"
      ]
     },
     "execution_count": 49,
     "metadata": {},
     "output_type": "execute_result"
    }
   ],
   "source": [
    "type(distances), type(distances.value), distances.mean()"
   ]
  },
  {
   "cell_type": "markdown",
   "metadata": {
    "slideshow": {
     "slide_type": "slide"
    }
   },
   "source": [
    "### Constantes"
   ]
  },
  {
   "cell_type": "code",
   "execution_count": 14,
   "metadata": {
    "collapsed": true,
    "slideshow": {
     "slide_type": "fragment"
    }
   },
   "outputs": [],
   "source": [
    "from astropy import constants as const"
   ]
  },
  {
   "cell_type": "code",
   "execution_count": 15,
   "metadata": {
    "slideshow": {
     "slide_type": "fragment"
    }
   },
   "outputs": [
    {
     "name": "stdout",
     "output_type": "stream",
     "text": [
      "  Name   = Solar mass\n",
      "  Value  = 1.9884754153381438e+30\n",
      "  Uncertainty  = 9.236140093538353e+25\n",
      "  Unit  = kg\n",
      "  Reference = IAU 2015 Resolution B 3 + CODATA 2014\n"
     ]
    }
   ],
   "source": [
    "print(const.M_sun)"
   ]
  },
  {
   "cell_type": "code",
   "execution_count": 16,
   "metadata": {
    "slideshow": {
     "slide_type": "fragment"
    }
   },
   "outputs": [
    {
     "name": "stdout",
     "output_type": "stream",
     "text": [
      "  Name   = Speed of light in vacuum\n",
      "  Value  = 299792458.0\n",
      "  Uncertainty  = 0.0\n",
      "  Unit  = m / s\n",
      "  Reference = CODATA 2014\n"
     ]
    }
   ],
   "source": [
    "print(const.c)"
   ]
  },
  {
   "cell_type": "code",
   "execution_count": 17,
   "metadata": {
    "slideshow": {
     "slide_type": "fragment"
    }
   },
   "outputs": [
    {
     "data": {
      "text/latex": [
       "$8.3167464 \\; \\mathrm{min}$"
      ],
      "text/plain": [
       "<Quantity 8.316746397269274 min>"
      ]
     },
     "execution_count": 17,
     "metadata": {},
     "output_type": "execute_result"
    }
   ],
   "source": [
    "# temps de parcours de la lumière du Soleil à la Terre\n",
    "((1 * u.au) / const.c).to('min')"
   ]
  },
  {
   "cell_type": "markdown",
   "metadata": {
    "slideshow": {
     "slide_type": "slide"
    }
   },
   "source": [
    "## Coordonnées"
   ]
  },
  {
   "cell_type": "code",
   "execution_count": 18,
   "metadata": {
    "collapsed": true,
    "slideshow": {
     "slide_type": "fragment"
    }
   },
   "outputs": [],
   "source": [
    "from astropy.coordinates import SkyCoord\n",
    "import astropy.units as u"
   ]
  },
  {
   "cell_type": "code",
   "execution_count": 19,
   "metadata": {
    "slideshow": {
     "slide_type": "fragment"
    }
   },
   "outputs": [
    {
     "data": {
      "text/plain": [
       "<SkyCoord (ICRS): (ra, dec) in deg\n",
       "    ( 212.835495,  52.20277)>"
      ]
     },
     "execution_count": 19,
     "metadata": {},
     "output_type": "execute_result"
    }
   ],
   "source": [
    "cluster_3C295 = SkyCoord.from_name('3C295')\n",
    "cluster_3C295"
   ]
  },
  {
   "cell_type": "code",
   "execution_count": 20,
   "metadata": {
    "slideshow": {
     "slide_type": "fragment"
    }
   },
   "outputs": [
    {
     "data": {
      "text/plain": [
       "(<Longitude 212.835495 deg>, <Latitude 52.20277 deg>)"
      ]
     },
     "execution_count": 20,
     "metadata": {},
     "output_type": "execute_result"
    }
   ],
   "source": [
    "cluster_3C295.ra, cluster_3C295.dec"
   ]
  },
  {
   "cell_type": "code",
   "execution_count": 21,
   "metadata": {
    "slideshow": {
     "slide_type": "fragment"
    }
   },
   "outputs": [
    {
     "data": {
      "text/plain": [
       "(12770.129700000001, 52.20277)"
      ]
     },
     "execution_count": 21,
     "metadata": {},
     "output_type": "execute_result"
    }
   ],
   "source": [
    "cluster_3C295.ra.arcmin, cluster_3C295.dec.degree"
   ]
  },
  {
   "cell_type": "code",
   "execution_count": 22,
   "metadata": {
    "slideshow": {
     "slide_type": "slide"
    }
   },
   "outputs": [
    {
     "data": {
      "text/plain": [
       "<SkyCoord (ICRS): (ra, dec) in deg\n",
       "    ( 10.625,  41.2)>"
      ]
     },
     "execution_count": 22,
     "metadata": {},
     "output_type": "execute_result"
    }
   ],
   "source": [
    "SkyCoord(ra=10.625*u.degree, dec=41.2*u.degree, frame='icrs')"
   ]
  },
  {
   "cell_type": "code",
   "execution_count": 23,
   "metadata": {
    "slideshow": {
     "slide_type": "fragment"
    }
   },
   "outputs": [
    {
     "data": {
      "text/plain": [
       "<SkyCoord (ICRS): (ra, dec) in deg\n",
       "    ( 10.625,  41.2)>"
      ]
     },
     "execution_count": 23,
     "metadata": {},
     "output_type": "execute_result"
    }
   ],
   "source": [
    "SkyCoord(10.625, 41.2, frame='icrs', unit='deg')"
   ]
  },
  {
   "cell_type": "code",
   "execution_count": 24,
   "metadata": {
    "slideshow": {
     "slide_type": "fragment"
    }
   },
   "outputs": [
    {
     "data": {
      "text/plain": [
       "<SkyCoord (ICRS): (ra, dec) in deg\n",
       "    ( 10.625,  41.2)>"
      ]
     },
     "execution_count": 24,
     "metadata": {},
     "output_type": "execute_result"
    }
   ],
   "source": [
    "SkyCoord('00h42m30s', '+41d12m00s', frame='icrs')"
   ]
  },
  {
   "cell_type": "code",
   "execution_count": 25,
   "metadata": {
    "slideshow": {
     "slide_type": "fragment"
    }
   },
   "outputs": [
    {
     "data": {
      "text/plain": [
       "<SkyCoord (ICRS): (ra, dec) in deg\n",
       "    ( 10.625,  41.2)>"
      ]
     },
     "execution_count": 25,
     "metadata": {},
     "output_type": "execute_result"
    }
   ],
   "source": [
    "SkyCoord('00h42.5m', '+41d12m')"
   ]
  },
  {
   "cell_type": "code",
   "execution_count": 26,
   "metadata": {
    "slideshow": {
     "slide_type": "fragment"
    }
   },
   "outputs": [
    {
     "data": {
      "text/plain": [
       "<SkyCoord (ICRS): (ra, dec) in deg\n",
       "    ( 10.625,  41.2)>"
      ]
     },
     "execution_count": 26,
     "metadata": {},
     "output_type": "execute_result"
    }
   ],
   "source": [
    "SkyCoord('00 42 30 +41 12 00', unit=(u.hourangle, u.deg))"
   ]
  },
  {
   "cell_type": "code",
   "execution_count": 27,
   "metadata": {
    "slideshow": {
     "slide_type": "fragment"
    }
   },
   "outputs": [
    {
     "data": {
      "text/plain": [
       "<SkyCoord (ICRS): (ra, dec) in deg\n",
       "    ( 10.625,  41.2)>"
      ]
     },
     "execution_count": 27,
     "metadata": {},
     "output_type": "execute_result"
    }
   ],
   "source": [
    "SkyCoord('00:42.5 +41:12', unit=(u.hourangle, u.deg))"
   ]
  },
  {
   "cell_type": "markdown",
   "metadata": {
    "slideshow": {
     "slide_type": "slide"
    }
   },
   "source": [
    "# Table"
   ]
  },
  {
   "cell_type": "code",
   "execution_count": 28,
   "metadata": {
    "collapsed": true,
    "slideshow": {
     "slide_type": "fragment"
    }
   },
   "outputs": [],
   "source": [
    "from astropy.table import Table\n",
    "from astropy import units as u"
   ]
  },
  {
   "cell_type": "code",
   "execution_count": 29,
   "metadata": {
    "collapsed": true,
    "slideshow": {
     "slide_type": "fragment"
    }
   },
   "outputs": [],
   "source": [
    "a = [1, 4, 5] * u.meter\n",
    "b = [2.0, 5.0, 8.2] * u.arcminute\n",
    "c = [b'x', b'y', b'z']"
   ]
  },
  {
   "cell_type": "code",
   "execution_count": 30,
   "metadata": {
    "collapsed": true,
    "slideshow": {
     "slide_type": "fragment"
    }
   },
   "outputs": [],
   "source": [
    "t = Table([a, b, c], names=('a', 'b', 'c'), meta={'name': 'first table'})"
   ]
  },
  {
   "cell_type": "code",
   "execution_count": 31,
   "metadata": {
    "slideshow": {
     "slide_type": "fragment"
    }
   },
   "outputs": [
    {
     "data": {
      "text/html": [
       "&lt;Table length=3&gt;\n",
       "<table id=\"table139793066716856-386625\" class=\"table-striped table-bordered table-condensed\">\n",
       "<thead><tr><th>idx</th><th>a</th><th>b</th><th>c</th></tr></thead>\n",
       "<thead><tr><th></th><th>m</th><th>arcmin</th><th></th></tr></thead>\n",
       "<tr><td>0</td><td>1.0</td><td>2.0</td><td>x</td></tr>\n",
       "<tr><td>1</td><td>4.0</td><td>5.0</td><td>y</td></tr>\n",
       "<tr><td>2</td><td>5.0</td><td>8.2</td><td>z</td></tr>\n",
       "</table><style>table.dataTable {clear: both; width: auto !important; margin: 0 !important;}\n",
       ".dataTables_info, .dataTables_length, .dataTables_filter, .dataTables_paginate{\n",
       "display: inline-block; margin-right: 1em; }\n",
       ".paginate_button { margin-right: 5px; }\n",
       "</style>\n",
       "<script>\n",
       "\n",
       "var astropy_sort_num = function(a, b) {\n",
       "    var a_num = parseFloat(a);\n",
       "    var b_num = parseFloat(b);\n",
       "\n",
       "    if (isNaN(a_num) && isNaN(b_num))\n",
       "        return ((a < b) ? -1 : ((a > b) ? 1 : 0));\n",
       "    else if (!isNaN(a_num) && !isNaN(b_num))\n",
       "        return ((a_num < b_num) ? -1 : ((a_num > b_num) ? 1 : 0));\n",
       "    else\n",
       "        return isNaN(a_num) ? -1 : 1;\n",
       "}\n",
       "\n",
       "require.config({paths: {\n",
       "    datatables: 'https://cdn.datatables.net/1.10.12/js/jquery.dataTables.min'\n",
       "}});\n",
       "require([\"datatables\"], function(){\n",
       "    console.log(\"$('#table139793066716856-386625').dataTable()\");\n",
       "    \n",
       "jQuery.extend( jQuery.fn.dataTableExt.oSort, {\n",
       "    \"optionalnum-asc\": astropy_sort_num,\n",
       "    \"optionalnum-desc\": function (a,b) { return -astropy_sort_num(a, b); }\n",
       "});\n",
       "\n",
       "    $('#table139793066716856-386625').dataTable({\n",
       "        order: [],\n",
       "        pageLength: 50,\n",
       "        lengthMenu: [[10, 25, 50, 100, 500, 1000, -1], [10, 25, 50, 100, 500, 1000, 'All']],\n",
       "        pagingType: \"full_numbers\",\n",
       "        columnDefs: [{targets: [0, 1, 2], type: \"optionalnum\"}]\n",
       "    });\n",
       "});\n",
       "</script>\n"
      ],
      "text/plain": [
       "<IPython.core.display.HTML object>"
      ]
     },
     "execution_count": 31,
     "metadata": {},
     "output_type": "execute_result"
    }
   ],
   "source": [
    "t.show_in_notebook()"
   ]
  },
  {
   "cell_type": "markdown",
   "metadata": {
    "slideshow": {
     "slide_type": "slide"
    }
   },
   "source": [
    "#### Récupérer la première ligne, ou la colonne 'a'"
   ]
  },
  {
   "cell_type": "code",
   "execution_count": 32,
   "metadata": {
    "slideshow": {
     "slide_type": "fragment"
    }
   },
   "outputs": [
    {
     "data": {
      "text/html": [
       "&lt;Row index=0&gt;\n",
       "<table id=\"table139793066716856\">\n",
       "<thead><tr><th>a</th><th>b</th><th>c</th></tr></thead>\n",
       "<thead><tr><th>m</th><th>arcmin</th><th></th></tr></thead>\n",
       "<thead><tr><th>float64</th><th>float64</th><th>bytes1</th></tr></thead>\n",
       "<tr><td>1.0</td><td>2.0</td><td>x</td></tr>\n",
       "</table>"
      ],
      "text/plain": [
       "<Row index=0>\n",
       "   a       b      c   \n",
       "   m     arcmin       \n",
       "float64 float64 bytes1\n",
       "------- ------- ------\n",
       "    1.0     2.0      x"
      ]
     },
     "execution_count": 32,
     "metadata": {},
     "output_type": "execute_result"
    }
   ],
   "source": [
    "t[0]"
   ]
  },
  {
   "cell_type": "code",
   "execution_count": 33,
   "metadata": {
    "slideshow": {
     "slide_type": "fragment"
    }
   },
   "outputs": [
    {
     "data": {
      "text/html": [
       "&lt;Column name=&apos;a&apos; dtype=&apos;float64&apos; unit=&apos;m&apos; length=3&gt;\n",
       "<table>\n",
       "<tr><td>1.0</td></tr>\n",
       "<tr><td>4.0</td></tr>\n",
       "<tr><td>5.0</td></tr>\n",
       "</table>"
      ],
      "text/plain": [
       "<Column name='a' dtype='float64' unit='m' length=3>\n",
       "1.0\n",
       "4.0\n",
       "5.0"
      ]
     },
     "execution_count": 33,
     "metadata": {},
     "output_type": "execute_result"
    }
   ],
   "source": [
    "t['a']\n",
    "t.columns[0]"
   ]
  },
  {
   "cell_type": "code",
   "execution_count": 34,
   "metadata": {
    "slideshow": {
     "slide_type": "fragment"
    }
   },
   "outputs": [
    {
     "data": {
      "text/plain": [
       "array([ True,  True,  True], dtype=bool)"
      ]
     },
     "execution_count": 34,
     "metadata": {},
     "output_type": "execute_result"
    }
   ],
   "source": [
    "t['a'] == t.columns[0]"
   ]
  },
  {
   "cell_type": "markdown",
   "metadata": {
    "slideshow": {
     "slide_type": "slide"
    }
   },
   "source": [
    "#### Ajouter / supprimer une colonne"
   ]
  },
  {
   "cell_type": "code",
   "execution_count": 35,
   "metadata": {
    "slideshow": {
     "slide_type": "fragment"
    }
   },
   "outputs": [
    {
     "data": {
      "text/html": [
       "&lt;Table length=3&gt;\n",
       "<table id=\"table139793066716856\" class=\"table-striped table-bordered table-condensed\">\n",
       "<thead><tr><th>a</th><th>b</th><th>c</th><th>list [3]</th></tr></thead>\n",
       "<thead><tr><th>m</th><th>arcmin</th><th></th><th>lyr</th></tr></thead>\n",
       "<thead><tr><th>float64</th><th>float64</th><th>bytes1</th><th>object</th></tr></thead>\n",
       "<tr><td>1.0</td><td>2.0</td><td>x</td><td>1.0 .. 3.0</td></tr>\n",
       "<tr><td>4.0</td><td>5.0</td><td>y</td><td>4.0 .. 6.0</td></tr>\n",
       "<tr><td>5.0</td><td>8.2</td><td>z</td><td>7.0 .. 9.0</td></tr>\n",
       "</table>"
      ],
      "text/plain": [
       "<Table length=3>\n",
       "   a       b      c     list [3] \n",
       "   m     arcmin           lyr    \n",
       "float64 float64 bytes1   object  \n",
       "------- ------- ------ ----------\n",
       "    1.0     2.0      x 1.0 .. 3.0\n",
       "    4.0     5.0      y 4.0 .. 6.0\n",
       "    5.0     8.2      z 7.0 .. 9.0"
      ]
     },
     "execution_count": 35,
     "metadata": {},
     "output_type": "execute_result"
    }
   ],
   "source": [
    "from astropy.table import Column\n",
    "t.add_column(Column([[1,2,3], [4,5,6], [7,8,9]] * u.lightyear, name='list', dtype=list))\n",
    "t"
   ]
  },
  {
   "cell_type": "code",
   "execution_count": 36,
   "metadata": {
    "collapsed": true,
    "slideshow": {
     "slide_type": "fragment"
    }
   },
   "outputs": [],
   "source": [
    "col = t['list']"
   ]
  },
  {
   "cell_type": "code",
   "execution_count": 37,
   "metadata": {
    "slideshow": {
     "slide_type": "fragment"
    }
   },
   "outputs": [
    {
     "data": {
      "text/plain": [
       "(Unit(\"lyr\"), array([[1.0, 2.0, 3.0],\n",
       "        [4.0, 5.0, 6.0],\n",
       "        [7.0, 8.0, 9.0]], dtype=object))"
      ]
     },
     "execution_count": 37,
     "metadata": {},
     "output_type": "execute_result"
    }
   ],
   "source": [
    "col.unit, col.data"
   ]
  },
  {
   "cell_type": "code",
   "execution_count": 38,
   "metadata": {},
   "outputs": [
    {
     "data": {
      "text/html": [
       "&lt;Table length=3&gt;\n",
       "<table id=\"table139793066716856\" class=\"table-striped table-bordered table-condensed\">\n",
       "<thead><tr><th>a</th><th>b</th><th>c</th></tr></thead>\n",
       "<thead><tr><th>m</th><th>arcmin</th><th></th></tr></thead>\n",
       "<thead><tr><th>float64</th><th>float64</th><th>bytes1</th></tr></thead>\n",
       "<tr><td>1.0</td><td>2.0</td><td>x</td></tr>\n",
       "<tr><td>4.0</td><td>5.0</td><td>y</td></tr>\n",
       "<tr><td>5.0</td><td>8.2</td><td>z</td></tr>\n",
       "</table>"
      ],
      "text/plain": [
       "<Table length=3>\n",
       "   a       b      c   \n",
       "   m     arcmin       \n",
       "float64 float64 bytes1\n",
       "------- ------- ------\n",
       "    1.0     2.0      x\n",
       "    4.0     5.0      y\n",
       "    5.0     8.2      z"
      ]
     },
     "execution_count": 38,
     "metadata": {},
     "output_type": "execute_result"
    }
   ],
   "source": [
    "t.remove_column('list')\n",
    "t"
   ]
  },
  {
   "cell_type": "markdown",
   "metadata": {
    "slideshow": {
     "slide_type": "slide"
    }
   },
   "source": [
    "#### Appliquer un filtre sur la table"
   ]
  },
  {
   "cell_type": "code",
   "execution_count": 39,
   "metadata": {
    "slideshow": {
     "slide_type": "fragment"
    }
   },
   "outputs": [
    {
     "data": {
      "text/plain": [
       "array([False,  True,  True], dtype=bool)"
      ]
     },
     "execution_count": 39,
     "metadata": {},
     "output_type": "execute_result"
    }
   ],
   "source": [
    "t['b'] > 3"
   ]
  },
  {
   "cell_type": "code",
   "execution_count": 40,
   "metadata": {
    "slideshow": {
     "slide_type": "fragment"
    }
   },
   "outputs": [
    {
     "data": {
      "text/html": [
       "&lt;Table length=2&gt;\n",
       "<table id=\"table139793066816848\" class=\"table-striped table-bordered table-condensed\">\n",
       "<thead><tr><th>a</th><th>b</th><th>c</th></tr></thead>\n",
       "<thead><tr><th>m</th><th>arcmin</th><th></th></tr></thead>\n",
       "<thead><tr><th>float64</th><th>float64</th><th>bytes1</th></tr></thead>\n",
       "<tr><td>4.0</td><td>5.0</td><td>y</td></tr>\n",
       "<tr><td>5.0</td><td>8.2</td><td>z</td></tr>\n",
       "</table>"
      ],
      "text/plain": [
       "<Table length=2>\n",
       "   a       b      c   \n",
       "   m     arcmin       \n",
       "float64 float64 bytes1\n",
       "------- ------- ------\n",
       "    4.0     5.0      y\n",
       "    5.0     8.2      z"
      ]
     },
     "execution_count": 40,
     "metadata": {},
     "output_type": "execute_result"
    }
   ],
   "source": [
    "new_tab = t[t['b'] > 3]\n",
    "new_tab"
   ]
  },
  {
   "cell_type": "markdown",
   "metadata": {
    "slideshow": {
     "slide_type": "slide"
    }
   },
   "source": [
    "### Écrire / lire une une table"
   ]
  },
  {
   "cell_type": "code",
   "execution_count": 41,
   "metadata": {
    "collapsed": true,
    "slideshow": {
     "slide_type": "fragment"
    }
   },
   "outputs": [],
   "source": [
    "t.write('matable.dat', format='ascii', overwrite=True)\n",
    "t.write('matable.fits', format='fits', overwrite=True)\n",
    "t.write('matable.hdf5', path='premiere_table', overwrite=True)\n",
    "\n",
    "d = Table.read(\"matable.dat\", format='ascii')\n",
    "d = Table.read(\"matable.fits\")\n",
    "d = Table.read('matable.hdf5', path='premiere_table')"
   ]
  },
  {
   "cell_type": "code",
   "execution_count": 42,
   "metadata": {
    "slideshow": {
     "slide_type": "fragment"
    }
   },
   "outputs": [
    {
     "name": "stdout",
     "output_type": "stream",
     "text": [
      " a   b   c \n",
      "--- --- ---\n",
      "1.0 2.0   x\n",
      "4.0 5.0   y\n",
      "5.0 8.2   z\n"
     ]
    },
    {
     "name": "stderr",
     "output_type": "stream",
     "text": [
      "WARNING: path= was not specified but multiple tables are present, reading in first available table (path=premiere_table) [astropy.io.misc.hdf5]\n"
     ]
    }
   ],
   "source": [
    "d = Table.read('matable.hdf5')  # path='premiere_table')\n",
    "d.pprint()"
   ]
  },
  {
   "cell_type": "markdown",
   "metadata": {
    "slideshow": {
     "slide_type": "slide"
    }
   },
   "source": [
    "## Fichier FITS"
   ]
  },
  {
   "cell_type": "code",
   "execution_count": 43,
   "metadata": {
    "collapsed": true,
    "slideshow": {
     "slide_type": "fragment"
    }
   },
   "outputs": [],
   "source": [
    "# Téléchargement des données en ligne\n",
    "from astropy.utils.data import download_file\n",
    "image_file = download_file('http://data.astropy.org/tutorials/FITS-images/HorseHead.fits',\n",
    "                           cache=True)"
   ]
  },
  {
   "cell_type": "code",
   "execution_count": 44,
   "metadata": {
    "slideshow": {
     "slide_type": "fragment"
    }
   },
   "outputs": [
    {
     "name": "stdout",
     "output_type": "stream",
     "text": [
      "Filename: /home/chotard/.astropy/cache/download/py3/2c9202ae878ecfcb60878ceb63837f5f\n",
      "No.    Name      Ver    Type      Cards   Dimensions   Format\n",
      "  0  PRIMARY       1 PrimaryHDU     161   (891, 893)   int16   \n",
      "  1  er.mask       1 TableHDU        25   1600R x 4C   [F6.2, F6.2, F6.2, F6.2]   \n"
     ]
    }
   ],
   "source": [
    "# Explore la structure du fichier teléchargé grâce à io.fits.info()\n",
    "from astropy.io import fits\n",
    "fits.info(image_file)"
   ]
  },
  {
   "cell_type": "code",
   "execution_count": 45,
   "metadata": {
    "collapsed": true
   },
   "outputs": [],
   "source": [
    "# Récupération des données dans l'extension 0 du fichier fits (Primary HDU)\n",
    "image_data = fits.getdata(image_file, ext=0)"
   ]
  },
  {
   "cell_type": "code",
   "execution_count": 46,
   "metadata": {
    "slideshow": {
     "slide_type": "fragment"
    }
   },
   "outputs": [
    {
     "name": "stdout",
     "output_type": "stream",
     "text": [
      "(893, 891)\n"
     ]
    }
   ],
   "source": [
    "# L'image est en fait un `numpy array` à 2 dimensions\n",
    "print(image_data.shape)"
   ]
  },
  {
   "cell_type": "code",
   "execution_count": 47,
   "metadata": {
    "slideshow": {
     "slide_type": "slide"
    }
   },
   "outputs": [
    {
     "data": {
      "application/javascript": [
       "/* Put everything inside the global mpl namespace */\n",
       "window.mpl = {};\n",
       "\n",
       "\n",
       "mpl.get_websocket_type = function() {\n",
       "    if (typeof(WebSocket) !== 'undefined') {\n",
       "        return WebSocket;\n",
       "    } else if (typeof(MozWebSocket) !== 'undefined') {\n",
       "        return MozWebSocket;\n",
       "    } else {\n",
       "        alert('Your browser does not have WebSocket support.' +\n",
       "              'Please try Chrome, Safari or Firefox ≥ 6. ' +\n",
       "              'Firefox 4 and 5 are also supported but you ' +\n",
       "              'have to enable WebSockets in about:config.');\n",
       "    };\n",
       "}\n",
       "\n",
       "mpl.figure = function(figure_id, websocket, ondownload, parent_element) {\n",
       "    this.id = figure_id;\n",
       "\n",
       "    this.ws = websocket;\n",
       "\n",
       "    this.supports_binary = (this.ws.binaryType != undefined);\n",
       "\n",
       "    if (!this.supports_binary) {\n",
       "        var warnings = document.getElementById(\"mpl-warnings\");\n",
       "        if (warnings) {\n",
       "            warnings.style.display = 'block';\n",
       "            warnings.textContent = (\n",
       "                \"This browser does not support binary websocket messages. \" +\n",
       "                    \"Performance may be slow.\");\n",
       "        }\n",
       "    }\n",
       "\n",
       "    this.imageObj = new Image();\n",
       "\n",
       "    this.context = undefined;\n",
       "    this.message = undefined;\n",
       "    this.canvas = undefined;\n",
       "    this.rubberband_canvas = undefined;\n",
       "    this.rubberband_context = undefined;\n",
       "    this.format_dropdown = undefined;\n",
       "\n",
       "    this.image_mode = 'full';\n",
       "\n",
       "    this.root = $('<div/>');\n",
       "    this._root_extra_style(this.root)\n",
       "    this.root.attr('style', 'display: inline-block');\n",
       "\n",
       "    $(parent_element).append(this.root);\n",
       "\n",
       "    this._init_header(this);\n",
       "    this._init_canvas(this);\n",
       "    this._init_toolbar(this);\n",
       "\n",
       "    var fig = this;\n",
       "\n",
       "    this.waiting = false;\n",
       "\n",
       "    this.ws.onopen =  function () {\n",
       "            fig.send_message(\"supports_binary\", {value: fig.supports_binary});\n",
       "            fig.send_message(\"send_image_mode\", {});\n",
       "            if (mpl.ratio != 1) {\n",
       "                fig.send_message(\"set_dpi_ratio\", {'dpi_ratio': mpl.ratio});\n",
       "            }\n",
       "            fig.send_message(\"refresh\", {});\n",
       "        }\n",
       "\n",
       "    this.imageObj.onload = function() {\n",
       "            if (fig.image_mode == 'full') {\n",
       "                // Full images could contain transparency (where diff images\n",
       "                // almost always do), so we need to clear the canvas so that\n",
       "                // there is no ghosting.\n",
       "                fig.context.clearRect(0, 0, fig.canvas.width, fig.canvas.height);\n",
       "            }\n",
       "            fig.context.drawImage(fig.imageObj, 0, 0);\n",
       "        };\n",
       "\n",
       "    this.imageObj.onunload = function() {\n",
       "        this.ws.close();\n",
       "    }\n",
       "\n",
       "    this.ws.onmessage = this._make_on_message_function(this);\n",
       "\n",
       "    this.ondownload = ondownload;\n",
       "}\n",
       "\n",
       "mpl.figure.prototype._init_header = function() {\n",
       "    var titlebar = $(\n",
       "        '<div class=\"ui-dialog-titlebar ui-widget-header ui-corner-all ' +\n",
       "        'ui-helper-clearfix\"/>');\n",
       "    var titletext = $(\n",
       "        '<div class=\"ui-dialog-title\" style=\"width: 100%; ' +\n",
       "        'text-align: center; padding: 3px;\"/>');\n",
       "    titlebar.append(titletext)\n",
       "    this.root.append(titlebar);\n",
       "    this.header = titletext[0];\n",
       "}\n",
       "\n",
       "\n",
       "\n",
       "mpl.figure.prototype._canvas_extra_style = function(canvas_div) {\n",
       "\n",
       "}\n",
       "\n",
       "\n",
       "mpl.figure.prototype._root_extra_style = function(canvas_div) {\n",
       "\n",
       "}\n",
       "\n",
       "mpl.figure.prototype._init_canvas = function() {\n",
       "    var fig = this;\n",
       "\n",
       "    var canvas_div = $('<div/>');\n",
       "\n",
       "    canvas_div.attr('style', 'position: relative; clear: both; outline: 0');\n",
       "\n",
       "    function canvas_keyboard_event(event) {\n",
       "        return fig.key_event(event, event['data']);\n",
       "    }\n",
       "\n",
       "    canvas_div.keydown('key_press', canvas_keyboard_event);\n",
       "    canvas_div.keyup('key_release', canvas_keyboard_event);\n",
       "    this.canvas_div = canvas_div\n",
       "    this._canvas_extra_style(canvas_div)\n",
       "    this.root.append(canvas_div);\n",
       "\n",
       "    var canvas = $('<canvas/>');\n",
       "    canvas.addClass('mpl-canvas');\n",
       "    canvas.attr('style', \"left: 0; top: 0; z-index: 0; outline: 0\")\n",
       "\n",
       "    this.canvas = canvas[0];\n",
       "    this.context = canvas[0].getContext(\"2d\");\n",
       "\n",
       "    var backingStore = this.context.backingStorePixelRatio ||\n",
       "\tthis.context.webkitBackingStorePixelRatio ||\n",
       "\tthis.context.mozBackingStorePixelRatio ||\n",
       "\tthis.context.msBackingStorePixelRatio ||\n",
       "\tthis.context.oBackingStorePixelRatio ||\n",
       "\tthis.context.backingStorePixelRatio || 1;\n",
       "\n",
       "    mpl.ratio = (window.devicePixelRatio || 1) / backingStore;\n",
       "\n",
       "    var rubberband = $('<canvas/>');\n",
       "    rubberband.attr('style', \"position: absolute; left: 0; top: 0; z-index: 1;\")\n",
       "\n",
       "    var pass_mouse_events = true;\n",
       "\n",
       "    canvas_div.resizable({\n",
       "        start: function(event, ui) {\n",
       "            pass_mouse_events = false;\n",
       "        },\n",
       "        resize: function(event, ui) {\n",
       "            fig.request_resize(ui.size.width, ui.size.height);\n",
       "        },\n",
       "        stop: function(event, ui) {\n",
       "            pass_mouse_events = true;\n",
       "            fig.request_resize(ui.size.width, ui.size.height);\n",
       "        },\n",
       "    });\n",
       "\n",
       "    function mouse_event_fn(event) {\n",
       "        if (pass_mouse_events)\n",
       "            return fig.mouse_event(event, event['data']);\n",
       "    }\n",
       "\n",
       "    rubberband.mousedown('button_press', mouse_event_fn);\n",
       "    rubberband.mouseup('button_release', mouse_event_fn);\n",
       "    // Throttle sequential mouse events to 1 every 20ms.\n",
       "    rubberband.mousemove('motion_notify', mouse_event_fn);\n",
       "\n",
       "    rubberband.mouseenter('figure_enter', mouse_event_fn);\n",
       "    rubberband.mouseleave('figure_leave', mouse_event_fn);\n",
       "\n",
       "    canvas_div.on(\"wheel\", function (event) {\n",
       "        event = event.originalEvent;\n",
       "        event['data'] = 'scroll'\n",
       "        if (event.deltaY < 0) {\n",
       "            event.step = 1;\n",
       "        } else {\n",
       "            event.step = -1;\n",
       "        }\n",
       "        mouse_event_fn(event);\n",
       "    });\n",
       "\n",
       "    canvas_div.append(canvas);\n",
       "    canvas_div.append(rubberband);\n",
       "\n",
       "    this.rubberband = rubberband;\n",
       "    this.rubberband_canvas = rubberband[0];\n",
       "    this.rubberband_context = rubberband[0].getContext(\"2d\");\n",
       "    this.rubberband_context.strokeStyle = \"#000000\";\n",
       "\n",
       "    this._resize_canvas = function(width, height) {\n",
       "        // Keep the size of the canvas, canvas container, and rubber band\n",
       "        // canvas in synch.\n",
       "        canvas_div.css('width', width)\n",
       "        canvas_div.css('height', height)\n",
       "\n",
       "        canvas.attr('width', width * mpl.ratio);\n",
       "        canvas.attr('height', height * mpl.ratio);\n",
       "        canvas.attr('style', 'width: ' + width + 'px; height: ' + height + 'px;');\n",
       "\n",
       "        rubberband.attr('width', width);\n",
       "        rubberband.attr('height', height);\n",
       "    }\n",
       "\n",
       "    // Set the figure to an initial 600x600px, this will subsequently be updated\n",
       "    // upon first draw.\n",
       "    this._resize_canvas(600, 600);\n",
       "\n",
       "    // Disable right mouse context menu.\n",
       "    $(this.rubberband_canvas).bind(\"contextmenu\",function(e){\n",
       "        return false;\n",
       "    });\n",
       "\n",
       "    function set_focus () {\n",
       "        canvas.focus();\n",
       "        canvas_div.focus();\n",
       "    }\n",
       "\n",
       "    window.setTimeout(set_focus, 100);\n",
       "}\n",
       "\n",
       "mpl.figure.prototype._init_toolbar = function() {\n",
       "    var fig = this;\n",
       "\n",
       "    var nav_element = $('<div/>')\n",
       "    nav_element.attr('style', 'width: 100%');\n",
       "    this.root.append(nav_element);\n",
       "\n",
       "    // Define a callback function for later on.\n",
       "    function toolbar_event(event) {\n",
       "        return fig.toolbar_button_onclick(event['data']);\n",
       "    }\n",
       "    function toolbar_mouse_event(event) {\n",
       "        return fig.toolbar_button_onmouseover(event['data']);\n",
       "    }\n",
       "\n",
       "    for(var toolbar_ind in mpl.toolbar_items) {\n",
       "        var name = mpl.toolbar_items[toolbar_ind][0];\n",
       "        var tooltip = mpl.toolbar_items[toolbar_ind][1];\n",
       "        var image = mpl.toolbar_items[toolbar_ind][2];\n",
       "        var method_name = mpl.toolbar_items[toolbar_ind][3];\n",
       "\n",
       "        if (!name) {\n",
       "            // put a spacer in here.\n",
       "            continue;\n",
       "        }\n",
       "        var button = $('<button/>');\n",
       "        button.addClass('ui-button ui-widget ui-state-default ui-corner-all ' +\n",
       "                        'ui-button-icon-only');\n",
       "        button.attr('role', 'button');\n",
       "        button.attr('aria-disabled', 'false');\n",
       "        button.click(method_name, toolbar_event);\n",
       "        button.mouseover(tooltip, toolbar_mouse_event);\n",
       "\n",
       "        var icon_img = $('<span/>');\n",
       "        icon_img.addClass('ui-button-icon-primary ui-icon');\n",
       "        icon_img.addClass(image);\n",
       "        icon_img.addClass('ui-corner-all');\n",
       "\n",
       "        var tooltip_span = $('<span/>');\n",
       "        tooltip_span.addClass('ui-button-text');\n",
       "        tooltip_span.html(tooltip);\n",
       "\n",
       "        button.append(icon_img);\n",
       "        button.append(tooltip_span);\n",
       "\n",
       "        nav_element.append(button);\n",
       "    }\n",
       "\n",
       "    var fmt_picker_span = $('<span/>');\n",
       "\n",
       "    var fmt_picker = $('<select/>');\n",
       "    fmt_picker.addClass('mpl-toolbar-option ui-widget ui-widget-content');\n",
       "    fmt_picker_span.append(fmt_picker);\n",
       "    nav_element.append(fmt_picker_span);\n",
       "    this.format_dropdown = fmt_picker[0];\n",
       "\n",
       "    for (var ind in mpl.extensions) {\n",
       "        var fmt = mpl.extensions[ind];\n",
       "        var option = $(\n",
       "            '<option/>', {selected: fmt === mpl.default_extension}).html(fmt);\n",
       "        fmt_picker.append(option)\n",
       "    }\n",
       "\n",
       "    // Add hover states to the ui-buttons\n",
       "    $( \".ui-button\" ).hover(\n",
       "        function() { $(this).addClass(\"ui-state-hover\");},\n",
       "        function() { $(this).removeClass(\"ui-state-hover\");}\n",
       "    );\n",
       "\n",
       "    var status_bar = $('<span class=\"mpl-message\"/>');\n",
       "    nav_element.append(status_bar);\n",
       "    this.message = status_bar[0];\n",
       "}\n",
       "\n",
       "mpl.figure.prototype.request_resize = function(x_pixels, y_pixels) {\n",
       "    // Request matplotlib to resize the figure. Matplotlib will then trigger a resize in the client,\n",
       "    // which will in turn request a refresh of the image.\n",
       "    this.send_message('resize', {'width': x_pixels, 'height': y_pixels});\n",
       "}\n",
       "\n",
       "mpl.figure.prototype.send_message = function(type, properties) {\n",
       "    properties['type'] = type;\n",
       "    properties['figure_id'] = this.id;\n",
       "    this.ws.send(JSON.stringify(properties));\n",
       "}\n",
       "\n",
       "mpl.figure.prototype.send_draw_message = function() {\n",
       "    if (!this.waiting) {\n",
       "        this.waiting = true;\n",
       "        this.ws.send(JSON.stringify({type: \"draw\", figure_id: this.id}));\n",
       "    }\n",
       "}\n",
       "\n",
       "\n",
       "mpl.figure.prototype.handle_save = function(fig, msg) {\n",
       "    var format_dropdown = fig.format_dropdown;\n",
       "    var format = format_dropdown.options[format_dropdown.selectedIndex].value;\n",
       "    fig.ondownload(fig, format);\n",
       "}\n",
       "\n",
       "\n",
       "mpl.figure.prototype.handle_resize = function(fig, msg) {\n",
       "    var size = msg['size'];\n",
       "    if (size[0] != fig.canvas.width || size[1] != fig.canvas.height) {\n",
       "        fig._resize_canvas(size[0], size[1]);\n",
       "        fig.send_message(\"refresh\", {});\n",
       "    };\n",
       "}\n",
       "\n",
       "mpl.figure.prototype.handle_rubberband = function(fig, msg) {\n",
       "    var x0 = msg['x0'] / mpl.ratio;\n",
       "    var y0 = (fig.canvas.height - msg['y0']) / mpl.ratio;\n",
       "    var x1 = msg['x1'] / mpl.ratio;\n",
       "    var y1 = (fig.canvas.height - msg['y1']) / mpl.ratio;\n",
       "    x0 = Math.floor(x0) + 0.5;\n",
       "    y0 = Math.floor(y0) + 0.5;\n",
       "    x1 = Math.floor(x1) + 0.5;\n",
       "    y1 = Math.floor(y1) + 0.5;\n",
       "    var min_x = Math.min(x0, x1);\n",
       "    var min_y = Math.min(y0, y1);\n",
       "    var width = Math.abs(x1 - x0);\n",
       "    var height = Math.abs(y1 - y0);\n",
       "\n",
       "    fig.rubberband_context.clearRect(\n",
       "        0, 0, fig.canvas.width, fig.canvas.height);\n",
       "\n",
       "    fig.rubberband_context.strokeRect(min_x, min_y, width, height);\n",
       "}\n",
       "\n",
       "mpl.figure.prototype.handle_figure_label = function(fig, msg) {\n",
       "    // Updates the figure title.\n",
       "    fig.header.textContent = msg['label'];\n",
       "}\n",
       "\n",
       "mpl.figure.prototype.handle_cursor = function(fig, msg) {\n",
       "    var cursor = msg['cursor'];\n",
       "    switch(cursor)\n",
       "    {\n",
       "    case 0:\n",
       "        cursor = 'pointer';\n",
       "        break;\n",
       "    case 1:\n",
       "        cursor = 'default';\n",
       "        break;\n",
       "    case 2:\n",
       "        cursor = 'crosshair';\n",
       "        break;\n",
       "    case 3:\n",
       "        cursor = 'move';\n",
       "        break;\n",
       "    }\n",
       "    fig.rubberband_canvas.style.cursor = cursor;\n",
       "}\n",
       "\n",
       "mpl.figure.prototype.handle_message = function(fig, msg) {\n",
       "    fig.message.textContent = msg['message'];\n",
       "}\n",
       "\n",
       "mpl.figure.prototype.handle_draw = function(fig, msg) {\n",
       "    // Request the server to send over a new figure.\n",
       "    fig.send_draw_message();\n",
       "}\n",
       "\n",
       "mpl.figure.prototype.handle_image_mode = function(fig, msg) {\n",
       "    fig.image_mode = msg['mode'];\n",
       "}\n",
       "\n",
       "mpl.figure.prototype.updated_canvas_event = function() {\n",
       "    // Called whenever the canvas gets updated.\n",
       "    this.send_message(\"ack\", {});\n",
       "}\n",
       "\n",
       "// A function to construct a web socket function for onmessage handling.\n",
       "// Called in the figure constructor.\n",
       "mpl.figure.prototype._make_on_message_function = function(fig) {\n",
       "    return function socket_on_message(evt) {\n",
       "        if (evt.data instanceof Blob) {\n",
       "            /* FIXME: We get \"Resource interpreted as Image but\n",
       "             * transferred with MIME type text/plain:\" errors on\n",
       "             * Chrome.  But how to set the MIME type?  It doesn't seem\n",
       "             * to be part of the websocket stream */\n",
       "            evt.data.type = \"image/png\";\n",
       "\n",
       "            /* Free the memory for the previous frames */\n",
       "            if (fig.imageObj.src) {\n",
       "                (window.URL || window.webkitURL).revokeObjectURL(\n",
       "                    fig.imageObj.src);\n",
       "            }\n",
       "\n",
       "            fig.imageObj.src = (window.URL || window.webkitURL).createObjectURL(\n",
       "                evt.data);\n",
       "            fig.updated_canvas_event();\n",
       "            fig.waiting = false;\n",
       "            return;\n",
       "        }\n",
       "        else if (typeof evt.data === 'string' && evt.data.slice(0, 21) == \"data:image/png;base64\") {\n",
       "            fig.imageObj.src = evt.data;\n",
       "            fig.updated_canvas_event();\n",
       "            fig.waiting = false;\n",
       "            return;\n",
       "        }\n",
       "\n",
       "        var msg = JSON.parse(evt.data);\n",
       "        var msg_type = msg['type'];\n",
       "\n",
       "        // Call the  \"handle_{type}\" callback, which takes\n",
       "        // the figure and JSON message as its only arguments.\n",
       "        try {\n",
       "            var callback = fig[\"handle_\" + msg_type];\n",
       "        } catch (e) {\n",
       "            console.log(\"No handler for the '\" + msg_type + \"' message type: \", msg);\n",
       "            return;\n",
       "        }\n",
       "\n",
       "        if (callback) {\n",
       "            try {\n",
       "                // console.log(\"Handling '\" + msg_type + \"' message: \", msg);\n",
       "                callback(fig, msg);\n",
       "            } catch (e) {\n",
       "                console.log(\"Exception inside the 'handler_\" + msg_type + \"' callback:\", e, e.stack, msg);\n",
       "            }\n",
       "        }\n",
       "    };\n",
       "}\n",
       "\n",
       "// from http://stackoverflow.com/questions/1114465/getting-mouse-location-in-canvas\n",
       "mpl.findpos = function(e) {\n",
       "    //this section is from http://www.quirksmode.org/js/events_properties.html\n",
       "    var targ;\n",
       "    if (!e)\n",
       "        e = window.event;\n",
       "    if (e.target)\n",
       "        targ = e.target;\n",
       "    else if (e.srcElement)\n",
       "        targ = e.srcElement;\n",
       "    if (targ.nodeType == 3) // defeat Safari bug\n",
       "        targ = targ.parentNode;\n",
       "\n",
       "    // jQuery normalizes the pageX and pageY\n",
       "    // pageX,Y are the mouse positions relative to the document\n",
       "    // offset() returns the position of the element relative to the document\n",
       "    var x = e.pageX - $(targ).offset().left;\n",
       "    var y = e.pageY - $(targ).offset().top;\n",
       "\n",
       "    return {\"x\": x, \"y\": y};\n",
       "};\n",
       "\n",
       "/*\n",
       " * return a copy of an object with only non-object keys\n",
       " * we need this to avoid circular references\n",
       " * http://stackoverflow.com/a/24161582/3208463\n",
       " */\n",
       "function simpleKeys (original) {\n",
       "  return Object.keys(original).reduce(function (obj, key) {\n",
       "    if (typeof original[key] !== 'object')\n",
       "        obj[key] = original[key]\n",
       "    return obj;\n",
       "  }, {});\n",
       "}\n",
       "\n",
       "mpl.figure.prototype.mouse_event = function(event, name) {\n",
       "    var canvas_pos = mpl.findpos(event)\n",
       "\n",
       "    if (name === 'button_press')\n",
       "    {\n",
       "        this.canvas.focus();\n",
       "        this.canvas_div.focus();\n",
       "    }\n",
       "\n",
       "    var x = canvas_pos.x * mpl.ratio;\n",
       "    var y = canvas_pos.y * mpl.ratio;\n",
       "\n",
       "    this.send_message(name, {x: x, y: y, button: event.button,\n",
       "                             step: event.step,\n",
       "                             guiEvent: simpleKeys(event)});\n",
       "\n",
       "    /* This prevents the web browser from automatically changing to\n",
       "     * the text insertion cursor when the button is pressed.  We want\n",
       "     * to control all of the cursor setting manually through the\n",
       "     * 'cursor' event from matplotlib */\n",
       "    event.preventDefault();\n",
       "    return false;\n",
       "}\n",
       "\n",
       "mpl.figure.prototype._key_event_extra = function(event, name) {\n",
       "    // Handle any extra behaviour associated with a key event\n",
       "}\n",
       "\n",
       "mpl.figure.prototype.key_event = function(event, name) {\n",
       "\n",
       "    // Prevent repeat events\n",
       "    if (name == 'key_press')\n",
       "    {\n",
       "        if (event.which === this._key)\n",
       "            return;\n",
       "        else\n",
       "            this._key = event.which;\n",
       "    }\n",
       "    if (name == 'key_release')\n",
       "        this._key = null;\n",
       "\n",
       "    var value = '';\n",
       "    if (event.ctrlKey && event.which != 17)\n",
       "        value += \"ctrl+\";\n",
       "    if (event.altKey && event.which != 18)\n",
       "        value += \"alt+\";\n",
       "    if (event.shiftKey && event.which != 16)\n",
       "        value += \"shift+\";\n",
       "\n",
       "    value += 'k';\n",
       "    value += event.which.toString();\n",
       "\n",
       "    this._key_event_extra(event, name);\n",
       "\n",
       "    this.send_message(name, {key: value,\n",
       "                             guiEvent: simpleKeys(event)});\n",
       "    return false;\n",
       "}\n",
       "\n",
       "mpl.figure.prototype.toolbar_button_onclick = function(name) {\n",
       "    if (name == 'download') {\n",
       "        this.handle_save(this, null);\n",
       "    } else {\n",
       "        this.send_message(\"toolbar_button\", {name: name});\n",
       "    }\n",
       "};\n",
       "\n",
       "mpl.figure.prototype.toolbar_button_onmouseover = function(tooltip) {\n",
       "    this.message.textContent = tooltip;\n",
       "};\n",
       "mpl.toolbar_items = [[\"Home\", \"Reset original view\", \"fa fa-home icon-home\", \"home\"], [\"Back\", \"Back to  previous view\", \"fa fa-arrow-left icon-arrow-left\", \"back\"], [\"Forward\", \"Forward to next view\", \"fa fa-arrow-right icon-arrow-right\", \"forward\"], [\"\", \"\", \"\", \"\"], [\"Pan\", \"Pan axes with left mouse, zoom with right\", \"fa fa-arrows icon-move\", \"pan\"], [\"Zoom\", \"Zoom to rectangle\", \"fa fa-square-o icon-check-empty\", \"zoom\"], [\"\", \"\", \"\", \"\"], [\"Download\", \"Download plot\", \"fa fa-floppy-o icon-save\", \"download\"]];\n",
       "\n",
       "mpl.extensions = [\"eps\", \"jpeg\", \"pdf\", \"png\", \"ps\", \"raw\", \"svg\", \"tif\"];\n",
       "\n",
       "mpl.default_extension = \"png\";var comm_websocket_adapter = function(comm) {\n",
       "    // Create a \"websocket\"-like object which calls the given IPython comm\n",
       "    // object with the appropriate methods. Currently this is a non binary\n",
       "    // socket, so there is still some room for performance tuning.\n",
       "    var ws = {};\n",
       "\n",
       "    ws.close = function() {\n",
       "        comm.close()\n",
       "    };\n",
       "    ws.send = function(m) {\n",
       "        //console.log('sending', m);\n",
       "        comm.send(m);\n",
       "    };\n",
       "    // Register the callback with on_msg.\n",
       "    comm.on_msg(function(msg) {\n",
       "        //console.log('receiving', msg['content']['data'], msg);\n",
       "        // Pass the mpl event to the overriden (by mpl) onmessage function.\n",
       "        ws.onmessage(msg['content']['data'])\n",
       "    });\n",
       "    return ws;\n",
       "}\n",
       "\n",
       "mpl.mpl_figure_comm = function(comm, msg) {\n",
       "    // This is the function which gets called when the mpl process\n",
       "    // starts-up an IPython Comm through the \"matplotlib\" channel.\n",
       "\n",
       "    var id = msg.content.data.id;\n",
       "    // Get hold of the div created by the display call when the Comm\n",
       "    // socket was opened in Python.\n",
       "    var element = $(\"#\" + id);\n",
       "    var ws_proxy = comm_websocket_adapter(comm)\n",
       "\n",
       "    function ondownload(figure, format) {\n",
       "        window.open(figure.imageObj.src);\n",
       "    }\n",
       "\n",
       "    var fig = new mpl.figure(id, ws_proxy,\n",
       "                           ondownload,\n",
       "                           element.get(0));\n",
       "\n",
       "    // Call onopen now - mpl needs it, as it is assuming we've passed it a real\n",
       "    // web socket which is closed, not our websocket->open comm proxy.\n",
       "    ws_proxy.onopen();\n",
       "\n",
       "    fig.parent_element = element.get(0);\n",
       "    fig.cell_info = mpl.find_output_cell(\"<div id='\" + id + \"'></div>\");\n",
       "    if (!fig.cell_info) {\n",
       "        console.error(\"Failed to find cell for figure\", id, fig);\n",
       "        return;\n",
       "    }\n",
       "\n",
       "    var output_index = fig.cell_info[2]\n",
       "    var cell = fig.cell_info[0];\n",
       "\n",
       "};\n",
       "\n",
       "mpl.figure.prototype.handle_close = function(fig, msg) {\n",
       "    var width = fig.canvas.width/mpl.ratio\n",
       "    fig.root.unbind('remove')\n",
       "\n",
       "    // Update the output cell to use the data from the current canvas.\n",
       "    fig.push_to_output();\n",
       "    var dataURL = fig.canvas.toDataURL();\n",
       "    // Re-enable the keyboard manager in IPython - without this line, in FF,\n",
       "    // the notebook keyboard shortcuts fail.\n",
       "    IPython.keyboard_manager.enable()\n",
       "    $(fig.parent_element).html('<img src=\"' + dataURL + '\" width=\"' + width + '\">');\n",
       "    fig.close_ws(fig, msg);\n",
       "}\n",
       "\n",
       "mpl.figure.prototype.close_ws = function(fig, msg){\n",
       "    fig.send_message('closing', msg);\n",
       "    // fig.ws.close()\n",
       "}\n",
       "\n",
       "mpl.figure.prototype.push_to_output = function(remove_interactive) {\n",
       "    // Turn the data on the canvas into data in the output cell.\n",
       "    var width = this.canvas.width/mpl.ratio\n",
       "    var dataURL = this.canvas.toDataURL();\n",
       "    this.cell_info[1]['text/html'] = '<img src=\"' + dataURL + '\" width=\"' + width + '\">';\n",
       "}\n",
       "\n",
       "mpl.figure.prototype.updated_canvas_event = function() {\n",
       "    // Tell IPython that the notebook contents must change.\n",
       "    IPython.notebook.set_dirty(true);\n",
       "    this.send_message(\"ack\", {});\n",
       "    var fig = this;\n",
       "    // Wait a second, then push the new image to the DOM so\n",
       "    // that it is saved nicely (might be nice to debounce this).\n",
       "    setTimeout(function () { fig.push_to_output() }, 1000);\n",
       "}\n",
       "\n",
       "mpl.figure.prototype._init_toolbar = function() {\n",
       "    var fig = this;\n",
       "\n",
       "    var nav_element = $('<div/>')\n",
       "    nav_element.attr('style', 'width: 100%');\n",
       "    this.root.append(nav_element);\n",
       "\n",
       "    // Define a callback function for later on.\n",
       "    function toolbar_event(event) {\n",
       "        return fig.toolbar_button_onclick(event['data']);\n",
       "    }\n",
       "    function toolbar_mouse_event(event) {\n",
       "        return fig.toolbar_button_onmouseover(event['data']);\n",
       "    }\n",
       "\n",
       "    for(var toolbar_ind in mpl.toolbar_items){\n",
       "        var name = mpl.toolbar_items[toolbar_ind][0];\n",
       "        var tooltip = mpl.toolbar_items[toolbar_ind][1];\n",
       "        var image = mpl.toolbar_items[toolbar_ind][2];\n",
       "        var method_name = mpl.toolbar_items[toolbar_ind][3];\n",
       "\n",
       "        if (!name) { continue; };\n",
       "\n",
       "        var button = $('<button class=\"btn btn-default\" href=\"#\" title=\"' + name + '\"><i class=\"fa ' + image + ' fa-lg\"></i></button>');\n",
       "        button.click(method_name, toolbar_event);\n",
       "        button.mouseover(tooltip, toolbar_mouse_event);\n",
       "        nav_element.append(button);\n",
       "    }\n",
       "\n",
       "    // Add the status bar.\n",
       "    var status_bar = $('<span class=\"mpl-message\" style=\"text-align:right; float: right;\"/>');\n",
       "    nav_element.append(status_bar);\n",
       "    this.message = status_bar[0];\n",
       "\n",
       "    // Add the close button to the window.\n",
       "    var buttongrp = $('<div class=\"btn-group inline pull-right\"></div>');\n",
       "    var button = $('<button class=\"btn btn-mini btn-primary\" href=\"#\" title=\"Stop Interaction\"><i class=\"fa fa-power-off icon-remove icon-large\"></i></button>');\n",
       "    button.click(function (evt) { fig.handle_close(fig, {}); } );\n",
       "    button.mouseover('Stop Interaction', toolbar_mouse_event);\n",
       "    buttongrp.append(button);\n",
       "    var titlebar = this.root.find($('.ui-dialog-titlebar'));\n",
       "    titlebar.prepend(buttongrp);\n",
       "}\n",
       "\n",
       "mpl.figure.prototype._root_extra_style = function(el){\n",
       "    var fig = this\n",
       "    el.on(\"remove\", function(){\n",
       "\tfig.close_ws(fig, {});\n",
       "    });\n",
       "}\n",
       "\n",
       "mpl.figure.prototype._canvas_extra_style = function(el){\n",
       "    // this is important to make the div 'focusable\n",
       "    el.attr('tabindex', 0)\n",
       "    // reach out to IPython and tell the keyboard manager to turn it's self\n",
       "    // off when our div gets focus\n",
       "\n",
       "    // location in version 3\n",
       "    if (IPython.notebook.keyboard_manager) {\n",
       "        IPython.notebook.keyboard_manager.register_events(el);\n",
       "    }\n",
       "    else {\n",
       "        // location in version 2\n",
       "        IPython.keyboard_manager.register_events(el);\n",
       "    }\n",
       "\n",
       "}\n",
       "\n",
       "mpl.figure.prototype._key_event_extra = function(event, name) {\n",
       "    var manager = IPython.notebook.keyboard_manager;\n",
       "    if (!manager)\n",
       "        manager = IPython.keyboard_manager;\n",
       "\n",
       "    // Check for shift+enter\n",
       "    if (event.shiftKey && event.which == 13) {\n",
       "        this.canvas_div.blur();\n",
       "        // select the cell after this one\n",
       "        var index = IPython.notebook.find_cell_index(this.cell_info[0]);\n",
       "        IPython.notebook.select(index + 1);\n",
       "    }\n",
       "}\n",
       "\n",
       "mpl.figure.prototype.handle_save = function(fig, msg) {\n",
       "    fig.ondownload(fig, null);\n",
       "}\n",
       "\n",
       "\n",
       "mpl.find_output_cell = function(html_output) {\n",
       "    // Return the cell and output element which can be found *uniquely* in the notebook.\n",
       "    // Note - this is a bit hacky, but it is done because the \"notebook_saving.Notebook\"\n",
       "    // IPython event is triggered only after the cells have been serialised, which for\n",
       "    // our purposes (turning an active figure into a static one), is too late.\n",
       "    var cells = IPython.notebook.get_cells();\n",
       "    var ncells = cells.length;\n",
       "    for (var i=0; i<ncells; i++) {\n",
       "        var cell = cells[i];\n",
       "        if (cell.cell_type === 'code'){\n",
       "            for (var j=0; j<cell.output_area.outputs.length; j++) {\n",
       "                var data = cell.output_area.outputs[j];\n",
       "                if (data.data) {\n",
       "                    // IPython >= 3 moved mimebundle to data attribute of output\n",
       "                    data = data.data;\n",
       "                }\n",
       "                if (data['text/html'] == html_output) {\n",
       "                    return [cell, data, j];\n",
       "                }\n",
       "            }\n",
       "        }\n",
       "    }\n",
       "}\n",
       "\n",
       "// Register the function which deals with the matplotlib target/channel.\n",
       "// The kernel may be null if the page has been refreshed.\n",
       "if (IPython.notebook.kernel != null) {\n",
       "    IPython.notebook.kernel.comm_manager.register_target('matplotlib', mpl.mpl_figure_comm);\n",
       "}\n"
      ],
      "text/plain": [
       "<IPython.core.display.Javascript object>"
      ]
     },
     "metadata": {},
     "output_type": "display_data"
    },
    {
     "data": {
      "text/html": [
       "<img src=\"data:image/png;base64,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\" width=\"639.999990463257\">"
      ],
      "text/plain": [
       "<IPython.core.display.HTML object>"
      ]
     },
     "metadata": {},
     "output_type": "display_data"
    },
    {
     "data": {
      "text/plain": [
       "<matplotlib.colorbar.Colorbar at 0x7f2416621518>"
      ]
     },
     "execution_count": 47,
     "metadata": {},
     "output_type": "execute_result"
    }
   ],
   "source": [
    "# Visualisation de l'image avec matplotlib\n",
    "%matplotlib notebook\n",
    "import matplotlib.pyplot as plt\n",
    "plt.figure()\n",
    "plt.imshow(image_data, cmap='gray')\n",
    "plt.colorbar()"
   ]
  }
 ],
 "metadata": {
  "celltoolbar": "Slideshow",
  "kernelspec": {
   "display_name": "Python 3",
   "language": "python",
   "name": "python3"
  },
  "language_info": {
   "codemirror_mode": {
    "name": "ipython",
    "version": 3
   },
   "file_extension": ".py",
   "mimetype": "text/x-python",
   "name": "python",
   "nbconvert_exporter": "python",
   "pygments_lexer": "ipython3",
   "version": "3.6.2"
  }
 },
 "nbformat": 4,
 "nbformat_minor": 2
}
