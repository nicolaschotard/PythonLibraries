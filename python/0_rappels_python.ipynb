{
 "cells": [
  {
   "cell_type": "markdown",
   "metadata": {
    "slideshow": {
     "slide_type": "slide"
    }
   },
   "source": [
    "# Rappels sur Python\n",
    "\n",
    "![https://www.python.org/static/img/python-logo.png](https://www.python.org/static/img/python-logo.png)\n",
    "\n",
    "\n",
    "\n",
    "## - Généralités\n",
    "\n",
    "## - Quelques fonctionnalitées utiles\n",
    "\n",
    "## - Utiliser Python"
   ]
  },
  {
   "cell_type": "markdown",
   "metadata": {
    "slideshow": {
     "slide_type": "slide"
    }
   },
   "source": [
    "## Généralités"
   ]
  },
  {
   "cell_type": "markdown",
   "metadata": {
    "slideshow": {
     "slide_type": "slide"
    }
   },
   "source": [
    "- 2 versions de Python existantes\n",
    "  - Python 2 (2.7) et Python 3 (3.6) -> celle utilisée ici\n",
    "  - [Discussion](https://wiki.python.org/moin/Python2orPython3) sur le choix de la version\n",
    "- Langage interprété, pas de conpilateur -> utilisation d'un environnement de développement intégré (IDE)\n",
    "- Délimitation des blocs par indentation\n",
    "- Une syntaxe bien définie : [PEP8](https://www.python.org/dev/peps/pep-0008/)\n",
    "- Modules :\n",
    "  - `import mymodule` pour importer une librairie\n",
    "  - `mymodule.myfunction(...)` pour l'utiliser\n",
    "- Commenter : utilisation du `#` pour commenter le code\n",
    "- Docummenter : utilisation de `\"\"\" ... \"\"\"` pour documenter le code (doctrings)"
   ]
  },
  {
   "cell_type": "code",
   "execution_count": 51,
   "metadata": {
    "slideshow": {
     "slide_type": "slide"
    }
   },
   "outputs": [
    {
     "name": "stdout",
     "output_type": "stream",
     "text": [
      "4.5\n"
     ]
    }
   ],
   "source": [
    "# Import un module\n",
    "import numpy\n",
    "\n",
    "# Définir une fonction\n",
    "def myfunction():\n",
    "    \"\"\"Do nothing, but documented.\"\"\"\n",
    "    # Use numpy\n",
    "    print(numpy.mean(numpy.arange(10)))\n",
    "    return None\n",
    "\n",
    "# Appeler la fonction\n",
    "myfunction()"
   ]
  },
  {
   "cell_type": "code",
   "execution_count": 179,
   "metadata": {
    "slideshow": {
     "slide_type": "fragment"
    }
   },
   "outputs": [
    {
     "name": "stdout",
     "output_type": "stream",
     "text": [
      "8\n",
      "a + b =  0\n",
      "0\n"
     ]
    }
   ],
   "source": [
    "# Fonction avec arguments et paramètres\n",
    "def sum_numbers(a, b, verbose=False):\n",
    "    \"\"\"Sum a and b.\"\"\"\n",
    "    c = a + b\n",
    "    if verbose:\n",
    "        print(\"a + b = \", c)\n",
    "    return c\n",
    "\n",
    "print(sum_numbers(3, 5))\n",
    "print(sum_numbers(-4, 4, verbose=True))"
   ]
  },
  {
   "cell_type": "markdown",
   "metadata": {
    "slideshow": {
     "slide_type": "slide"
    }
   },
   "source": [
    "## Quelques fonctionalitées utiles"
   ]
  },
  {
   "cell_type": "markdown",
   "metadata": {
    "slideshow": {
     "slide_type": "slide"
    }
   },
   "source": [
    "### Liste"
   ]
  },
  {
   "cell_type": "code",
   "execution_count": 118,
   "metadata": {
    "slideshow": {
     "slide_type": "fragment"
    }
   },
   "outputs": [
    {
     "name": "stdout",
     "output_type": "stream",
     "text": [
      "['a', 'b', 'c'] a b c c\n"
     ]
    }
   ],
   "source": [
    "# Une liste et ses éléments\n",
    "a = ['a', 'b', 'c']\n",
    "print(a, a[0], a[1], a[-1], a[2])"
   ]
  },
  {
   "cell_type": "code",
   "execution_count": 3,
   "metadata": {},
   "outputs": [
    {
     "name": "stdout",
     "output_type": "stream",
     "text": [
      "u n t mo\n"
     ]
    }
   ],
   "source": [
    "# Indexin / Slicing d'un string : de la même manière que celui d'une liste\n",
    "word = 'un mot'\n",
    "print(word[0], word[1], word[-1], word[3:5])"
   ]
  },
  {
   "cell_type": "code",
   "execution_count": 180,
   "metadata": {
    "slideshow": {
     "slide_type": "fragment"
    }
   },
   "outputs": [
    {
     "name": "stdout",
     "output_type": "stream",
     "text": [
      "['a', 'r', 'b'] True\n",
      "2 False\n"
     ]
    }
   ],
   "source": [
    "# Vérifier qu'un object est une liste\n",
    "print(a, isinstance(a, list))\n",
    "print(2, isinstance(2, list))"
   ]
  },
  {
   "cell_type": "code",
   "execution_count": 107,
   "metadata": {
    "slideshow": {
     "slide_type": "fragment"
    }
   },
   "outputs": [
    {
     "name": "stdout",
     "output_type": "stream",
     "text": [
      "True\n",
      "False\n"
     ]
    }
   ],
   "source": [
    "# Vérifier qu'un object est contenue dans une liste\n",
    "print('a' in a)\n",
    "print('f' in a)"
   ]
  },
  {
   "cell_type": "code",
   "execution_count": 108,
   "metadata": {
    "slideshow": {
     "slide_type": "slide"
    }
   },
   "outputs": [
    {
     "name": "stdout",
     "output_type": "stream",
     "text": [
      "['a', 'c']\n"
     ]
    }
   ],
   "source": [
    "# slicing d'une liste\n",
    "print(a[0:3:2])  # a[début:fin:pas] de 'début' jusqu`a 'fin' par pas de 'pas"
   ]
  },
  {
   "cell_type": "code",
   "execution_count": 4,
   "metadata": {
    "slideshow": {
     "slide_type": "fragment"
    }
   },
   "outputs": [
    {
     "name": "stdout",
     "output_type": "stream",
     "text": [
      "b[0::2]  -> [0, 2, 4, 6, 8, 10]\n",
      "b[0::]   -> [0, 1, 2, 3, 4, 5, 6, 7, 8, 9, 10]\n",
      "b[2:6:2] -> [2, 4]\n",
      "b[2:7:2] -> [2, 4, 6]\n"
     ]
    }
   ],
   "source": [
    "# 'début', 'fin' ou 'pas' peuvent être omis et ont comme valeurs\n",
    "# par défaut celles du premier élément, du dernier, et de 1 pour le pas\n",
    "b = [0, 1, 2, 3, 4, 5, 6, 7, 8, 9, 10]\n",
    "print(\"b[0::2]  ->\", b[0::2])\n",
    "print(\"b[0::]   ->\", b[0::])\n",
    "print(\"b[2:6:2] ->\", b[2:6:2])\n",
    "print(\"b[2:7:2] ->\", b[2:7:2])"
   ]
  },
  {
   "cell_type": "code",
   "execution_count": 5,
   "metadata": {
    "slideshow": {
     "slide_type": "fragment"
    }
   },
   "outputs": [
    {
     "name": "stdout",
     "output_type": "stream",
     "text": [
      "[10, 9, 8, 7, 6, 5, 4, 3, 2, 1, 0]\n"
     ]
    }
   ],
   "source": [
    "# Inverser l'ordre d'une liste, c'est à dire aller du début à la fin \n",
    "# par pas de -1, c'est à dire dans le sens inverse\n",
    "print(b[::-1]) "
   ]
  },
  {
   "cell_type": "markdown",
   "metadata": {
    "slideshow": {
     "slide_type": "slide"
    }
   },
   "source": [
    "### Quelques méthodes d'un objet `list`"
   ]
  },
  {
   "cell_type": "code",
   "execution_count": 136,
   "metadata": {
    "slideshow": {
     "slide_type": "fragment"
    }
   },
   "outputs": [
    {
     "name": "stdout",
     "output_type": "stream",
     "text": [
      "['a', 'b', 'c', 'd']\n"
     ]
    }
   ],
   "source": [
    "# Ajouter un élément à la fin de la liste\n",
    "a = ['a', 'b', 'c']\n",
    "a.append('d')\n",
    "print(a)"
   ]
  },
  {
   "cell_type": "code",
   "execution_count": 137,
   "metadata": {
    "slideshow": {
     "slide_type": "fragment"
    }
   },
   "outputs": [
    {
     "name": "stdout",
     "output_type": "stream",
     "text": [
      "['a', 'b', 'd']\n"
     ]
    }
   ],
   "source": [
    "# Supprimer un élément de la liste via son indice\n",
    "a.pop(2)\n",
    "print(a)"
   ]
  },
  {
   "cell_type": "code",
   "execution_count": 138,
   "metadata": {
    "slideshow": {
     "slide_type": "fragment"
    }
   },
   "outputs": [
    {
     "name": "stdout",
     "output_type": "stream",
     "text": [
      "['a', 'b']\n"
     ]
    }
   ],
   "source": [
    "# Supprimer un élément de la liste via sa valeure\n",
    "a.remove('d')\n",
    "print(a)"
   ]
  },
  {
   "cell_type": "code",
   "execution_count": 139,
   "metadata": {
    "slideshow": {
     "slide_type": "fragment"
    }
   },
   "outputs": [
    {
     "name": "stdout",
     "output_type": "stream",
     "text": [
      "['a', 'r', 'b']\n"
     ]
    }
   ],
   "source": [
    "# Insérer un nouvel élément\n",
    "a.insert(1, 'r')  # insert(indice, valeur)\n",
    "print(a)"
   ]
  },
  {
   "cell_type": "markdown",
   "metadata": {
    "slideshow": {
     "slide_type": "slide"
    }
   },
   "source": [
    "### Comprehension list\n"
   ]
  },
  {
   "cell_type": "code",
   "execution_count": 187,
   "metadata": {
    "slideshow": {
     "slide_type": "fragment"
    }
   },
   "outputs": [
    {
     "name": "stdout",
     "output_type": "stream",
     "text": [
      "a [0, 1, 2, 3]\n",
      "b [1, 2, 3, 4]\n"
     ]
    }
   ],
   "source": [
    "a = [0, 1, 2, 3]\n",
    "b = [aa + 1 for aa in a]\n",
    "print('a', a)\n",
    "print('b', b)"
   ]
  },
  {
   "cell_type": "code",
   "execution_count": 54,
   "metadata": {
    "slideshow": {
     "slide_type": "fragment"
    }
   },
   "outputs": [
    {
     "name": "stdout",
     "output_type": "stream",
     "text": [
      "c [0, 0, 0, 0, 1, 2, 3, 4, 2, 4, 6, 8, 3, 6, 9, 12]\n",
      "d [[0, 1, 2, 3], [0, 2, 4, 6], [0, 3, 6, 9], [0, 4, 8, 12]]\n",
      "e [[0, 0, 0, 0], [1, 2, 3, 4], [2, 4, 6, 8], [3, 6, 9, 12]]\n"
     ]
    }
   ],
   "source": [
    "c = [aa * bb for aa in a for bb in b]    # = [a[0] * b[0], a[0] * b[1], etc]\n",
    "print(\"c\", c)\n",
    "d = [[aa * bb for aa in a] for bb in b]  # = [[a[0] * b[0], a[1] * b[1], etc], etc]\n",
    "print(\"d\", d)\n",
    "e = [[aa * bb for bb in b] for aa in a]  # c = numpy.concatenate(e)\n",
    "print(\"e\", e)"
   ]
  },
  {
   "cell_type": "code",
   "execution_count": 58,
   "metadata": {
    "slideshow": {
     "slide_type": "fragment"
    }
   },
   "outputs": [
    {
     "name": "stdout",
     "output_type": "stream",
     "text": [
      "[1.0, 2.0, 3.0] [1, 2, 3]\n"
     ]
    }
   ],
   "source": [
    "a = ['1', '2', '3']\n",
    "print([float(aa) for aa in a], [int(aa) for aa in a])"
   ]
  },
  {
   "cell_type": "markdown",
   "metadata": {
    "slideshow": {
     "slide_type": "slide"
    }
   },
   "source": [
    "### Dictionnaires"
   ]
  },
  {
   "cell_type": "code",
   "execution_count": 188,
   "metadata": {
    "slideshow": {
     "slide_type": "fragment"
    }
   },
   "outputs": [
    {
     "name": "stdout",
     "output_type": "stream",
     "text": [
      "dic {'a': 0, 'b': 1, 'c': 2}\n",
      "dic {'a': 0, 'b': 1, 'c': 2}\n",
      "dic {'a': 0, 'b': 1, 'c': 2}\n"
     ]
    }
   ],
   "source": [
    "# Création d'un dictionnaire, (au moins) 3 façons de faire\n",
    "dic = {'a': 0, 'b': 1, 'c': 2}\n",
    "print(\"dic\", dic)\n",
    "\n",
    "dic = dict((('a', 0), ('b', 1), ('c', 2)))\n",
    "print(\"dic\", dic)\n",
    "\n",
    "dic = {k: v for k, v in zip(['a', 'b', 'c'], [0, 1, 2])}\n",
    "print(\"dic\", dic)"
   ]
  },
  {
   "cell_type": "code",
   "execution_count": 169,
   "metadata": {
    "slideshow": {
     "slide_type": "fragment"
    }
   },
   "outputs": [
    {
     "name": "stdout",
     "output_type": "stream",
     "text": [
      "list(dic.keys()) ['a', 'b', 'c']\n",
      "list(dic.values()) [0, 1, 2]\n",
      "list(dic.items()) [('a', 0), ('b', 1), ('c', 2)]\n",
      "dic['a'] 0\n"
     ]
    }
   ],
   "source": [
    "# Accéder au contenu\n",
    "print(\"list(dic.keys())\", list(dic.keys()))\n",
    "print(\"list(dic.values())\", list(dic.values()))\n",
    "print(\"list(dic.items())\", list(dic.items()))\n",
    "print(\"dic['a']\", dic['a'])"
   ]
  },
  {
   "cell_type": "code",
   "execution_count": 189,
   "metadata": {
    "slideshow": {
     "slide_type": "slide"
    }
   },
   "outputs": [
    {
     "name": "stdout",
     "output_type": "stream",
     "text": [
      "{'b': 1, 'c': 2}\n"
     ]
    }
   ],
   "source": [
    "# Supprimer un élément\n",
    "dic.pop('a')\n",
    "print(dic)"
   ]
  },
  {
   "cell_type": "code",
   "execution_count": 190,
   "metadata": {
    "slideshow": {
     "slide_type": "fragment"
    }
   },
   "outputs": [
    {
     "name": "stdout",
     "output_type": "stream",
     "text": [
      "{'b': 1, 'c': 2, 'd': 3}\n"
     ]
    }
   ],
   "source": [
    "# Ajouter un élément\n",
    "dic['d'] = 3\n",
    "print(dic)"
   ]
  },
  {
   "cell_type": "code",
   "execution_count": 191,
   "metadata": {
    "slideshow": {
     "slide_type": "fragment"
    }
   },
   "outputs": [
    {
     "name": "stdout",
     "output_type": "stream",
     "text": [
      "{'b': 1, 'c': 2, 'd': 3, 'e': 4, 'f': 5}\n"
     ]
    }
   ],
   "source": [
    "# Fusionner des dictionnaires\n",
    "dic2 = {'e': 4, 'f': 5}\n",
    "dic.update(dic2)\n",
    "print(dic)"
   ]
  },
  {
   "cell_type": "code",
   "execution_count": 193,
   "metadata": {
    "slideshow": {
     "slide_type": "fragment"
    }
   },
   "outputs": [
    {
     "name": "stdout",
     "output_type": "stream",
     "text": [
      "{'b': 12, 'c': 2, 'd': 3, 'e': 4, 'f': 5}\n"
     ]
    }
   ],
   "source": [
    "# Mettre à jour une valeur\n",
    "dic.update({'b': 12})  # ou dic['b'] = 12\n",
    "print(dic)"
   ]
  },
  {
   "cell_type": "markdown",
   "metadata": {
    "slideshow": {
     "slide_type": "slide"
    }
   },
   "source": [
    "## Utiliser Python"
   ]
  },
  {
   "cell_type": "markdown",
   "metadata": {
    "slideshow": {
     "slide_type": "slide"
    }
   },
   "source": [
    "- `python`\n",
    "\n",
    "  - Lancer `python` dans votre terminal pour accéder à l'interpréteur python\n",
    "\n",
    "    ```\n",
    "    $ python\n",
    "    Python 3.6.2 | packaged by conda-forge | (default, Jul 23 2017, 22:59:30) \n",
    "    [GCC 4.8.2 20140120 (Red Hat 4.8.2-15)] on linux\n",
    "    Type \"help\", \"copyright\", \"credits\" or \"license\" for more information.\n",
    "    >>> \n",
    "    ```"
   ]
  },
  {
   "cell_type": "markdown",
   "metadata": {
    "slideshow": {
     "slide_type": "slide"
    }
   },
   "source": [
    "- `ipython`\n",
    "\n",
    "  - Lancer `ipython` dans votre terminal pour entrer dans le mode interactif de Python\n",
    "  - Très utilisé pour tester des morceaux de code, des codes complets, explorer des librairies, debugger, afficher des figures, etc.\n",
    "  \n",
    "    ```\n",
    "    $ ipython\n",
    "    Python 3.6.2 | packaged by conda-forge | (default, Jul 23 2017, 22:59:30) \n",
    "    Type 'copyright', 'credits' or 'license' for more information\n",
    "    IPython 6.1.0 -- An enhanced Interactive Python. Type '?' for help.\n",
    "\n",
    "    In [1]: \n",
    "    ```"
   ]
  },
  {
   "cell_type": "markdown",
   "metadata": {
    "slideshow": {
     "slide_type": "slide"
    }
   },
   "source": [
    "- `Jupyter` notebook\n",
    "\n",
    "  - Lancer `jupyter notebook` dans votre terminal pour démarer le serveur jupyter dans votre navigateur\n",
    "  - Principalement utilisé pour développer, documenter, paratager des exemples de code, créer des présentations (celle-ci par exemple)\n",
    "\n",
    "\n",
    "- Scripts / librairies : un fichier `.py`\n",
    "  - script : `python monfichier.py`\n",
    "  - librairie : `import monfichier`\n",
    "    \n",
    "\n",
    "- Ou une collection organisée de fichiers `.py`, formant un module ou une collection de modules (package, p.e, `numpy`)"
   ]
  },
  {
   "cell_type": "markdown",
   "metadata": {
    "slideshow": {
     "slide_type": "slide"
    }
   },
   "source": [
    "- Favorisez `ipython` ou `jupyter` pour tester vos développements\n",
    "- Utilisez les `jupyter` notebooks pour partager des exemples d'utilisation de code\n",
    "- Créer des scripts / librairies (`fichier.py`) pour développer de façon durable\n",
    "- Organisez vos scripts et librairies en modules\n",
    "- Publiez vos packages Python pour partager vos codes\n",
    "\n",
    "  - [git](https://git-scm.com/) pour développer et gérer les versions du code\n",
    "  - [gitlab](https://gitlab.in2p3.fr) ou [github](https://github.com/) pour partager vos codes\n",
    "  - [PyPI](https://pypi.org/) pour publier vos package python\n",
    "\n",
    "\n",
    "- Tout ces outils sont utiles pour développer dans DESC/LSST"
   ]
  }
 ],
 "metadata": {
  "celltoolbar": "Slideshow",
  "kernelspec": {
   "display_name": "Python 3",
   "language": "python",
   "name": "python3"
  },
  "language_info": {
   "codemirror_mode": {
    "name": "ipython",
    "version": 3
   },
   "file_extension": ".py",
   "mimetype": "text/x-python",
   "name": "python",
   "nbconvert_exporter": "python",
   "pygments_lexer": "ipython3",
   "version": "3.6.2"
  }
 },
 "nbformat": 4,
 "nbformat_minor": 2
}
