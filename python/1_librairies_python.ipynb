{
 "cells": [
  {
   "cell_type": "markdown",
   "metadata": {
    "slideshow": {
     "slide_type": "slide"
    }
   },
   "source": [
    "# Librairies Python\n",
    "\n",
    "<center>\n",
    "![https://pypi.org/static/images/logo-large.72ad8bf1.svg](https://pypi.org/static/images/logo-large.72ad8bf1.svg)\n",
    "![https://www.anaconda.com/wp-content/themes/anaconda/images/logo-dark.png](https://www.anaconda.com/wp-content/themes/anaconda/images/logo-dark.png)\n",
    "</center>\n"
   ]
  },
  {
   "cell_type": "markdown",
   "metadata": {
    "slideshow": {
     "slide_type": "slide"
    }
   },
   "source": [
    "## Les librairies en Python\n",
    "\n",
    "- Des librairies sont installées nativement en Python\n",
    "- D'autres sont disponibles en ligne sur des dépots\n",
    "- Des milliers de librairies disponibles\n",
    "  - ~ 117000 sur [PyPI](https://pypi.org/)\n",
    "  - Et certainement beaucoup d'autres sur différents dépots\n",
    "  - Installation de librairies : `pip install librairie`\n",
    "- Anaconda : Plateforme d'analyse scientifque pour Python \n",
    "  - Plus de 1000 paquets python orientés analyse scientifique disponibles à l'[installation](https://www.anaconda.com/download/)\n",
    "  - Installation de librairies via `pip` ou `conda`\n",
    "- Librairies générales + librairies scientifiques  "
   ]
  },
  {
   "cell_type": "markdown",
   "metadata": {
    "slideshow": {
     "slide_type": "slide"
    }
   },
   "source": [
    "## Quelques librairies générales"
   ]
  },
  {
   "cell_type": "markdown",
   "metadata": {
    "slideshow": {
     "slide_type": "slide"
    }
   },
   "source": [
    "### [os](https://docs.python.org/3.6/library/os.html) : interfaces au système d'exploitation"
   ]
  },
  {
   "cell_type": "code",
   "execution_count": 1,
   "metadata": {
    "collapsed": true,
    "slideshow": {
     "slide_type": "fragment"
    }
   },
   "outputs": [],
   "source": [
    "import os"
   ]
  },
  {
   "cell_type": "code",
   "execution_count": 2,
   "metadata": {
    "slideshow": {
     "slide_type": "fragment"
    }
   },
   "outputs": [
    {
     "name": "stdout",
     "output_type": "stream",
     "text": [
      "False\n"
     ]
    }
   ],
   "source": [
    "# vérifie l'existance d'un fichier\n",
    "print(os.path.exists(\"unfichier.txt\"))"
   ]
  },
  {
   "cell_type": "code",
   "execution_count": 3,
   "metadata": {
    "slideshow": {
     "slide_type": "fragment"
    }
   },
   "outputs": [
    {
     "name": "stdout",
     "output_type": "stream",
     "text": [
      "/home/chotard\n"
     ]
    }
   ],
   "source": [
    "# Pour récupérer la valeur d'une variable d'environement \n",
    "# (os.setenv pour créer ou changer)\n",
    "print(os.getenv(\"HOME\"))"
   ]
  },
  {
   "cell_type": "code",
   "execution_count": 4,
   "metadata": {
    "slideshow": {
     "slide_type": "fragment"
    }
   },
   "outputs": [
    {
     "name": "stdout",
     "output_type": "stream",
     "text": [
      "/home/chotard/Work/Confs/lsst_drp_analysis\n",
      "/home/chotard\n"
     ]
    }
   ],
   "source": [
    "os.chdir(\"/home/chotard/Work/Confs/lsst_drp_analysis\")\n",
    "print(os.getcwd())           # pour récupérer le repertoire courant\n",
    "os.chdir(os.getenv(\"HOME\"))  # change de répertoire\n",
    "print(os.getcwd())\n",
    "os.chdir(\"/home/chotard/Work/Confs/lsst_drp_analysis\")"
   ]
  },
  {
   "cell_type": "code",
   "execution_count": 5,
   "metadata": {
    "slideshow": {
     "slide_type": "fragment"
    }
   },
   "outputs": [
    {
     "name": "stdout",
     "output_type": "stream",
     "text": [
      "chotard\n"
     ]
    }
   ],
   "source": [
    "print(os.getlogin())"
   ]
  },
  {
   "cell_type": "code",
   "execution_count": 6,
   "metadata": {
    "slideshow": {
     "slide_type": "slide"
    }
   },
   "outputs": [
    {
     "name": "stdout",
     "output_type": "stream",
     "text": [
      "['.ipynb_checkpoints', '.gitignore', 'README.rst', 'stack', 'python', '.git']\n"
     ]
    }
   ],
   "source": [
    "print(os.listdir(\".\"))"
   ]
  },
  {
   "cell_type": "code",
   "execution_count": 7,
   "metadata": {
    "slideshow": {
     "slide_type": "fragment"
    }
   },
   "outputs": [
    {
     "name": "stdout",
     "output_type": "stream",
     "text": [
      "['.ipynb_checkpoints', '.gitignore', 'README.rst', 'stack', 'python', '.git']\n"
     ]
    }
   ],
   "source": [
    "print(os.listdir(\"../lsst_drp_analysis\"))"
   ]
  },
  {
   "cell_type": "markdown",
   "metadata": {
    "slideshow": {
     "slide_type": "fragment"
    }
   },
   "source": [
    "### [glob](https://docs.python.org/3.6/library/glob.html) : contenu de repertoire \"à la unix\""
   ]
  },
  {
   "cell_type": "code",
   "execution_count": 8,
   "metadata": {
    "collapsed": true,
    "slideshow": {
     "slide_type": "fragment"
    }
   },
   "outputs": [],
   "source": [
    "import glob"
   ]
  },
  {
   "cell_type": "code",
   "execution_count": 9,
   "metadata": {
    "slideshow": {
     "slide_type": "fragment"
    }
   },
   "outputs": [
    {
     "name": "stdout",
     "output_type": "stream",
     "text": [
      "['README.rst']\n"
     ]
    }
   ],
   "source": [
    "print(glob.glob(\"*.*\"))   # ** + recursive=True pour chercher dans les sous répertoires"
   ]
  },
  {
   "cell_type": "code",
   "execution_count": 10,
   "metadata": {
    "slideshow": {
     "slide_type": "fragment"
    }
   },
   "outputs": [
    {
     "name": "stdout",
     "output_type": "stream",
     "text": [
      "['../lsst_drp_analysis/README.rst']\n"
     ]
    }
   ],
   "source": [
    "print(glob.glob(\"../lsst_drp_analysis/*.*\"))"
   ]
  },
  {
   "cell_type": "code",
   "execution_count": 11,
   "metadata": {
    "slideshow": {
     "slide_type": "fragment"
    }
   },
   "outputs": [
    {
     "data": {
      "text/plain": [
       "['/home/chotard/Work/Confs/lsst_drp_analysis/.ipynb_checkpoints',\n",
       " '/home/chotard/Work/Confs/lsst_drp_analysis/.gitignore',\n",
       " '/home/chotard/Work/Confs/lsst_drp_analysis/.git']"
      ]
     },
     "execution_count": 11,
     "metadata": {},
     "output_type": "execute_result"
    }
   ],
   "source": [
    "glob.glob(\"/home/chotard/Work/Confs/lsst_drp_analysis/.*\")"
   ]
  },
  {
   "cell_type": "markdown",
   "metadata": {
    "slideshow": {
     "slide_type": "slide"
    }
   },
   "source": [
    "### [PyYAML](http://pyyaml.org/wiki/PyYAML) : lire et écrire des fichiers YAML"
   ]
  },
  {
   "cell_type": "markdown",
   "metadata": {},
   "source": [
    "*YAML is a data serialization format designed for human readability and interaction with scripting languages*"
   ]
  },
  {
   "cell_type": "code",
   "execution_count": 12,
   "metadata": {
    "collapsed": true,
    "slideshow": {
     "slide_type": "fragment"
    }
   },
   "outputs": [],
   "source": [
    "import yaml"
   ]
  },
  {
   "cell_type": "code",
   "execution_count": 13,
   "metadata": {
    "collapsed": true,
    "slideshow": {
     "slide_type": "fragment"
    }
   },
   "outputs": [],
   "source": [
    "# Sauvegarder des données structurées dans un dictionnaire\n",
    "d = {'a': 1, 'b': 2}\n",
    "yaml.dump(d, open('fichier.yaml', 'w'))"
   ]
  },
  {
   "cell_type": "code",
   "execution_count": 1,
   "metadata": {
    "collapsed": true,
    "slideshow": {
     "slide_type": "fragment"
    }
   },
   "outputs": [],
   "source": [
    "less fichier.yaml"
   ]
  },
  {
   "cell_type": "code",
   "execution_count": 15,
   "metadata": {
    "slideshow": {
     "slide_type": "fragment"
    }
   },
   "outputs": [
    {
     "name": "stdout",
     "output_type": "stream",
     "text": [
      "{'a': 1, 'b': 2}\n"
     ]
    }
   ],
   "source": [
    "d2 = yaml.load(open(\"fichier.yaml\"))\n",
    "print(d2)"
   ]
  },
  {
   "cell_type": "code",
   "execution_count": 16,
   "metadata": {
    "collapsed": true,
    "slideshow": {
     "slide_type": "slide"
    }
   },
   "outputs": [],
   "source": [
    "d = yaml.load(\"\"\"\n",
    "cluster: MACSJ2243.3-0935\n",
    "ra: 340.83\n",
    "dec: -9.59\n",
    "redshift: 0.4470\n",
    "filter: [u, g, r, i, 'i2', z]\n",
    "butler: /sps/lsst/data/clusters/MACSJ2243.3-0935/output_v1/coadd_dir\n",
    "patch: ['1,1', '1,3', '1,2', '1,4', '1,5', '2,1', '2,2', '2,3', '2,4', '2,5', '3,2', '3,3', '3,4']\n",
    "\"\"\")"
   ]
  },
  {
   "cell_type": "code",
   "execution_count": 17,
   "metadata": {
    "slideshow": {
     "slide_type": "fragment"
    }
   },
   "outputs": [
    {
     "name": "stdout",
     "output_type": "stream",
     "text": [
      "{'cluster': 'MACSJ2243.3-0935', 'ra': 340.83, 'dec': -9.59, 'redshift': 0.447, 'filter': ['u', 'g', 'r', 'i', 'i2', 'z'], 'butler': '/sps/lsst/data/clusters/MACSJ2243.3-0935/output_v1/coadd_dir', 'patch': ['1,1', '1,3', '1,2', '1,4', '1,5', '2,1', '2,2', '2,3', '2,4', '2,5', '3,2', '3,3', '3,4']}\n"
     ]
    }
   ],
   "source": [
    "print(d)"
   ]
  },
  {
   "cell_type": "code",
   "execution_count": 18,
   "metadata": {
    "collapsed": true,
    "slideshow": {
     "slide_type": "fragment"
    }
   },
   "outputs": [],
   "source": [
    "yaml.dump(d, open(\"fichier2.yaml\", 'w'))"
   ]
  },
  {
   "cell_type": "code",
   "execution_count": 19,
   "metadata": {
    "collapsed": true,
    "slideshow": {
     "slide_type": "fragment"
    }
   },
   "outputs": [],
   "source": [
    "less fichier2.yaml"
   ]
  },
  {
   "cell_type": "markdown",
   "metadata": {
    "slideshow": {
     "slide_type": "slide"
    }
   },
   "source": [
    "## D'autres librairies générales intéressantes\n",
    "\n",
    "- [csv](https://docs.python.org/3.6/library/csv.html) : Lire et écrire des fichiers de données\n",
    "- [pickle](https://docs.python.org/3.6/library/pickle.html) : Sérialisation binaire d'objets Python\n",
    "- [re](https://docs.python.org/3.6/library/re.html) : Opérations sur les expression regulières\n",
    "- [subprocess](https://docs.python.org/3.6/library/subprocess.html) : Gérer des sous-processus (entrées, sorties, erreurs)\n",
    "- [requests](http://docs.python-requests.org/en/master/) : Simplifier les requettes HTTP via Python\n",
    "- [logging](https://docs.python.org/3.6/library/logging.html) : Gèrer les logs\n",
    "- [time](https://docs.python.org/3.6/library/time.html) & [datetime](https://docs.python.org/3.6/library/datetime.html) :  Manipulation de date, heure, et conversions\n",
    "- [itertools](https://docs.python.org/3.6/library/itertools.html) : Créer des itérateur, permutations, combinaisons, etc.\n",
    "- [argparse](https://docs.python.org/3/library/argparse.html) : Parseur d'options pour Python en ligne de commande\n",
    "- [ipython](https://ipython.org/) : Calcul et visualisation intéractive pour Python \n",
    "- [jupyter](https://jupyter.org/) : Python interactif sur votre navigateur\n",
    "- et bien d'autres..."
   ]
  },
  {
   "cell_type": "markdown",
   "metadata": {
    "slideshow": {
     "slide_type": "slide"
    }
   },
   "source": [
    "## Quelques librairies scientifiques"
   ]
  },
  {
   "cell_type": "markdown",
   "metadata": {
    "slideshow": {
     "slide_type": "slide"
    }
   },
   "source": [
    "<center>\n",
    "<img src=\"http://www.numpy.org/_static/numpy_logo.png\" alt=\"Drawing\" style=\"width: 300px;\"/>\n",
    "</center>"
   ]
  },
  {
   "cell_type": "markdown",
   "metadata": {
    "slideshow": {
     "slide_type": "slide"
    }
   },
   "source": [
    "### [NumPy](http://www.numpy.org/)\n",
    "\n",
    "NumPy est la librairie fondamentale pour les calculs scientifiques en Python. Cette librairie contient, entre autre :\n",
    "\n",
    "- un object `array` très puissant de tableau à N dimensions\n",
    "- des fonctions sophistiqués de combinaison et de manipulation d'array (broadcasting)\n",
    "- des outils utiles à l'intégration de codes C/C++ ou Fortran\n",
    "- des outils d'algèbre linéaire, de transformés de Fourier, ou de création de nombres aléatoires\n"
   ]
  },
  {
   "cell_type": "markdown",
   "metadata": {
    "slideshow": {
     "slide_type": "slide"
    }
   },
   "source": [
    "<center>\n",
    "<img src=\"http://matplotlib.org/_static/logo2.svg\" alt=\"Drawing\" style=\"width: 300px;\"/>\n",
    "</center>"
   ]
  },
  {
   "cell_type": "markdown",
   "metadata": {
    "slideshow": {
     "slide_type": "slide"
    }
   },
   "source": [
    "### [Matplotlib](http://matplotlib.org/index.html)\n",
    "\n",
    "- Bibliothèque graphique de visualisation 2D (support 3D, animation et interactivité), permettant des sorties de haute qualité « prêtes à publier »\n",
    "- Fonctions de visualisation clé en main (échelle logarithmique, histogramme, courbes de niveau, etc)\n",
    "- Figures modifiables à souhait, tous les éléments graphiques de la figure étant accessibles (titre, axes, lignes, etc.)\n",
    "- Utilisable dans des scripts Python, les schell Python et IPython, les notebooks Jupyter, des applications web et avec différentes interfaces graphiques\n",
    "- [Galerie et exemples](http://matplotlib.org/gallery.html)"
   ]
  },
  {
   "cell_type": "markdown",
   "metadata": {
    "slideshow": {
     "slide_type": "slide"
    }
   },
   "source": [
    "<center>\n",
    "<img src=\"http://matplotlib.org/_images/hexbin_demo1.png\" alt=\"Drawing\"/>\n",
    "</center>"
   ]
  },
  {
   "cell_type": "markdown",
   "metadata": {
    "slideshow": {
     "slide_type": "slide"
    }
   },
   "source": [
    "<center>\n",
    "<img src=\"https://docs.scipy.org/doc/scipy/reference/_static/img/scipy_org_logo.gif\" alt=\"Drawing\" style=\"width: 300px;\"/>\n",
    "</center>"
   ]
  },
  {
   "cell_type": "markdown",
   "metadata": {
    "slideshow": {
     "slide_type": "slide"
    }
   },
   "source": [
    "### [SciPy](https://docs.scipy.org/doc/scipy/reference/)\n",
    "\n",
    "- Bibliothèque numérique d’algorithmes et de fonctions mathématiques, basée sur les tableaux `numpy.ndarray`\n",
    "\n",
    "- De très nombreux exemples et tutoriels sont disponibles en ligne, couvrant les principales fonctionnalité de `scipy`\n",
    " - [tutoriels](https://docs.scipy.org/doc/scipy/reference/)\n",
    " - [cookbook](http://scipy-cookbook.readthedocs.io/)"
   ]
  },
  {
   "cell_type": "markdown",
   "metadata": {
    "slideshow": {
     "slide_type": "slide"
    }
   },
   "source": [
    "- Integration (scipy.integrate)\n",
    "- Optimisation (scipy.optimize)\n",
    "- Interpolation (scipy.interpolate)\n",
    "- Transformé de Fourier (scipy.fftpack)\n",
    "- Traitement du signal (scipy.signal)\n",
    "- Algèbre linéaire (scipy.linalg)\n",
    "- Statistics (scipy.stats)\n",
    "- File IO (scipy.io)\n",
    "- Etc."
   ]
  },
  {
   "cell_type": "markdown",
   "metadata": {
    "slideshow": {
     "slide_type": "slide"
    }
   },
   "source": [
    "<center>\n",
    "<img src=\"https://docs.scipy.org/doc/scipy/reference/_images/interpolate-2.png\" alt=\"Drawing\"/>\n",
    "</center>\n",
    "\n",
    "<center>\n",
    "[Interpolation](https://docs.scipy.org/doc/scipy/reference/tutorial/interpolate.html)\n",
    "</center>"
   ]
  },
  {
   "cell_type": "markdown",
   "metadata": {
    "slideshow": {
     "slide_type": "slide"
    }
   },
   "source": [
    "<center>\n",
    "<img src=\"http://pandas.pydata.org/_static/pandas_logo.png\" alt=\"Drawing\" style=\"width: 400px;\"/>\n",
    "</center>"
   ]
  },
  {
   "cell_type": "markdown",
   "metadata": {
    "slideshow": {
     "slide_type": "slide"
    }
   },
   "source": [
    "### [Pandas](http://pandas.pydata.org/)\n",
    "\n",
    "Pandas est une librairies d'analyse de données basée sur NumPy pour Python\n",
    "\n",
    "- fournissant une structure de données très performante et facile d'utilisation (DataFrame) \n",
    "- gestion des données \"à la base de données\"\n",
    "- bonne intégration avec NumPy et matplotlib\n",
    "- grand nombre de fonctions I/O pour lire et écrire des données : CSV, HDF5, SQL, JSON, HTML, Excel, etc.\n",
    "\n",
    "[Documentation](http://pandas.pydata.org/pandas-docs/stable/) et [tutoriels](http://pandas.pydata.org/pandas-docs/stable/tutorials.html) accessibles en ligne."
   ]
  },
  {
   "cell_type": "markdown",
   "metadata": {
    "slideshow": {
     "slide_type": "slide"
    }
   },
   "source": [
    "<center>\n",
    "<img src=\"http://www.astropy.org/images/astropy_banner.svg\" alt=\"Drawing\" style=\"width: 400px;\"/>\n",
    "</center>"
   ]
  },
  {
   "cell_type": "markdown",
   "metadata": {
    "slideshow": {
     "slide_type": "slide"
    }
   },
   "source": [
    "### [Astropy](http://docs.astropy.org/en/stable/)\n",
    "\n",
    "- Librairie centrale et unique contenant les élément essentiels des analyses pour l'astronomie, et ayant pour but de rendre possible l'inter-operabilité des librairies d'astronomies.\n",
    "- Les fonctionnalités principales d'astropy se font selon trois catégories principales\n",
    "  - Data structures and transformations (constantes, unitées, temps, coordonnées, WCS, table, etc)\n",
    "  - Files, I/O, and Communication (FITS, ASCII, VOTable, HDF5, YAML, etc.)\n",
    "  - Computations and utilities (cosmologie, statistique, visualisation)"
   ]
  },
  {
   "cell_type": "markdown",
   "metadata": {
    "slideshow": {
     "slide_type": "slide"
    }
   },
   "source": [
    "- Il existe aussi des \"affiliated packages\"\n",
    "  - Librairies Python lié à l'astronomy, utilisant et complétant Astropy \n",
    "  - Ne font pas partie de la librairies central d'Astropy\n",
    "  - Mais inclues comme partie intégrante de l'\"Astropy Project community\"\n",
    "  - Améliorant la réutilisabilté, l'interoperabilité, interface standard aux autres librairies Python d'astronomie et d'astrophysique.\n",
    "- Par exemple : [Astroquery](http://astroquery.readthedocs.io/en/latest/), [galpy](http://galpy.readthedocs.io/en/latest/), [sncosmo](http://sncosmo.readthedocs.io/en/v1.5.x/), [gammapy](https://gammapy.readthedocs.io/en/latest/), [cluster-lensing](http://jesford.github.io/cluster-lensing/index.html), [astroplan](https://astroplan.readthedocs.io/en/latest/), [photutils](https://photutils.readthedocs.io/en/stable/)"
   ]
  },
  {
   "cell_type": "markdown",
   "metadata": {
    "slideshow": {
     "slide_type": "slide"
    }
   },
   "source": [
    "## D'autres librairies scientifiques intéressantes\n",
    "- [math](https://docs.python.org/3.6/library/math.html) : Fonctions mathématiques standards (natif)\n",
    "- [sympy](http://www.sympy.org/en/index.html) : Calcul mathématiques formel : résolution d'équations, simplification, factorisation, statistics, etc. \n",
    "- [sage](http://www.sagemath.org/) : Environnement de calcul mathématique\n",
    "- [scikit-learn](http://scikit-learn.org/stable/index.html) : Outils d'exploration et d'analyse de données (classification, regression, clustering, etc )\n",
    "- [h5py](http://www.h5py.org/) : Interface Python au format de données HDF5\n",
    "- [pyfits](http://pythonhosted.org/pyfits/) : Interface au format de données FITS \n",
    "- [healpy](https://github.com/healpy/healpy) : Interface au format de données HEALPIX (cartes)\n",
    "- [numba](http://numba.pydata.org/) : Compilation à la volée de morceau de code\n",
    "- [scipy](https://scipy.org/), [numpy](http://www.numpy.org/), [matplotlib](http://matplotlib.org/), [pandas](http://pandas.pydata.org/), [astropy](http://www.astropy.org/)\n",
    "- et bien d'autres..."
   ]
  }
 ],
 "metadata": {
  "celltoolbar": "Slideshow",
  "kernelspec": {
   "display_name": "Python 3",
   "language": "python",
   "name": "python3"
  },
  "language_info": {
   "codemirror_mode": {
    "name": "ipython",
    "version": 3
   },
   "file_extension": ".py",
   "mimetype": "text/x-python",
   "name": "python",
   "nbconvert_exporter": "python",
   "pygments_lexer": "ipython3",
   "version": "3.6.2"
  }
 },
 "nbformat": 4,
 "nbformat_minor": 2
}
