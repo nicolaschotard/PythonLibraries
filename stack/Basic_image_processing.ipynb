{
 "cells": [
  {
   "cell_type": "markdown",
   "metadata": {},
   "source": [
    "# Basic image processing using the LSST stack"
   ]
  },
  {
   "cell_type": "markdown",
   "metadata": {},
   "source": [
    "The purpose of this demo is to process a single HSC image in order to produce a calibrated exposure (`calexp`) and a catalog of sources "
   ]
  },
  {
   "cell_type": "markdown",
   "metadata": {},
   "source": [
    "The HSC raw images has been imported from NCSA. They are located in `/sps/lsst/dev/lsstprod/hsc/ssp_pdr1/repro_1/utils/ingestImages/_parent/rawDownload` \n",
    "\n",
    "**Warning** : avoid to run a `ls` in this directory, there are >800 000 files and it will take a while..."
   ]
  },
  {
   "cell_type": "markdown",
   "metadata": {},
   "source": [
    "As in the previous demo, we first setup the stack\n",
    "\n",
    "```\n",
    "source /sps/lsst/software/lsst_distrib/w_2017_38/loadLSST.bash\n",
    "setup pipe_tasks\n",
    "setup obs_subaru\n",
    "```\n",
    "\n",
    "We need to setup a couple more packages\n",
    "\n",
    "```\n",
    "setup meas_extensions_photometryKron\n",
    "setup meas_extensions_convolved\n",
    "```"
   ]
  },
  {
   "cell_type": "markdown",
   "metadata": {},
   "source": [
    "Then we setup a directory which will contains links to input files (images, calibration, reference catalogs)\n",
    "\n",
    "```\n",
    "mkdir input\n",
    "cd input\n",
    "```\n",
    "\n",
    "We create a `_mapper` file which will tell the stack which instrument we are going to use:\n",
    "\n",
    "```\n",
    "cca001[0] cat > _mapper\n",
    "lsst.obs.hsc.HscMapper\n",
    "^D\n",
    "```\n",
    "\n",
    "Create links to calibration and external reference catalog:\n",
    "\n",
    "```\n",
    "cca001[130] ln -s /sps/lsst/datasets/hsc/calib/20170105 CALIB\n",
    "cca001[0] ln -s /sps/lsst/data/refcats/htm/htm_baseline ref_cats\n",
    "cca001[0] ls -l\n",
    "total 0\n",
    "lrwxrwxrwx 1 boutigny lsst 37 Sep 26 18:31 CALIB -> /sps/lsst/datasets/hsc/calib/20170105\n",
    "-rw-r--r-- 1 boutigny lsst 23 Sep 26 18:30 _mapper\n",
    "lrwxrwxrwx 1 boutigny lsst 39 Sep 26 18:31 ref_cats -> /sps/lsst/data/refcats/htm/htm_baseline\n",
    "```"
   ]
  },
  {
   "cell_type": "markdown",
   "metadata": {},
   "source": [
    "All the stack I/O as well as some basic metadata are handled through a component called `butler`  \n",
    "\n",
    "The first step is to ingest the raw image into the `butler` structure using the `ingestImages.py` command\n",
    "\n",
    "```\n",
    "cca010[0] cd ..\n",
    "ca010[0] pwd\n",
    "/sps/lsst/dev/boutigny/demo\n",
    "\n",
    "cca010[0] ingestImages.py input /sps/lsst/dev/lsstprod/hsc/ssp_pdr1/repro_1/utils/ingestImages/_parent/rawDownload/HSCA04098410.fits\n",
    "root INFO: Loading config overrride file '/sps/lsst/software/lsst_distrib/w_2017_38/stack/miniconda\n",
    "root INFO: Loading config overrride file '/sps/lsst/software/lsst_distrib/w_2017_38/stack/miniconda3-4.3.21-10a4fa6/Linux64/obs_subaru/13.0-48-gb7c7029d/config/ingest.py'\n",
    "CameraMapper INFO: Loading Posix exposure registry from /sps/lsst/dev/boutigny/demo/input\n",
    "CameraMapper INFO: Loading calib registry from /sps/lsst/dev/boutigny/demo/input/CALIB/calibRegistry.sqlite3\n",
    "ingest INFO: /sps/lsst/dev/lsstprod/hsc/ssp_pdr1/repro_1/utils/ingestImages/_parent/rawDownload/HSCA04098410.fits --<link>--> /sps/lsst/dev/boutigny/demo/input/SSP_UDEEP_SXDS/2015-10-10/01378/HSC-R/HSC-0040984-055.fits\n",
    "```\n",
    "\n",
    "This has simply created a link between the raw image in `/sps/lsst/dev/lsstprod/hsc/ssp_pdr1/repro_1/utils/ingestImages/_parent/rawDownload/HSCA04098410.fits` and `input/SSP_UDEEP_SXDS/2015-10-10/01378/HSC-R/HSC-0040984-055.fits`\n",
    "\n",
    "Our input directory is now containing the following:\n",
    "\n",
    "```\n",
    "cca001[0] ls input\n",
    "CALIB  SSP_UDEEP_SXDS  _mapper  ref_cats  registry.sqlite3\n",
    "```\n",
    "\n",
    "- We have one new directory: `SSP_UDEEP_SXDS` which contains the link to the raw image\n",
    "- and an sqlite database containing 2 tables with some metadata\n",
    "\n",
    "```\n",
    "cca001[0] sqlite3 input/registry.sqlite3 \n",
    "SQLite version 3.13.0 2016-05-18 10:57:30\n",
    "Enter \".help\" for usage hints.    \n",
    "sqlite> .tables\n",
    "raw        raw_visit\n",
    "\n",
    "sqlite> select * from raw;\n",
    "1|SSP_UDEEP_SXDS|40984|55|1378|HSC-R|o15426|2015-10-10|2015-10-10|300.0|0.0|1|-100.65|20140306.cfg|HSCA04098410|HSCA04098400|OBJECT\n",
    "\n",
    "sqlite> select * from raw_visit;\n",
    "40984|SSP_UDEEP_SXDS|HSC-R|2015-10-10|2015-10-10\n",
    "```\n",
    "\n",
    "These metadata are necessary for the butler they can be used to retrieve some missing informations to locate the files. They can also be used to identify which data are available in the butler"
   ]
  },
  {
   "cell_type": "markdown",
   "metadata": {},
   "source": [
    "Looking what is under SSP_UDEEP_SXDS:\n",
    "\n",
    "```\n",
    "cca001[0] cd input/SSP_UDEEP_SXDS/\n",
    "cca001[0] tree\n",
    ".\n",
    "`-- 2015-10-10\n",
    "    `-- 01378\n",
    "        `-- HSC-R\n",
    "            `-- HSC-0040984-055.fits -> /sps/lsst/dev/lsstprod/hsc/ssp_pdr1/repro_1/utils/ingestImages/_parent/rawDownload/HSCA04098410.fits\n",
    "\n",
    "3 directories, 1 file\n",
    "```\n",
    "\n",
    "In the HSC jargon:\n",
    "\n",
    "- `SSP_UDEEP_SXDS` is the `field`\n",
    "- `2015-10-10` is the observation date or `dateObs`\n",
    "- `01378` is the `pointing`\n",
    "- `HSC-R` is the `filter`\n",
    "- `0040984` is the `visit`\n",
    "- `055` is the `ccd` number\n"
   ]
  },
  {
   "cell_type": "markdown",
   "metadata": {},
   "source": [
    "The command to make a single CCD image reduction is `processCcd.py`\n",
    "\n",
    "```\n",
    "cca001[0] processCcd.py input --output output --id visit=40984 ccd=55\n",
    "```\n",
    "\n",
    "See the output file `stack_output_example.txt` "
   ]
  },
  {
   "cell_type": "markdown",
   "metadata": {},
   "source": [
    "We see that a new `output` directory has been created. It contains the calibrated exposure corresponding to the input image as well as some catalogs\n",
    "\n",
    "```\n",
    "cca001[0] cd output\n",
    "cca001[0] ls\n",
    "01378  config  repositoryCfg.yaml  schema\n",
    "```\n",
    "\n",
    "- The `config` directory keeps track of the configuration parameters and the stack version used to run the task. The stack will prevent a task to be re-run with an incompatible set of parameters. The stack can be forced to run anyway even with different configuration files with the `--clobber-config` option\n",
    "\n",
    "- The `schema`directory keeps track of the catalog schemas\n",
    "\n",
    "- `repositoryCfg.yaml` is an internal configuration file for the butler"
   ]
  },
  {
   "cell_type": "markdown",
   "metadata": {},
   "source": [
    "\n",
    "```\n",
    "cca001[0] tree\n",
    ".\n",
    "|-- 01378\n",
    "|   `-- HSC-R\n",
    "|       |-- corr\n",
    "|       |   |-- BKGD-0040984-055.fits\n",
    "|       |   `-- CORR-0040984-055.fits\n",
    "|       |-- output\n",
    "|       |   |-- ICSRC-0040984-055.fits\n",
    "|       |   |-- SRC-0040984-055.fits\n",
    "|       |   |-- SRCMATCH-0040984-055.fits\n",
    "|       |   `-- SRCMATCHFULL-0040984-055.fits\n",
    "|       |-- processCcd_metadata\n",
    "|       |   `-- 0040984-055.boost\n",
    "|       `-- thumbs\n",
    "|           |-- flattened-0040984-055.png\n",
    "|           `-- oss-0040984-055.png\n",
    "|-- config\n",
    "|   |-- packages.pickle\n",
    "|   `-- processCcd.py\n",
    "|-- repositoryCfg.yaml\n",
    "`-- schema\n",
    "    |-- icSrc.fits\n",
    "    `-- src.fits\n",
    "\n",
    "8 directories, 14 files\n",
    "```\n",
    "\n",
    "The 2 most important files are:\n",
    "- the calibrated exposure - CORR-0040984-055.fits - This is a fits image with 3 planes: \n",
    "  - image\n",
    "  - masks \n",
    "  - variance\n",
    "- the source catalog - SRC-0040984-055.fits"
   ]
  }
 ],
 "metadata": {
  "celltoolbar": "Slideshow",
  "kernelspec": {
   "display_name": "Python 3",
   "language": "python",
   "name": "python3"
  },
  "language_info": {
   "codemirror_mode": {
    "name": "ipython",
    "version": 3
   },
   "file_extension": ".py",
   "mimetype": "text/x-python",
   "name": "python",
   "nbconvert_exporter": "python",
   "pygments_lexer": "ipython3",
   "version": "3.6.2"
  }
 },
 "nbformat": 4,
 "nbformat_minor": 2
}
