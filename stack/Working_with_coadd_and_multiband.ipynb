{
 "cells": [
  {
   "cell_type": "markdown",
   "metadata": {},
   "source": [
    "# Working with coadd, multiband and forced photometry\n",
    "\n",
    "### In this notebook we are going to show how to use the catalogs produced by forced photometry at the coadd level"
   ]
  },
  {
   "cell_type": "markdown",
   "metadata": {},
   "source": [
    "## Coadd\n",
    "\n",
    "Coadd images are the result of the addition of several images projected into a segmented sky map. \n",
    "\n",
    "The sky is divided in tract and patches according to a tessellation model. The size of the individual patches, the pixel size and the sky projection are parameters passed to makeSkyMap.py or makeDiscreteSkyMap.py\n",
    "\n",
    "- makeDiscreteSkymap creates a sky map region containing all the calibrated exposures created by processCcd.py"
   ]
  },
  {
   "cell_type": "markdown",
   "metadata": {},
   "source": [
    "Coaddition requires 2 steps:\n",
    "- makeCoaddTempExp.py takes every calexp and project it (taking distorsions into account) into sky patches\n",
    "- assembleCoadd.py collects all the segmented and warped calexp and add them into a single image (1 image per patch)\n",
    "\n",
    "The simultaneous astrometry / photometry calibration (jointcal) can optionnaly be run against the calexp. In this case a special file containing the updated WCS + zero point is created and will be taken into account during the coadd process."
   ]
  },
  {
   "cell_type": "markdown",
   "metadata": {},
   "source": [
    "```\n",
    "cca001[0] cd /sps/lsst/dev/lsstprod/hsc/SXDS/output\n",
    "cca001[0] ls\n",
    "HSC-G  HSC-I  HSC-R  HSC-Y  HSC-Z  repositoryCfg.yaml  skyMap.pickle  skyMap.pickle_save  skyMap.pickle_save2\n",
    "```"
   ]
  },
  {
   "cell_type": "markdown",
   "metadata": {},
   "source": [
    "\n",
    "\n",
    "One directory and one assembled coadd per patch:\n",
    "```\n",
    "cca001[0] cd HSC-G/0/\n",
    "cca001[0] ls\n",
    "0,3       1,7        2,2        3,2        4,2        5,2        6,2        7,2        8,2       9,4\n",
    "0,3.fits  1,7.fits   2,2.fits   3,2.fits   4,2.fits   5,2.fits   6,2.fits   7,2.fits   8,2.fits  9,4.fits\n",
    "0,4       1,8        2,3        3,3        4,3        5,3        6,3        7,3        8,3       9,5\n",
    "0,4.fits  1,8.fits   2,3.fits   3,3.fits   4,3.fits   5,3.fits   6,3.fits   7,3.fits   8,3.fits  9,5.fits\n",
    "0,5       1,9        2,4        3,4        4,4        5,4        6,4        7,4        8,4       9,6\n",
    "0,5.fits  1,9.fits   2,4.fits   3,4.fits   4,4.fits   5,4.fits   6,4.fits   7,4.fits   8,4.fits  9,6.fits\n",
    "0,6       10,3       2,5        3,5        4,5        5,5        6,5        7,5        8,5       9,7\n",
    "0,6.fits  10,3.fits  2,5.fits   3,5.fits   4,5.fits   5,5.fits   6,5.fits   7,5.fits   8,5.fits  9,7.fits\n",
    "0,7       10,4       2,6        3,6        4,6        5,6        6,6        7,6        8,6       9,8\n",
    "0,7.fits  10,4.fits  2,6.fits   3,6.fits   4,6.fits   5,6.fits   6,6.fits   7,6.fits   8,6.fits  9,8.fits\n",
    "1,2       10,5       2,7        3,7        4,7        5,7        6,7        7,7        8,7       9,9\n",
    "1,2.fits  10,5.fits  2,7.fits   3,7.fits   4,7.fits   5,7.fits   6,7.fits   7,7.fits   8,7.fits  9,9.fits\n",
    "1,3       10,6       2,8        3,8        4,8        5,8        6,8        7,8        8,8\n",
    "1,3.fits  10,6.fits  2,8.fits   3,8.fits   4,8.fits   5,8.fits   6,8.fits   7,8.fits   8,8.fits\n",
    "1,4       10,7       2,9        3,9        4,9        5,9        6,9        7,9        8,9\n",
    "1,4.fits  10,7.fits  2,9.fits   3,9.fits   4,9.fits   5,9.fits   6,9.fits   7,9.fits   8,9.fits\n",
    "1,5       10,8       3,1        4,1        5,1        6,1        7,1        8,1        9,2\n",
    "1,5.fits  10,8.fits  3,1.fits   4,1.fits   5,1.fits   6,1.fits   7,1.fits   8,1.fits   9,2.fits\n",
    "1,6       2,1        3,10       4,10       5,10       6,10       7,10       8,10       9,3\n",
    "1,6.fits  2,1.fits   3,10.fits  4,10.fits  5,10.fits  6,10.fits  7,10.fits  8,10.fits  9,3.fits\n",
    "```"
   ]
  },
  {
   "cell_type": "markdown",
   "metadata": {},
   "source": [
    "Each directory contains the collection of warped image segment contributing to a given patch:\n",
    "```\n",
    "cca001[0] cd 6,7\n",
    "cca001[0] ls\n",
    "warp-HSC-G-0-6,7-11626.fits  warp-HSC-G-0-6,7-11662.fits  warp-HSC-G-0-6,7-42354.fits  warp-HSC-G-0-6,7-9836.fits\n",
    "warp-HSC-G-0-6,7-11628.fits  warp-HSC-G-0-6,7-42346.fits  warp-HSC-G-0-6,7-42356.fits  warp-HSC-G-0-6,7-9874.fits\n",
    "warp-HSC-G-0-6,7-11642.fits  warp-HSC-G-0-6,7-42348.fits  warp-HSC-G-0-6,7-9830.fits   warp-HSC-G-0-6,7-9878.fits\n",
    "warp-HSC-G-0-6,7-11644.fits  warp-HSC-G-0-6,7-42350.fits  warp-HSC-G-0-6,7-9832.fits\n",
    "warp-HSC-G-0-6,7-11660.fits  warp-HSC-G-0-6,7-42352.fits  warp-HSC-G-0-6,7-9834.fits\n",
    "```"
   ]
  },
  {
   "cell_type": "markdown",
   "metadata": {},
   "source": [
    "## multiband / cModel\n",
    "\n",
    "Each coadd sources is identified / deblended / measured using CModel and multiband\n",
    "- detectCoaddSources.py\n",
    "- mergeCoaddDetections.py\n",
    "- measureCoaddSources.py\n",
    "- mergeCoaddMeasurements.py\n",
    "\n",
    "The multiband processing guarantees that if 1 source is identified and measured in 1 band, there is also corresponding sources in the other bands (Warning: this is not a multi fit).\n",
    "\n",
    "CModel fits an exponential and a de Vaucouleur separately, then fit a linear combination of the two while\n",
    "holding the ellipse parameters fixed at the best fit values from an independent fitting.\n",
    "\n",
    "CModel is also working on stars and ~corresponds to the PSF photometry (this property is used to separate stars and galaxies)"
   ]
  },
  {
   "cell_type": "markdown",
   "metadata": {},
   "source": [
    "### Forced photometry\n",
    "\n",
    "In forced photometry the source detection and galaxy shape measurement is performed in a reference band (i) and the photometry is measured in the other bands assuming that the same galaxy shape (even if it is not detected) \n",
    "\n",
    "forced photometry is run at the coadd level or at the calexp level using coadd detection"
   ]
  },
  {
   "cell_type": "markdown",
   "metadata": {},
   "source": [
    "```\n",
    "cca001[0] cd /sps/lsst/dev/lsstprod/hsc/SXDS/output\n",
    "cca001[0] ls\n",
    "00991  01052  01059  01318  01382      deepCoadd-results                   deep_makeCoaddTempExp_metadata  schema\n",
    "00995  01055  01062  01327  config     deepCoadd_forcedPhotCoadd_metadata  jointcal-results\n",
    "01004  01057  01316  01378  deepCoadd  deep_assembleCoadd_metadata         repositoryCfg.yaml\n",
    "```"
   ]
  },
  {
   "cell_type": "markdown",
   "metadata": {},
   "source": [
    "```\n",
    "cca001[130] cd deepCoadd-results/\n",
    "cca001[0] ls\n",
    "HSC-G  HSC-I  HSC-R  HSC-Y  HSC-Z  merged\n",
    "```\n",
    "\n",
    "```\n",
    "cca001[0] cd HSC-I/0/3,4/\n",
    "cca001[0] ls\n",
    "calexp-HSC-I-0-3,4.fits    detectMD-HSC-I-0-3,4.boost   measMD-HSC-I-0-3,4.boost\n",
    "det-HSC-I-0-3,4.fits       forced_src-HSC-I-0-3,4.fits  srcMatch-HSC-I-0-3,4.fits\n",
    "det_bkgd-HSC-I-0-3,4.fits  meas-HSC-I-0-3,4.fits        srcMatchFull-HSC-I-0-3,4.fits\n",
    "```\n",
    "\n",
    "- `0` is the tract number (only one in this case)\n",
    "- `3,4` is the patch number\n",
    "- there is one separate directory per patch\n",
    "- `forced_src-HSC-I-0-3,4.fits` contains the forcedPhotCoadd catalog for the 'HSC-I' filter in patch '3,4'\n",
    "\n"
   ]
  },
  {
   "cell_type": "markdown",
   "metadata": {},
   "source": [
    "# Usage example\n",
    "\n",
    "We are going to use the forced photometry (at the coadd level) to create color diagrams"
   ]
  },
  {
   "cell_type": "code",
   "execution_count": 3,
   "metadata": {},
   "outputs": [
    {
     "name": "stdout",
     "output_type": "stream",
     "text": [
      "25642 25642 25642\n"
     ]
    }
   ],
   "source": [
    "import lsst.daf.persistence as dafPersist\n",
    "\n",
    "# Initialize butler\n",
    "butler = dafPersist.Butler(\"/sps/lsst/dev/lsstprod/hsc/SXDS/output\")\n",
    "\n",
    "# for the dataid we need to specify the tract, the patch and the filter\n",
    "# let's get 3 the data from 3 filters\n",
    "dataid_r = {'tract':0, 'filter':'HSC-R', 'patch':'3,4'}\n",
    "forced_r = butler.get('deepCoadd_forced_src', dataId=dataid_r, immedate=True)\n",
    "\n",
    "dataid_i = {'tract':0, 'filter':'HSC-I', 'patch':'3,4'}\n",
    "forced_i = butler.get('deepCoadd_forced_src', dataId=dataid_r, immedate=True)\n",
    "\n",
    "dataid_g = {'tract':0, 'filter':'HSC-G', 'patch':'3,4'}\n",
    "forced_g = butler.get('deepCoadd_forced_src', dataId=dataid_r, immedate=True)"
   ]
  },
  {
   "cell_type": "code",
   "execution_count": 19,
   "metadata": {},
   "outputs": [
    {
     "name": "stdout",
     "output_type": "stream",
     "text": [
      "25642 25642 25642\n"
     ]
    }
   ],
   "source": [
    "# The catalogs corresponding to the 3 filters have all the same length\n",
    "# this is by definition of the forced photometry\n",
    "print(len(forced_r), len(forced_i), len(forced_g))"
   ]
  },
  {
   "cell_type": "code",
   "execution_count": null,
   "metadata": {},
   "outputs": [],
   "source": [
    "# The catalog's objects are also stored in the same order\n",
    "print(forced_r[235].get('id'), forced_i[235].get('id'), forced_g[235].get('id'))\n",
    "print(forced_r[235].get('coord_ra'), forced_i[235].get('coord_ra'), forced_g[235].get('coord_ra'))\n",
    "print(forced_r[235].get('coord_dec'), forced_i[235].get('coord_dec'), forced_g[235].get('coord_dec'))"
   ]
  },
  {
   "cell_type": "code",
   "execution_count": 6,
   "metadata": {},
   "outputs": [
    {
     "name": "stdout",
     "output_type": "stream",
     "text": [
      "{'HSC-R': {'tract': 0, 'filter': 'HSC-R', 'patch': '3,4'}, 'HSC-I': {'tract': 0, 'filter': 'HSC-I', 'patch': '3,4'}, 'HSC-G': {'tract': 0, 'filter': 'HSC-G', 'patch': '3,4'}}\n"
     ]
    }
   ],
   "source": [
    "# We need the calibration objects in order to convert flux to magnitude\n",
    "# We use comprehension dictionaries \n",
    "\n",
    "filters = ['HSC-R', 'HSC-I', 'HSC-G']\n",
    "dataid = {k: {'tract':0, 'filter':k, 'patch':'3,4'} for k in filters}\n",
    "print(dataid)\n",
    "calib = {k: butler.get('deepCoadd_calexp', dataId=dataid[k], immediate=True).getCalib() for k in filters}"
   ]
  },
  {
   "cell_type": "code",
   "execution_count": 28,
   "metadata": {},
   "outputs": [
    {
     "data": {
      "text/plain": [
       "25642"
      ]
     },
     "execution_count": 28,
     "metadata": {},
     "output_type": "execute_result"
    }
   ],
   "source": [
    "# let's do the same for the forced catalog (we could have used the forced_r, forced_i and forced_g catalogs\n",
    "# created as the previous step, but we want to be more pythonic)\n",
    "#\n",
    "# we also convert immediately to astropy tables\n",
    "forced = {k: butler.get('deepCoadd_forced_src', dataId=dataid[k], immediate=True).asAstropy() for k in filters}\n",
    "len(forced['HSC-G'])"
   ]
  },
  {
   "cell_type": "code",
   "execution_count": 30,
   "metadata": {},
   "outputs": [
    {
     "name": "stderr",
     "output_type": "stream",
     "text": [
      "/sps/lsst/software/lsst_distrib/w_2017_38/python/miniconda3-4.3.21/lib/python3.6/site-packages/astropy/table/column.py:928: RuntimeWarning: invalid value encountered in greater\n",
      "  return getattr(self.data, oper)(other)\n"
     ]
    },
    {
     "data": {
      "text/plain": [
       "17482"
      ]
     },
     "execution_count": 30,
     "metadata": {},
     "output_type": "execute_result"
    }
   ],
   "source": [
    "import numpy as np\n",
    "\n",
    "# Create a selection mask in order to only keep rows with valid flux measurements\n",
    "# Initialize mask to True\n",
    "sel = np.full(len(forced['HSC-G']), True, dtype=bool)\n",
    "\n",
    "for f in filters:\n",
    "    sel &= ((forced[f]['modelfit_CModel_flag'] == False) & (forced[f]['modelfit_CModel_flux'] > 0))\n",
    "    sel &= (forced[f]['modelfit_CModel_flux']/forced[f]['modelfit_CModel_fluxSigma'] > 5)\n",
    "    \n",
    "m = {}\n",
    "s = {}\n",
    "for f in filters:\n",
    "    m[f], s[f] = calib[f].getMagnitude(forced[f]['modelfit_CModel_flux'][sel], \n",
    "                                           forced[f]['modelfit_CModel_fluxSigma'][sel])\n",
    "\n",
    "len(m['HSC-G'])"
   ]
  },
  {
   "cell_type": "code",
   "execution_count": 31,
   "metadata": {},
   "outputs": [],
   "source": [
    "# keep only good rows and add 2 columns to store magnitudes and error on magnitudes\n",
    "for f in filters:\n",
    "    forced[f] = forced[f][sel]\n",
    "    forced[f]['magnitude'] = m[f]\n",
    "    forced[f]['magnitudeErr'] = s[f]"
   ]
  },
  {
   "cell_type": "code",
   "execution_count": 32,
   "metadata": {},
   "outputs": [
    {
     "data": {
      "text/plain": [
       "17482"
      ]
     },
     "execution_count": 32,
     "metadata": {},
     "output_type": "execute_result"
    }
   ],
   "source": [
    "forced['HSC-G']['magnitude'][:5]\n",
    "len(forced['HSC-G']['base_ClassificationExtendedness_flag'])"
   ]
  },
  {
   "cell_type": "code",
   "execution_count": 33,
   "metadata": {},
   "outputs": [
    {
     "name": "stdout",
     "output_type": "stream",
     "text": [
      "17482 17482\n"
     ]
    },
    {
     "name": "stderr",
     "output_type": "stream",
     "text": [
      "/sps/lsst/software/lsst_distrib/w_2017_38/python/miniconda3-4.3.21/lib/python3.6/site-packages/astropy/table/column.py:928: RuntimeWarning: invalid value encountered in less\n",
      "  return getattr(self.data, oper)(other)\n",
      "/sps/lsst/software/lsst_distrib/w_2017_38/python/miniconda3-4.3.21/lib/python3.6/site-packages/astropy/table/column.py:928: RuntimeWarning: invalid value encountered in greater\n",
      "  return getattr(self.data, oper)(other)\n"
     ]
    }
   ],
   "source": [
    "# select stars\n",
    "stars =  (forced['HSC-I']['base_ClassificationExtendedness_flag'] == False) \n",
    "stars &= (forced['HSC-I']['base_ClassificationExtendedness_value'] < 0.5)\n",
    "\n",
    "# select galaxies\n",
    "galaxies =  (forced['HSC-I']['base_ClassificationExtendedness_flag'] == False) \n",
    "galaxies &= (forced['HSC-I']['base_ClassificationExtendedness_value'] > 0.5)\n",
    "\n",
    "print(len(stars), len(galaxies))"
   ]
  },
  {
   "cell_type": "code",
   "execution_count": 55,
   "metadata": {},
   "outputs": [
    {
     "data": {
      "image/png": "[encoded data removed]",
      "text/plain": [
       "<matplotlib.figure.Figure at 0x7f106e28d048>"
      ]
     },
     "metadata": {},
     "output_type": "display_data"
    }
   ],
   "source": [
    "%matplotlib inline\n",
    "import matplotlib.pylab as plt\n",
    "\n",
    "font = {'family' : 'serif',\n",
    "        'color'  : 'darkred',\n",
    "        'weight' : 'bold',\n",
    "        'size'   : 25,\n",
    "        }\n",
    "\n",
    "plt.rcParams['axes.linewidth'] = 2 \n",
    "plt.rcParams['mathtext.default'] = 'regular'\n",
    "\n",
    "fig, (ax) = plt.subplots(ncols=1, figsize=(8,8))\n",
    "\n",
    "ax.scatter(forced['HSC-R']['magnitude'][stars] - forced['HSC-I']['magnitude'][stars],\n",
    "           forced['HSC-G']['magnitude'][stars] - forced['HSC-R']['magnitude'][stars], s=0.25, c='b')\n",
    "ax.set_xlabel('r - i', fontsize=15)\n",
    "ax.set_ylabel('g - r', fontsize=15)\n",
    "ax.tick_params(labelsize=15)\n",
    "#ax.scatter(forced['HSC-R']['magnitude'][galaxies] - forced['HSC-I']['magnitude'][galaxies],\n",
    "#           forced['HSC-G']['magnitude'][galaxies] - forced['HSC-R']['magnitude'][galaxies], s=0.25, c='r')"
   ]
  },
  {
   "cell_type": "code",
   "execution_count": 48,
   "metadata": {},
   "outputs": [
    {
     "data": {
      "text/plain": [
       "7652"
      ]
     },
     "execution_count": 48,
     "metadata": {},
     "output_type": "execute_result"
    }
   ],
   "source": [
    "# Cut on magnitude \n",
    "sel = (forced['HSC-I']['magnitude'] > 17 ) & (forced['HSC-I']['magnitude'] < 25)\n",
    "np.sum(sel)"
   ]
  },
  {
   "cell_type": "code",
   "execution_count": 56,
   "metadata": {},
   "outputs": [
    {
     "data": {
      "image/png": "[encoded data removed]",
      "text/plain": [
       "<matplotlib.figure.Figure at 0x7f106e053048>"
      ]
     },
     "metadata": {},
     "output_type": "display_data"
    }
   ],
   "source": [
    "fig, (ax) = plt.subplots(ncols=1, figsize=(8,8))\n",
    "\n",
    "ax.scatter(forced['HSC-R']['magnitude'][stars & sel] - forced['HSC-I']['magnitude'][stars & sel],\n",
    "           forced['HSC-G']['magnitude'][stars & sel] - forced['HSC-R']['magnitude'][stars & sel], s=1, c='b')\n",
    "ax.set_xlabel('r - i', fontsize=15)\n",
    "ax.set_ylabel('g - r', fontsize=15)\n",
    "ax.tick_params(labelsize=15)\n",
    "#ax.scatter(forced['HSC-R']['magnitude'][galaxies & sel] - forced['HSC-I']['magnitude'][galaxies & sel],\n",
    "#           forced['HSC-G']['magnitude'][galaxies & sel] - forced['HSC-R']['magnitude'][galaxies & sel], s=0.25, c='r')"
   ]
  },
  {
   "cell_type": "code",
   "execution_count": 57,
   "metadata": {},
   "outputs": [
    {
     "data": {
      "text/plain": [
       "['id',\n",
       " 'coord_ra',\n",
       " 'coord_dec',\n",
       " 'parent',\n",
       " 'deblend_nChild',\n",
       " 'base_TransformedCentroid_x',\n",
       " 'base_TransformedCentroid_y',\n",
       " 'base_TransformedCentroid_flag',\n",
       " 'base_TransformedShape_xx',\n",
       " 'base_TransformedShape_yy',\n",
       " 'base_TransformedShape_xy',\n",
       " 'base_TransformedShape_flag',\n",
       " 'modelfit_DoubleShapeletPsfApprox_0_xx',\n",
       " 'modelfit_DoubleShapeletPsfApprox_0_yy',\n",
       " 'modelfit_DoubleShapeletPsfApprox_0_xy',\n",
       " 'modelfit_DoubleShapeletPsfApprox_0_x',\n",
       " 'modelfit_DoubleShapeletPsfApprox_0_y',\n",
       " 'modelfit_DoubleShapeletPsfApprox_0_0',\n",
       " 'modelfit_DoubleShapeletPsfApprox_0_1',\n",
       " 'modelfit_DoubleShapeletPsfApprox_0_2',\n",
       " 'modelfit_DoubleShapeletPsfApprox_0_3',\n",
       " 'modelfit_DoubleShapeletPsfApprox_0_4',\n",
       " 'modelfit_DoubleShapeletPsfApprox_0_5',\n",
       " 'modelfit_DoubleShapeletPsfApprox_1_xx',\n",
       " 'modelfit_DoubleShapeletPsfApprox_1_yy',\n",
       " 'modelfit_DoubleShapeletPsfApprox_1_xy',\n",
       " 'modelfit_DoubleShapeletPsfApprox_1_x',\n",
       " 'modelfit_DoubleShapeletPsfApprox_1_y',\n",
       " 'modelfit_DoubleShapeletPsfApprox_1_0',\n",
       " 'modelfit_DoubleShapeletPsfApprox_1_1',\n",
       " 'modelfit_DoubleShapeletPsfApprox_1_2',\n",
       " 'modelfit_DoubleShapeletPsfApprox_flag',\n",
       " 'modelfit_DoubleShapeletPsfApprox_flag_invalidPointForPsf',\n",
       " 'modelfit_DoubleShapeletPsfApprox_flag_invalidMoments',\n",
       " 'modelfit_DoubleShapeletPsfApprox_flag_maxIterations',\n",
       " 'base_CircularApertureFlux_3_0_flux',\n",
       " 'base_CircularApertureFlux_3_0_fluxSigma',\n",
       " 'base_CircularApertureFlux_3_0_flag',\n",
       " 'base_CircularApertureFlux_3_0_flag_apertureTruncated',\n",
       " 'base_CircularApertureFlux_3_0_flag_sincCoeffsTruncated',\n",
       " 'base_CircularApertureFlux_4_5_flux',\n",
       " 'base_CircularApertureFlux_4_5_fluxSigma',\n",
       " 'base_CircularApertureFlux_4_5_flag',\n",
       " 'base_CircularApertureFlux_4_5_flag_apertureTruncated',\n",
       " 'base_CircularApertureFlux_4_5_flag_sincCoeffsTruncated',\n",
       " 'base_CircularApertureFlux_6_0_flux',\n",
       " 'base_CircularApertureFlux_6_0_fluxSigma',\n",
       " 'base_CircularApertureFlux_6_0_flag',\n",
       " 'base_CircularApertureFlux_6_0_flag_apertureTruncated',\n",
       " 'base_CircularApertureFlux_6_0_flag_sincCoeffsTruncated',\n",
       " 'base_CircularApertureFlux_9_0_flux',\n",
       " 'base_CircularApertureFlux_9_0_fluxSigma',\n",
       " 'base_CircularApertureFlux_9_0_flag',\n",
       " 'base_CircularApertureFlux_9_0_flag_apertureTruncated',\n",
       " 'base_CircularApertureFlux_9_0_flag_sincCoeffsTruncated',\n",
       " 'base_CircularApertureFlux_12_0_flux',\n",
       " 'base_CircularApertureFlux_12_0_fluxSigma',\n",
       " 'base_CircularApertureFlux_12_0_flag',\n",
       " 'base_CircularApertureFlux_12_0_flag_apertureTruncated',\n",
       " 'base_CircularApertureFlux_12_0_flag_sincCoeffsTruncated',\n",
       " 'base_CircularApertureFlux_17_0_flux',\n",
       " 'base_CircularApertureFlux_17_0_fluxSigma',\n",
       " 'base_CircularApertureFlux_17_0_flag',\n",
       " 'base_CircularApertureFlux_17_0_flag_apertureTruncated',\n",
       " 'base_CircularApertureFlux_25_0_flux',\n",
       " 'base_CircularApertureFlux_25_0_fluxSigma',\n",
       " 'base_CircularApertureFlux_25_0_flag',\n",
       " 'base_CircularApertureFlux_25_0_flag_apertureTruncated',\n",
       " 'base_CircularApertureFlux_35_0_flux',\n",
       " 'base_CircularApertureFlux_35_0_fluxSigma',\n",
       " 'base_CircularApertureFlux_35_0_flag',\n",
       " 'base_CircularApertureFlux_35_0_flag_apertureTruncated',\n",
       " 'base_CircularApertureFlux_50_0_flux',\n",
       " 'base_CircularApertureFlux_50_0_fluxSigma',\n",
       " 'base_CircularApertureFlux_50_0_flag',\n",
       " 'base_CircularApertureFlux_50_0_flag_apertureTruncated',\n",
       " 'base_CircularApertureFlux_70_0_flux',\n",
       " 'base_CircularApertureFlux_70_0_fluxSigma',\n",
       " 'base_CircularApertureFlux_70_0_flag',\n",
       " 'base_CircularApertureFlux_70_0_flag_apertureTruncated',\n",
       " 'base_GaussianFlux_flux',\n",
       " 'base_GaussianFlux_fluxSigma',\n",
       " 'base_GaussianFlux_flag',\n",
       " 'base_PixelFlags_flag',\n",
       " 'base_PixelFlags_flag_offimage',\n",
       " 'base_PixelFlags_flag_edge',\n",
       " 'base_PixelFlags_flag_interpolated',\n",
       " 'base_PixelFlags_flag_saturated',\n",
       " 'base_PixelFlags_flag_cr',\n",
       " 'base_PixelFlags_flag_bad',\n",
       " 'base_PixelFlags_flag_suspect',\n",
       " 'base_PixelFlags_flag_interpolatedCenter',\n",
       " 'base_PixelFlags_flag_saturatedCenter',\n",
       " 'base_PixelFlags_flag_crCenter',\n",
       " 'base_PixelFlags_flag_suspectCenter',\n",
       " 'base_PixelFlags_flag_bright_objectCenter',\n",
       " 'base_PixelFlags_flag_clipped',\n",
       " 'base_PixelFlags_flag_bright_object',\n",
       " 'base_PsfFlux_flux',\n",
       " 'base_PsfFlux_fluxSigma',\n",
       " 'base_PsfFlux_flag',\n",
       " 'base_PsfFlux_flag_noGoodPixels',\n",
       " 'base_PsfFlux_flag_edge',\n",
       " 'ext_photometryKron_KronFlux_flux',\n",
       " 'ext_photometryKron_KronFlux_fluxSigma',\n",
       " 'ext_photometryKron_KronFlux_radius',\n",
       " 'ext_photometryKron_KronFlux_radius_for_radius',\n",
       " 'ext_photometryKron_KronFlux_psf_radius',\n",
       " 'ext_photometryKron_KronFlux_flag',\n",
       " 'ext_photometryKron_KronFlux_flag_edge',\n",
       " 'ext_photometryKron_KronFlux_flag_bad_shape_no_psf',\n",
       " 'ext_photometryKron_KronFlux_flag_no_minimum_radius',\n",
       " 'ext_photometryKron_KronFlux_flag_no_fallback_radius',\n",
       " 'ext_photometryKron_KronFlux_flag_bad_radius',\n",
       " 'ext_photometryKron_KronFlux_flag_used_minimum_radius',\n",
       " 'ext_photometryKron_KronFlux_flag_used_psf_radius',\n",
       " 'ext_photometryKron_KronFlux_flag_small_radius',\n",
       " 'ext_photometryKron_KronFlux_flag_bad_shape',\n",
       " 'ext_convolved_ConvolvedFlux_seeing',\n",
       " 'ext_convolved_ConvolvedFlux_0_deconv',\n",
       " 'ext_convolved_ConvolvedFlux_0_3_3_flux',\n",
       " 'ext_convolved_ConvolvedFlux_0_3_3_fluxSigma',\n",
       " 'ext_convolved_ConvolvedFlux_0_3_3_flag',\n",
       " 'ext_convolved_ConvolvedFlux_0_3_3_flag_apertureTruncated',\n",
       " 'ext_convolved_ConvolvedFlux_0_3_3_flag_sincCoeffsTruncated',\n",
       " 'ext_convolved_ConvolvedFlux_0_4_5_flux',\n",
       " 'ext_convolved_ConvolvedFlux_0_4_5_fluxSigma',\n",
       " 'ext_convolved_ConvolvedFlux_0_4_5_flag',\n",
       " 'ext_convolved_ConvolvedFlux_0_4_5_flag_apertureTruncated',\n",
       " 'ext_convolved_ConvolvedFlux_0_4_5_flag_sincCoeffsTruncated',\n",
       " 'ext_convolved_ConvolvedFlux_0_6_0_flux',\n",
       " 'ext_convolved_ConvolvedFlux_0_6_0_fluxSigma',\n",
       " 'ext_convolved_ConvolvedFlux_0_6_0_flag',\n",
       " 'ext_convolved_ConvolvedFlux_0_6_0_flag_apertureTruncated',\n",
       " 'ext_convolved_ConvolvedFlux_0_6_0_flag_sincCoeffsTruncated',\n",
       " 'ext_convolved_ConvolvedFlux_0_kron_flux',\n",
       " 'ext_convolved_ConvolvedFlux_0_kron_fluxSigma',\n",
       " 'ext_convolved_ConvolvedFlux_0_kron_flag',\n",
       " 'ext_convolved_ConvolvedFlux_1_deconv',\n",
       " 'ext_convolved_ConvolvedFlux_1_3_3_flux',\n",
       " 'ext_convolved_ConvolvedFlux_1_3_3_fluxSigma',\n",
       " 'ext_convolved_ConvolvedFlux_1_3_3_flag',\n",
       " 'ext_convolved_ConvolvedFlux_1_3_3_flag_apertureTruncated',\n",
       " 'ext_convolved_ConvolvedFlux_1_3_3_flag_sincCoeffsTruncated',\n",
       " 'ext_convolved_ConvolvedFlux_1_4_5_flux',\n",
       " 'ext_convolved_ConvolvedFlux_1_4_5_fluxSigma',\n",
       " 'ext_convolved_ConvolvedFlux_1_4_5_flag',\n",
       " 'ext_convolved_ConvolvedFlux_1_4_5_flag_apertureTruncated',\n",
       " 'ext_convolved_ConvolvedFlux_1_4_5_flag_sincCoeffsTruncated',\n",
       " 'ext_convolved_ConvolvedFlux_1_6_0_flux',\n",
       " 'ext_convolved_ConvolvedFlux_1_6_0_fluxSigma',\n",
       " 'ext_convolved_ConvolvedFlux_1_6_0_flag',\n",
       " 'ext_convolved_ConvolvedFlux_1_6_0_flag_apertureTruncated',\n",
       " 'ext_convolved_ConvolvedFlux_1_6_0_flag_sincCoeffsTruncated',\n",
       " 'ext_convolved_ConvolvedFlux_1_kron_flux',\n",
       " 'ext_convolved_ConvolvedFlux_1_kron_fluxSigma',\n",
       " 'ext_convolved_ConvolvedFlux_1_kron_flag',\n",
       " 'ext_convolved_ConvolvedFlux_2_deconv',\n",
       " 'ext_convolved_ConvolvedFlux_2_3_3_flux',\n",
       " 'ext_convolved_ConvolvedFlux_2_3_3_fluxSigma',\n",
       " 'ext_convolved_ConvolvedFlux_2_3_3_flag',\n",
       " 'ext_convolved_ConvolvedFlux_2_3_3_flag_apertureTruncated',\n",
       " 'ext_convolved_ConvolvedFlux_2_3_3_flag_sincCoeffsTruncated',\n",
       " 'ext_convolved_ConvolvedFlux_2_4_5_flux',\n",
       " 'ext_convolved_ConvolvedFlux_2_4_5_fluxSigma',\n",
       " 'ext_convolved_ConvolvedFlux_2_4_5_flag',\n",
       " 'ext_convolved_ConvolvedFlux_2_4_5_flag_apertureTruncated',\n",
       " 'ext_convolved_ConvolvedFlux_2_4_5_flag_sincCoeffsTruncated',\n",
       " 'ext_convolved_ConvolvedFlux_2_6_0_flux',\n",
       " 'ext_convolved_ConvolvedFlux_2_6_0_fluxSigma',\n",
       " 'ext_convolved_ConvolvedFlux_2_6_0_flag',\n",
       " 'ext_convolved_ConvolvedFlux_2_6_0_flag_apertureTruncated',\n",
       " 'ext_convolved_ConvolvedFlux_2_6_0_flag_sincCoeffsTruncated',\n",
       " 'ext_convolved_ConvolvedFlux_2_kron_flux',\n",
       " 'ext_convolved_ConvolvedFlux_2_kron_fluxSigma',\n",
       " 'ext_convolved_ConvolvedFlux_2_kron_flag',\n",
       " 'ext_convolved_ConvolvedFlux_3_deconv',\n",
       " 'ext_convolved_ConvolvedFlux_3_3_3_flux',\n",
       " 'ext_convolved_ConvolvedFlux_3_3_3_fluxSigma',\n",
       " 'ext_convolved_ConvolvedFlux_3_3_3_flag',\n",
       " 'ext_convolved_ConvolvedFlux_3_3_3_flag_apertureTruncated',\n",
       " 'ext_convolved_ConvolvedFlux_3_3_3_flag_sincCoeffsTruncated',\n",
       " 'ext_convolved_ConvolvedFlux_3_4_5_flux',\n",
       " 'ext_convolved_ConvolvedFlux_3_4_5_fluxSigma',\n",
       " 'ext_convolved_ConvolvedFlux_3_4_5_flag',\n",
       " 'ext_convolved_ConvolvedFlux_3_4_5_flag_apertureTruncated',\n",
       " 'ext_convolved_ConvolvedFlux_3_4_5_flag_sincCoeffsTruncated',\n",
       " 'ext_convolved_ConvolvedFlux_3_6_0_flux',\n",
       " 'ext_convolved_ConvolvedFlux_3_6_0_fluxSigma',\n",
       " 'ext_convolved_ConvolvedFlux_3_6_0_flag',\n",
       " 'ext_convolved_ConvolvedFlux_3_6_0_flag_apertureTruncated',\n",
       " 'ext_convolved_ConvolvedFlux_3_6_0_flag_sincCoeffsTruncated',\n",
       " 'ext_convolved_ConvolvedFlux_3_kron_flux',\n",
       " 'ext_convolved_ConvolvedFlux_3_kron_fluxSigma',\n",
       " 'ext_convolved_ConvolvedFlux_3_kron_flag',\n",
       " 'ext_convolved_ConvolvedFlux_flag',\n",
       " 'modelfit_CModel_initial_flux',\n",
       " 'modelfit_CModel_initial_fluxSigma',\n",
       " 'modelfit_CModel_initial_flag',\n",
       " 'modelfit_CModel_initial_flux_inner',\n",
       " 'modelfit_CModel_initial_flag_badReference',\n",
       " 'modelfit_CModel_initial_flag_numericError',\n",
       " 'modelfit_CModel_exp_flux',\n",
       " 'modelfit_CModel_exp_fluxSigma',\n",
       " 'modelfit_CModel_exp_flag',\n",
       " 'modelfit_CModel_exp_flux_inner',\n",
       " 'modelfit_CModel_exp_flag_badReference',\n",
       " 'modelfit_CModel_exp_flag_numericError',\n",
       " 'modelfit_CModel_dev_flux',\n",
       " 'modelfit_CModel_dev_fluxSigma',\n",
       " 'modelfit_CModel_dev_flag',\n",
       " 'modelfit_CModel_dev_flux_inner',\n",
       " 'modelfit_CModel_dev_flag_badReference',\n",
       " 'modelfit_CModel_dev_flag_numericError',\n",
       " 'modelfit_CModel_flux',\n",
       " 'modelfit_CModel_fluxSigma',\n",
       " 'modelfit_CModel_flag',\n",
       " 'modelfit_CModel_flux_inner',\n",
       " 'modelfit_CModel_fracDev',\n",
       " 'modelfit_CModel_objective',\n",
       " 'modelfit_CModel_flag_region_maxArea',\n",
       " 'modelfit_CModel_flag_region_maxBadPixelFraction',\n",
       " 'modelfit_CModel_flag_badReference',\n",
       " 'modelfit_CModel_flag_noShapeletPsf',\n",
       " 'modelfit_CModel_flag_badCentroid',\n",
       " 'undeblended_base_CircularApertureFlux_3_0_flux',\n",
       " 'undeblended_base_CircularApertureFlux_3_0_fluxSigma',\n",
       " 'undeblended_base_CircularApertureFlux_3_0_flag',\n",
       " 'undeblended_base_CircularApertureFlux_3_0_flag_apertureTruncated',\n",
       " 'undeblended_base_CircularApertureFlux_3_0_flag_sincCoeffsTruncated',\n",
       " 'undeblended_base_CircularApertureFlux_4_5_flux',\n",
       " 'undeblended_base_CircularApertureFlux_4_5_fluxSigma',\n",
       " 'undeblended_base_CircularApertureFlux_4_5_flag',\n",
       " 'undeblended_base_CircularApertureFlux_4_5_flag_apertureTruncated',\n",
       " 'undeblended_base_CircularApertureFlux_4_5_flag_sincCoeffsTruncated',\n",
       " 'undeblended_base_CircularApertureFlux_6_0_flux',\n",
       " 'undeblended_base_CircularApertureFlux_6_0_fluxSigma',\n",
       " 'undeblended_base_CircularApertureFlux_6_0_flag',\n",
       " 'undeblended_base_CircularApertureFlux_6_0_flag_apertureTruncated',\n",
       " 'undeblended_base_CircularApertureFlux_6_0_flag_sincCoeffsTruncated',\n",
       " 'undeblended_base_CircularApertureFlux_9_0_flux',\n",
       " 'undeblended_base_CircularApertureFlux_9_0_fluxSigma',\n",
       " 'undeblended_base_CircularApertureFlux_9_0_flag',\n",
       " 'undeblended_base_CircularApertureFlux_9_0_flag_apertureTruncated',\n",
       " 'undeblended_base_CircularApertureFlux_9_0_flag_sincCoeffsTruncated',\n",
       " 'undeblended_base_CircularApertureFlux_12_0_flux',\n",
       " 'undeblended_base_CircularApertureFlux_12_0_fluxSigma',\n",
       " 'undeblended_base_CircularApertureFlux_12_0_flag',\n",
       " 'undeblended_base_CircularApertureFlux_12_0_flag_apertureTruncated',\n",
       " 'undeblended_base_CircularApertureFlux_12_0_flag_sincCoeffsTruncated',\n",
       " 'undeblended_base_CircularApertureFlux_17_0_flux',\n",
       " 'undeblended_base_CircularApertureFlux_17_0_fluxSigma',\n",
       " 'undeblended_base_CircularApertureFlux_17_0_flag',\n",
       " 'undeblended_base_CircularApertureFlux_17_0_flag_apertureTruncated',\n",
       " 'undeblended_base_CircularApertureFlux_25_0_flux',\n",
       " 'undeblended_base_CircularApertureFlux_25_0_fluxSigma',\n",
       " 'undeblended_base_CircularApertureFlux_25_0_flag',\n",
       " 'undeblended_base_CircularApertureFlux_25_0_flag_apertureTruncated',\n",
       " 'undeblended_base_CircularApertureFlux_35_0_flux',\n",
       " 'undeblended_base_CircularApertureFlux_35_0_fluxSigma',\n",
       " 'undeblended_base_CircularApertureFlux_35_0_flag',\n",
       " 'undeblended_base_CircularApertureFlux_35_0_flag_apertureTruncated',\n",
       " 'undeblended_base_CircularApertureFlux_50_0_flux',\n",
       " 'undeblended_base_CircularApertureFlux_50_0_fluxSigma',\n",
       " 'undeblended_base_CircularApertureFlux_50_0_flag',\n",
       " 'undeblended_base_CircularApertureFlux_50_0_flag_apertureTruncated',\n",
       " 'undeblended_base_CircularApertureFlux_70_0_flux',\n",
       " 'undeblended_base_CircularApertureFlux_70_0_fluxSigma',\n",
       " 'undeblended_base_CircularApertureFlux_70_0_flag',\n",
       " 'undeblended_base_CircularApertureFlux_70_0_flag_apertureTruncated',\n",
       " 'undeblended_base_PsfFlux_flux',\n",
       " 'undeblended_base_PsfFlux_fluxSigma',\n",
       " 'undeblended_base_PsfFlux_flag',\n",
       " 'undeblended_base_PsfFlux_flag_noGoodPixels',\n",
       " 'undeblended_base_PsfFlux_flag_edge',\n",
       " 'undeblended_ext_photometryKron_KronFlux_flux',\n",
       " 'undeblended_ext_photometryKron_KronFlux_fluxSigma',\n",
       " 'undeblended_ext_photometryKron_KronFlux_radius',\n",
       " 'undeblended_ext_photometryKron_KronFlux_radius_for_radius',\n",
       " 'undeblended_ext_photometryKron_KronFlux_psf_radius',\n",
       " 'undeblended_ext_photometryKron_KronFlux_flag',\n",
       " 'undeblended_ext_photometryKron_KronFlux_flag_edge',\n",
       " 'undeblended_ext_photometryKron_KronFlux_flag_bad_shape_no_psf',\n",
       " 'undeblended_ext_photometryKron_KronFlux_flag_no_minimum_radius',\n",
       " 'undeblended_ext_photometryKron_KronFlux_flag_no_fallback_radius',\n",
       " 'undeblended_ext_photometryKron_KronFlux_flag_bad_radius',\n",
       " 'undeblended_ext_photometryKron_KronFlux_flag_used_minimum_radius',\n",
       " 'undeblended_ext_photometryKron_KronFlux_flag_used_psf_radius',\n",
       " 'undeblended_ext_photometryKron_KronFlux_flag_small_radius',\n",
       " 'undeblended_ext_photometryKron_KronFlux_flag_bad_shape',\n",
       " 'ext_convolved_ConvolvedFlux_1_6_0_apCorr',\n",
       " 'ext_convolved_ConvolvedFlux_1_6_0_apCorrSigma',\n",
       " 'ext_convolved_ConvolvedFlux_1_6_0_flag_apCorr',\n",
       " 'ext_convolved_ConvolvedFlux_0_4_5_apCorr',\n",
       " 'ext_convolved_ConvolvedFlux_0_4_5_apCorrSigma',\n",
       " 'ext_convolved_ConvolvedFlux_0_4_5_flag_apCorr',\n",
       " 'ext_convolved_ConvolvedFlux_3_kron_apCorr',\n",
       " 'ext_convolved_ConvolvedFlux_3_kron_apCorrSigma',\n",
       " 'ext_convolved_ConvolvedFlux_3_kron_flag_apCorr',\n",
       " 'ext_convolved_ConvolvedFlux_3_6_0_apCorr',\n",
       " 'ext_convolved_ConvolvedFlux_3_6_0_apCorrSigma',\n",
       " 'ext_convolved_ConvolvedFlux_3_6_0_flag_apCorr',\n",
       " 'modelfit_CModel_initial_apCorr',\n",
       " 'modelfit_CModel_initial_apCorrSigma',\n",
       " 'modelfit_CModel_initial_flag_apCorr',\n",
       " 'ext_convolved_ConvolvedFlux_0_3_3_apCorr',\n",
       " 'ext_convolved_ConvolvedFlux_0_3_3_apCorrSigma',\n",
       " 'ext_convolved_ConvolvedFlux_0_3_3_flag_apCorr',\n",
       " 'ext_photometryKron_KronFlux_apCorr',\n",
       " 'ext_photometryKron_KronFlux_apCorrSigma',\n",
       " 'ext_photometryKron_KronFlux_flag_apCorr',\n",
       " 'base_GaussianFlux_apCorr',\n",
       " 'base_GaussianFlux_apCorrSigma',\n",
       " 'base_GaussianFlux_flag_apCorr',\n",
       " 'ext_convolved_ConvolvedFlux_1_4_5_apCorr',\n",
       " 'ext_convolved_ConvolvedFlux_1_4_5_apCorrSigma',\n",
       " 'ext_convolved_ConvolvedFlux_1_4_5_flag_apCorr',\n",
       " 'ext_convolved_ConvolvedFlux_0_6_0_apCorr',\n",
       " 'ext_convolved_ConvolvedFlux_0_6_0_apCorrSigma',\n",
       " 'ext_convolved_ConvolvedFlux_0_6_0_flag_apCorr',\n",
       " 'base_PsfFlux_apCorr',\n",
       " 'base_PsfFlux_apCorrSigma',\n",
       " 'base_PsfFlux_flag_apCorr',\n",
       " 'ext_convolved_ConvolvedFlux_2_4_5_apCorr',\n",
       " 'ext_convolved_ConvolvedFlux_2_4_5_apCorrSigma',\n",
       " 'ext_convolved_ConvolvedFlux_2_4_5_flag_apCorr',\n",
       " 'ext_convolved_ConvolvedFlux_3_3_3_apCorr',\n",
       " 'ext_convolved_ConvolvedFlux_3_3_3_apCorrSigma',\n",
       " 'ext_convolved_ConvolvedFlux_3_3_3_flag_apCorr',\n",
       " 'modelfit_CModel_dev_apCorr',\n",
       " 'modelfit_CModel_dev_apCorrSigma',\n",
       " 'modelfit_CModel_dev_flag_apCorr',\n",
       " 'ext_convolved_ConvolvedFlux_0_kron_apCorr',\n",
       " 'ext_convolved_ConvolvedFlux_0_kron_apCorrSigma',\n",
       " 'ext_convolved_ConvolvedFlux_0_kron_flag_apCorr',\n",
       " 'ext_convolved_ConvolvedFlux_1_kron_apCorr',\n",
       " 'ext_convolved_ConvolvedFlux_1_kron_apCorrSigma',\n",
       " 'ext_convolved_ConvolvedFlux_1_kron_flag_apCorr',\n",
       " 'modelfit_CModel_exp_apCorr',\n",
       " 'modelfit_CModel_exp_apCorrSigma',\n",
       " 'modelfit_CModel_exp_flag_apCorr',\n",
       " 'ext_convolved_ConvolvedFlux_2_kron_apCorr',\n",
       " 'ext_convolved_ConvolvedFlux_2_kron_apCorrSigma',\n",
       " 'ext_convolved_ConvolvedFlux_2_kron_flag_apCorr',\n",
       " 'ext_convolved_ConvolvedFlux_3_4_5_apCorr',\n",
       " 'ext_convolved_ConvolvedFlux_3_4_5_apCorrSigma',\n",
       " 'ext_convolved_ConvolvedFlux_3_4_5_flag_apCorr',\n",
       " 'modelfit_CModel_apCorr',\n",
       " 'modelfit_CModel_apCorrSigma',\n",
       " 'modelfit_CModel_flag_apCorr',\n",
       " 'ext_convolved_ConvolvedFlux_2_6_0_apCorr',\n",
       " 'ext_convolved_ConvolvedFlux_2_6_0_apCorrSigma',\n",
       " 'ext_convolved_ConvolvedFlux_2_6_0_flag_apCorr',\n",
       " 'ext_convolved_ConvolvedFlux_2_3_3_apCorr',\n",
       " 'ext_convolved_ConvolvedFlux_2_3_3_apCorrSigma',\n",
       " 'ext_convolved_ConvolvedFlux_2_3_3_flag_apCorr',\n",
       " 'ext_convolved_ConvolvedFlux_1_3_3_apCorr',\n",
       " 'ext_convolved_ConvolvedFlux_1_3_3_apCorrSigma',\n",
       " 'ext_convolved_ConvolvedFlux_1_3_3_flag_apCorr',\n",
       " 'base_ClassificationExtendedness_value',\n",
       " 'base_ClassificationExtendedness_flag']"
      ]
     },
     "execution_count": 57,
     "metadata": {},
     "output_type": "execute_result"
    }
   ],
   "source": [
    "schema = forced_i.getSchema()\n",
    "schema.getOrderedNames()"
   ]
  }
 ],
 "metadata": {
  "kernelspec": {
   "display_name": "Python 3",
   "language": "python",
   "name": "python3"
  },
  "language_info": {
   "codemirror_mode": {
    "name": "ipython",
    "version": 3
   },
   "file_extension": ".py",
   "mimetype": "text/x-python",
   "name": "python",
   "nbconvert_exporter": "python",
   "pygments_lexer": "ipython3",
   "version": "3.6.2"
  }
 },
 "nbformat": 4,
 "nbformat_minor": 2
}
