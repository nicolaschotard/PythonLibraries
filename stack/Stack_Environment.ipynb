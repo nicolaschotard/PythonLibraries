{
 "cells": [
  {
   "cell_type": "markdown",
   "metadata": {
    "slideshow": {
     "slide_type": "slide"
    }
   },
   "source": [
    "# Navigating within the stack environment "
   ]
  },
  {
   "cell_type": "markdown",
   "metadata": {
    "slideshow": {
     "slide_type": "slide"
    }
   },
   "source": [
    "## Using the stack at CC-IN2P3\n",
    "\n",
    "The simplest way to use the LSST stack is from the Weekly Releases which are installed by Fabio. \n",
    "The source code and the bootstrap scripts are available in `/sps/lsst/software/lsst_distrib]`. \n",
    "\n",
    "Each release exists for both python2 and python3 environment and they have been compiled for CentOS7. For this tutorial we will use the python3 version of the w_2017_38 release (python2 is deprecated in LSST and will not be maintained any more in the near future.\n",
    "\n",
    "Each stack release is a coherent collection of pacakages extracted from the [LSST github repository](https://github.com/lsst). Each release is also coming with a compatible minimal python environment (miniconda)"
   ]
  },
  {
   "cell_type": "markdown",
   "metadata": {
    "slideshow": {
     "slide_type": "slide"
    }
   },
   "source": [
    "## First look at a stack release\n",
    "\n",
    "```\n",
    "cca001[0] cd /sps/lsst/software/lsst_distrib/w_2017_38/stack\n",
    "cca001[0] ls\n",
    "current  miniconda3-4.3.21-10a4fa6\n",
    "```"
   ]
  },
  {
   "cell_type": "markdown",
   "metadata": {
    "slideshow": {
     "slide_type": "fragment"
    }
   },
   "source": [
    "\n",
    "```\n",
    "cca001[0] cd current/Linux64/\n",
    "cca001[0] ls\n",
    "afw                   eigen             meas_base                       pep8_naming          python_mysqlclient\n",
    "apr                   esutil            meas_deblender                  pex_config           python_psutil\n",
    "apr_util              fftw              meas_extensions_astrometryNet   pex_exceptions       pyyaml\n",
    "astrometry_net        flake8            meas_extensions_convolved       pex_policy           requests\n",
    "astrometry_net_data   galsim            meas_extensions_photometryKron  pipe_base            scipy\n",
    "astropy               geom              meas_extensions_psfex           pipe_drivers         scons\n",
    "astshim               gsl               meas_extensions_shapeHSM        pipe_tasks           sconsUtils\n",
    "base                  healpy            meas_extensions_simpleShape     psfex                shapelet\n",
    "boost                 ip_diffim         meas_modelfit                   pybind11             skymap\n",
    "cat                   ip_isr            minuit2                         pycodestyle          skypix\n",
    "cfitsio               jointcal          mpi                             pyfits               sqlalchemy\n",
    "coadd_chisquared      jointcal_cholmod  mpi4py                          pyflakes             starlink_ast\n",
    "coadd_utils           libyaml           mpich                           pykg_config          stsci_distutils\n",
    "ctrl_execute          lmfit             ndarray                         pytest               tmv\n",
    "ctrl_orca             log               numpy                           pytest_flake8        utils\n",
    "ctrl_platform_lsstvc  log4cxx           obs_base                        pytest_forked        verify\n",
    "ctrl_pool             lsst_apps         obs_cfht                        pytest_session2file  verify_metrics\n",
    "daf_base              lsst_distrib      obs_decam                       pytest_xdist         wcslib\n",
    "daf_persistence       lsst_obs          obs_lsstSim                     python               xpa\n",
    "datarel               mariadbclient     obs_monocam                     python_d2to1\n",
    "db                    matplotlib        obs_sdss                        python_execnet\n",
    "display_ds9           meas_algorithms   obs_subaru                      python_future\n",
    "doxygen               meas_astrom       obs_test                        python_mccabe\n",
    "```"
   ]
  },
  {
   "cell_type": "markdown",
   "metadata": {
    "slideshow": {
     "slide_type": "fragment"
    }
   },
   "source": [
    "```\n",
    "cca001[1] cd meas_algorithms/\n",
    "cca001[0] ls\n",
    "13.0-23-gb99accf8+14                \n",
    "```\n",
    "\n",
    "`13.0-23-gb99accf8+14` is a unique key corresponding to the package version"
   ]
  },
  {
   "cell_type": "markdown",
   "metadata": {
    "slideshow": {
     "slide_type": "fragment"
    }
   },
   "source": [
    "```\n",
    "cca001[0] cd 13.0-23-gb99accf8+14/\n",
    "cca001[0] ls\n",
    "doc  examples  include  lib  policy  python  src  tests  ups\n",
    "```\n",
    "\n",
    "- `src` and `include` contain the C++ source code\n",
    "- A standard user will deal with `python` in 95% of the cases\n",
    "\n",
    "The `python` directories are always contructed in the same way:\n",
    "```\n",
    "cca001[0] tree python -L 3\n",
    "python\n",
    "`-- lsst\n",
    "    |-- __init__.py\n",
    "    |-- __pycache__\n",
    "    |-- gdb\n",
    "    |   |-- __init__.py\n",
    "    |   `-- meas\n",
    "    `-- meas\n",
    "        |-- __init__.py\n",
    "        |-- __pycache__\n",
    "        `-- algorithms\n",
    "```\n",
    "\n",
    "These directories are automatically added to the `$PYTHONPATH` environment variable during the stack initialization. So that `import lsst.meas.algorithm` in `python` will import the right module.\n"
   ]
  },
  {
   "cell_type": "markdown",
   "metadata": {
    "slideshow": {
     "slide_type": "slide"
    }
   },
   "source": [
    "```\n",
    "cca001[0] cd python/lsst/meas/algorithms/\n",
    "cca001[0] ls\n",
    "SConscript                   imagePsf.cc                     psf.so\n",
    "__init__.py                  imagePsf.so                     psfCandidate\n",
    "__pycache__                  indexerRegistry.py              psfDeterminer.py\n",
    "astrometrySourceSelector.py  ingestIndexReferenceTask.py     psfSelectionFromMatchList.py\n",
    "binnedWcs.cc                 installGaussianPsf.py           readFitsCatalogTask.py\n",
    "binnedWcs.so                 interp.cc                       readTextCatalogTask.py\n",
    "coaddBoundedField.cc         interp.so                       secondMomentStarSelector.py\n",
    "coaddBoundedField.so         kernelPsf.cc                    singleGaussianPsf.cc\n",
    "coaddPsf                     kernelPsf.so                    singleGaussianPsf.so\n",
    "cr.cc                        loadIndexedReferenceObjects.py  sourceSelector.py\n",
    "cr.so                        loadReferenceObjects.py         spatialModelPsf.cc\n",
    "debugger.py                  makeCoaddApCorrMap.py           spatialModelPsf.so\n",
    "defects.py                   matcherSourceSelector.py        starSelector.py\n",
    "detection.py                 measureApCorr.py                subtractBackground.py\n",
    "doubleGaussianPsf.cc         measureSourceUtils.py           testUtils.py\n",
    "doubleGaussianPsf.so         objectSizeStarSelector.py       utils.py\n",
    "findCosmicRaysConfig.py      pcaPsf.cc                       version.py\n",
    "flaggedStarSelector.py       pcaPsf.so                       warpedPsf.cc\n",
    "gaussianPsfFactory.py        pcaPsfDeterminer.py             warpedPsf.so\n",
    "htmIndexer.py                psf.cc\n",
    "```\n",
    "\n",
    "The `.cc` files are related to the `pybind11` interface between `python` and `C++`\n",
    "\n",
    "One can also browse the package content directly on [github](https://github.com/lsst/meas_algorithms/tree/master/python/lsst/meas/algorithms) and have access to the most recent changes."
   ]
  },
  {
   "cell_type": "markdown",
   "metadata": {},
   "source": [
    "## Initializing the LSST stack\n",
    "\n",
    "One first needs to source the \"bootstrap\" script (the `bash` environment is highly recommended)\n",
    "\n",
    "```source /sps/lsst/software/lsst_distrib/w_2017_38/loadLSST.bash```\n",
    "\n",
    "LSST is using the `eups` system ([tutorial](https://developer.lsst.io/build-ci/eups_tutorial.html))\n",
    "\n",
    "```EUPS—”Extended Unix Product System”—is a tool for managing multiple versions of interdependent software packages.```\n",
    "\n",
    "eups is a powerful tool but sometimes confusing. We will just give the few basic commands which are necessary."
   ]
  },
  {
   "cell_type": "markdown",
   "metadata": {},
   "source": [
    "### Seting up packages\n",
    "\n",
    "The `setup command` allows to declare the packages which are going to be used. `eups` is automatically taking care of the dependecies (unless told to do otherwise).\n",
    "\n",
    "`setup pipe_tasks` will setup the most useful packages to run standard tasks\n",
    "\n",
    "On top of `pipe_tasks` one has also to setup the instrument corresponding to the images:\n",
    "\n",
    "Examples: \n",
    "- `setup obs_cfht`\n",
    "- `setup obs_subaru`\n",
    "\n",
    "The command `eups list` allows to list all the packages known to eups with their version as well as their status\n",
    "\n",
    "```\n",
    "cca001[0] eups list | grep obs_subaru\n",
    "obs_subaru            13.0-48-gb7c7029d \tcurrent qserv_latest qserv-dev w_2017_38 w_latest setup \n",
    "```\n",
    "indicates that the version `13.0-48-gb7c7029d` of `obs_subaru` is setup. \n",
    "\n",
    "`current qserv_latest qserv-dev w_2017_38 w_latest` are named tags\n",
    "\n",
    "This is a simplistic example as we only have one version known to `eups` in weekly releases. Here is another example from my own stack installation on my laptop:\n",
    "\n",
    "```\n",
    "boutigny@lappc-p655-ubuntu:/home/.../LSST/lsst_drp_analysis$  eups list | grep obs_subaru\n",
    "obs_subaru            13.0-39-gf25a3b0 \tb2147\n",
    "obs_subaru            13.0-39-gf25a3b0+1 \tcurrent b2148 setup\n",
    "```\n",
    "It means that eups knows 2 versions of `obs_subaru`. The old one `13.0-39-gf25a3b0` has been tagged `b2147` and is not setup. The second one `13.0-39-gf25a3b0+1` is the \"current\" one is tagged `b2148` and has been setup.\n",
    "\n",
    "To switch to a different tag, one should do: `setup obs_subaru -t b2147` in which case we have:\n",
    "\n",
    "```\n",
    "boutigny@lappc-p655-ubuntu:/home/.../LSST/lsst_drp_analysis$  eups list | grep obs_subaru\n",
    "obs_subaru            13.0-39-gf25a3b0 \tb2147 setup\n",
    "obs_subaru            13.0-39-gf25a3b0+1 \tcurrent b2148\n",
    "```"
   ]
  },
  {
   "cell_type": "markdown",
   "metadata": {},
   "source": [
    "## Compiling and Installing a package\n",
    "\n",
    "It is sometimes necessary to download a specific version of a package. Most of the time we will want the version fromn the github master branch\n",
    "\n",
    "```\n",
    "cca001[0] git clone https://github.com/lsst/obs_subaru.git\n",
    "Cloning into 'obs_subaru'...\n",
    "remote: Counting objects: 16919, done.\n",
    "remote: Compressing objects: 100% (35/35), done.\n",
    "remote: Total 16919 (delta 23), reused 29 (delta 13), pack-reused 16869\n",
    "Receiving objects: 100% (16919/16919), 87.36 MiB | 24.30 MiB/s, done.\n",
    "Resolving deltas: 100% (9346/9346), done.\n",
    "```\n",
    "\n",
    "```\n",
    "cca001[0] cd obs_subaru/\n",
    "cca001[0] setup -k -r .\n",
    "```\n",
    "\n",
    "The `setup -k -r .` declares the current directory as an eups package (`-r .`) and tells eups to ignore any possible dependency of the `obs_subaru` package (`-k` as \"keep\").\n",
    "\n",
    "```\n",
    "cca001[0] scons\n",
    "scons: Reading SConscript files ...\n",
    "EUPS integration: enabled\n",
    "Checking who built the CC compiler...gcc=4.8.5\n",
    "CC is gcc version 4.8.5\n",
    "Checking for C++11 support\n",
    "Checking whether the C++ compiler works... yes\n",
    "C++11 supported with '-std=c++11'\n",
    "Setting up environment to build package 'obs_subaru'.\n",
    "Running pytest with 1 process\n",
    "pytest: running on 4 Python test files.\n",
    "scons: done reading SConscript files.\n",
    "scons: Building targets ...\n",
    "g++ -o src/Crosstalk.os -c -std=c++11 -g -DLSST_LITTLE_ENDIAN=1 -O3 -Wall -Wno-unknown-pragmas -Wno-unused-local-typedefs -fPIC -Iinclude -I/sps/lsst/software/lsst_distrib/w_2017_38/stack/miniconda3-4.3.21-10a4fa6/Linux64/afw/13.0-100-ge0459d59f+3/include -I/sps/lss\n",
    "....\n",
    "....\n",
    "```\n",
    "\n",
    "Then we have to tag this version in order to be able to setup it in  eups. We have 2 possibilities:\n",
    "\n",
    "- `eups declare -r . -t boutigny` This is a named tag. The tag name should match the user name\n",
    "- `eups declare -r . obs_subaru my_test_package`\n",
    "\n",
    "Ignore the warning `path /sps/lsst/dev/boutigny/demo/obs_subaru is absolute, not relative to location on EUPS_PATH`\n",
    "\n",
    "Depending on the type of tag we will setup the package in the following way:\n",
    "- `setup -k obs_subaru -t boutigny`\n",
    "\n",
    "or:\n",
    "\n",
    "- `setup -k obs_subaru my_test_package`\n",
    "\n",
    "The `-k ` is not strictly mandatory but it is often a good idea to avoid some uncontroled dependency setup\n",
    "\n",
    "One can then check that the package has been correctly setup\n",
    "```\n",
    "cca001[0] eups list | grep obs_subaru\n",
    "obs_subaru            13.0-48-gb7c7029d \tcurrent qserv_latest qserv-dev w_2017_38 w_latest\n",
    "obs_subaru            my_test_package \tsetup\n",
    "obs_subaru            tag:boutigny \tboutigny\n",
    "```\n"
   ]
  }
 ],
 "metadata": {
  "celltoolbar": "Slideshow",
  "kernelspec": {
   "display_name": "Python 3",
   "language": "python",
   "name": "python3"
  },
  "language_info": {
   "codemirror_mode": {
    "name": "ipython",
    "version": 3
   },
   "file_extension": ".py",
   "mimetype": "text/x-python",
   "name": "python",
   "nbconvert_exporter": "python",
   "pygments_lexer": "ipython3",
   "version": "3.6.2"
  }
 },
 "nbformat": 4,
 "nbformat_minor": 2
}
