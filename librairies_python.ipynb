{
 "cells": [
  {
   "cell_type": "markdown",
   "metadata": {
    "slideshow": {
     "slide_type": "slide"
    }
   },
   "source": [
    "# Quelque librairies Python\n",
    "\n",
    "\n",
    "![https://pypi.org/static/images/logo-large.72ad8bf1.svg](https://pypi.org/static/images/logo-large.72ad8bf1.svg)\n",
    "![https://www.anaconda.com/wp-content/themes/anaconda/images/logo-dark.png](https://www.anaconda.com/wp-content/themes/anaconda/images/logo-dark.png)\n",
    "\n"
   ]
  },
  {
   "cell_type": "markdown",
   "metadata": {
    "slideshow": {
     "slide_type": "slide"
    }
   },
   "source": [
    "## Les librairies en Python\n",
    "\n",
    "- Des librairies sont installées nativement en Python\n",
    "- D'autres sont disponibles en ligne sur des dépots\n",
    "- Des milliers de librairies disponibles\n",
    "  - ~ 117000 sur [PyPI](https://pypi.org/)\n",
    "  - Et certainement beaucoup d'autres sur différents dépots\n",
    "  - Installation de librairies : `pip install librairie`\n",
    "- Anaconda : Plateforme d'analyse scientifque pour Python \n",
    "  - Plus de 1000 paquets python orientés analyse scientifique disponibles à l'[installation](https://www.anaconda.com/download/)\n",
    "  - Installation de librairies via `pip` ou `conda`\n",
    "- Librairies gérérales + librairies scientifiques  "
   ]
  },
  {
   "cell_type": "markdown",
   "metadata": {
    "slideshow": {
     "slide_type": "slide"
    }
   },
   "source": [
    "## Quelques librairies générales"
   ]
  },
  {
   "cell_type": "markdown",
   "metadata": {
    "slideshow": {
     "slide_type": "slide"
    }
   },
   "source": [
    "### os : de nombreuses interfaces au système d'exploitation"
   ]
  },
  {
   "cell_type": "code",
   "execution_count": 33,
   "metadata": {
    "collapsed": true,
    "slideshow": {
     "slide_type": "fragment"
    }
   },
   "outputs": [],
   "source": [
    "import os"
   ]
  },
  {
   "cell_type": "code",
   "execution_count": 34,
   "metadata": {
    "slideshow": {
     "slide_type": "fragment"
    }
   },
   "outputs": [
    {
     "name": "stdout",
     "output_type": "stream",
     "text": [
      "False\n"
     ]
    }
   ],
   "source": [
    "print(os.path.exists(\"unfichier.txt\"))  # vérifie l'existance d'un fichier"
   ]
  },
  {
   "cell_type": "code",
   "execution_count": 35,
   "metadata": {
    "slideshow": {
     "slide_type": "fragment"
    }
   },
   "outputs": [
    {
     "name": "stdout",
     "output_type": "stream",
     "text": [
      "['.ipynb_checkpoints', 'librairies_python.ipynb', 'README.rst', 'rappels_python.ipynb', '.git']\n"
     ]
    }
   ],
   "source": [
    "print(os.listdir())"
   ]
  },
  {
   "cell_type": "code",
   "execution_count": 36,
   "metadata": {
    "slideshow": {
     "slide_type": "fragment"
    }
   },
   "outputs": [
    {
     "name": "stdout",
     "output_type": "stream",
     "text": [
      "/home/chotard\n"
     ]
    }
   ],
   "source": [
    "print(os.getenv(\"HOME\"))  # Pour récupérer la valeur d'une variable d'environement (setenv pour créer ou changer)"
   ]
  },
  {
   "cell_type": "code",
   "execution_count": 37,
   "metadata": {
    "slideshow": {
     "slide_type": "fragment"
    }
   },
   "outputs": [
    {
     "name": "stdout",
     "output_type": "stream",
     "text": [
      "/home/chotard/Work/Confs/lsst_drp_analysis\n",
      "/home/chotard\n"
     ]
    }
   ],
   "source": [
    "os.chdir(\"/home/chotard/Work/Confs/lsst_drp_analysis\")\n",
    "print(os.getcwd())           # pour récupérer le repertoire courant\n",
    "os.chdir(os.getenv(\"HOME\"))  # change de répertoire\n",
    "print(os.getcwd())"
   ]
  },
  {
   "cell_type": "code",
   "execution_count": 38,
   "metadata": {
    "slideshow": {
     "slide_type": "fragment"
    }
   },
   "outputs": [
    {
     "name": "stdout",
     "output_type": "stream",
     "text": [
      "chotard\n"
     ]
    }
   ],
   "source": [
    "print(os.getlogin())"
   ]
  },
  {
   "cell_type": "markdown",
   "metadata": {
    "slideshow": {
     "slide_type": "slide"
    }
   },
   "source": [
    "### sys"
   ]
  },
  {
   "cell_type": "markdown",
   "metadata": {
    "collapsed": true,
    "slideshow": {
     "slide_type": "slide"
    }
   },
   "source": [
    "### glob"
   ]
  },
  {
   "cell_type": "markdown",
   "metadata": {
    "slideshow": {
     "slide_type": "slide"
    }
   },
   "source": [
    "### PyYAML"
   ]
  },
  {
   "cell_type": "markdown",
   "metadata": {
    "slideshow": {
     "slide_type": "slide"
    }
   },
   "source": [
    "### pickle / cPickle"
   ]
  },
  {
   "cell_type": "markdown",
   "metadata": {
    "slideshow": {
     "slide_type": "slide"
    }
   },
   "source": [
    "### time / datetime"
   ]
  },
  {
   "cell_type": "markdown",
   "metadata": {
    "slideshow": {
     "slide_type": "slide"
    }
   },
   "source": [
    "## D'autres librairies générales intéressantes\n",
    "\n",
    "- [json](https://docs.python.org/3.6/library/json.html) : Encodeur/décodeur pour le format JSON\n",
    "- [csv](https://docs.python.org/3.6/library/csv.html) : Lire et écrire des fichiers de données\n",
    "- [re](https://docs.python.org/3.6/library/re.html) : Opérations sur les expression regulières\n",
    "- [subprocess](https://docs.python.org/3.6/library/subprocess.html) : Gérer des sous-processus (entrées, sorties, erreurs)\n",
    "- [requests](http://docs.python-requests.org/en/master/) : Simplifier les requettes HTTP via Python\n",
    "- [logging](https://docs.python.org/3.6/library/logging.html) : Gèrer les logs\n",
    "- [itertools](https://docs.python.org/3.6/library/itertools.html) : Créer des itérateur, permutations, combinaisons, etc.\n",
    "- [argparse](https://docs.python.org/3/library/argparse.html) : Parseur d'options pour Python en ligne de commande\n",
    "- [ipython](https://ipython.org/) : Calcul et visualisation intéractive pour Python \n",
    "- [jupyter](https://jupyter.org/) : Python interactif sur votre navigateur\n",
    "- et bien d'autres..."
   ]
  },
  {
   "cell_type": "markdown",
   "metadata": {
    "slideshow": {
     "slide_type": "slide"
    }
   },
   "source": [
    "## Quelques librairies scientifiques\n",
    "\n",
    "math, scipy, astropy, numpy, matplotlib, h5py, fitio, pyfits (dans astropy), seaborn, numba, pandas, healpy, sympy, scikit-learn"
   ]
  }
 ],
 "metadata": {
  "celltoolbar": "Slideshow",
  "kernelspec": {
   "display_name": "Python 3",
   "language": "python",
   "name": "python3"
  },
  "language_info": {
   "codemirror_mode": {
    "name": "ipython",
    "version": 3
   },
   "file_extension": ".py",
   "mimetype": "text/x-python",
   "name": "python",
   "nbconvert_exporter": "python",
   "pygments_lexer": "ipython3",
   "version": "3.6.2"
  }
 },
 "nbformat": 4,
 "nbformat_minor": 2
}
