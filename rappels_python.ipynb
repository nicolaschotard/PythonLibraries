{
 "cells": [
  {
   "cell_type": "markdown",
   "metadata": {
    "slideshow": {
     "slide_type": "slide"
    }
   },
   "source": [
    "# Rappel sur Python\n",
    "\n",
    "![https://www.python.org/static/img/python-logo.png](https://www.python.org/static/img/python-logo.png)\n",
    "\n",
    "\n",
    "\n",
    "## - Généralités\n",
    "\n",
    "## - Quelques fonctionnalitées utiles\n",
    "\n",
    "## - Utiliser Python"
   ]
  },
  {
   "cell_type": "markdown",
   "metadata": {
    "slideshow": {
     "slide_type": "slide"
    }
   },
   "source": [
    "## Généralités"
   ]
  },
  {
   "cell_type": "markdown",
   "metadata": {
    "slideshow": {
     "slide_type": "slide"
    }
   },
   "source": [
    "- 2 versions de Python existante\n",
    "  - Python 2 (2.7) et Python 3 (3.6) -> celle utilisée ici\n",
    "  - [Discussion](https://wiki.python.org/moin/Python2orPython3) sur le choix de la version\n",
    "- Langage interprété, pas de conpilateur -> utilisation d'un environnement de développement intégré (IDE)\n",
    "- Délimitation des blocs par indentation\n",
    "- Une syntaxe bien définie : [PEP8](https://www.python.org/dev/peps/pep-0008/)\n",
    "- Modules :\n",
    "  - `import mymodule` pour importer une librairie\n",
    "  - `mymodule.myfunction(...)` pour l'utiliser\n",
    "- Commenter : utilisation du `#` pour commenter le code\n",
    "- Docummenter : utilisation de `\"\"\" ... \"\"\"` pour documenter le code (doctrings)"
   ]
  },
  {
   "cell_type": "code",
   "execution_count": 51,
   "metadata": {
    "slideshow": {
     "slide_type": "slide"
    }
   },
   "outputs": [
    {
     "name": "stdout",
     "output_type": "stream",
     "text": [
      "4.5\n"
     ]
    }
   ],
   "source": [
    "# Import un module\n",
    "import numpy\n",
    "\n",
    "# Définir une fonction\n",
    "def myfunction():\n",
    "    \"\"\"Do nothing, but documented.\"\"\"\n",
    "    # Use numpy\n",
    "    print(numpy.mean(numpy.arange(10)))\n",
    "    return None\n",
    "\n",
    "# Appeler la fonction\n",
    "myfunction()"
   ]
  },
  {
   "cell_type": "code",
   "execution_count": 52,
   "metadata": {
    "slideshow": {
     "slide_type": "fragment"
    }
   },
   "outputs": [
    {
     "name": "stdout",
     "output_type": "stream",
     "text": [
      "8\n",
      "a + b =  0\n",
      "0\n"
     ]
    }
   ],
   "source": [
    "# Fonction avec arguments et paramètres\n",
    "def sum_numbers(a, b, verbose=False):\n",
    "    \"\"\"Sum a and b\"\"\"\n",
    "    c = a + b\n",
    "    if verbose:\n",
    "        print(\"a + b = \", c)\n",
    "    return c\n",
    "\n",
    "print(sum_numbers(3, 5))\n",
    "print(sum_numbers(-4, 4, verbose=True))"
   ]
  },
  {
   "cell_type": "markdown",
   "metadata": {
    "slideshow": {
     "slide_type": "slide"
    }
   },
   "source": [
    "## Quelques fonctionalitées utiles"
   ]
  },
  {
   "cell_type": "markdown",
   "metadata": {
    "slideshow": {
     "slide_type": "slide"
    }
   },
   "source": [
    "### Comprehension list\n"
   ]
  },
  {
   "cell_type": "code",
   "execution_count": 53,
   "metadata": {
    "slideshow": {
     "slide_type": "fragment"
    }
   },
   "outputs": [
    {
     "name": "stdout",
     "output_type": "stream",
     "text": [
      "[0, 1, 2, 3] [1, 2, 3, 4]\n"
     ]
    }
   ],
   "source": [
    "a = [0, 1, 2, 3]\n",
    "b = [aa + 1 for aa in a]\n",
    "print(a, b)"
   ]
  },
  {
   "cell_type": "code",
   "execution_count": 54,
   "metadata": {
    "slideshow": {
     "slide_type": "fragment"
    }
   },
   "outputs": [
    {
     "name": "stdout",
     "output_type": "stream",
     "text": [
      "c [0, 0, 0, 0, 1, 2, 3, 4, 2, 4, 6, 8, 3, 6, 9, 12]\n",
      "d [[0, 1, 2, 3], [0, 2, 4, 6], [0, 3, 6, 9], [0, 4, 8, 12]]\n",
      "e [[0, 0, 0, 0], [1, 2, 3, 4], [2, 4, 6, 8], [3, 6, 9, 12]]\n"
     ]
    }
   ],
   "source": [
    "c = [aa * bb for aa in a for bb in b]    # = [a[0] * b[0], a[0] * b[1], etc]\n",
    "print(\"c\", c)\n",
    "d = [[aa * bb for aa in a] for bb in b]  # = [[a[0] * b[0], a[1] * b[1], etc], etc]\n",
    "print(\"d\", d)\n",
    "e = [[aa * bb for bb in b] for aa in a]  # c = numpy.concatenate(e)\n",
    "print(\"e\", e)"
   ]
  },
  {
   "cell_type": "code",
   "execution_count": 58,
   "metadata": {
    "slideshow": {
     "slide_type": "fragment"
    }
   },
   "outputs": [
    {
     "name": "stdout",
     "output_type": "stream",
     "text": [
      "[1.0, 2.0, 3.0] [1, 2, 3]\n"
     ]
    }
   ],
   "source": [
    "a = ['1', '2', '3']\n",
    "print([float(aa) for aa in a], [int(aa) for aa in a])"
   ]
  },
  {
   "cell_type": "markdown",
   "metadata": {
    "slideshow": {
     "slide_type": "slide"
    }
   },
   "source": [
    "### Dictionnaires"
   ]
  },
  {
   "cell_type": "markdown",
   "metadata": {
    "slideshow": {
     "slide_type": "slide"
    }
   },
   "source": [
    "## Utiliser Python"
   ]
  },
  {
   "cell_type": "markdown",
   "metadata": {
    "slideshow": {
     "slide_type": "slide"
    }
   },
   "source": [
    "- `python`\n",
    "\n",
    "  - Lancer `python` dans votre terminal pour accéder à l'interpreteur python\n",
    "\n",
    "    ```\n",
    "    $ python\n",
    "    Python 3.6.2 | packaged by conda-forge | (default, Jul 23 2017, 22:59:30) \n",
    "    [GCC 4.8.2 20140120 (Red Hat 4.8.2-15)] on linux\n",
    "    Type \"help\", \"copyright\", \"credits\" or \"license\" for more information.\n",
    "    >>> \n",
    "    ```"
   ]
  },
  {
   "cell_type": "markdown",
   "metadata": {
    "slideshow": {
     "slide_type": "slide"
    }
   },
   "source": [
    "- `ipython`\n",
    "\n",
    "  - Lancer `ipython` sur votre terminal pour entrer en mode python interactif\n",
    "  - Très utilisé pour tester des morceaux de code, des codes complets, explorer des librairies, debugger, afficher des figures, etc.\n",
    "  \n",
    "    ```\n",
    "    $ ipython\n",
    "    Python 3.6.2 | packaged by conda-forge | (default, Jul 23 2017, 22:59:30) \n",
    "    Type 'copyright', 'credits' or 'license' for more information\n",
    "    IPython 6.1.0 -- An enhanced Interactive Python. Type '?' for help.\n",
    "\n",
    "    In [1]: \n",
    "    ```"
   ]
  },
  {
   "cell_type": "markdown",
   "metadata": {
    "slideshow": {
     "slide_type": "slide"
    }
   },
   "source": [
    "- `Jupyter` notebook\n",
    "\n",
    "  - Lancer `jupyter notebook` dans votre terminla pour démarer le serveur jupyter dans votre navigateur internet\n",
    "  - Principalement utilisé pour développer, documenter, paratager des exemples de code, créer des présentation (celle-ci par exemple)\n",
    "\n",
    "\n",
    "- Scripts / librairies : un fichier `.py`\n",
    "  - script : `python monfichier.py`\n",
    "  - librairie : `import monfichier`\n",
    "    \n",
    "\n",
    "- Ou une collection organisée de fichiers `.py`, formant un module ou une collection de modules (package, p.e, `numpy`)"
   ]
  },
  {
   "cell_type": "markdown",
   "metadata": {
    "slideshow": {
     "slide_type": "slide"
    }
   },
   "source": [
    "- Favorisez `ipython` ou `jupyter` pour tester vos développements\n",
    "- Utilisez les `jupyter` notebooks pour partager des exemples d'utilisation de code\n",
    "- Créer des scripts / librairies (`fichier.py`) pour développer de façon durable\n",
    "- Organisez vos scripts et librairies en modules\n",
    "- Publiez vos packages Python pour partager vos codes\n",
    "\n",
    "  - `git` pour déveloper avec un logiciel de gestion de version\n",
    "  - [gitlab](https://gitlab.in2p3.fr) ou [github](https://github.com/) pour partager vos codes\n",
    "  - [PyPI](https://pypi.org/) to publish your python package\n",
    "\n",
    "\n",
    "- Tout ces outils vous seront utils pour développer au sein de DESC/LSST"
   ]
  },
  {
   "cell_type": "code",
   "execution_count": null,
   "metadata": {
    "collapsed": true
   },
   "outputs": [],
   "source": []
  }
 ],
 "metadata": {
  "celltoolbar": "Slideshow",
  "kernelspec": {
   "display_name": "Python 3",
   "language": "python",
   "name": "python3"
  },
  "language_info": {
   "codemirror_mode": {
    "name": "ipython",
    "version": 3
   },
   "file_extension": ".py",
   "mimetype": "text/x-python",
   "name": "python",
   "nbconvert_exporter": "python",
   "pygments_lexer": "ipython3",
   "version": "3.6.2"
  }
 },
 "nbformat": 4,
 "nbformat_minor": 2
}
